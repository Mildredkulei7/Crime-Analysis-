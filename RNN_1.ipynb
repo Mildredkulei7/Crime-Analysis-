{
  "nbformat": 4,
  "nbformat_minor": 0,
  "metadata": {
    "colab": {
      "name": " RNN-1.ipynb",
      "provenance": [],
      "collapsed_sections": []
    },
    "kernelspec": {
      "name": "python3",
      "display_name": "Python 3"
    },
    "language_info": {
      "name": "python"
    }
  },
  "cells": [
    {
      "cell_type": "code",
      "metadata": {
        "colab": {
          "base_uri": "https://localhost:8080/"
        },
        "id": "cTp-4B11eGMZ",
        "outputId": "63b3b249-279c-4340-c2c7-fa419eff03c6"
      },
      "source": [
        "#Importing the libraries\n",
        "import pandas as pd\n",
        "import numpy as np\n",
        "import matplotlib.pyplot as plt\n",
        "import seaborn as sns\n",
        " \n",
        "from sklearn.model_selection import train_test_split\n",
        "from sklearn import metrics\n",
        "from sklearn.metrics import  accuracy_score\n",
        "from sklearn.metrics import confusion_matrix\n",
        "from sklearn.metrics import r2_score\n",
        "from sklearn.preprocessing import StandardScaler\n",
        "from sklearn.neighbors import KNeighborsClassifier\n",
        "from sklearn.metrics import classification_report\n",
        "from sklearn.discriminant_analysis import LinearDiscriminantAnalysis as LDA\n",
        "from sklearn.metrics.pairwise import cosine_similarity\n",
        "import heapq\n",
        "from collections import Counter\n",
        "from nltk.corpus import stopwords\n",
        "from nltk.util import ngrams\n",
        "from sklearn.feature_extraction.text import CountVectorizer\n",
        "from collections import defaultdict\n",
        "from collections import  Counter\n",
        "plt.style.use('ggplot')\n",
        "import re\n",
        "from nltk.tokenize import word_tokenize\n",
        "import gensim\n",
        "import string\n",
        "from keras.preprocessing.text import Tokenizer\n",
        "from keras.preprocessing.sequence import pad_sequences\n",
        "from tqdm import tqdm\n",
        "from keras.models import Sequential\n",
        "from keras.layers import Embedding,LSTM,Dense,SpatialDropout1D\n",
        "from keras.initializers import Constant\n",
        "from sklearn.model_selection import train_test_split\n",
        "from tensorflow.keras.optimizers import Adam\n",
        "import pandas as pd\n",
        "import numpy as np\n",
        " \n",
        "from sklearn.model_selection import train_test_split\n",
        "from sklearn.preprocessing import LabelEncoder\n",
        "from sklearn.metrics import confusion_matrix, classification_report\n",
        " \n",
        "import matplotlib.pyplot as plt\n",
        " \n",
        "from keras.preprocessing.text import Tokenizer\n",
        "from keras.preprocessing.sequence import pad_sequences\n",
        "from keras.utils import np_utils\n",
        "from keras.models import Sequential\n",
        "from keras import layers\n",
        "from keras.wrappers.scikit_learn import KerasClassifier\n",
        " \n",
        "from sklearn import metrics\n",
        "import sklearn.metrics as metrics\n",
        "from sklearn.ensemble import RandomForestClassifier\n",
        "from sklearn.ensemble import AdaBoostClassifier\n",
        "from sklearn.ensemble import GradientBoostingClassifier\n",
        "from sklearn.svm import SVC,LinearSVC\n",
        "\n",
        "#for text pre-processing\n",
        "import re, string\n",
        "import nltk\n",
        "from nltk.tokenize import word_tokenize\n",
        "from nltk.corpus import stopwords\n",
        "from nltk.tokenize import word_tokenize\n",
        "from nltk.stem import SnowballStemmer\n",
        "from nltk.corpus import wordnet\n",
        "from nltk.stem import WordNetLemmatizer\n",
        "nltk.download('punkt')\n",
        "nltk.download('averaged_perceptron_tagger')\n",
        "nltk.download('wordnet')\n",
        "#for model-building\n",
        "from sklearn.model_selection import train_test_split\n",
        "from sklearn.linear_model import LogisticRegression\n",
        "from sklearn.naive_bayes import MultinomialNB\n",
        "from sklearn.metrics import classification_report, f1_score, accuracy_score, confusion_matrix\n",
        "from sklearn.metrics import roc_curve, auc, roc_auc_score\n",
        "# bag of words\n",
        "from sklearn.feature_extraction.text import TfidfVectorizer\n",
        "from sklearn.feature_extraction.text import CountVectorizer\n",
        "#for word embedding\n",
        "import gensim\n",
        "from gensim.models import Word2Vec\n",
        "import numpy as np # linear algebra\n",
        "import pandas as pd # data processing, CSV file I/O (e.g. pd.read_csv)\n",
        "from tqdm import tqdm\n",
        "from sklearn.model_selection import train_test_split\n",
        "import tensorflow as tf\n",
        "from keras.models import Sequential\n",
        "from keras.layers.recurrent import LSTM, GRU,SimpleRNN\n",
        "from keras.layers.core import Dense, Activation, Dropout\n",
        "from keras.layers.embeddings import Embedding\n",
        "#from keras.layers.normalization import BatchNormalization\n",
        "from keras.utils import np_utils\n",
        "from sklearn import preprocessing, decomposition, model_selection, metrics, pipeline\n",
        "from keras.layers import GlobalMaxPooling1D, Conv1D, MaxPooling1D, Flatten, Bidirectional, SpatialDropout1D\n",
        "from keras.preprocessing import sequence, text\n",
        "from keras.callbacks import EarlyStopping"
      ],
      "execution_count": 44,
      "outputs": [
        {
          "output_type": "stream",
          "text": [
            "[nltk_data] Downloading package punkt to /root/nltk_data...\n",
            "[nltk_data]   Package punkt is already up-to-date!\n",
            "[nltk_data] Downloading package averaged_perceptron_tagger to\n",
            "[nltk_data]     /root/nltk_data...\n",
            "[nltk_data]   Package averaged_perceptron_tagger is already up-to-\n",
            "[nltk_data]       date!\n",
            "[nltk_data] Downloading package wordnet to /root/nltk_data...\n",
            "[nltk_data]   Package wordnet is already up-to-date!\n"
          ],
          "name": "stdout"
        }
      ]
    },
    {
      "cell_type": "code",
      "metadata": {
        "id": "qy4HKMnQft8-"
      },
      "source": [
        "crime= pd.read_csv('/content/crime-vectorised.csv')"
      ],
      "execution_count": 45,
      "outputs": []
    },
    {
      "cell_type": "code",
      "metadata": {
        "colab": {
          "base_uri": "https://localhost:8080/",
          "height": 753
        },
        "id": "vqdFLq5ThnuL",
        "outputId": "799a09c8-db59-4c37-8a52-975ec7113870"
      },
      "source": [
        "crime"
      ],
      "execution_count": 46,
      "outputs": [
        {
          "output_type": "execute_result",
          "data": {
            "text/html": [
              "<div>\n",
              "<style scoped>\n",
              "    .dataframe tbody tr th:only-of-type {\n",
              "        vertical-align: middle;\n",
              "    }\n",
              "\n",
              "    .dataframe tbody tr th {\n",
              "        vertical-align: top;\n",
              "    }\n",
              "\n",
              "    .dataframe thead th {\n",
              "        text-align: right;\n",
              "    }\n",
              "</style>\n",
              "<table border=\"1\" class=\"dataframe\">\n",
              "  <thead>\n",
              "    <tr style=\"text-align: right;\">\n",
              "      <th></th>\n",
              "      <th>Unnamed: 0</th>\n",
              "      <th>tweet</th>\n",
              "      <th>location</th>\n",
              "      <th>created_at</th>\n",
              "      <th>hashtags</th>\n",
              "      <th>label</th>\n",
              "      <th>clean_text</th>\n",
              "    </tr>\n",
              "  </thead>\n",
              "  <tbody>\n",
              "    <tr>\n",
              "      <th>0</th>\n",
              "      <td>0</td>\n",
              "      <td>matharesjustice wanjirunjira uhaiwetu gacheke2...</td>\n",
              "      <td>Nairobi, Kenya</td>\n",
              "      <td>8/17/2021 8:59</td>\n",
              "      <td>[]</td>\n",
              "      <td>0</td>\n",
              "      <td>matharesjustice wanjirunjira uhaiwetu gacheke ...</td>\n",
              "    </tr>\n",
              "    <tr>\n",
              "      <th>1</th>\n",
              "      <td>1</td>\n",
              "      <td>it is not easy being a young person in this co...</td>\n",
              "      <td>Nairobi, Kenya</td>\n",
              "      <td>8/17/2021 8:52</td>\n",
              "      <td>[]</td>\n",
              "      <td>0</td>\n",
              "      <td>easy young person country survive kcse kuccps ...</td>\n",
              "    </tr>\n",
              "    <tr>\n",
              "      <th>2</th>\n",
              "      <td>2</td>\n",
              "      <td>you come to voters begging for votes yet none ...</td>\n",
              "      <td>Nairobi Kenya</td>\n",
              "      <td>8/17/2021 8:48</td>\n",
              "      <td>[]</td>\n",
              "      <td>0</td>\n",
              "      <td>come voter beg vote yet none yall politician c...</td>\n",
              "    </tr>\n",
              "    <tr>\n",
              "      <th>3</th>\n",
              "      <td>3</td>\n",
              "      <td>it would be wise if we have bloggers with cont...</td>\n",
              "      <td>Nairobi, Kenya</td>\n",
              "      <td>8/17/2021 7:45</td>\n",
              "      <td>[]</td>\n",
              "      <td>0</td>\n",
              "      <td>would wise blogger content drive agenda succes...</td>\n",
              "    </tr>\n",
              "    <tr>\n",
              "      <th>4</th>\n",
              "      <td>4</td>\n",
              "      <td>before you vote ask your candidates what theyl...</td>\n",
              "      <td>Thika, Kenya</td>\n",
              "      <td>8/17/2021 7:44</td>\n",
              "      <td>[]</td>\n",
              "      <td>0</td>\n",
              "      <td>vote ask candidate theyll police brutality tak...</td>\n",
              "    </tr>\n",
              "    <tr>\n",
              "      <th>...</th>\n",
              "      <td>...</td>\n",
              "      <td>...</td>\n",
              "      <td>...</td>\n",
              "      <td>...</td>\n",
              "      <td>...</td>\n",
              "      <td>...</td>\n",
              "      <td>...</td>\n",
              "    </tr>\n",
              "    <tr>\n",
              "      <th>2995</th>\n",
              "      <td>2995</td>\n",
              "      <td>uhuru pawns hungertorture impunity judiciary i...</td>\n",
              "      <td>Kenya</td>\n",
              "      <td>8/13/2021 17:08</td>\n",
              "      <td>[]</td>\n",
              "      <td>2</td>\n",
              "      <td>uhuru pawn hungertorture impunity judiciary ip...</td>\n",
              "    </tr>\n",
              "    <tr>\n",
              "      <th>2996</th>\n",
              "      <td>2996</td>\n",
              "      <td>danaceda olivermathenge how i wish they could ...</td>\n",
              "      <td>Nairobi, Kenya</td>\n",
              "      <td>8/13/2021 16:57</td>\n",
              "      <td>[]</td>\n",
              "      <td>2</td>\n",
              "      <td>danaceda olivermathenge wish could prioritise ...</td>\n",
              "    </tr>\n",
              "    <tr>\n",
              "      <th>2997</th>\n",
              "      <td>2997</td>\n",
              "      <td>same way the govt here has been much more succ...</td>\n",
              "      <td>Kampala, Uganda</td>\n",
              "      <td>8/13/2021 16:55</td>\n",
              "      <td>[]</td>\n",
              "      <td>2</td>\n",
              "      <td>way govt much successful war sport war corruption</td>\n",
              "    </tr>\n",
              "    <tr>\n",
              "      <th>2998</th>\n",
              "      <td>2998</td>\n",
              "      <td>mukami atellah zalan amp namu  kenya instituti...</td>\n",
              "      <td>Nairobi, Kenya</td>\n",
              "      <td>8/13/2021 16:51</td>\n",
              "      <td>[]</td>\n",
              "      <td>2</td>\n",
              "      <td>mukami atellah zalan amp namu kenya institutio...</td>\n",
              "    </tr>\n",
              "    <tr>\n",
              "      <th>2999</th>\n",
              "      <td>2999</td>\n",
              "      <td>fredmatiangi stop lying day time i used to res...</td>\n",
              "      <td>Mombasa</td>\n",
              "      <td>8/13/2021 16:50</td>\n",
              "      <td>[]</td>\n",
              "      <td>2</td>\n",
              "      <td>fredmatiangi stop lie day time use respect any...</td>\n",
              "    </tr>\n",
              "  </tbody>\n",
              "</table>\n",
              "<p>3000 rows × 7 columns</p>\n",
              "</div>"
            ],
            "text/plain": [
              "      Unnamed: 0  ...                                         clean_text\n",
              "0              0  ...  matharesjustice wanjirunjira uhaiwetu gacheke ...\n",
              "1              1  ...  easy young person country survive kcse kuccps ...\n",
              "2              2  ...  come voter beg vote yet none yall politician c...\n",
              "3              3  ...  would wise blogger content drive agenda succes...\n",
              "4              4  ...  vote ask candidate theyll police brutality tak...\n",
              "...          ...  ...                                                ...\n",
              "2995        2995  ...  uhuru pawn hungertorture impunity judiciary ip...\n",
              "2996        2996  ...  danaceda olivermathenge wish could prioritise ...\n",
              "2997        2997  ...  way govt much successful war sport war corruption\n",
              "2998        2998  ...  mukami atellah zalan amp namu kenya institutio...\n",
              "2999        2999  ...  fredmatiangi stop lie day time use respect any...\n",
              "\n",
              "[3000 rows x 7 columns]"
            ]
          },
          "metadata": {
            "tags": []
          },
          "execution_count": 46
        }
      ]
    },
    {
      "cell_type": "code",
      "metadata": {
        "colab": {
          "base_uri": "https://localhost:8080/"
        },
        "id": "ABWpesg-uySX",
        "outputId": "16d2aa5d-d65b-434f-a4ce-e3074d3f5a36"
      },
      "source": [
        "crime.loc[crime['clean_text'].str.contains('police')].label.value_counts()"
      ],
      "execution_count": 47,
      "outputs": [
        {
          "output_type": "execute_result",
          "data": {
            "text/plain": [
              "0    766\n",
              "1    198\n",
              "2     25\n",
              "Name: label, dtype: int64"
            ]
          },
          "metadata": {
            "tags": []
          },
          "execution_count": 47
        }
      ]
    },
    {
      "cell_type": "code",
      "metadata": {
        "id": "vyNpDEfCf1AX"
      },
      "source": [
        "from sklearn.feature_extraction.text import CountVectorizer\n",
        "\n",
        "vectorizer = CountVectorizer()\n",
        "vectors = vectorizer.fit_transform(crime['clean_text'])"
      ],
      "execution_count": 48,
      "outputs": []
    },
    {
      "cell_type": "code",
      "metadata": {
        "colab": {
          "base_uri": "https://localhost:8080/"
        },
        "id": "JqFO1xVoh4D4",
        "outputId": "0c0e0a17-67b7-4e8f-b888-74d9d2e54161"
      },
      "source": [
        "print(vectors)"
      ],
      "execution_count": 49,
      "outputs": [
        {
          "output_type": "stream",
          "text": [
            "  (0, 3598)\t1\n",
            "  (0, 6231)\t1\n",
            "  (0, 5966)\t1\n",
            "  (0, 2190)\t1\n",
            "  (0, 234)\t1\n",
            "  (0, 4496)\t1\n",
            "  (0, 3111)\t1\n",
            "  (0, 533)\t1\n",
            "  (0, 3664)\t1\n",
            "  (0, 2087)\t1\n",
            "  (1, 1662)\t1\n",
            "  (1, 6443)\t1\n",
            "  (1, 4421)\t1\n",
            "  (1, 1195)\t1\n",
            "  (1, 5601)\t1\n",
            "  (1, 3086)\t1\n",
            "  (1, 3259)\t1\n",
            "  (1, 516)\t1\n",
            "  (1, 2951)\t1\n",
            "  (1, 4545)\t1\n",
            "  (2, 4496)\t1\n",
            "  (2, 1006)\t1\n",
            "  (2, 6181)\t1\n",
            "  (2, 529)\t1\n",
            "  (2, 6180)\t1\n",
            "  :\t:\n",
            "  (2998, 3111)\t1\n",
            "  (2998, 2473)\t1\n",
            "  (2998, 1165)\t1\n",
            "  (2998, 241)\t1\n",
            "  (2998, 1179)\t1\n",
            "  (2998, 746)\t1\n",
            "  (2998, 5709)\t1\n",
            "  (2998, 2782)\t1\n",
            "  (2998, 3862)\t1\n",
            "  (2998, 394)\t1\n",
            "  (2998, 6462)\t1\n",
            "  (2998, 3980)\t1\n",
            "  (2998, 1709)\t1\n",
            "  (2999, 5641)\t1\n",
            "  (2999, 5783)\t1\n",
            "  (2999, 3389)\t1\n",
            "  (2999, 5510)\t1\n",
            "  (2999, 6096)\t1\n",
            "  (2999, 5309)\t1\n",
            "  (2999, 1322)\t1\n",
            "  (2999, 2142)\t1\n",
            "  (2999, 4912)\t1\n",
            "  (2999, 293)\t1\n",
            "  (2999, 1573)\t1\n",
            "  (2999, 3993)\t1\n"
          ],
          "name": "stdout"
        }
      ]
    },
    {
      "cell_type": "markdown",
      "metadata": {
        "id": "7ZzR5rnxhWNa"
      },
      "source": [
        "GRU (Gated Recurrent Unit) aims to solve the vanishing gradient problem which comes with a standard recurrent neural network"
      ]
    },
    {
      "cell_type": "code",
      "metadata": {
        "id": "fVGdMxdTUX47"
      },
      "source": [
        "def roc_auc(predictions,target):\n",
        "    '''\n",
        "    This methods returns the AUC Score when given the Predictions\n",
        "    and Labels\n",
        "    '''\n",
        "    \n",
        "    fpr, tpr, thresholds = metrics.roc_curve(target, predictions)\n",
        "    roc_auc = metrics.auc(fpr, tpr)\n",
        "    return roc_auc"
      ],
      "execution_count": 93,
      "outputs": []
    },
    {
      "cell_type": "code",
      "metadata": {
        "id": "Wa6AInjqQ5UD"
      },
      "source": [
        "xtrain, xvalid, ytrain, yvalid = train_test_split(crime.clean_text.values, crime.label.values, \n",
        "                                                  stratify=crime.label.values, \n",
        "                                                  random_state=42, \n",
        "                                                  test_size=0.2, shuffle=True)"
      ],
      "execution_count": 94,
      "outputs": []
    },
    {
      "cell_type": "code",
      "metadata": {
        "colab": {
          "base_uri": "https://localhost:8080/"
        },
        "id": "Dj_EMqJbXZWa",
        "outputId": "8765836c-e332-4c10-f5de-8ab231140b6a"
      },
      "source": [
        "xtrain.shape,xvalid.shape,ytrain.shape,yvalid.shape"
      ],
      "execution_count": 95,
      "outputs": [
        {
          "output_type": "execute_result",
          "data": {
            "text/plain": [
              "((2400,), (600,), (2400,), (600,))"
            ]
          },
          "metadata": {
            "tags": []
          },
          "execution_count": 95
        }
      ]
    },
    {
      "cell_type": "code",
      "metadata": {
        "id": "Fq-Nst_LTt2l"
      },
      "source": [
        "# using keras tokenizer here\n",
        "token = text.Tokenizer(num_words=None)\n",
        "max_len = 1500\n",
        "\n",
        "token.fit_on_texts(list(xtrain) + list(xvalid))\n",
        "xtrain_seq = token.texts_to_sequences(xtrain)\n",
        "xvalid_seq = token.texts_to_sequences(xvalid)\n",
        "\n",
        "#zero pad the sequences\n",
        "xtrain_pad = sequence.pad_sequences(xtrain_seq, maxlen=max_len)\n",
        "xvalid_pad = sequence.pad_sequences(xvalid_seq, maxlen=max_len)\n",
        "\n",
        "word_index = token.word_index"
      ],
      "execution_count": 96,
      "outputs": []
    },
    {
      "cell_type": "code",
      "metadata": {
        "colab": {
          "base_uri": "https://localhost:8080/"
        },
        "id": "yjGJHddvXqM4",
        "outputId": "89a3f393-b59e-4d21-bd52-274a56353c08"
      },
      "source": [
        "\n",
        "#with strategy.scope():\n",
        "    # A simpleRNN without any pretrained embeddings and one dense layer\n",
        "model = Sequential()\n",
        "model.add(Embedding(len(word_index) + 1,\n",
        "                     300,\n",
        "                     input_length=max_len))\n",
        "model.add(SimpleRNN(100))\n",
        "model.add(Dense(1, activation='sigmoid'))\n",
        "model.compile(loss='binary_crossentropy', optimizer='adam', metrics=['accuracy'])\n",
        "    \n",
        "model.summary()"
      ],
      "execution_count": 97,
      "outputs": [
        {
          "output_type": "stream",
          "text": [
            "Model: \"sequential_8\"\n",
            "_________________________________________________________________\n",
            "Layer (type)                 Output Shape              Param #   \n",
            "=================================================================\n",
            "embedding_8 (Embedding)      (None, 1500, 300)         1950000   \n",
            "_________________________________________________________________\n",
            "simple_rnn_4 (SimpleRNN)     (None, 100)               40100     \n",
            "_________________________________________________________________\n",
            "dense_14 (Dense)             (None, 1)                 101       \n",
            "=================================================================\n",
            "Total params: 1,990,201\n",
            "Trainable params: 1,990,201\n",
            "Non-trainable params: 0\n",
            "_________________________________________________________________\n"
          ],
          "name": "stdout"
        }
      ]
    },
    {
      "cell_type": "code",
      "metadata": {
        "colab": {
          "base_uri": "https://localhost:8080/"
        },
        "id": "xMBMHrXAafNZ",
        "outputId": "397847b9-b30b-4c6c-b9a1-ded4533ae6fd"
      },
      "source": [
        "mirrored_strategy = tf.distribute.MirroredStrategy()\n",
        "with mirrored_strategy.scope():\n",
        "    # A simpleRNN without any pretrained embeddings and one dense layer\n",
        "    model = Sequential()\n",
        "    model.add(Embedding(len(word_index) + 1,\n",
        "                     300,\n",
        "                     input_length=max_len))\n",
        "    model.add(SimpleRNN(100))\n",
        "    model.add(Dense(1, activation='sigmoid'))\n",
        "    model.compile(loss='binary_crossentropy', optimizer='adam', metrics=['accuracy'])\n",
        "    \n",
        "model.summary()"
      ],
      "execution_count": 98,
      "outputs": [
        {
          "output_type": "stream",
          "text": [
            "WARNING:tensorflow:There are non-GPU devices in `tf.distribute.Strategy`, not using nccl allreduce.\n",
            "INFO:tensorflow:Using MirroredStrategy with devices ('/job:localhost/replica:0/task:0/device:CPU:0',)\n",
            "Model: \"sequential_9\"\n",
            "_________________________________________________________________\n",
            "Layer (type)                 Output Shape              Param #   \n",
            "=================================================================\n",
            "embedding_9 (Embedding)      (None, 1500, 300)         1950000   \n",
            "_________________________________________________________________\n",
            "simple_rnn_5 (SimpleRNN)     (None, 100)               40100     \n",
            "_________________________________________________________________\n",
            "dense_15 (Dense)             (None, 1)                 101       \n",
            "=================================================================\n",
            "Total params: 1,990,201\n",
            "Trainable params: 1,990,201\n",
            "Non-trainable params: 0\n",
            "_________________________________________________________________\n"
          ],
          "name": "stdout"
        }
      ]
    },
    {
      "cell_type": "code",
      "metadata": {
        "colab": {
          "base_uri": "https://localhost:8080/"
        },
        "id": "eQeVvbkqcXid",
        "outputId": "abb6ef96-71e5-465e-97c8-99cf0ec2a7d6"
      },
      "source": [
        "model.fit(xtrain_pad, ytrain, epochs=5, batch_size=64*mirrored_strategy.num_replicas_in_sync)"
      ],
      "execution_count": 99,
      "outputs": [
        {
          "output_type": "stream",
          "text": [
            "Epoch 1/5\n",
            "38/38 [==============================] - 50s 1s/step - loss: -0.1056 - accuracy: 0.3521\n",
            "Epoch 2/5\n",
            "38/38 [==============================] - 45s 1s/step - loss: -1.9189 - accuracy: 0.5258\n",
            "Epoch 3/5\n",
            "38/38 [==============================] - 45s 1s/step - loss: -3.8795 - accuracy: 0.5996\n",
            "Epoch 4/5\n",
            "38/38 [==============================] - 46s 1s/step - loss: -5.9416 - accuracy: 0.6254\n",
            "Epoch 5/5\n",
            "38/38 [==============================] - 46s 1s/step - loss: -7.9861 - accuracy: 0.6338\n"
          ],
          "name": "stdout"
        },
        {
          "output_type": "execute_result",
          "data": {
            "text/plain": [
              "<keras.callbacks.History at 0x7f436d3b4850>"
            ]
          },
          "metadata": {
            "tags": []
          },
          "execution_count": 99
        }
      ]
    },
    {
      "cell_type": "code",
      "metadata": {
        "colab": {
          "base_uri": "https://localhost:8080/"
        },
        "id": "YifnZP96xzER",
        "outputId": "4bc0e1e7-667c-4db5-a4c2-1d3217e02e12"
      },
      "source": [
        "loss, accuracy = model.evaluate(xtrain_pad,ytrain, verbose=False)\n",
        "print(\"Training Accuracy: {:.4f}\".format(accuracy))\n",
        "loss, accuracy = model.evaluate(xvalid_pad, yvalid, verbose=False)\n",
        "print(\"Testing Accuracy:  {:.4f}\".format(accuracy))"
      ],
      "execution_count": 100,
      "outputs": [
        {
          "output_type": "stream",
          "text": [
            "Training Accuracy: 0.6475\n",
            "Testing Accuracy:  0.5683\n"
          ],
          "name": "stdout"
        }
      ]
    },
    {
      "cell_type": "code",
      "metadata": {
        "colab": {
          "base_uri": "https://localhost:8080/"
        },
        "id": "Rp8If5O5eVda",
        "outputId": "19f27f36-d6d9-412a-be41-6c57b4964bca"
      },
      "source": [
        "scores = model.predict(xvalid_pad)\n",
        "print(scores)"
      ],
      "execution_count": 58,
      "outputs": [
        {
          "output_type": "stream",
          "text": [
            "[[1.00000000e+00]\n",
            " [1.00000000e+00]\n",
            " [1.00000000e+00]\n",
            " [1.00000000e+00]\n",
            " [1.00000000e+00]\n",
            " [3.59976292e-03]\n",
            " [1.27569233e-10]\n",
            " [1.00000000e+00]\n",
            " [1.00000000e+00]\n",
            " [1.00000000e+00]\n",
            " [1.78970030e-08]\n",
            " [1.00000000e+00]\n",
            " [1.00000000e+00]\n",
            " [2.65987956e-06]\n",
            " [9.99998033e-01]\n",
            " [3.47871940e-11]\n",
            " [5.57814630e-08]\n",
            " [1.00000000e+00]\n",
            " [1.00000000e+00]\n",
            " [1.00000000e+00]\n",
            " [1.00000000e+00]\n",
            " [7.53014628e-09]\n",
            " [1.00000000e+00]\n",
            " [1.63869396e-09]\n",
            " [9.99998689e-01]\n",
            " [2.42990100e-10]\n",
            " [1.00000000e+00]\n",
            " [2.92455516e-05]\n",
            " [4.71885784e-08]\n",
            " [1.00000000e+00]\n",
            " [1.00000000e+00]\n",
            " [1.00000000e+00]\n",
            " [3.99082899e-04]\n",
            " [2.95629323e-01]\n",
            " [1.00000000e+00]\n",
            " [9.99999762e-01]\n",
            " [1.00000000e+00]\n",
            " [5.37763867e-07]\n",
            " [1.00000000e+00]\n",
            " [1.00000000e+00]\n",
            " [1.00000000e+00]\n",
            " [9.97332931e-01]\n",
            " [1.00000000e+00]\n",
            " [9.92051840e-01]\n",
            " [1.00000000e+00]\n",
            " [1.00000000e+00]\n",
            " [1.00000000e+00]\n",
            " [1.00000000e+00]\n",
            " [1.00000000e+00]\n",
            " [1.00000000e+00]\n",
            " [3.05478309e-08]\n",
            " [1.00000000e+00]\n",
            " [1.00000000e+00]\n",
            " [1.00000000e+00]\n",
            " [1.00000000e+00]\n",
            " [1.00000000e+00]\n",
            " [9.78360951e-01]\n",
            " [9.99998152e-01]\n",
            " [1.10600631e-04]\n",
            " [1.00000000e+00]\n",
            " [5.22992372e-10]\n",
            " [2.24887864e-09]\n",
            " [1.00000000e+00]\n",
            " [1.00000000e+00]\n",
            " [1.92550251e-05]\n",
            " [3.67164854e-10]\n",
            " [1.00000000e+00]\n",
            " [1.00000000e+00]\n",
            " [9.99990940e-01]\n",
            " [1.00000000e+00]\n",
            " [1.00000000e+00]\n",
            " [1.00000000e+00]\n",
            " [9.99977827e-01]\n",
            " [9.99998927e-01]\n",
            " [1.00000000e+00]\n",
            " [5.27558941e-10]\n",
            " [1.00000000e+00]\n",
            " [1.00000000e+00]\n",
            " [1.00000000e+00]\n",
            " [6.68160737e-06]\n",
            " [2.96588243e-09]\n",
            " [9.99999821e-01]\n",
            " [6.62982464e-04]\n",
            " [1.00000000e+00]\n",
            " [3.34542949e-09]\n",
            " [1.00000000e+00]\n",
            " [1.00000000e+00]\n",
            " [5.04833897e-10]\n",
            " [1.00000000e+00]\n",
            " [1.00000000e+00]\n",
            " [1.00000000e+00]\n",
            " [1.00000000e+00]\n",
            " [6.37996100e-09]\n",
            " [1.00000000e+00]\n",
            " [1.00000000e+00]\n",
            " [1.00000000e+00]\n",
            " [1.00000000e+00]\n",
            " [1.00000000e+00]\n",
            " [1.33001887e-10]\n",
            " [1.23599048e-10]\n",
            " [1.00000000e+00]\n",
            " [1.00000000e+00]\n",
            " [1.00000000e+00]\n",
            " [1.00000000e+00]\n",
            " [1.00000000e+00]\n",
            " [1.00000000e+00]\n",
            " [1.00000000e+00]\n",
            " [2.01299876e-01]\n",
            " [1.00000000e+00]\n",
            " [2.46153875e-09]\n",
            " [1.38746070e-10]\n",
            " [1.00000000e+00]\n",
            " [1.00000000e+00]\n",
            " [1.64465668e-08]\n",
            " [1.00000000e+00]\n",
            " [1.00000000e+00]\n",
            " [1.00000000e+00]\n",
            " [1.00472672e-10]\n",
            " [9.29363072e-02]\n",
            " [9.99998927e-01]\n",
            " [1.00000000e+00]\n",
            " [8.16840595e-10]\n",
            " [1.57864222e-09]\n",
            " [1.00000000e+00]\n",
            " [1.00000000e+00]\n",
            " [1.00000000e+00]\n",
            " [1.00000000e+00]\n",
            " [9.99999642e-01]\n",
            " [1.00000000e+00]\n",
            " [6.64246500e-01]\n",
            " [1.00000000e+00]\n",
            " [1.00000000e+00]\n",
            " [9.99989629e-01]\n",
            " [1.00000000e+00]\n",
            " [1.00000000e+00]\n",
            " [1.00000000e+00]\n",
            " [1.00000000e+00]\n",
            " [2.93076038e-04]\n",
            " [3.50600189e-08]\n",
            " [1.00000000e+00]\n",
            " [8.32598865e-01]\n",
            " [1.00000000e+00]\n",
            " [2.44432030e-10]\n",
            " [1.00000000e+00]\n",
            " [1.00000000e+00]\n",
            " [2.81167867e-10]\n",
            " [4.82244551e-01]\n",
            " [1.00000000e+00]\n",
            " [1.00000000e+00]\n",
            " [1.00000000e+00]\n",
            " [9.99999642e-01]\n",
            " [1.00000000e+00]\n",
            " [1.00000000e+00]\n",
            " [9.99681234e-01]\n",
            " [1.00000000e+00]\n",
            " [1.00000000e+00]\n",
            " [1.00000000e+00]\n",
            " [1.79247781e-08]\n",
            " [1.00000000e+00]\n",
            " [1.00000000e+00]\n",
            " [9.87076700e-01]\n",
            " [9.99992251e-01]\n",
            " [1.00000000e+00]\n",
            " [1.89715488e-09]\n",
            " [1.00000000e+00]\n",
            " [1.00000000e+00]\n",
            " [1.00000000e+00]\n",
            " [1.00000000e+00]\n",
            " [1.00000000e+00]\n",
            " [1.00000000e+00]\n",
            " [1.00000000e+00]\n",
            " [9.62863684e-01]\n",
            " [1.00000000e+00]\n",
            " [7.17930160e-09]\n",
            " [1.00000000e+00]\n",
            " [4.50051163e-10]\n",
            " [1.00000000e+00]\n",
            " [3.65062151e-05]\n",
            " [1.00000000e+00]\n",
            " [2.47118493e-07]\n",
            " [1.00000000e+00]\n",
            " [1.00000000e+00]\n",
            " [1.00000000e+00]\n",
            " [1.00000000e+00]\n",
            " [1.00000000e+00]\n",
            " [1.00000000e+00]\n",
            " [3.81384896e-10]\n",
            " [6.81247281e-10]\n",
            " [1.00000000e+00]\n",
            " [1.00000000e+00]\n",
            " [1.00000000e+00]\n",
            " [9.99999881e-01]\n",
            " [1.00000000e+00]\n",
            " [1.00000000e+00]\n",
            " [1.00000000e+00]\n",
            " [1.00000000e+00]\n",
            " [1.00000000e+00]\n",
            " [1.19076132e-04]\n",
            " [1.00000000e+00]\n",
            " [1.00000000e+00]\n",
            " [2.60826945e-03]\n",
            " [1.00000000e+00]\n",
            " [1.00000000e+00]\n",
            " [1.00000000e+00]\n",
            " [3.05381859e-10]\n",
            " [5.62964160e-05]\n",
            " [1.00000000e+00]\n",
            " [1.63076038e-07]\n",
            " [1.00000000e+00]\n",
            " [1.46957504e-08]\n",
            " [9.87355406e-11]\n",
            " [1.00000000e+00]\n",
            " [1.00000000e+00]\n",
            " [1.00000000e+00]\n",
            " [1.00000000e+00]\n",
            " [1.00000000e+00]\n",
            " [3.76871228e-03]\n",
            " [2.68254817e-01]\n",
            " [4.36785122e-05]\n",
            " [1.00000000e+00]\n",
            " [1.00000000e+00]\n",
            " [1.00000000e+00]\n",
            " [8.29688585e-09]\n",
            " [5.11027387e-10]\n",
            " [1.00000000e+00]\n",
            " [1.00000000e+00]\n",
            " [1.00000000e+00]\n",
            " [1.00000000e+00]\n",
            " [1.00000000e+00]\n",
            " [1.00000000e+00]\n",
            " [1.00000000e+00]\n",
            " [1.00000000e+00]\n",
            " [9.99990582e-01]\n",
            " [1.00000000e+00]\n",
            " [1.00000000e+00]\n",
            " [3.42863316e-09]\n",
            " [4.14630275e-10]\n",
            " [1.00000000e+00]\n",
            " [2.11797415e-05]\n",
            " [1.00000000e+00]\n",
            " [1.00000000e+00]\n",
            " [1.00000000e+00]\n",
            " [1.96748972e-03]\n",
            " [1.00000000e+00]\n",
            " [1.42651771e-07]\n",
            " [1.05604048e-09]\n",
            " [1.00000000e+00]\n",
            " [9.99999523e-01]\n",
            " [8.08278764e-06]\n",
            " [1.00000000e+00]\n",
            " [1.00000000e+00]\n",
            " [7.78164566e-02]\n",
            " [1.00000000e+00]\n",
            " [1.00000000e+00]\n",
            " [1.00000000e+00]\n",
            " [1.00000000e+00]\n",
            " [7.98821449e-04]\n",
            " [1.00000000e+00]\n",
            " [3.85789872e-11]\n",
            " [1.00000000e+00]\n",
            " [1.00000000e+00]\n",
            " [1.15745246e-01]\n",
            " [1.00000000e+00]\n",
            " [7.02683120e-11]\n",
            " [2.01518871e-10]\n",
            " [2.76955330e-08]\n",
            " [1.00000000e+00]\n",
            " [1.00000000e+00]\n",
            " [7.71620591e-07]\n",
            " [1.00000000e+00]\n",
            " [1.70657322e-10]\n",
            " [1.81387259e-05]\n",
            " [1.00000000e+00]\n",
            " [9.84258647e-11]\n",
            " [1.00000000e+00]\n",
            " [1.00000000e+00]\n",
            " [6.44526565e-08]\n",
            " [1.00000000e+00]\n",
            " [4.15360510e-08]\n",
            " [1.00471714e-10]\n",
            " [1.35798026e-10]\n",
            " [1.00000000e+00]\n",
            " [8.96455288e-01]\n",
            " [7.79061649e-10]\n",
            " [1.00000000e+00]\n",
            " [1.00000000e+00]\n",
            " [1.00000000e+00]\n",
            " [1.00000000e+00]\n",
            " [1.97678804e-04]\n",
            " [1.00000000e+00]\n",
            " [1.00000000e+00]\n",
            " [1.00000000e+00]\n",
            " [1.00000000e+00]\n",
            " [1.00000000e+00]\n",
            " [8.82655685e-11]\n",
            " [4.87919976e-07]\n",
            " [9.99950051e-01]\n",
            " [9.99903321e-01]\n",
            " [9.99759197e-01]\n",
            " [8.03633826e-10]\n",
            " [1.00000000e+00]\n",
            " [1.00000000e+00]\n",
            " [1.00000000e+00]\n",
            " [1.00000000e+00]\n",
            " [1.00000000e+00]\n",
            " [1.00000000e+00]\n",
            " [1.00000000e+00]\n",
            " [1.00000000e+00]\n",
            " [9.99999702e-01]\n",
            " [9.99897838e-01]\n",
            " [1.00000000e+00]\n",
            " [1.00000000e+00]\n",
            " [7.67429731e-10]\n",
            " [1.00000000e+00]\n",
            " [9.99999642e-01]\n",
            " [1.00000000e+00]\n",
            " [1.00000000e+00]\n",
            " [1.00000000e+00]\n",
            " [1.00000000e+00]\n",
            " [1.00000000e+00]\n",
            " [1.00000000e+00]\n",
            " [8.89518857e-03]\n",
            " [1.00000000e+00]\n",
            " [1.35031253e-09]\n",
            " [1.00000000e+00]\n",
            " [1.00000000e+00]\n",
            " [1.81499544e-07]\n",
            " [1.00000000e+00]\n",
            " [1.00000000e+00]\n",
            " [1.00000000e+00]\n",
            " [1.00000000e+00]\n",
            " [1.00000000e+00]\n",
            " [6.27667784e-09]\n",
            " [1.00000000e+00]\n",
            " [1.00000000e+00]\n",
            " [1.00000000e+00]\n",
            " [9.84689236e-01]\n",
            " [1.00000000e+00]\n",
            " [1.00000000e+00]\n",
            " [1.00000000e+00]\n",
            " [1.00000000e+00]\n",
            " [1.00000000e+00]\n",
            " [1.67792155e-10]\n",
            " [5.84483147e-03]\n",
            " [2.57258503e-09]\n",
            " [1.28256445e-07]\n",
            " [1.00000000e+00]\n",
            " [4.88464436e-10]\n",
            " [1.00000000e+00]\n",
            " [6.65001831e-10]\n",
            " [1.00000000e+00]\n",
            " [1.00000000e+00]\n",
            " [1.00000000e+00]\n",
            " [1.00000000e+00]\n",
            " [9.99738276e-01]\n",
            " [9.49545442e-10]\n",
            " [3.35078720e-09]\n",
            " [1.00000000e+00]\n",
            " [9.99997377e-01]\n",
            " [1.00000000e+00]\n",
            " [1.00000000e+00]\n",
            " [1.00000000e+00]\n",
            " [9.99898791e-01]\n",
            " [1.00000000e+00]\n",
            " [1.00000000e+00]\n",
            " [1.00000000e+00]\n",
            " [1.00000000e+00]\n",
            " [4.87220632e-07]\n",
            " [1.21334391e-08]\n",
            " [1.40761517e-06]\n",
            " [1.00000000e+00]\n",
            " [1.00000000e+00]\n",
            " [1.00000000e+00]\n",
            " [3.38691630e-10]\n",
            " [1.00000000e+00]\n",
            " [1.00000000e+00]\n",
            " [1.00000000e+00]\n",
            " [9.99997258e-01]\n",
            " [1.00000000e+00]\n",
            " [7.47681639e-10]\n",
            " [1.00000000e+00]\n",
            " [3.17354948e-10]\n",
            " [1.00000000e+00]\n",
            " [1.00000000e+00]\n",
            " [1.00000000e+00]\n",
            " [1.00000000e+00]\n",
            " [1.00000000e+00]\n",
            " [9.81230021e-01]\n",
            " [1.00000000e+00]\n",
            " [1.00000000e+00]\n",
            " [9.99999762e-01]\n",
            " [1.00000000e+00]\n",
            " [4.96086616e-10]\n",
            " [1.00000000e+00]\n",
            " [1.00000000e+00]\n",
            " [5.52990143e-09]\n",
            " [1.00000000e+00]\n",
            " [1.00000000e+00]\n",
            " [7.49692752e-09]\n",
            " [1.00000000e+00]\n",
            " [1.00000000e+00]\n",
            " [1.00000000e+00]\n",
            " [9.99999821e-01]\n",
            " [1.00262666e-10]\n",
            " [1.00000000e+00]\n",
            " [1.00000000e+00]\n",
            " [1.00000000e+00]\n",
            " [1.39444762e-06]\n",
            " [6.87502444e-10]\n",
            " [5.11180698e-09]\n",
            " [1.00000000e+00]\n",
            " [1.00000000e+00]\n",
            " [5.13732433e-04]\n",
            " [1.39388778e-10]\n",
            " [1.00000000e+00]\n",
            " [1.00000000e+00]\n",
            " [2.31060157e-10]\n",
            " [4.66616412e-10]\n",
            " [1.00000000e+00]\n",
            " [1.00000000e+00]\n",
            " [1.00000000e+00]\n",
            " [3.25842917e-01]\n",
            " [9.99999642e-01]\n",
            " [5.05295583e-09]\n",
            " [1.00000000e+00]\n",
            " [1.00000000e+00]\n",
            " [1.00000000e+00]\n",
            " [1.00000000e+00]\n",
            " [3.09839306e-05]\n",
            " [1.00000000e+00]\n",
            " [1.00000000e+00]\n",
            " [1.00000000e+00]\n",
            " [2.00629234e-04]\n",
            " [1.00000000e+00]\n",
            " [9.99996841e-01]\n",
            " [9.99818802e-01]\n",
            " [1.00000000e+00]\n",
            " [1.00000000e+00]\n",
            " [4.21056151e-03]\n",
            " [1.00000000e+00]\n",
            " [6.65848376e-10]\n",
            " [9.99809384e-01]\n",
            " [1.00000000e+00]\n",
            " [1.00000000e+00]\n",
            " [9.11549926e-01]\n",
            " [2.89507216e-06]\n",
            " [1.00000000e+00]\n",
            " [1.00000000e+00]\n",
            " [9.99999285e-01]\n",
            " [9.62843458e-08]\n",
            " [1.00000000e+00]\n",
            " [1.00000000e+00]\n",
            " [1.00000000e+00]\n",
            " [4.09992790e-10]\n",
            " [1.00000000e+00]\n",
            " [1.00000000e+00]\n",
            " [1.00000000e+00]\n",
            " [1.00000000e+00]\n",
            " [1.41207074e-10]\n",
            " [1.00000000e+00]\n",
            " [1.00000000e+00]\n",
            " [9.99943554e-01]\n",
            " [1.00000000e+00]\n",
            " [9.99996960e-01]\n",
            " [1.00000000e+00]\n",
            " [1.00000000e+00]\n",
            " [9.99999762e-01]\n",
            " [1.00000000e+00]\n",
            " [1.00000000e+00]\n",
            " [1.28187350e-09]\n",
            " [9.99988258e-01]\n",
            " [1.00000000e+00]\n",
            " [9.99999881e-01]\n",
            " [1.00000000e+00]\n",
            " [1.00000000e+00]\n",
            " [1.00000000e+00]\n",
            " [1.00000000e+00]\n",
            " [1.00000000e+00]\n",
            " [1.00000000e+00]\n",
            " [1.00000000e+00]\n",
            " [7.48183169e-08]\n",
            " [3.48420598e-10]\n",
            " [1.00000000e+00]\n",
            " [9.99997854e-01]\n",
            " [9.37913858e-10]\n",
            " [1.00000000e+00]\n",
            " [6.29936397e-01]\n",
            " [1.00000000e+00]\n",
            " [1.00000000e+00]\n",
            " [9.99979913e-01]\n",
            " [1.00000000e+00]\n",
            " [1.00000000e+00]\n",
            " [1.42295162e-08]\n",
            " [9.69586849e-01]\n",
            " [9.48079586e-01]\n",
            " [9.99998510e-01]\n",
            " [1.00000000e+00]\n",
            " [1.00000000e+00]\n",
            " [1.00000000e+00]\n",
            " [1.73805486e-08]\n",
            " [5.02576647e-08]\n",
            " [1.00000000e+00]\n",
            " [1.00000000e+00]\n",
            " [1.00000000e+00]\n",
            " [1.00000000e+00]\n",
            " [1.00000000e+00]\n",
            " [1.00000000e+00]\n",
            " [1.00000000e+00]\n",
            " [2.03967554e-09]\n",
            " [1.00000000e+00]\n",
            " [1.00000000e+00]\n",
            " [1.00000000e+00]\n",
            " [1.07075537e-09]\n",
            " [9.96767183e-11]\n",
            " [8.07912230e-01]\n",
            " [1.00000000e+00]\n",
            " [5.24137789e-10]\n",
            " [1.00000000e+00]\n",
            " [1.00000000e+00]\n",
            " [4.79528861e-09]\n",
            " [1.00000000e+00]\n",
            " [1.00000000e+00]\n",
            " [6.73453127e-10]\n",
            " [1.00000000e+00]\n",
            " [1.00000000e+00]\n",
            " [1.00000000e+00]\n",
            " [2.86099394e-10]\n",
            " [1.06265785e-09]\n",
            " [1.00000000e+00]\n",
            " [1.00000000e+00]\n",
            " [1.00000000e+00]\n",
            " [1.00000000e+00]\n",
            " [1.00000000e+00]\n",
            " [1.00000000e+00]\n",
            " [2.74077564e-07]\n",
            " [1.00000000e+00]\n",
            " [2.94424901e-10]\n",
            " [1.00000000e+00]\n",
            " [9.99999642e-01]\n",
            " [1.00000000e+00]\n",
            " [2.12934613e-03]\n",
            " [1.00000000e+00]\n",
            " [1.00000000e+00]\n",
            " [1.00000000e+00]\n",
            " [1.35010481e-03]\n",
            " [9.99999404e-01]\n",
            " [1.00000000e+00]\n",
            " [1.29564068e-10]\n",
            " [1.59290614e-09]\n",
            " [1.00000000e+00]\n",
            " [1.00000000e+00]\n",
            " [1.00000000e+00]\n",
            " [1.31737821e-09]\n",
            " [1.00000000e+00]\n",
            " [1.00000000e+00]\n",
            " [1.00000000e+00]\n",
            " [1.39444762e-06]\n",
            " [1.00000000e+00]\n",
            " [1.00000000e+00]\n",
            " [1.00000000e+00]\n",
            " [2.41919224e-05]\n",
            " [1.05157451e-05]\n",
            " [1.00000000e+00]\n",
            " [1.00000000e+00]\n",
            " [1.00000000e+00]\n",
            " [1.00000000e+00]\n",
            " [1.00000000e+00]\n",
            " [1.58505353e-09]\n",
            " [8.56465032e-09]\n",
            " [3.08529973e-01]\n",
            " [1.00000000e+00]\n",
            " [9.98210907e-01]\n",
            " [1.00000000e+00]\n",
            " [1.00000000e+00]\n",
            " [1.00000000e+00]\n",
            " [1.00000000e+00]\n",
            " [2.92455516e-05]\n",
            " [1.18797938e-09]\n",
            " [1.00000000e+00]\n",
            " [1.00000000e+00]\n",
            " [1.00000000e+00]\n",
            " [5.58529010e-08]\n",
            " [1.06887246e-08]\n",
            " [1.00000000e+00]\n",
            " [7.75855780e-02]\n",
            " [1.00340722e-10]\n",
            " [9.99995112e-01]\n",
            " [1.00000000e+00]\n",
            " [9.99983609e-01]\n",
            " [1.00000000e+00]\n",
            " [1.00000000e+00]\n",
            " [6.68160737e-06]\n",
            " [1.00000000e+00]\n",
            " [1.00489159e-10]\n",
            " [1.00000000e+00]\n",
            " [1.00000000e+00]\n",
            " [1.00000000e+00]\n",
            " [1.00000000e+00]\n",
            " [1.00000000e+00]\n",
            " [1.72539683e-09]]\n"
          ],
          "name": "stdout"
        }
      ]
    },
    {
      "cell_type": "markdown",
      "metadata": {
        "id": "d_aCs5FK04Yv"
      },
      "source": [
        "# hyperparameter tuning"
      ]
    },
    {
      "cell_type": "markdown",
      "metadata": {
        "id": "W5-a2HF7ujNC"
      },
      "source": [
        "# Manual Search "
      ]
    },
    {
      "cell_type": "code",
      "metadata": {
        "colab": {
          "base_uri": "https://localhost:8080/"
        },
        "id": "BEzhRgUv0aPC",
        "outputId": "3951abcb-d1ec-46d6-b044-c9c5412b2fa4"
      },
      "source": [
        "model = RandomForestClassifier(n_estimators=10, random_state= 101).fit(xtrain_pad,ytrain)\n",
        "predictionforest = model.predict(xvalid_pad)\n",
        "print(confusion_matrix(yvalid,predictionforest))\n",
        "print(classification_report(yvalid,predictionforest))\n",
        "acc2 = accuracy_score(yvalid,predictionforest)"
      ],
      "execution_count": 59,
      "outputs": [
        {
          "output_type": "stream",
          "text": [
            "[[138  31  31]\n",
            " [ 54 114  32]\n",
            " [ 22  37 141]]\n",
            "              precision    recall  f1-score   support\n",
            "\n",
            "           0       0.64      0.69      0.67       200\n",
            "           1       0.63      0.57      0.60       200\n",
            "           2       0.69      0.70      0.70       200\n",
            "\n",
            "    accuracy                           0.66       600\n",
            "   macro avg       0.65      0.65      0.65       600\n",
            "weighted avg       0.65      0.66      0.65       600\n",
            "\n"
          ],
          "name": "stdout"
        }
      ]
    },
    {
      "cell_type": "markdown",
      "metadata": {
        "id": "q-J3do1kt8ib"
      },
      "source": [
        "# RandomizedSearch "
      ]
    },
    {
      "cell_type": "code",
      "metadata": {
        "colab": {
          "base_uri": "https://localhost:8080/"
        },
        "id": "WBiGWf9E1IID",
        "outputId": "e33e50dc-03a4-4592-84b1-b4bd63cbd52a"
      },
      "source": [
        "import numpy as np \n",
        "from sklearn.model_selection import RandomizedSearchCV\n",
        "from sklearn.model_selection import cross_val_score\n",
        "\n",
        "random_search = {'criterion': ['entropy', 'gini'],\n",
        "               'max_depth': [2],\n",
        "               'max_features': ['auto', 'sqrt'],\n",
        "               'min_samples_leaf': [4, 6, 8],\n",
        "               'min_samples_split': [5, 7,10],\n",
        "               'n_estimators': [20]}\n",
        "\n",
        "clf = RandomForestClassifier()\n",
        "model = RandomizedSearchCV(estimator = clf, param_distributions = random_search, n_iter = 10, \n",
        "                               cv = 4, verbose= 1, random_state= 101, n_jobs = -1)\n",
        "model.fit(xtrain_pad,ytrain)"
      ],
      "execution_count": 60,
      "outputs": [
        {
          "output_type": "stream",
          "text": [
            "Fitting 4 folds for each of 10 candidates, totalling 40 fits\n"
          ],
          "name": "stdout"
        },
        {
          "output_type": "stream",
          "text": [
            "[Parallel(n_jobs=-1)]: Using backend LokyBackend with 2 concurrent workers.\n",
            "[Parallel(n_jobs=-1)]: Done  40 out of  40 | elapsed:    4.2s finished\n"
          ],
          "name": "stderr"
        },
        {
          "output_type": "execute_result",
          "data": {
            "text/plain": [
              "RandomizedSearchCV(cv=4, error_score=nan,\n",
              "                   estimator=RandomForestClassifier(bootstrap=True,\n",
              "                                                    ccp_alpha=0.0,\n",
              "                                                    class_weight=None,\n",
              "                                                    criterion='gini',\n",
              "                                                    max_depth=None,\n",
              "                                                    max_features='auto',\n",
              "                                                    max_leaf_nodes=None,\n",
              "                                                    max_samples=None,\n",
              "                                                    min_impurity_decrease=0.0,\n",
              "                                                    min_impurity_split=None,\n",
              "                                                    min_samples_leaf=1,\n",
              "                                                    min_samples_split=2,\n",
              "                                                    min_weight_fraction_leaf=0.0,\n",
              "                                                    n_estimators=100,\n",
              "                                                    n_jobs...\n",
              "                                                    random_state=None,\n",
              "                                                    verbose=0,\n",
              "                                                    warm_start=False),\n",
              "                   iid='deprecated', n_iter=10, n_jobs=-1,\n",
              "                   param_distributions={'criterion': ['entropy', 'gini'],\n",
              "                                        'max_depth': [2],\n",
              "                                        'max_features': ['auto', 'sqrt'],\n",
              "                                        'min_samples_leaf': [4, 6, 8],\n",
              "                                        'min_samples_split': [5, 7, 10],\n",
              "                                        'n_estimators': [20]},\n",
              "                   pre_dispatch='2*n_jobs', random_state=101, refit=True,\n",
              "                   return_train_score=False, scoring=None, verbose=1)"
            ]
          },
          "metadata": {
            "tags": []
          },
          "execution_count": 60
        }
      ]
    },
    {
      "cell_type": "code",
      "metadata": {
        "colab": {
          "base_uri": "https://localhost:8080/",
          "height": 299
        },
        "id": "mXo5Bh5e1fOD",
        "outputId": "6d7e4d2d-979a-4fba-c2d7-db3f9ca2c954"
      },
      "source": [
        "import seaborn as sns\n",
        "\n",
        "table = pd.pivot_table(pd.DataFrame(model.cv_results_),\n",
        "    values='mean_test_score', index='param_n_estimators', \n",
        "                       columns='param_criterion')\n",
        "     \n",
        "sns.heatmap(table)"
      ],
      "execution_count": 61,
      "outputs": [
        {
          "output_type": "execute_result",
          "data": {
            "text/plain": [
              "<matplotlib.axes._subplots.AxesSubplot at 0x7f436a92e450>"
            ]
          },
          "metadata": {
            "tags": []
          },
          "execution_count": 61
        },
        {
          "output_type": "display_data",
          "data": {
            "image/png": "[encoded data removed]",
            "text/plain": [
              "<Figure size 432x288 with 2 Axes>"
            ]
          },
          "metadata": {
            "tags": []
          }
        }
      ]
    },
    {
      "cell_type": "code",
      "metadata": {
        "colab": {
          "base_uri": "https://localhost:8080/"
        },
        "id": "9kz8P_901ufD",
        "outputId": "32214218-13ff-4a15-e532-d3c21b7fb6df"
      },
      "source": [
        "predictionforest = model.best_estimator_.predict(xvalid_pad)\n",
        "print(confusion_matrix(yvalid,predictionforest))\n",
        "print(classification_report(yvalid,predictionforest))\n",
        "acc3 = accuracy_score(yvalid,predictionforest)"
      ],
      "execution_count": 62,
      "outputs": [
        {
          "output_type": "stream",
          "text": [
            "[[117  17  66]\n",
            " [ 75  52  73]\n",
            " [ 45  12 143]]\n",
            "              precision    recall  f1-score   support\n",
            "\n",
            "           0       0.49      0.58      0.54       200\n",
            "           1       0.64      0.26      0.37       200\n",
            "           2       0.51      0.71      0.59       200\n",
            "\n",
            "    accuracy                           0.52       600\n",
            "   macro avg       0.55      0.52      0.50       600\n",
            "weighted avg       0.55      0.52      0.50       600\n",
            "\n"
          ],
          "name": "stdout"
        }
      ]
    },
    {
      "cell_type": "markdown",
      "metadata": {
        "id": "h81CrAUvy8vK"
      },
      "source": [
        "# Grid Search"
      ]
    },
    {
      "cell_type": "code",
      "metadata": {
        "colab": {
          "base_uri": "https://localhost:8080/"
        },
        "id": "2M9GxAaHxLcP",
        "outputId": "aabc3a13-f859-4bbc-b10e-2d72101db25f"
      },
      "source": [
        "from sklearn.model_selection import GridSearchCV\n",
        "\n",
        "grid_search = {'criterion': ['entropy', 'gini'],\n",
        "               'max_depth': [2],\n",
        "               'max_features': ['auto', 'sqrt'],\n",
        "               'min_samples_leaf': [4, 6, 8],\n",
        "               'min_samples_split': [5, 7,10],\n",
        "               'n_estimators': [20]}\n",
        "\n",
        "clf = RandomForestClassifier()\n",
        "model = GridSearchCV(estimator = clf, param_grid = grid_search, \n",
        "                               cv = 2, verbose= 5, n_jobs = -1)\n",
        "model.fit(xtrain_pad,ytrain)\n",
        "\n",
        "predictionforest = model.best_estimator_.predict(xvalid_pad)\n",
        "print(confusion_matrix(yvalid,predictionforest))\n",
        "print(classification_report(yvalid,predictionforest))\n",
        "acc4 = accuracy_score(yvalid,predictionforest)"
      ],
      "execution_count": 88,
      "outputs": [
        {
          "output_type": "stream",
          "text": [
            "Fitting 2 folds for each of 36 candidates, totalling 72 fits\n"
          ],
          "name": "stdout"
        },
        {
          "output_type": "stream",
          "text": [
            "[Parallel(n_jobs=-1)]: Using backend LokyBackend with 2 concurrent workers.\n",
            "[Parallel(n_jobs=-1)]: Done  24 tasks      | elapsed:    1.6s\n"
          ],
          "name": "stderr"
        },
        {
          "output_type": "stream",
          "text": [
            "[[102  34  64]\n",
            " [ 55  68  77]\n",
            " [ 15  33 152]]\n",
            "              precision    recall  f1-score   support\n",
            "\n",
            "           0       0.59      0.51      0.55       200\n",
            "           1       0.50      0.34      0.41       200\n",
            "           2       0.52      0.76      0.62       200\n",
            "\n",
            "    accuracy                           0.54       600\n",
            "   macro avg       0.54      0.54      0.52       600\n",
            "weighted avg       0.54      0.54      0.52       600\n",
            "\n"
          ],
          "name": "stdout"
        },
        {
          "output_type": "stream",
          "text": [
            "[Parallel(n_jobs=-1)]: Done  72 out of  72 | elapsed:    4.4s finished\n"
          ],
          "name": "stderr"
        }
      ]
    },
    {
      "cell_type": "markdown",
      "metadata": {
        "id": "nuYJvfBmxIYH"
      },
      "source": [
        "# Optuna"
      ]
    },
    {
      "cell_type": "markdown",
      "metadata": {
        "id": "Wj2RS-fo8OkD"
      },
      "source": [
        "Optuna is an automatic hyperparameter optimization software framework, particularly designed for machine learning. It features an imperative, define-by-run style user API. Optuna is a framework designed for the automation and the acceleration of the optimization studies"
      ]
    },
    {
      "cell_type": "code",
      "metadata": {
        "colab": {
          "base_uri": "https://localhost:8080/"
        },
        "id": "ZaXdvhW78Vya",
        "outputId": "40186a67-f0b5-43c3-e5d0-68f47a4d9690"
      },
      "source": [
        "!pip install optuna"
      ],
      "execution_count": 63,
      "outputs": [
        {
          "output_type": "stream",
          "text": [
            "Requirement already satisfied: optuna in /usr/local/lib/python3.7/dist-packages (2.9.1)\n",
            "Requirement already satisfied: numpy in /usr/local/lib/python3.7/dist-packages (from optuna) (1.19.5)\n",
            "Requirement already satisfied: sqlalchemy>=1.1.0 in /usr/local/lib/python3.7/dist-packages (from optuna) (1.4.22)\n",
            "Requirement already satisfied: scipy!=1.4.0 in /usr/local/lib/python3.7/dist-packages (from optuna) (1.4.1)\n",
            "Requirement already satisfied: tqdm in /usr/local/lib/python3.7/dist-packages (from optuna) (4.62.0)\n",
            "Requirement already satisfied: alembic in /usr/local/lib/python3.7/dist-packages (from optuna) (1.6.5)\n",
            "Requirement already satisfied: PyYAML in /usr/local/lib/python3.7/dist-packages (from optuna) (3.13)\n",
            "Requirement already satisfied: colorlog in /usr/local/lib/python3.7/dist-packages (from optuna) (5.0.1)\n",
            "Requirement already satisfied: cmaes>=0.8.2 in /usr/local/lib/python3.7/dist-packages (from optuna) (0.8.2)\n",
            "Requirement already satisfied: cliff in /usr/local/lib/python3.7/dist-packages (from optuna) (3.8.0)\n",
            "Requirement already satisfied: packaging>=20.0 in /usr/local/lib/python3.7/dist-packages (from optuna) (21.0)\n",
            "Requirement already satisfied: pyparsing>=2.0.2 in /usr/local/lib/python3.7/dist-packages (from packaging>=20.0->optuna) (2.4.7)\n",
            "Requirement already satisfied: importlib-metadata in /usr/local/lib/python3.7/dist-packages (from sqlalchemy>=1.1.0->optuna) (4.6.3)\n",
            "Requirement already satisfied: greenlet!=0.4.17 in /usr/local/lib/python3.7/dist-packages (from sqlalchemy>=1.1.0->optuna) (1.1.1)\n",
            "Requirement already satisfied: python-dateutil in /usr/local/lib/python3.7/dist-packages (from alembic->optuna) (2.8.2)\n",
            "Requirement already satisfied: Mako in /usr/local/lib/python3.7/dist-packages (from alembic->optuna) (1.1.4)\n",
            "Requirement already satisfied: python-editor>=0.3 in /usr/local/lib/python3.7/dist-packages (from alembic->optuna) (1.0.4)\n",
            "Requirement already satisfied: pbr!=2.1.0,>=2.0.0 in /usr/local/lib/python3.7/dist-packages (from cliff->optuna) (5.6.0)\n",
            "Requirement already satisfied: PrettyTable>=0.7.2 in /usr/local/lib/python3.7/dist-packages (from cliff->optuna) (2.1.0)\n",
            "Requirement already satisfied: stevedore>=2.0.1 in /usr/local/lib/python3.7/dist-packages (from cliff->optuna) (3.3.0)\n",
            "Requirement already satisfied: cmd2>=1.0.0 in /usr/local/lib/python3.7/dist-packages (from cliff->optuna) (2.1.2)\n",
            "Requirement already satisfied: colorama>=0.3.7 in /usr/local/lib/python3.7/dist-packages (from cmd2>=1.0.0->cliff->optuna) (0.4.4)\n",
            "Requirement already satisfied: typing-extensions in /usr/local/lib/python3.7/dist-packages (from cmd2>=1.0.0->cliff->optuna) (3.7.4.3)\n",
            "Requirement already satisfied: pyperclip>=1.6 in /usr/local/lib/python3.7/dist-packages (from cmd2>=1.0.0->cliff->optuna) (1.8.2)\n",
            "Requirement already satisfied: wcwidth>=0.1.7 in /usr/local/lib/python3.7/dist-packages (from cmd2>=1.0.0->cliff->optuna) (0.2.5)\n",
            "Requirement already satisfied: attrs>=16.3.0 in /usr/local/lib/python3.7/dist-packages (from cmd2>=1.0.0->cliff->optuna) (21.2.0)\n",
            "Requirement already satisfied: zipp>=0.5 in /usr/local/lib/python3.7/dist-packages (from importlib-metadata->sqlalchemy>=1.1.0->optuna) (3.5.0)\n",
            "Requirement already satisfied: MarkupSafe>=0.9.2 in /usr/local/lib/python3.7/dist-packages (from Mako->alembic->optuna) (2.0.1)\n",
            "Requirement already satisfied: six>=1.5 in /usr/local/lib/python3.7/dist-packages (from python-dateutil->alembic->optuna) (1.15.0)\n"
          ],
          "name": "stdout"
        }
      ]
    },
    {
      "cell_type": "code",
      "metadata": {
        "colab": {
          "base_uri": "https://localhost:8080/"
        },
        "id": "mhXMM8DM8cr8",
        "outputId": "6b3c8660-c3ba-4995-d756-ac1df334da1f"
      },
      "source": [
        "import sklearn\n",
        "import sklearn.datasets\n",
        "import sklearn.ensemble\n",
        "import sklearn.model_selection\n",
        "import sklearn.svm\n",
        "import optuna\n",
        "\n",
        "# 1. Define an objective function to be maximized.\n",
        "def objective(trial):\n",
        "    iris = crime\n",
        "    x, y = xtrain, ytrain\n",
        "    # 2. Suggest values for the hyperparameters using a trial object.\n",
        "    classifier_name = trial.suggest_categorical('classifier', ['SVC', 'RandomForest'])\n",
        "    if classifier_name == 'SVC':\n",
        "         svc_c = trial.suggest_loguniform('svc_c', 1e-10, 1e10)\n",
        "         classifier_obj = sklearn.svm.SVC(C=svc_c, gamma='auto')\n",
        "    else:\n",
        "        rf_max_depth = int(trial.suggest_loguniform('rf_max_depth', 2, 32))\n",
        "        classifier_obj = sklearn.ensemble.RandomForestClassifier(max_depth=rf_max_depth, n_estimators=10)\n",
        "    ...\n",
        "    return accuracy\n",
        "\n",
        "\n",
        "# 3. Create a study object and optimize the objective function.\n",
        "study = optuna.create_study(direction='maximize')\n",
        "study.optimize(objective, n_trials=100)"
      ],
      "execution_count": 64,
      "outputs": [
        {
          "output_type": "stream",
          "text": [
            "\u001b[32m[I 2021-08-18 14:55:06,197]\u001b[0m A new study created in memory with name: no-name-431846e5-b2d2-4fc0-ab9b-2145240e2b93\u001b[0m\n",
            "\u001b[32m[I 2021-08-18 14:55:06,204]\u001b[0m Trial 0 finished with value: 0.574999988079071 and parameters: {'classifier': 'RandomForest', 'rf_max_depth': 9.205639379767822}. Best is trial 0 with value: 0.574999988079071.\u001b[0m\n",
            "\u001b[32m[I 2021-08-18 14:55:06,207]\u001b[0m Trial 1 finished with value: 0.574999988079071 and parameters: {'classifier': 'SVC', 'svc_c': 6.465309910902157e-06}. Best is trial 0 with value: 0.574999988079071.\u001b[0m\n",
            "\u001b[32m[I 2021-08-18 14:55:06,211]\u001b[0m Trial 2 finished with value: 0.574999988079071 and parameters: {'classifier': 'RandomForest', 'rf_max_depth': 29.812206945454697}. Best is trial 0 with value: 0.574999988079071.\u001b[0m\n",
            "\u001b[32m[I 2021-08-18 14:55:06,216]\u001b[0m Trial 3 finished with value: 0.574999988079071 and parameters: {'classifier': 'SVC', 'svc_c': 162341491.31832802}. Best is trial 0 with value: 0.574999988079071.\u001b[0m\n",
            "\u001b[32m[I 2021-08-18 14:55:06,220]\u001b[0m Trial 4 finished with value: 0.574999988079071 and parameters: {'classifier': 'SVC', 'svc_c': 904591087.8790041}. Best is trial 0 with value: 0.574999988079071.\u001b[0m\n",
            "\u001b[32m[I 2021-08-18 14:55:06,224]\u001b[0m Trial 5 finished with value: 0.574999988079071 and parameters: {'classifier': 'RandomForest', 'rf_max_depth': 27.128635784488004}. Best is trial 0 with value: 0.574999988079071.\u001b[0m\n",
            "\u001b[32m[I 2021-08-18 14:55:06,228]\u001b[0m Trial 6 finished with value: 0.574999988079071 and parameters: {'classifier': 'SVC', 'svc_c': 91.08399400228443}. Best is trial 0 with value: 0.574999988079071.\u001b[0m\n",
            "\u001b[32m[I 2021-08-18 14:55:06,232]\u001b[0m Trial 7 finished with value: 0.574999988079071 and parameters: {'classifier': 'RandomForest', 'rf_max_depth': 31.085626337006797}. Best is trial 0 with value: 0.574999988079071.\u001b[0m\n",
            "\u001b[32m[I 2021-08-18 14:55:06,235]\u001b[0m Trial 8 finished with value: 0.574999988079071 and parameters: {'classifier': 'SVC', 'svc_c': 1.3199081143816472e-09}. Best is trial 0 with value: 0.574999988079071.\u001b[0m\n",
            "\u001b[32m[I 2021-08-18 14:55:06,239]\u001b[0m Trial 9 finished with value: 0.574999988079071 and parameters: {'classifier': 'SVC', 'svc_c': 5.674196261508803e-05}. Best is trial 0 with value: 0.574999988079071.\u001b[0m\n",
            "\u001b[32m[I 2021-08-18 14:55:06,246]\u001b[0m Trial 10 finished with value: 0.574999988079071 and parameters: {'classifier': 'RandomForest', 'rf_max_depth': 3.5857206174526115}. Best is trial 0 with value: 0.574999988079071.\u001b[0m\n",
            "\u001b[32m[I 2021-08-18 14:55:06,252]\u001b[0m Trial 11 finished with value: 0.574999988079071 and parameters: {'classifier': 'RandomForest', 'rf_max_depth': 8.080897198232378}. Best is trial 0 with value: 0.574999988079071.\u001b[0m\n",
            "\u001b[32m[I 2021-08-18 14:55:06,258]\u001b[0m Trial 12 finished with value: 0.574999988079071 and parameters: {'classifier': 'SVC', 'svc_c': 0.005949610358800365}. Best is trial 0 with value: 0.574999988079071.\u001b[0m\n",
            "\u001b[32m[I 2021-08-18 14:55:06,265]\u001b[0m Trial 13 finished with value: 0.574999988079071 and parameters: {'classifier': 'RandomForest', 'rf_max_depth': 9.892937724713066}. Best is trial 0 with value: 0.574999988079071.\u001b[0m\n",
            "\u001b[32m[I 2021-08-18 14:55:06,271]\u001b[0m Trial 14 finished with value: 0.574999988079071 and parameters: {'classifier': 'SVC', 'svc_c': 1.6106726782325042e-10}. Best is trial 0 with value: 0.574999988079071.\u001b[0m\n",
            "\u001b[32m[I 2021-08-18 14:55:06,278]\u001b[0m Trial 15 finished with value: 0.574999988079071 and parameters: {'classifier': 'RandomForest', 'rf_max_depth': 2.0753406270546044}. Best is trial 0 with value: 0.574999988079071.\u001b[0m\n",
            "\u001b[32m[I 2021-08-18 14:55:06,285]\u001b[0m Trial 16 finished with value: 0.574999988079071 and parameters: {'classifier': 'RandomForest', 'rf_max_depth': 13.217417829509914}. Best is trial 0 with value: 0.574999988079071.\u001b[0m\n",
            "\u001b[32m[I 2021-08-18 14:55:06,294]\u001b[0m Trial 17 finished with value: 0.574999988079071 and parameters: {'classifier': 'SVC', 'svc_c': 1.3494665590429114e-10}. Best is trial 0 with value: 0.574999988079071.\u001b[0m\n",
            "\u001b[32m[I 2021-08-18 14:55:06,298]\u001b[0m Trial 18 finished with value: 0.574999988079071 and parameters: {'classifier': 'RandomForest', 'rf_max_depth': 2.183519202364747}. Best is trial 0 with value: 0.574999988079071.\u001b[0m\n",
            "\u001b[32m[I 2021-08-18 14:55:06,307]\u001b[0m Trial 19 finished with value: 0.574999988079071 and parameters: {'classifier': 'RandomForest', 'rf_max_depth': 13.895344414845392}. Best is trial 0 with value: 0.574999988079071.\u001b[0m\n",
            "\u001b[32m[I 2021-08-18 14:55:06,313]\u001b[0m Trial 20 finished with value: 0.574999988079071 and parameters: {'classifier': 'SVC', 'svc_c': 595.2688295592811}. Best is trial 0 with value: 0.574999988079071.\u001b[0m\n",
            "\u001b[32m[I 2021-08-18 14:55:06,323]\u001b[0m Trial 21 finished with value: 0.574999988079071 and parameters: {'classifier': 'RandomForest', 'rf_max_depth': 4.300775239827531}. Best is trial 0 with value: 0.574999988079071.\u001b[0m\n",
            "\u001b[32m[I 2021-08-18 14:55:06,329]\u001b[0m Trial 22 finished with value: 0.574999988079071 and parameters: {'classifier': 'RandomForest', 'rf_max_depth': 13.592068057419281}. Best is trial 0 with value: 0.574999988079071.\u001b[0m\n",
            "\u001b[32m[I 2021-08-18 14:55:06,337]\u001b[0m Trial 23 finished with value: 0.574999988079071 and parameters: {'classifier': 'RandomForest', 'rf_max_depth': 17.37980145771462}. Best is trial 0 with value: 0.574999988079071.\u001b[0m\n",
            "\u001b[32m[I 2021-08-18 14:55:06,347]\u001b[0m Trial 24 finished with value: 0.574999988079071 and parameters: {'classifier': 'RandomForest', 'rf_max_depth': 4.46064947070236}. Best is trial 0 with value: 0.574999988079071.\u001b[0m\n",
            "\u001b[32m[I 2021-08-18 14:55:06,357]\u001b[0m Trial 25 finished with value: 0.574999988079071 and parameters: {'classifier': 'RandomForest', 'rf_max_depth': 5.426324399057293}. Best is trial 0 with value: 0.574999988079071.\u001b[0m\n",
            "\u001b[32m[I 2021-08-18 14:55:06,364]\u001b[0m Trial 26 finished with value: 0.574999988079071 and parameters: {'classifier': 'RandomForest', 'rf_max_depth': 19.506920622400735}. Best is trial 0 with value: 0.574999988079071.\u001b[0m\n",
            "\u001b[32m[I 2021-08-18 14:55:06,370]\u001b[0m Trial 27 finished with value: 0.574999988079071 and parameters: {'classifier': 'RandomForest', 'rf_max_depth': 5.974871773569616}. Best is trial 0 with value: 0.574999988079071.\u001b[0m\n",
            "\u001b[32m[I 2021-08-18 14:55:06,377]\u001b[0m Trial 28 finished with value: 0.574999988079071 and parameters: {'classifier': 'RandomForest', 'rf_max_depth': 5.1932181073564605}. Best is trial 0 with value: 0.574999988079071.\u001b[0m\n",
            "\u001b[32m[I 2021-08-18 14:55:06,384]\u001b[0m Trial 29 finished with value: 0.574999988079071 and parameters: {'classifier': 'RandomForest', 'rf_max_depth': 20.762516876457003}. Best is trial 0 with value: 0.574999988079071.\u001b[0m\n",
            "\u001b[32m[I 2021-08-18 14:55:06,390]\u001b[0m Trial 30 finished with value: 0.574999988079071 and parameters: {'classifier': 'RandomForest', 'rf_max_depth': 6.80216800506771}. Best is trial 0 with value: 0.574999988079071.\u001b[0m\n",
            "\u001b[32m[I 2021-08-18 14:55:06,398]\u001b[0m Trial 31 finished with value: 0.574999988079071 and parameters: {'classifier': 'RandomForest', 'rf_max_depth': 6.637404564791745}. Best is trial 0 with value: 0.574999988079071.\u001b[0m\n",
            "\u001b[32m[I 2021-08-18 14:55:06,407]\u001b[0m Trial 32 finished with value: 0.574999988079071 and parameters: {'classifier': 'RandomForest', 'rf_max_depth': 9.175521299306014}. Best is trial 0 with value: 0.574999988079071.\u001b[0m\n",
            "\u001b[32m[I 2021-08-18 14:55:06,412]\u001b[0m Trial 33 finished with value: 0.574999988079071 and parameters: {'classifier': 'RandomForest', 'rf_max_depth': 7.304428610858557}. Best is trial 0 with value: 0.574999988079071.\u001b[0m\n",
            "\u001b[32m[I 2021-08-18 14:55:06,421]\u001b[0m Trial 34 finished with value: 0.574999988079071 and parameters: {'classifier': 'RandomForest', 'rf_max_depth': 6.849516393619049}. Best is trial 0 with value: 0.574999988079071.\u001b[0m\n",
            "\u001b[32m[I 2021-08-18 14:55:06,429]\u001b[0m Trial 35 finished with value: 0.574999988079071 and parameters: {'classifier': 'SVC', 'svc_c': 4671.513863700056}. Best is trial 0 with value: 0.574999988079071.\u001b[0m\n",
            "\u001b[32m[I 2021-08-18 14:55:06,437]\u001b[0m Trial 36 finished with value: 0.574999988079071 and parameters: {'classifier': 'SVC', 'svc_c': 69218.04852317744}. Best is trial 0 with value: 0.574999988079071.\u001b[0m\n",
            "\u001b[32m[I 2021-08-18 14:55:06,442]\u001b[0m Trial 37 finished with value: 0.574999988079071 and parameters: {'classifier': 'SVC', 'svc_c': 0.4413026470814362}. Best is trial 0 with value: 0.574999988079071.\u001b[0m\n",
            "\u001b[32m[I 2021-08-18 14:55:06,449]\u001b[0m Trial 38 finished with value: 0.574999988079071 and parameters: {'classifier': 'RandomForest', 'rf_max_depth': 13.100894857082118}. Best is trial 0 with value: 0.574999988079071.\u001b[0m\n",
            "\u001b[32m[I 2021-08-18 14:55:06,460]\u001b[0m Trial 39 finished with value: 0.574999988079071 and parameters: {'classifier': 'RandomForest', 'rf_max_depth': 17.313616015255054}. Best is trial 0 with value: 0.574999988079071.\u001b[0m\n",
            "\u001b[32m[I 2021-08-18 14:55:06,469]\u001b[0m Trial 40 finished with value: 0.574999988079071 and parameters: {'classifier': 'RandomForest', 'rf_max_depth': 12.049024291873657}. Best is trial 0 with value: 0.574999988079071.\u001b[0m\n",
            "\u001b[32m[I 2021-08-18 14:55:06,478]\u001b[0m Trial 41 finished with value: 0.574999988079071 and parameters: {'classifier': 'RandomForest', 'rf_max_depth': 3.146433694928773}. Best is trial 0 with value: 0.574999988079071.\u001b[0m\n",
            "\u001b[32m[I 2021-08-18 14:55:06,488]\u001b[0m Trial 42 finished with value: 0.574999988079071 and parameters: {'classifier': 'RandomForest', 'rf_max_depth': 20.367261443385434}. Best is trial 0 with value: 0.574999988079071.\u001b[0m\n",
            "\u001b[32m[I 2021-08-18 14:55:06,497]\u001b[0m Trial 43 finished with value: 0.574999988079071 and parameters: {'classifier': 'RandomForest', 'rf_max_depth': 17.08852119601611}. Best is trial 0 with value: 0.574999988079071.\u001b[0m\n",
            "\u001b[32m[I 2021-08-18 14:55:06,506]\u001b[0m Trial 44 finished with value: 0.574999988079071 and parameters: {'classifier': 'RandomForest', 'rf_max_depth': 5.461409406474236}. Best is trial 0 with value: 0.574999988079071.\u001b[0m\n",
            "\u001b[32m[I 2021-08-18 14:55:06,515]\u001b[0m Trial 45 finished with value: 0.574999988079071 and parameters: {'classifier': 'RandomForest', 'rf_max_depth': 5.365464013576587}. Best is trial 0 with value: 0.574999988079071.\u001b[0m\n",
            "\u001b[32m[I 2021-08-18 14:55:06,522]\u001b[0m Trial 46 finished with value: 0.574999988079071 and parameters: {'classifier': 'RandomForest', 'rf_max_depth': 5.143544623205322}. Best is trial 0 with value: 0.574999988079071.\u001b[0m\n",
            "\u001b[32m[I 2021-08-18 14:55:06,537]\u001b[0m Trial 47 finished with value: 0.574999988079071 and parameters: {'classifier': 'RandomForest', 'rf_max_depth': 3.3404370343045953}. Best is trial 0 with value: 0.574999988079071.\u001b[0m\n",
            "\u001b[32m[I 2021-08-18 14:55:06,547]\u001b[0m Trial 48 finished with value: 0.574999988079071 and parameters: {'classifier': 'RandomForest', 'rf_max_depth': 27.007005576021932}. Best is trial 0 with value: 0.574999988079071.\u001b[0m\n",
            "\u001b[32m[I 2021-08-18 14:55:06,557]\u001b[0m Trial 49 finished with value: 0.574999988079071 and parameters: {'classifier': 'RandomForest', 'rf_max_depth': 24.97067264628334}. Best is trial 0 with value: 0.574999988079071.\u001b[0m\n",
            "\u001b[32m[I 2021-08-18 14:55:06,569]\u001b[0m Trial 50 finished with value: 0.574999988079071 and parameters: {'classifier': 'RandomForest', 'rf_max_depth': 10.097863495824908}. Best is trial 0 with value: 0.574999988079071.\u001b[0m\n",
            "\u001b[32m[I 2021-08-18 14:55:06,578]\u001b[0m Trial 51 finished with value: 0.574999988079071 and parameters: {'classifier': 'RandomForest', 'rf_max_depth': 6.877391257843911}. Best is trial 0 with value: 0.574999988079071.\u001b[0m\n",
            "\u001b[32m[I 2021-08-18 14:55:06,585]\u001b[0m Trial 52 finished with value: 0.574999988079071 and parameters: {'classifier': 'RandomForest', 'rf_max_depth': 8.62531928568453}. Best is trial 0 with value: 0.574999988079071.\u001b[0m\n",
            "\u001b[32m[I 2021-08-18 14:55:06,591]\u001b[0m Trial 53 finished with value: 0.574999988079071 and parameters: {'classifier': 'RandomForest', 'rf_max_depth': 9.538747810837862}. Best is trial 0 with value: 0.574999988079071.\u001b[0m\n",
            "\u001b[32m[I 2021-08-18 14:55:06,599]\u001b[0m Trial 54 finished with value: 0.574999988079071 and parameters: {'classifier': 'RandomForest', 'rf_max_depth': 7.24461233230571}. Best is trial 0 with value: 0.574999988079071.\u001b[0m\n",
            "\u001b[32m[I 2021-08-18 14:55:06,607]\u001b[0m Trial 55 finished with value: 0.574999988079071 and parameters: {'classifier': 'RandomForest', 'rf_max_depth': 8.109297623009004}. Best is trial 0 with value: 0.574999988079071.\u001b[0m\n",
            "\u001b[32m[I 2021-08-18 14:55:06,618]\u001b[0m Trial 56 finished with value: 0.574999988079071 and parameters: {'classifier': 'RandomForest', 'rf_max_depth': 7.096346244977689}. Best is trial 0 with value: 0.574999988079071.\u001b[0m\n",
            "\u001b[32m[I 2021-08-18 14:55:06,626]\u001b[0m Trial 57 finished with value: 0.574999988079071 and parameters: {'classifier': 'RandomForest', 'rf_max_depth': 6.46900846644734}. Best is trial 0 with value: 0.574999988079071.\u001b[0m\n",
            "\u001b[32m[I 2021-08-18 14:55:06,633]\u001b[0m Trial 58 finished with value: 0.574999988079071 and parameters: {'classifier': 'SVC', 'svc_c': 633601.1252259884}. Best is trial 0 with value: 0.574999988079071.\u001b[0m\n",
            "\u001b[32m[I 2021-08-18 14:55:06,640]\u001b[0m Trial 59 finished with value: 0.574999988079071 and parameters: {'classifier': 'SVC', 'svc_c': 599151.5404808882}. Best is trial 0 with value: 0.574999988079071.\u001b[0m\n",
            "\u001b[32m[I 2021-08-18 14:55:06,647]\u001b[0m Trial 60 finished with value: 0.574999988079071 and parameters: {'classifier': 'SVC', 'svc_c': 102224.73735558733}. Best is trial 0 with value: 0.574999988079071.\u001b[0m\n",
            "\u001b[32m[I 2021-08-18 14:55:06,654]\u001b[0m Trial 61 finished with value: 0.574999988079071 and parameters: {'classifier': 'SVC', 'svc_c': 1.2339254023105248}. Best is trial 0 with value: 0.574999988079071.\u001b[0m\n",
            "\u001b[32m[I 2021-08-18 14:55:06,660]\u001b[0m Trial 62 finished with value: 0.574999988079071 and parameters: {'classifier': 'SVC', 'svc_c': 356.8040616287273}. Best is trial 0 with value: 0.574999988079071.\u001b[0m\n",
            "\u001b[32m[I 2021-08-18 14:55:06,666]\u001b[0m Trial 63 finished with value: 0.574999988079071 and parameters: {'classifier': 'SVC', 'svc_c': 0.3030556071071363}. Best is trial 0 with value: 0.574999988079071.\u001b[0m\n",
            "\u001b[32m[I 2021-08-18 14:55:06,673]\u001b[0m Trial 64 finished with value: 0.574999988079071 and parameters: {'classifier': 'SVC', 'svc_c': 19137.145417326145}. Best is trial 0 with value: 0.574999988079071.\u001b[0m\n",
            "\u001b[32m[I 2021-08-18 14:55:06,680]\u001b[0m Trial 65 finished with value: 0.574999988079071 and parameters: {'classifier': 'SVC', 'svc_c': 1.5456104674289213}. Best is trial 0 with value: 0.574999988079071.\u001b[0m\n",
            "\u001b[32m[I 2021-08-18 14:55:06,686]\u001b[0m Trial 66 finished with value: 0.574999988079071 and parameters: {'classifier': 'SVC', 'svc_c': 10253315.782534203}. Best is trial 0 with value: 0.574999988079071.\u001b[0m\n",
            "\u001b[32m[I 2021-08-18 14:55:06,692]\u001b[0m Trial 67 finished with value: 0.574999988079071 and parameters: {'classifier': 'SVC', 'svc_c': 2363.50131806168}. Best is trial 0 with value: 0.574999988079071.\u001b[0m\n",
            "\u001b[32m[I 2021-08-18 14:55:06,698]\u001b[0m Trial 68 finished with value: 0.574999988079071 and parameters: {'classifier': 'SVC', 'svc_c': 8009677199.926402}. Best is trial 0 with value: 0.574999988079071.\u001b[0m\n",
            "\u001b[32m[I 2021-08-18 14:55:06,704]\u001b[0m Trial 69 finished with value: 0.574999988079071 and parameters: {'classifier': 'SVC', 'svc_c': 0.0011977694302494782}. Best is trial 0 with value: 0.574999988079071.\u001b[0m\n",
            "\u001b[32m[I 2021-08-18 14:55:06,711]\u001b[0m Trial 70 finished with value: 0.574999988079071 and parameters: {'classifier': 'RandomForest', 'rf_max_depth': 11.557004252825056}. Best is trial 0 with value: 0.574999988079071.\u001b[0m\n",
            "\u001b[32m[I 2021-08-18 14:55:06,718]\u001b[0m Trial 71 finished with value: 0.574999988079071 and parameters: {'classifier': 'RandomForest', 'rf_max_depth': 26.57944592968279}. Best is trial 0 with value: 0.574999988079071.\u001b[0m\n",
            "\u001b[32m[I 2021-08-18 14:55:06,726]\u001b[0m Trial 72 finished with value: 0.574999988079071 and parameters: {'classifier': 'RandomForest', 'rf_max_depth': 26.28200912646072}. Best is trial 0 with value: 0.574999988079071.\u001b[0m\n",
            "\u001b[32m[I 2021-08-18 14:55:06,733]\u001b[0m Trial 73 finished with value: 0.574999988079071 and parameters: {'classifier': 'RandomForest', 'rf_max_depth': 2.7277645614078447}. Best is trial 0 with value: 0.574999988079071.\u001b[0m\n",
            "\u001b[32m[I 2021-08-18 14:55:06,739]\u001b[0m Trial 74 finished with value: 0.574999988079071 and parameters: {'classifier': 'RandomForest', 'rf_max_depth': 9.717084771358792}. Best is trial 0 with value: 0.574999988079071.\u001b[0m\n",
            "\u001b[32m[I 2021-08-18 14:55:06,750]\u001b[0m Trial 75 finished with value: 0.574999988079071 and parameters: {'classifier': 'RandomForest', 'rf_max_depth': 8.768939254039577}. Best is trial 0 with value: 0.574999988079071.\u001b[0m\n",
            "\u001b[32m[I 2021-08-18 14:55:06,759]\u001b[0m Trial 76 finished with value: 0.574999988079071 and parameters: {'classifier': 'RandomForest', 'rf_max_depth': 10.697755622701436}. Best is trial 0 with value: 0.574999988079071.\u001b[0m\n",
            "\u001b[32m[I 2021-08-18 14:55:06,769]\u001b[0m Trial 77 finished with value: 0.574999988079071 and parameters: {'classifier': 'RandomForest', 'rf_max_depth': 7.975607371777148}. Best is trial 0 with value: 0.574999988079071.\u001b[0m\n",
            "\u001b[32m[I 2021-08-18 14:55:06,778]\u001b[0m Trial 78 finished with value: 0.574999988079071 and parameters: {'classifier': 'RandomForest', 'rf_max_depth': 8.644998183648772}. Best is trial 0 with value: 0.574999988079071.\u001b[0m\n",
            "\u001b[32m[I 2021-08-18 14:55:06,786]\u001b[0m Trial 79 finished with value: 0.574999988079071 and parameters: {'classifier': 'RandomForest', 'rf_max_depth': 7.747860253834869}. Best is trial 0 with value: 0.574999988079071.\u001b[0m\n",
            "\u001b[32m[I 2021-08-18 14:55:06,794]\u001b[0m Trial 80 finished with value: 0.574999988079071 and parameters: {'classifier': 'RandomForest', 'rf_max_depth': 5.894912745793526}. Best is trial 0 with value: 0.574999988079071.\u001b[0m\n",
            "\u001b[32m[I 2021-08-18 14:55:06,802]\u001b[0m Trial 81 finished with value: 0.574999988079071 and parameters: {'classifier': 'RandomForest', 'rf_max_depth': 6.352328072303121}. Best is trial 0 with value: 0.574999988079071.\u001b[0m\n",
            "\u001b[32m[I 2021-08-18 14:55:06,810]\u001b[0m Trial 82 finished with value: 0.574999988079071 and parameters: {'classifier': 'RandomForest', 'rf_max_depth': 8.009070712611758}. Best is trial 0 with value: 0.574999988079071.\u001b[0m\n",
            "\u001b[32m[I 2021-08-18 14:55:06,820]\u001b[0m Trial 83 finished with value: 0.574999988079071 and parameters: {'classifier': 'RandomForest', 'rf_max_depth': 4.482417012345345}. Best is trial 0 with value: 0.574999988079071.\u001b[0m\n",
            "\u001b[32m[I 2021-08-18 14:55:06,829]\u001b[0m Trial 84 finished with value: 0.574999988079071 and parameters: {'classifier': 'SVC', 'svc_c': 560008.2931933139}. Best is trial 0 with value: 0.574999988079071.\u001b[0m\n",
            "\u001b[32m[I 2021-08-18 14:55:06,838]\u001b[0m Trial 85 finished with value: 0.574999988079071 and parameters: {'classifier': 'SVC', 'svc_c': 882294.6264666519}. Best is trial 0 with value: 0.574999988079071.\u001b[0m\n",
            "\u001b[32m[I 2021-08-18 14:55:06,845]\u001b[0m Trial 86 finished with value: 0.574999988079071 and parameters: {'classifier': 'SVC', 'svc_c': 5468175.507663797}. Best is trial 0 with value: 0.574999988079071.\u001b[0m\n",
            "\u001b[32m[I 2021-08-18 14:55:06,853]\u001b[0m Trial 87 finished with value: 0.574999988079071 and parameters: {'classifier': 'SVC', 'svc_c': 23.878458607293542}. Best is trial 0 with value: 0.574999988079071.\u001b[0m\n",
            "\u001b[32m[I 2021-08-18 14:55:06,859]\u001b[0m Trial 88 finished with value: 0.574999988079071 and parameters: {'classifier': 'SVC', 'svc_c': 2.346613498871386}. Best is trial 0 with value: 0.574999988079071.\u001b[0m\n",
            "\u001b[32m[I 2021-08-18 14:55:06,870]\u001b[0m Trial 89 finished with value: 0.574999988079071 and parameters: {'classifier': 'SVC', 'svc_c': 0.03599699195887548}. Best is trial 0 with value: 0.574999988079071.\u001b[0m\n",
            "\u001b[32m[I 2021-08-18 14:55:06,878]\u001b[0m Trial 90 finished with value: 0.574999988079071 and parameters: {'classifier': 'SVC', 'svc_c': 47677.941745943535}. Best is trial 0 with value: 0.574999988079071.\u001b[0m\n",
            "\u001b[32m[I 2021-08-18 14:55:06,886]\u001b[0m Trial 91 finished with value: 0.574999988079071 and parameters: {'classifier': 'SVC', 'svc_c': 0.6803267091722732}. Best is trial 0 with value: 0.574999988079071.\u001b[0m\n",
            "\u001b[32m[I 2021-08-18 14:55:06,895]\u001b[0m Trial 92 finished with value: 0.574999988079071 and parameters: {'classifier': 'SVC', 'svc_c': 7487310.097358483}. Best is trial 0 with value: 0.574999988079071.\u001b[0m\n",
            "\u001b[32m[I 2021-08-18 14:55:06,902]\u001b[0m Trial 93 finished with value: 0.574999988079071 and parameters: {'classifier': 'SVC', 'svc_c': 46030.42501329698}. Best is trial 0 with value: 0.574999988079071.\u001b[0m\n",
            "\u001b[32m[I 2021-08-18 14:55:06,910]\u001b[0m Trial 94 finished with value: 0.574999988079071 and parameters: {'classifier': 'SVC', 'svc_c': 1444.7414242461957}. Best is trial 0 with value: 0.574999988079071.\u001b[0m\n",
            "\u001b[32m[I 2021-08-18 14:55:06,919]\u001b[0m Trial 95 finished with value: 0.574999988079071 and parameters: {'classifier': 'SVC', 'svc_c': 4139003908.4323516}. Best is trial 0 with value: 0.574999988079071.\u001b[0m\n",
            "\u001b[32m[I 2021-08-18 14:55:06,927]\u001b[0m Trial 96 finished with value: 0.574999988079071 and parameters: {'classifier': 'SVC', 'svc_c': 0.0010210352586029498}. Best is trial 0 with value: 0.574999988079071.\u001b[0m\n",
            "\u001b[32m[I 2021-08-18 14:55:06,934]\u001b[0m Trial 97 finished with value: 0.574999988079071 and parameters: {'classifier': 'SVC', 'svc_c': 23.194006199426997}. Best is trial 0 with value: 0.574999988079071.\u001b[0m\n",
            "\u001b[32m[I 2021-08-18 14:55:06,942]\u001b[0m Trial 98 finished with value: 0.574999988079071 and parameters: {'classifier': 'SVC', 'svc_c': 134864824.3506518}. Best is trial 0 with value: 0.574999988079071.\u001b[0m\n",
            "\u001b[32m[I 2021-08-18 14:55:06,952]\u001b[0m Trial 99 finished with value: 0.574999988079071 and parameters: {'classifier': 'SVC', 'svc_c': 1.0993745587087292e-07}. Best is trial 0 with value: 0.574999988079071.\u001b[0m\n"
          ],
          "name": "stderr"
        }
      ]
    },
    {
      "cell_type": "code",
      "metadata": {
        "colab": {
          "base_uri": "https://localhost:8080/"
        },
        "id": "KUtAk_p_dVeJ",
        "outputId": "601a2e26-234a-4c40-b259-1f921780c62d"
      },
      "source": [
        "print(accuracy)"
      ],
      "execution_count": 65,
      "outputs": [
        {
          "output_type": "stream",
          "text": [
            "0.574999988079071\n"
          ],
          "name": "stdout"
        }
      ]
    },
    {
      "cell_type": "code",
      "metadata": {
        "colab": {
          "base_uri": "https://localhost:8080/"
        },
        "id": "P4sadHNJ9fWC",
        "outputId": "b0c1dc1a-b1c1-4251-90ce-9da7b85ffb61"
      },
      "source": [
        "predictionforest = model.best_estimator_.predict(xvalid_pad)\n",
        "print(confusion_matrix(yvalid,predictionforest))\n",
        "print(classification_report(yvalid,predictionforest))\n"
      ],
      "execution_count": 66,
      "outputs": [
        {
          "output_type": "stream",
          "text": [
            "[[117  17  66]\n",
            " [ 75  52  73]\n",
            " [ 45  12 143]]\n",
            "              precision    recall  f1-score   support\n",
            "\n",
            "           0       0.49      0.58      0.54       200\n",
            "           1       0.64      0.26      0.37       200\n",
            "           2       0.51      0.71      0.59       200\n",
            "\n",
            "    accuracy                           0.52       600\n",
            "   macro avg       0.55      0.52      0.50       600\n",
            "weighted avg       0.55      0.52      0.50       600\n",
            "\n"
          ],
          "name": "stdout"
        }
      ]
    },
    {
      "cell_type": "markdown",
      "metadata": {
        "id": "QqFtvfSuOEkc"
      },
      "source": [
        "The best hyperparameter tuning is the manaual search with 66% accuracy, the rest of the tuning are less."
      ]
    },
    {
      "cell_type": "markdown",
      "metadata": {
        "id": "OJj1yDsUOsHS"
      },
      "source": [
        ""
      ]
    }
  ]
}