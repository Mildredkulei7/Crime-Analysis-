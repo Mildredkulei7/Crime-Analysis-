{
  "nbformat": 4,
  "nbformat_minor": 0,
  "metadata": {
    "colab": {
      "name": "Random forest.KNN.ipynb",
      "provenance": [],
      "collapsed_sections": [],
      "toc_visible": true
    },
    "kernelspec": {
      "name": "python3",
      "display_name": "Python 3"
    },
    "language_info": {
      "name": "python"
    },
    "accelerator": "GPU"
  },
  "cells": [
    {
      "cell_type": "code",
      "metadata": {
        "colab": {
          "base_uri": "https://localhost:8080/"
        },
        "id": "38-Jip0aZ1hs",
        "outputId": "ba15c551-497d-421e-c167-887460a32723"
      },
      "source": [
        "  #importing libraries\n",
        "import pandas as pd\n",
        "import numpy as np\n",
        "\n",
        "#for text_preprocessing.\n",
        "import re, string\n",
        "import nltk\n",
        "from nltk.corpus import stopwords\n",
        "from nltk.tokenize import word_tokenize\n",
        "from nltk.stem import SnowballStemmer\n",
        "from nltk.corpus import wordnet\n",
        "from nltk.stem import WordNetLemmatizer\n",
        "nltk.download('punkt')\n",
        "nltk.download('averaged_perceptron_tagger')\n",
        "nltk.download('wordnet')\n",
        "\n",
        "#tensorflow libraries\n",
        "import tensorflow as tf\n",
        "import tensorflow_hub as hub\n",
        "import tensorflow_datasets as tfd\n",
        "\n",
        "from tensorflow.keras import layers\n",
        "from tensorflow.keras import losses\n",
        "from tensorflow.keras import preprocessing\n",
        "from tensorflow.keras.layers.experimental.preprocessing import TextVectorization\n"
      ],
      "execution_count": null,
      "outputs": [
        {
          "output_type": "stream",
          "text": [
            "[nltk_data] Downloading package punkt to /root/nltk_data...\n",
            "[nltk_data]   Unzipping tokenizers/punkt.zip.\n",
            "[nltk_data] Downloading package averaged_perceptron_tagger to\n",
            "[nltk_data]     /root/nltk_data...\n",
            "[nltk_data]   Unzipping taggers/averaged_perceptron_tagger.zip.\n",
            "[nltk_data] Downloading package wordnet to /root/nltk_data...\n",
            "[nltk_data]   Unzipping corpora/wordnet.zip.\n"
          ],
          "name": "stdout"
        }
      ]
    },
    {
      "cell_type": "markdown",
      "metadata": {
        "id": "ojL7I1NNfWr7"
      },
      "source": [
        "# Loading Dataset"
      ]
    },
    {
      "cell_type": "code",
      "metadata": {
        "id": "siZARySS5zco"
      },
      "source": [
        "crime=pd.read_csv('/content/drive/MyDrive/GROUP 2/CSVfiles2/crime-k.csv')"
      ],
      "execution_count": null,
      "outputs": []
    },
    {
      "cell_type": "markdown",
      "metadata": {
        "id": "Ppq4wRjYoLbj"
      },
      "source": [
        "# Checking Datasets."
      ]
    },
    {
      "cell_type": "code",
      "metadata": {
        "id": "aizOhuvaoPfg",
        "colab": {
          "base_uri": "https://localhost:8080/"
        },
        "outputId": "f9850cb6-0daa-4b5a-ce89-9cfff6c1c2e1"
      },
      "source": [
        "#preview shape.\n",
        "crime.shape"
      ],
      "execution_count": null,
      "outputs": [
        {
          "output_type": "execute_result",
          "data": {
            "text/plain": [
              "(3000, 12)"
            ]
          },
          "metadata": {
            "tags": []
          },
          "execution_count": 3
        }
      ]
    },
    {
      "cell_type": "code",
      "metadata": {
        "colab": {
          "base_uri": "https://localhost:8080/",
          "height": 265
        },
        "id": "jKIyh1ti6JHe",
        "outputId": "dab52760-9e1c-40d1-81f1-c530c5fa9eb0"
      },
      "source": [
        "crime.head(2)"
      ],
      "execution_count": null,
      "outputs": [
        {
          "output_type": "execute_result",
          "data": {
            "text/html": [
              "<div>\n",
              "<style scoped>\n",
              "    .dataframe tbody tr th:only-of-type {\n",
              "        vertical-align: middle;\n",
              "    }\n",
              "\n",
              "    .dataframe tbody tr th {\n",
              "        vertical-align: top;\n",
              "    }\n",
              "\n",
              "    .dataframe thead th {\n",
              "        text-align: right;\n",
              "    }\n",
              "</style>\n",
              "<table border=\"1\" class=\"dataframe\">\n",
              "  <thead>\n",
              "    <tr style=\"text-align: right;\">\n",
              "      <th></th>\n",
              "      <th>Unnamed: 0</th>\n",
              "      <th>user</th>\n",
              "      <th>tweet</th>\n",
              "      <th>location</th>\n",
              "      <th>description</th>\n",
              "      <th>friends_count</th>\n",
              "      <th>followers_count</th>\n",
              "      <th>statuses_count</th>\n",
              "      <th>created_at</th>\n",
              "      <th>retweet_count</th>\n",
              "      <th>hashtags</th>\n",
              "      <th>label</th>\n",
              "    </tr>\n",
              "  </thead>\n",
              "  <tbody>\n",
              "    <tr>\n",
              "      <th>0</th>\n",
              "      <td>0</td>\n",
              "      <td>MuchangiNyaga5</td>\n",
              "      <td>@MathareSJustice @wanjirunjira @UhaiWetu @gach...</td>\n",
              "      <td>Nairobi, Kenya</td>\n",
              "      <td>NaN</td>\n",
              "      <td>37</td>\n",
              "      <td>0</td>\n",
              "      <td>2</td>\n",
              "      <td>8/17/2021 8:59</td>\n",
              "      <td>0</td>\n",
              "      <td>[]</td>\n",
              "      <td>police brutality</td>\n",
              "    </tr>\n",
              "    <tr>\n",
              "      <th>1</th>\n",
              "      <td>1</td>\n",
              "      <td>jmkariuki24</td>\n",
              "      <td>It is not easy being a young person in this co...</td>\n",
              "      <td>Nairobi, Kenya</td>\n",
              "      <td>Evidence enthusiast with a passion for advanci...</td>\n",
              "      <td>8979</td>\n",
              "      <td>12175</td>\n",
              "      <td>276</td>\n",
              "      <td>8/17/2021 8:52</td>\n",
              "      <td>0</td>\n",
              "      <td>[]</td>\n",
              "      <td>police brutality</td>\n",
              "    </tr>\n",
              "  </tbody>\n",
              "</table>\n",
              "</div>"
            ],
            "text/plain": [
              "   Unnamed: 0            user  ... hashtags             label\n",
              "0           0  MuchangiNyaga5  ...       []  police brutality\n",
              "1           1     jmkariuki24  ...       []  police brutality\n",
              "\n",
              "[2 rows x 12 columns]"
            ]
          },
          "metadata": {
            "tags": []
          },
          "execution_count": 4
        }
      ]
    },
    {
      "cell_type": "code",
      "metadata": {
        "colab": {
          "base_uri": "https://localhost:8080/"
        },
        "id": "HCCKQtxK8YEE",
        "outputId": "f6175efa-a1da-46c8-8349-55a7452f22d5"
      },
      "source": [
        "#preview columns\n",
        "crime.columns"
      ],
      "execution_count": null,
      "outputs": [
        {
          "output_type": "execute_result",
          "data": {
            "text/plain": [
              "Index(['Unnamed: 0', 'user', 'tweet', 'location', 'description',\n",
              "       'friends_count', 'followers_count', 'statuses_count', 'created_at',\n",
              "       'retweet_count', 'hashtags', 'label'],\n",
              "      dtype='object')"
            ]
          },
          "metadata": {
            "tags": []
          },
          "execution_count": 5
        }
      ]
    },
    {
      "cell_type": "code",
      "metadata": {
        "id": "eJ9tj0H5xiOp"
      },
      "source": [
        "#drop unnecessary columns\n",
        "crime.drop(['Unnamed: 0', 'friends_count', 'followers_count', 'statuses_count', 'retweet_count','description','hashtags'], axis=1, inplace=True)"
      ],
      "execution_count": null,
      "outputs": []
    },
    {
      "cell_type": "code",
      "metadata": {
        "colab": {
          "base_uri": "https://localhost:8080/"
        },
        "id": "N1mACniE9N31",
        "outputId": "8a256316-f6e2-4cc5-bc7e-d0115be3ae4e"
      },
      "source": [
        "#checking the shape after dropping the columns\n",
        "crime.shape"
      ],
      "execution_count": null,
      "outputs": [
        {
          "output_type": "execute_result",
          "data": {
            "text/plain": [
              "(3000, 5)"
            ]
          },
          "metadata": {
            "tags": []
          },
          "execution_count": 7
        }
      ]
    },
    {
      "cell_type": "code",
      "metadata": {
        "colab": {
          "base_uri": "https://localhost:8080/",
          "height": 287
        },
        "id": "ZW0cZ0IY-slz",
        "outputId": "e2b20143-fbf8-4e99-cd2e-2be5eb8a138b"
      },
      "source": [
        "crime.head()"
      ],
      "execution_count": null,
      "outputs": [
        {
          "output_type": "execute_result",
          "data": {
            "text/html": [
              "<div>\n",
              "<style scoped>\n",
              "    .dataframe tbody tr th:only-of-type {\n",
              "        vertical-align: middle;\n",
              "    }\n",
              "\n",
              "    .dataframe tbody tr th {\n",
              "        vertical-align: top;\n",
              "    }\n",
              "\n",
              "    .dataframe thead th {\n",
              "        text-align: right;\n",
              "    }\n",
              "</style>\n",
              "<table border=\"1\" class=\"dataframe\">\n",
              "  <thead>\n",
              "    <tr style=\"text-align: right;\">\n",
              "      <th></th>\n",
              "      <th>user</th>\n",
              "      <th>tweet</th>\n",
              "      <th>location</th>\n",
              "      <th>created_at</th>\n",
              "      <th>label</th>\n",
              "    </tr>\n",
              "  </thead>\n",
              "  <tbody>\n",
              "    <tr>\n",
              "      <th>0</th>\n",
              "      <td>MuchangiNyaga5</td>\n",
              "      <td>@MathareSJustice @wanjirunjira @UhaiWetu @gach...</td>\n",
              "      <td>Nairobi, Kenya</td>\n",
              "      <td>8/17/2021 8:59</td>\n",
              "      <td>police brutality</td>\n",
              "    </tr>\n",
              "    <tr>\n",
              "      <th>1</th>\n",
              "      <td>jmkariuki24</td>\n",
              "      <td>It is not easy being a young person in this co...</td>\n",
              "      <td>Nairobi, Kenya</td>\n",
              "      <td>8/17/2021 8:52</td>\n",
              "      <td>police brutality</td>\n",
              "    </tr>\n",
              "    <tr>\n",
              "      <th>2</th>\n",
              "      <td>FlavionsKimani</td>\n",
              "      <td>You come to voters begging for votes, yet none...</td>\n",
              "      <td>Nairobi Kenya</td>\n",
              "      <td>8/17/2021 8:48</td>\n",
              "      <td>police brutality</td>\n",
              "    </tr>\n",
              "    <tr>\n",
              "      <th>3</th>\n",
              "      <td>nyamu_dickson</td>\n",
              "      <td>It would be wise if we have bloggers with cont...</td>\n",
              "      <td>Nairobi, Kenya</td>\n",
              "      <td>8/17/2021 7:45</td>\n",
              "      <td>police brutality</td>\n",
              "    </tr>\n",
              "    <tr>\n",
              "      <th>4</th>\n",
              "      <td>prings_ke</td>\n",
              "      <td>Before you vote, ask your candidates what they...</td>\n",
              "      <td>Thika, Kenya</td>\n",
              "      <td>8/17/2021 7:44</td>\n",
              "      <td>police brutality</td>\n",
              "    </tr>\n",
              "  </tbody>\n",
              "</table>\n",
              "</div>"
            ],
            "text/plain": [
              "             user  ...             label\n",
              "0  MuchangiNyaga5  ...  police brutality\n",
              "1     jmkariuki24  ...  police brutality\n",
              "2  FlavionsKimani  ...  police brutality\n",
              "3   nyamu_dickson  ...  police brutality\n",
              "4       prings_ke  ...  police brutality\n",
              "\n",
              "[5 rows x 5 columns]"
            ]
          },
          "metadata": {
            "tags": []
          },
          "execution_count": 8
        }
      ]
    },
    {
      "cell_type": "code",
      "metadata": {
        "id": "00hDt0UUe_av"
      },
      "source": [
        "crime.to_csv('crimecl.csv',index=False)"
      ],
      "execution_count": null,
      "outputs": []
    },
    {
      "cell_type": "code",
      "metadata": {
        "colab": {
          "base_uri": "https://localhost:8080/"
        },
        "id": "KFya6z5jCcjR",
        "outputId": "d851e577-8095-4c57-b82e-4075796f9911"
      },
      "source": [
        "import nltk\n",
        "nltk.download('stopwords')\n",
        "from nltk.corpus import stopwords"
      ],
      "execution_count": null,
      "outputs": [
        {
          "output_type": "stream",
          "text": [
            "[nltk_data] Downloading package stopwords to /root/nltk_data...\n",
            "[nltk_data]   Unzipping corpora/stopwords.zip.\n"
          ],
          "name": "stdout"
        }
      ]
    },
    {
      "cell_type": "code",
      "metadata": {
        "colab": {
          "base_uri": "https://localhost:8080/"
        },
        "id": "bAeGrjfEEHWB",
        "outputId": "82dc98c0-b285-4fb3-b4af-9aa2fd256148"
      },
      "source": [
        "crime.duplicated().sum()"
      ],
      "execution_count": null,
      "outputs": [
        {
          "output_type": "execute_result",
          "data": {
            "text/plain": [
              "0"
            ]
          },
          "metadata": {
            "tags": []
          },
          "execution_count": 11
        }
      ]
    },
    {
      "cell_type": "code",
      "metadata": {
        "id": "sX-1haZA9_2I"
      },
      "source": [
        "#convert to lowercase, strip and remove punctuations\n",
        "def preprocess(text):\n",
        "    text = text.lower() \n",
        "    text=text.strip()  \n",
        "    text=re.compile('<.*?>').sub('', text) \n",
        "    text = re.compile('[%s]' % re.escape(string.punctuation)).sub(' ', text)  \n",
        "    text = re.sub('\\s+', ' ', text)  \n",
        "    text = re.sub(r'\\[[0-9]*\\]',' ',text) \n",
        "    text=re.sub(r'[^\\w\\s]', '', str(text).lower().strip())\n",
        "    text = re.sub(r'\\d',' ',text) \n",
        "    text = re.sub(r'\\s+',' ',text) \n",
        "    return text\n",
        "\n",
        "crime['clean_tweet']=crime['tweet'].apply(lambda x : preprocess(x))"
      ],
      "execution_count": null,
      "outputs": []
    },
    {
      "cell_type": "code",
      "metadata": {
        "colab": {
          "base_uri": "https://localhost:8080/"
        },
        "id": "eIOLNV94MZ0W",
        "outputId": "592349b1-8a05-4e77-c39b-5342b921399d"
      },
      "source": [
        "#stopwords\n",
        "import nltk\n",
        "nltk.download('stopwords')\n",
        "from nltk.corpus import stopwords\n",
        "def stopword(string):\n",
        "    a= [i for i in string.split() if i not in stopwords.words('english')]\n",
        "    return ' '.join(a)\n",
        "\n",
        "crime['clean_tweet']=crime['clean_tweet'].apply(lambda x : stopword(x))  "
      ],
      "execution_count": null,
      "outputs": [
        {
          "output_type": "stream",
          "text": [
            "[nltk_data] Downloading package stopwords to /root/nltk_data...\n",
            "[nltk_data]   Package stopwords is already up-to-date!\n"
          ],
          "name": "stdout"
        }
      ]
    },
    {
      "cell_type": "code",
      "metadata": {
        "id": "FMbOK5G2We3y"
      },
      "source": [
        "#wordnetlemmatizer\n",
        "from nltk.stem import WordNetLemmatizer\n",
        "w = WordNetLemmatizer()"
      ],
      "execution_count": null,
      "outputs": []
    },
    {
      "cell_type": "code",
      "metadata": {
        "colab": {
          "base_uri": "https://localhost:8080/",
          "height": 354
        },
        "id": "NzxmMaJZMh0F",
        "outputId": "f01d5f1e-daf5-44a6-fd12-16345e408128"
      },
      "source": [
        "#Wordnet Lemmatization and POS Tagging \n",
        "#parts of speech(POS)\n",
        "def get_wordnet_pos(tag):\n",
        "    if tag.startswith('J'):\n",
        "        return wordnet.ADJ\n",
        "    elif tag.startswith('V'):\n",
        "        return wordnet.VERB\n",
        "    elif tag.startswith('N'):\n",
        "        return wordnet.NOUN\n",
        "    elif tag.startswith('R'):\n",
        "        return wordnet.ADV\n",
        "    else:\n",
        "        return wordnet.NOUN\n",
        "#defining lemmatization function\n",
        "\n",
        "def lemmatizer(string):\n",
        "    word_pos_tags = nltk.pos_tag(word_tokenize(string)) \n",
        "    a=[w.lemmatize(tag[0], get_wordnet_pos(tag[1])) for idx, tag in enumerate(word_pos_tags)] # Map the position tag and lemmatize the word/token\n",
        "    return \" \".join(a) \n",
        "\n",
        "def final(string):\n",
        "    return lemmatizer(string)\n",
        "crime['clean_tweet']= crime['clean_tweet'].apply(lambda x: final(x))\n",
        "crime.head()"
      ],
      "execution_count": null,
      "outputs": [
        {
          "output_type": "execute_result",
          "data": {
            "text/html": [
              "<div>\n",
              "<style scoped>\n",
              "    .dataframe tbody tr th:only-of-type {\n",
              "        vertical-align: middle;\n",
              "    }\n",
              "\n",
              "    .dataframe tbody tr th {\n",
              "        vertical-align: top;\n",
              "    }\n",
              "\n",
              "    .dataframe thead th {\n",
              "        text-align: right;\n",
              "    }\n",
              "</style>\n",
              "<table border=\"1\" class=\"dataframe\">\n",
              "  <thead>\n",
              "    <tr style=\"text-align: right;\">\n",
              "      <th></th>\n",
              "      <th>user</th>\n",
              "      <th>tweet</th>\n",
              "      <th>location</th>\n",
              "      <th>created_at</th>\n",
              "      <th>label</th>\n",
              "      <th>clean_tweet</th>\n",
              "    </tr>\n",
              "  </thead>\n",
              "  <tbody>\n",
              "    <tr>\n",
              "      <th>0</th>\n",
              "      <td>MuchangiNyaga5</td>\n",
              "      <td>@MathareSJustice @wanjirunjira @UhaiWetu @gach...</td>\n",
              "      <td>Nairobi, Kenya</td>\n",
              "      <td>8/17/2021 8:59</td>\n",
              "      <td>police brutality</td>\n",
              "      <td>matharesjustice wanjirunjira uhaiwetu gacheke ...</td>\n",
              "    </tr>\n",
              "    <tr>\n",
              "      <th>1</th>\n",
              "      <td>jmkariuki24</td>\n",
              "      <td>It is not easy being a young person in this co...</td>\n",
              "      <td>Nairobi, Kenya</td>\n",
              "      <td>8/17/2021 8:52</td>\n",
              "      <td>police brutality</td>\n",
              "      <td>easy young person country survive kcse kuccps ...</td>\n",
              "    </tr>\n",
              "    <tr>\n",
              "      <th>2</th>\n",
              "      <td>FlavionsKimani</td>\n",
              "      <td>You come to voters begging for votes, yet none...</td>\n",
              "      <td>Nairobi Kenya</td>\n",
              "      <td>8/17/2021 8:48</td>\n",
              "      <td>police brutality</td>\n",
              "      <td>come voter beg vote yet none ya politician con...</td>\n",
              "    </tr>\n",
              "    <tr>\n",
              "      <th>3</th>\n",
              "      <td>nyamu_dickson</td>\n",
              "      <td>It would be wise if we have bloggers with cont...</td>\n",
              "      <td>Nairobi, Kenya</td>\n",
              "      <td>8/17/2021 7:45</td>\n",
              "      <td>police brutality</td>\n",
              "      <td>would wise blogger content drive agenda succes...</td>\n",
              "    </tr>\n",
              "    <tr>\n",
              "      <th>4</th>\n",
              "      <td>prings_ke</td>\n",
              "      <td>Before you vote, ask your candidates what they...</td>\n",
              "      <td>Thika, Kenya</td>\n",
              "      <td>8/17/2021 7:44</td>\n",
              "      <td>police brutality</td>\n",
              "      <td>vote ask candidate police brutality take time ...</td>\n",
              "    </tr>\n",
              "  </tbody>\n",
              "</table>\n",
              "</div>"
            ],
            "text/plain": [
              "             user  ...                                        clean_tweet\n",
              "0  MuchangiNyaga5  ...  matharesjustice wanjirunjira uhaiwetu gacheke ...\n",
              "1     jmkariuki24  ...  easy young person country survive kcse kuccps ...\n",
              "2  FlavionsKimani  ...  come voter beg vote yet none ya politician con...\n",
              "3   nyamu_dickson  ...  would wise blogger content drive agenda succes...\n",
              "4       prings_ke  ...  vote ask candidate police brutality take time ...\n",
              "\n",
              "[5 rows x 6 columns]"
            ]
          },
          "metadata": {
            "tags": []
          },
          "execution_count": 15
        }
      ]
    },
    {
      "cell_type": "code",
      "metadata": {
        "id": "wDItfngeSVsF"
      },
      "source": [
        "#label encoding our label\n",
        "from sklearn.preprocessing import LabelEncoder\n",
        "le=LabelEncoder()\n",
        "crime['label']=le.fit_transform(crime['label'])"
      ],
      "execution_count": null,
      "outputs": []
    },
    {
      "cell_type": "code",
      "metadata": {
        "id": "Ca-j5zLzZbg8"
      },
      "source": [
        "#splitting the dataset\n",
        "from sklearn.model_selection import train_test_split\n",
        "X_train, X_val, y_train, y_val = train_test_split(crime[\"clean_tweet\"], \n",
        "                                                  crime['label'],\n",
        "                                                  test_size=0.33,\n",
        "                                                  shuffle=True)"
      ],
      "execution_count": null,
      "outputs": []
    },
    {
      "cell_type": "code",
      "metadata": {
        "colab": {
          "base_uri": "https://localhost:8080/"
        },
        "id": "slhDS4QpoUEc",
        "outputId": "71025c23-05dd-4938-ef75-667086da1e85"
      },
      "source": [
        "X_train.shape,y_train.shape"
      ],
      "execution_count": null,
      "outputs": [
        {
          "output_type": "execute_result",
          "data": {
            "text/plain": [
              "((2010,), (2010,))"
            ]
          },
          "metadata": {
            "tags": []
          },
          "execution_count": 18
        }
      ]
    },
    {
      "cell_type": "code",
      "metadata": {
        "id": "iX18cCS2Y3za"
      },
      "source": [
        "#vectorization\n",
        "from sklearn.feature_extraction.text import TfidfVectorizer,CountVectorizer\n",
        "tfidf_vectorizer = TfidfVectorizer(use_idf=True, )\n",
        "X_train_tfidf = tfidf_vectorizer.fit_transform(X_train)\n",
        "X_val_tfidf = tfidf_vectorizer.transform(X_val)"
      ],
      "execution_count": null,
      "outputs": []
    },
    {
      "cell_type": "code",
      "metadata": {
        "colab": {
          "base_uri": "https://localhost:8080/",
          "height": 335
        },
        "id": "3irKh3CR8Otb",
        "outputId": "b55b6b40-3606-4ec1-817b-4dabf4e57a85"
      },
      "source": [
        "#check for class imbalance\n",
        "import matplotlib.pyplot as plt\n",
        "\n",
        "import seaborn as sns\n",
        "x=crime.label.value_counts()\n",
        "sns.barplot(x.index,x)\n",
        "plt.gca().set_ylabel('tweets')"
      ],
      "execution_count": null,
      "outputs": [
        {
          "output_type": "stream",
          "text": [
            "/usr/local/lib/python3.7/dist-packages/seaborn/_decorators.py:43: FutureWarning: Pass the following variables as keyword args: x, y. From version 0.12, the only valid positional argument will be `data`, and passing other arguments without an explicit keyword will result in an error or misinterpretation.\n",
            "  FutureWarning\n"
          ],
          "name": "stderr"
        },
        {
          "output_type": "execute_result",
          "data": {
            "text/plain": [
              "Text(0, 0.5, 'tweets')"
            ]
          },
          "metadata": {
            "tags": []
          },
          "execution_count": 20
        },
        {
          "output_type": "display_data",
          "data": {
            "image/png": "[encoded data removed]",
            "text/plain": [
              "<Figure size 432x288 with 1 Axes>"
            ]
          },
          "metadata": {
            "tags": [],
            "needs_background": "light"
          }
        }
      ]
    },
    {
      "cell_type": "markdown",
      "metadata": {
        "id": "PL8dLZqQs2Km"
      },
      "source": [
        "## KNN"
      ]
    },
    {
      "cell_type": "code",
      "metadata": {
        "id": "MEprj8P8t9HI"
      },
      "source": [
        "#we are going to use k of 5\n",
        "from sklearn.neighbors import KNeighborsClassifier\n",
        "cl=KNeighborsClassifier(n_neighbors=5)\n",
        "cl.fit(X_train_tfidf,y_train)\n",
        "#we will predict our model\n",
        "y_pred =cl.predict(X_val_tfidf)"
      ],
      "execution_count": null,
      "outputs": []
    },
    {
      "cell_type": "code",
      "metadata": {
        "colab": {
          "base_uri": "https://localhost:8080/"
        },
        "id": "9wGQhpDwuRfV",
        "outputId": "f9bfe141-5f34-4f44-fba1-2f342fbc44bd"
      },
      "source": [
        "#checking metrics for accuracy\n",
        "from sklearn.metrics import classification_report, confusion_matrix\n",
        "print(confusion_matrix(y_val, y_pred))\n",
        "print(classification_report(y_val, y_pred))\n",
        "print(np.mean(y_pred == y_val))"
      ],
      "execution_count": null,
      "outputs": [
        {
          "output_type": "stream",
          "text": [
            "[[266  25  52]\n",
            " [ 41 218  74]\n",
            " [ 25  37 252]]\n",
            "              precision    recall  f1-score   support\n",
            "\n",
            "           0       0.80      0.78      0.79       343\n",
            "           1       0.78      0.65      0.71       333\n",
            "           2       0.67      0.80      0.73       314\n",
            "\n",
            "    accuracy                           0.74       990\n",
            "   macro avg       0.75      0.74      0.74       990\n",
            "weighted avg       0.75      0.74      0.74       990\n",
            "\n",
            "0.7434343434343434\n"
          ],
          "name": "stdout"
        }
      ]
    },
    {
      "cell_type": "markdown",
      "metadata": {
        "id": "MRC2Zd4Mv5e_"
      },
      "source": [
        "Accuracy of 76% "
      ]
    },
    {
      "cell_type": "code",
      "metadata": {
        "colab": {
          "base_uri": "https://localhost:8080/"
        },
        "id": "adToN9aAscD2",
        "outputId": "3f159524-a91a-4b93-a141-d9812aa49966"
      },
      "source": [
        "#we will tune our parameter using gridsearch\n",
        "from sklearn.model_selection import GridSearchCV\n",
        "from sklearn import neighbors\n",
        "params = {'n_neighbors':[2,3,4,5,6,7,8,9]}\n",
        "\n",
        "knn = neighbors.KNeighborsClassifier()\n",
        "\n",
        "cl_g = GridSearchCV(knn, params, cv=5)\n",
        "cl_g.fit(X_train_tfidf,y_train)\n",
        "cl_g.best_params_\n",
        "#the best parameter for our model is 9"
      ],
      "execution_count": null,
      "outputs": [
        {
          "output_type": "execute_result",
          "data": {
            "text/plain": [
              "{'n_neighbors': 8}"
            ]
          },
          "metadata": {
            "tags": []
          },
          "execution_count": 23
        }
      ]
    },
    {
      "cell_type": "code",
      "metadata": {
        "id": "8hCN4Xu4s2CS"
      },
      "source": [
        "#training our model using k as 9\n",
        "\n",
        "from sklearn.neighbors import KNeighborsClassifier\n",
        "cl_gs=KNeighborsClassifier(n_neighbors=9)\n",
        "cl_gs.fit(X_train_tfidf,y_train)\n",
        "\n",
        "#predicting our model\n",
        "y_pred_gs=cl_gs.predict(X_val_tfidf)"
      ],
      "execution_count": null,
      "outputs": []
    },
    {
      "cell_type": "code",
      "metadata": {
        "colab": {
          "base_uri": "https://localhost:8080/"
        },
        "id": "vxugV2abtpwp",
        "outputId": "b203b68c-a6fc-4133-e3ee-f4e44144a3fe"
      },
      "source": [
        "#checking metrics for our models accuracy\n",
        "from sklearn.metrics import classification_report, confusion_matrix\n",
        "print(confusion_matrix(y_val, y_pred_gs))\n",
        "print(classification_report(y_val, y_pred_gs))\n",
        "print(np.mean(y_pred_gs == y_val))"
      ],
      "execution_count": null,
      "outputs": [
        {
          "output_type": "stream",
          "text": [
            "[[279  22  42]\n",
            " [ 31 222  80]\n",
            " [ 20  25 269]]\n",
            "              precision    recall  f1-score   support\n",
            "\n",
            "           0       0.85      0.81      0.83       343\n",
            "           1       0.83      0.67      0.74       333\n",
            "           2       0.69      0.86      0.76       314\n",
            "\n",
            "    accuracy                           0.78       990\n",
            "   macro avg       0.79      0.78      0.78       990\n",
            "weighted avg       0.79      0.78      0.78       990\n",
            "\n",
            "0.7777777777777778\n"
          ],
          "name": "stdout"
        }
      ]
    },
    {
      "cell_type": "markdown",
      "metadata": {
        "id": "z8aMLxMxxExH"
      },
      "source": [
        "got an accuracy of 78% after tuning the parameters for our model."
      ]
    },
    {
      "cell_type": "markdown",
      "metadata": {
        "id": "RysXdx52xQLw"
      },
      "source": [
        "## Random Forest"
      ]
    },
    {
      "cell_type": "code",
      "metadata": {
        "id": "-KI_e4vlw7rY"
      },
      "source": [
        "from sklearn.ensemble import RandomForestClassifier\n",
        "classifier_rf = RandomForestClassifier(random_state=42, n_jobs=-1, max_depth=5,\n",
        "                                       n_estimators=100, oob_score=True)\n",
        "#fitting our model\n",
        "classifier_rf.fit(X_train_tfidf, y_train)\n",
        "\n",
        "#predicting our model\n",
        "y_pred_rf= classifier_rf.predict(X_val_tfidf)"
      ],
      "execution_count": null,
      "outputs": []
    },
    {
      "cell_type": "code",
      "metadata": {
        "colab": {
          "base_uri": "https://localhost:8080/"
        },
        "id": "1Bbe0gSj2NAJ",
        "outputId": "38fd07d9-b3c7-49ba-c84f-1e001b2f1fba"
      },
      "source": [
        "#checking metrics for our models accuracy\n",
        "from sklearn.metrics import classification_report, confusion_matrix\n",
        "print(confusion_matrix(y_val, y_pred_rf))\n",
        "print(classification_report(y_val, y_pred_rf))\n",
        "print(np.mean(y_pred_rf == y_val))"
      ],
      "execution_count": null,
      "outputs": [
        {
          "output_type": "stream",
          "text": [
            "[[318   6  19]\n",
            " [ 45 254  34]\n",
            " [ 30  11 273]]\n",
            "              precision    recall  f1-score   support\n",
            "\n",
            "           0       0.81      0.93      0.86       343\n",
            "           1       0.94      0.76      0.84       333\n",
            "           2       0.84      0.87      0.85       314\n",
            "\n",
            "    accuracy                           0.85       990\n",
            "   macro avg       0.86      0.85      0.85       990\n",
            "weighted avg       0.86      0.85      0.85       990\n",
            "\n",
            "0.8535353535353535\n"
          ],
          "name": "stdout"
        }
      ]
    },
    {
      "cell_type": "markdown",
      "metadata": {
        "id": "ihBr6cw923mD"
      },
      "source": [
        "Random forest 84% accuracy."
      ]
    },
    {
      "cell_type": "code",
      "metadata": {
        "id": "pZgw6YSC3Nq5"
      },
      "source": [
        " test_features=crime['label']"
      ],
      "execution_count": null,
      "outputs": []
    },
    {
      "cell_type": "code",
      "metadata": {
        "colab": {
          "base_uri": "https://localhost:8080/"
        },
        "id": "7sfde-hg5Ep6",
        "outputId": "1685327f-8521-4563-f102-07528f37402c"
      },
      "source": [
        "from pprint import pprint\n",
        "pprint(classifier_rf.get_params)"
      ],
      "execution_count": null,
      "outputs": [
        {
          "output_type": "stream",
          "text": [
            "<bound method BaseEstimator.get_params of RandomForestClassifier(bootstrap=True, ccp_alpha=0.0, class_weight=None,\n",
            "                       criterion='gini', max_depth=5, max_features='auto',\n",
            "                       max_leaf_nodes=None, max_samples=None,\n",
            "                       min_impurity_decrease=0.0, min_impurity_split=None,\n",
            "                       min_samples_leaf=1, min_samples_split=2,\n",
            "                       min_weight_fraction_leaf=0.0, n_estimators=100,\n",
            "                       n_jobs=-1, oob_score=True, random_state=42, verbose=0,\n",
            "                       warm_start=False)>\n"
          ],
          "name": "stdout"
        }
      ]
    },
    {
      "cell_type": "markdown",
      "metadata": {
        "id": "tY62k1TDPxfU"
      },
      "source": [
        "#### Gridsearch"
      ]
    },
    {
      "cell_type": "code",
      "metadata": {
        "colab": {
          "base_uri": "https://localhost:8080/"
        },
        "id": "oFXjDGKFP0Wj",
        "outputId": "6eff3e98-bc79-4f6e-d22e-1d07d927ccfc"
      },
      "source": [
        "from sklearn.model_selection import GridSearchCV\n",
        "\n",
        "params = {\n",
        "    'max_depth': [2,3,5,10,20],\n",
        "    'min_samples_leaf': [5,10,20,50,100,200],\n",
        "    'n_estimators': [10,25,30,50,100,200]\n",
        "}\n",
        "rf = RandomForestClassifier(random_state=42, n_jobs=-1)\n",
        "grid_search = GridSearchCV(estimator=rf,\n",
        "                           param_grid=params,\n",
        "                           cv = 4,\n",
        "                           n_jobs=-1, verbose=1, scoring=\"accuracy\")\n",
        "\n",
        "grid_search.fit(X_train_tfidf, y_train)"
      ],
      "execution_count": null,
      "outputs": [
        {
          "output_type": "stream",
          "text": [
            "Fitting 4 folds for each of 180 candidates, totalling 720 fits\n"
          ],
          "name": "stdout"
        },
        {
          "output_type": "stream",
          "text": [
            "[Parallel(n_jobs=-1)]: Using backend LokyBackend with 2 concurrent workers.\n",
            "[Parallel(n_jobs=-1)]: Done  46 tasks      | elapsed:    9.8s\n",
            "[Parallel(n_jobs=-1)]: Done 196 tasks      | elapsed:   37.2s\n",
            "[Parallel(n_jobs=-1)]: Done 446 tasks      | elapsed:  1.4min\n",
            "[Parallel(n_jobs=-1)]: Done 720 out of 720 | elapsed:  2.3min finished\n"
          ],
          "name": "stderr"
        },
        {
          "output_type": "execute_result",
          "data": {
            "text/plain": [
              "GridSearchCV(cv=4, error_score=nan,\n",
              "             estimator=RandomForestClassifier(bootstrap=True, ccp_alpha=0.0,\n",
              "                                              class_weight=None,\n",
              "                                              criterion='gini', max_depth=None,\n",
              "                                              max_features='auto',\n",
              "                                              max_leaf_nodes=None,\n",
              "                                              max_samples=None,\n",
              "                                              min_impurity_decrease=0.0,\n",
              "                                              min_impurity_split=None,\n",
              "                                              min_samples_leaf=1,\n",
              "                                              min_samples_split=2,\n",
              "                                              min_weight_fraction_leaf=0.0,\n",
              "                                              n_estimators=100, n_jobs=-1,\n",
              "                                              oob_score=False, random_state=42,\n",
              "                                              verbose=0, warm_start=False),\n",
              "             iid='deprecated', n_jobs=-1,\n",
              "             param_grid={'max_depth': [2, 3, 5, 10, 20],\n",
              "                         'min_samples_leaf': [5, 10, 20, 50, 100, 200],\n",
              "                         'n_estimators': [10, 25, 30, 50, 100, 200]},\n",
              "             pre_dispatch='2*n_jobs', refit=True, return_train_score=False,\n",
              "             scoring='accuracy', verbose=1)"
            ]
          },
          "metadata": {
            "tags": []
          },
          "execution_count": 30
        }
      ]
    },
    {
      "cell_type": "code",
      "metadata": {
        "id": "N0UrdffoUT6c"
      },
      "source": [
        "# from sklearn.tree import export_graphviz\n",
        "# from sklearn.externals.six import StringIO  \n",
        "# from IPython.display import Image  \n",
        "# import pydotplus\n",
        "\n",
        "# dot_data = StringIO()\n",
        "# # pick a specific tree from the forest\n",
        "# tree = classifier_rf.estimators_[50]\n",
        "\n",
        "# export_graphviz(tree, out_file=dot_data,  \n",
        "#                 filled=True, rounded=True,\n",
        "#                 special_characters=True,feature_names = test_features)\n",
        "# graph = pydotplus.graph_from_dot_data(dot_data.getvalue())  \n",
        "# graph.write_png('absenteism_forest.png')\n",
        "# Image(graph.create_png())\n"
      ],
      "execution_count": null,
      "outputs": []
    },
    {
      "cell_type": "markdown",
      "metadata": {
        "id": "O9bwNR5t4ci0"
      },
      "source": [
        "## Adaboost"
      ]
    },
    {
      "cell_type": "code",
      "metadata": {
        "id": "Z3FGqNhH5R1f"
      },
      "source": [
        "#Adaboost \n",
        "from sklearn.ensemble import AdaBoostClassifier\n",
        "from sklearn.tree import DecisionTreeClassifier\n",
        "ada_boost = AdaBoostClassifier( DecisionTreeClassifier(max_depth=4),\n",
        "                          n_estimators=300, random_state=0)\n",
        "\n",
        "#training our dataset\n",
        "ada_boost = ada_boost.fit(X_train_tfidf, y_train)\n",
        "\n",
        "#predicting \n",
        "y_pred_ada = ada_boost.predict(X_val_tfidf)"
      ],
      "execution_count": null,
      "outputs": []
    },
    {
      "cell_type": "code",
      "metadata": {
        "colab": {
          "base_uri": "https://localhost:8080/"
        },
        "id": "ebPC1fU6FQZo",
        "outputId": "9c923ff7-725d-4f0c-a69d-ae70779852c1"
      },
      "source": [
        "#checking metrics for our models accuracy\n",
        "from sklearn.metrics import classification_report, confusion_matrix\n",
        "print(confusion_matrix(y_val, y_pred_ada))\n",
        "print(classification_report(y_val, y_pred_ada))\n",
        "print(np.mean(y_pred_ada == y_val))"
      ],
      "execution_count": null,
      "outputs": [
        {
          "output_type": "stream",
          "text": [
            "[[294  34  15]\n",
            " [ 33 271  29]\n",
            " [ 24  44 246]]\n",
            "              precision    recall  f1-score   support\n",
            "\n",
            "           0       0.84      0.86      0.85       343\n",
            "           1       0.78      0.81      0.79       333\n",
            "           2       0.85      0.78      0.81       314\n",
            "\n",
            "    accuracy                           0.82       990\n",
            "   macro avg       0.82      0.82      0.82       990\n",
            "weighted avg       0.82      0.82      0.82       990\n",
            "\n",
            "0.8191919191919191\n"
          ],
          "name": "stdout"
        }
      ]
    },
    {
      "cell_type": "markdown",
      "metadata": {
        "id": "ITnnWFtCFXP8"
      },
      "source": [
        "83% accuracy with adaboost"
      ]
    },
    {
      "cell_type": "markdown",
      "metadata": {
        "id": "VKm8yN6EFc0j"
      },
      "source": [
        "## GradientBoostClassifier"
      ]
    },
    {
      "cell_type": "code",
      "metadata": {
        "id": "nTtMBXLtE13C"
      },
      "source": [
        "#Gradientboost Classifier.\n",
        "from sklearn.ensemble import GradientBoostingClassifier\n",
        "\n",
        "\n",
        "gbr = GradientBoostingClassifier(n_estimators=200, learning_rate=0.4, max_depth=2)\n",
        "\n",
        "#training our model.\n",
        "gbr = gbr.fit(X_train_tfidf, y_train)\n",
        "\n",
        "#predicting.\n",
        "y_pred_gbr = gbr.predict(X_val_tfidf)"
      ],
      "execution_count": null,
      "outputs": []
    },
    {
      "cell_type": "code",
      "metadata": {
        "colab": {
          "base_uri": "https://localhost:8080/"
        },
        "id": "HDcloxViHBjq",
        "outputId": "78a5e927-032e-4b57-a240-5fd4896ed192"
      },
      "source": [
        "#checking metrics for our models accuracy\n",
        "from sklearn.metrics import classification_report, confusion_matrix\n",
        "print(confusion_matrix(y_val, y_pred_gbr))\n",
        "print(classification_report(y_val, y_pred_gbr))\n",
        "print(np.mean(y_pred_gbr == y_val))"
      ],
      "execution_count": null,
      "outputs": [
        {
          "output_type": "stream",
          "text": [
            "[[314  17  12]\n",
            " [ 33 266  34]\n",
            " [ 18  27 269]]\n",
            "              precision    recall  f1-score   support\n",
            "\n",
            "           0       0.86      0.92      0.89       343\n",
            "           1       0.86      0.80      0.83       333\n",
            "           2       0.85      0.86      0.86       314\n",
            "\n",
            "    accuracy                           0.86       990\n",
            "   macro avg       0.86      0.86      0.86       990\n",
            "weighted avg       0.86      0.86      0.86       990\n",
            "\n",
            "0.8575757575757575\n"
          ],
          "name": "stdout"
        }
      ]
    },
    {
      "cell_type": "markdown",
      "metadata": {
        "id": "1-FX9rxhHD2u"
      },
      "source": [
        "Graadientboost with 83% accuracy."
      ]
    },
    {
      "cell_type": "markdown",
      "metadata": {
        "id": "wqK2_hW71BdN"
      },
      "source": [
        "## Logistic Regression"
      ]
    },
    {
      "cell_type": "code",
      "metadata": {
        "id": "tjmrmxhl1AbQ"
      },
      "source": [
        "#logistic regression\n",
        "\n",
        "from sklearn.linear_model import LogisticRegression\n",
        "\n",
        "lr=LogisticRegression(solver = 'liblinear', C=10, penalty = 'l2')\n",
        "#fitting our model\n",
        "lr.fit(X_train_tfidf, y_train) \n",
        "\n",
        "#Predict y value for test dataset\n",
        "y_predict = lr.predict(X_val_tfidf)\n",
        "\n",
        " "
      ],
      "execution_count": null,
      "outputs": []
    },
    {
      "cell_type": "code",
      "metadata": {
        "colab": {
          "base_uri": "https://localhost:8080/"
        },
        "id": "qoFldCJJ2okF",
        "outputId": "961b44eb-c419-4a54-83eb-614806d17e05"
      },
      "source": [
        "#checking metrics for our models accuracy\n",
        "from sklearn.metrics import classification_report, confusion_matrix\n",
        "print(confusion_matrix(y_val, y_predict))\n",
        "print(classification_report(y_val,y_predict))\n",
        "print(np.mean(y_predict == y_val))"
      ],
      "execution_count": null,
      "outputs": [
        {
          "output_type": "stream",
          "text": [
            "[[318  12  13]\n",
            " [ 27 274  32]\n",
            " [ 14  23 277]]\n",
            "              precision    recall  f1-score   support\n",
            "\n",
            "           0       0.89      0.93      0.91       343\n",
            "           1       0.89      0.82      0.85       333\n",
            "           2       0.86      0.88      0.87       314\n",
            "\n",
            "    accuracy                           0.88       990\n",
            "   macro avg       0.88      0.88      0.88       990\n",
            "weighted avg       0.88      0.88      0.88       990\n",
            "\n",
            "0.8777777777777778\n"
          ],
          "name": "stdout"
        }
      ]
    },
    {
      "cell_type": "markdown",
      "metadata": {
        "id": "xXmNxUz52x3p"
      },
      "source": [
        "accuracy 88%"
      ]
    },
    {
      "cell_type": "markdown",
      "metadata": {
        "id": "vJCJ-FOD2A5N"
      },
      "source": [
        "## X_gboost"
      ]
    },
    {
      "cell_type": "code",
      "metadata": {
        "id": "m2yQAKMW2DsE"
      },
      "source": [
        "%%capture\n",
        "!pip install xgboost\n",
        "!pip install --upgrade xgboost"
      ],
      "execution_count": null,
      "outputs": []
    },
    {
      "cell_type": "code",
      "metadata": {
        "colab": {
          "base_uri": "https://localhost:8080/"
        },
        "id": "Ftg9BHQg2jvd",
        "outputId": "32e94fbb-eb5e-44af-c882-c608a101045a"
      },
      "source": [
        "#X_gboost model.\n",
        "from xgboost import XGBClassifier\n",
        "model = XGBClassifier()\n",
        "\n",
        "#training our model\n",
        "model.fit(X_train_tfidf, y_train)\n",
        "\n",
        "#predicting\n",
        "y_predX = model.predict(X_val_tfidf)"
      ],
      "execution_count": null,
      "outputs": [
        {
          "output_type": "stream",
          "text": [
            "/usr/local/lib/python3.7/dist-packages/xgboost/sklearn.py:1146: UserWarning: The use of label encoder in XGBClassifier is deprecated and will be removed in a future release. To remove this warning, do the following: 1) Pass option use_label_encoder=False when constructing XGBClassifier object; and 2) Encode your labels (y) as integers starting with 0, i.e. 0, 1, 2, ..., [num_class - 1].\n",
            "  warnings.warn(label_encoder_deprecation_msg, UserWarning)\n"
          ],
          "name": "stderr"
        },
        {
          "output_type": "stream",
          "text": [
            "[10:45:24] WARNING: ../src/learner.cc:1095: Starting in XGBoost 1.3.0, the default evaluation metric used with the objective 'multi:softprob' was changed from 'merror' to 'mlogloss'. Explicitly set eval_metric if you'd like to restore the old behavior.\n"
          ],
          "name": "stdout"
        }
      ]
    },
    {
      "cell_type": "code",
      "metadata": {
        "colab": {
          "base_uri": "https://localhost:8080/"
        },
        "id": "HMtwP7Uy3eJs",
        "outputId": "58ca0d2d-df44-4998-eb7e-27af1edd0b89"
      },
      "source": [
        "#checking metrics for our models accuracy\n",
        "from sklearn.metrics import classification_report, confusion_matrix\n",
        "print(confusion_matrix(y_val, y_predX))\n",
        "print(classification_report(y_val,y_predX))\n",
        "print(np.mean(y_predX == y_val))"
      ],
      "execution_count": null,
      "outputs": [
        {
          "output_type": "stream",
          "text": [
            "[[317  15  11]\n",
            " [ 33 267  33]\n",
            " [ 24  31 259]]\n",
            "              precision    recall  f1-score   support\n",
            "\n",
            "           0       0.85      0.92      0.88       343\n",
            "           1       0.85      0.80      0.83       333\n",
            "           2       0.85      0.82      0.84       314\n",
            "\n",
            "    accuracy                           0.85       990\n",
            "   macro avg       0.85      0.85      0.85       990\n",
            "weighted avg       0.85      0.85      0.85       990\n",
            "\n",
            "0.8515151515151516\n"
          ],
          "name": "stdout"
        }
      ]
    },
    {
      "cell_type": "markdown",
      "metadata": {
        "id": "CR1fZ0tj3jaK"
      },
      "source": [
        "With X_gboost accuracy of 85%"
      ]
    },
    {
      "cell_type": "code",
      "metadata": {
        "id": "JySEVWJS2xVB"
      },
      "source": [
        ""
      ],
      "execution_count": null,
      "outputs": []
    },
    {
      "cell_type": "markdown",
      "metadata": {
        "id": "19JlQSTe6nS9"
      },
      "source": [
        "## Support Vector Classifier"
      ]
    },
    {
      "cell_type": "code",
      "metadata": {
        "id": "zXfTAfOl6rUe"
      },
      "source": [
        "#Support vector Classification\n",
        "from sklearn.svm import SVC,LinearSVC\n",
        "# Fitting  the model\n",
        "svm = SVC(kernel= 'linear')\n",
        "svm.fit(X_train_tfidf, y_train)\n",
        "\n",
        "#predicting\n",
        "y_pred_svm = svm.predict(X_val_tfidf)"
      ],
      "execution_count": null,
      "outputs": []
    },
    {
      "cell_type": "code",
      "metadata": {
        "colab": {
          "base_uri": "https://localhost:8080/"
        },
        "id": "M2h7Xibg8YmP",
        "outputId": "3cbb17d2-cd22-4fb5-860f-b40968729338"
      },
      "source": [
        "#checking metrics for our models accuracy\n",
        "from sklearn.metrics import classification_report, confusion_matrix\n",
        "print(confusion_matrix(y_val,y_pred_svm))\n",
        "print(classification_report(y_val,y_pred_svm))\n",
        "print(np.mean(y_pred_svm  == y_val))"
      ],
      "execution_count": null,
      "outputs": [
        {
          "output_type": "stream",
          "text": [
            "[[322  10  11]\n",
            " [ 30 274  29]\n",
            " [ 12  23 279]]\n",
            "              precision    recall  f1-score   support\n",
            "\n",
            "           0       0.88      0.94      0.91       343\n",
            "           1       0.89      0.82      0.86       333\n",
            "           2       0.87      0.89      0.88       314\n",
            "\n",
            "    accuracy                           0.88       990\n",
            "   macro avg       0.88      0.88      0.88       990\n",
            "weighted avg       0.88      0.88      0.88       990\n",
            "\n",
            "0.8838383838383839\n"
          ],
          "name": "stdout"
        }
      ]
    },
    {
      "cell_type": "markdown",
      "metadata": {
        "id": "ZOqr7x8D8msR"
      },
      "source": [
        "88% percentage accuracy."
      ]
    },
    {
      "cell_type": "markdown",
      "metadata": {
        "id": "vjMc2mLF8uBB"
      },
      "source": [
        "## Naive bayes"
      ]
    },
    {
      "cell_type": "code",
      "metadata": {
        "id": "iJvB5Dr28xHy"
      },
      "source": [
        "#Naive bayes Multinomial.\n",
        "# Training our model\n",
        "from sklearn.naive_bayes import MultinomialNB  \n",
        "mn= MultinomialNB().fit(X_train_tfidf, y_train)\n",
        "\n",
        "# Predicting our test predictors\n",
        "y_pred_mn = mn.predict(X_val_tfidf)"
      ],
      "execution_count": null,
      "outputs": []
    },
    {
      "cell_type": "code",
      "metadata": {
        "colab": {
          "base_uri": "https://localhost:8080/"
        },
        "id": "5v-sZGgP-mWd",
        "outputId": "29e2bf6c-0131-4797-c40a-bf32ce2bd446"
      },
      "source": [
        "#checking metrics for our models accuracy\n",
        "from sklearn.metrics import classification_report, confusion_matrix\n",
        "print(confusion_matrix(y_val,y_pred_mn ))\n",
        "print(classification_report(y_val,y_pred_mn ))\n",
        "print(np.mean(y_pred_mn  == y_val))"
      ],
      "execution_count": null,
      "outputs": [
        {
          "output_type": "stream",
          "text": [
            "[[303  16  24]\n",
            " [ 26 242  65]\n",
            " [  9  26 279]]\n",
            "              precision    recall  f1-score   support\n",
            "\n",
            "           0       0.90      0.88      0.89       343\n",
            "           1       0.85      0.73      0.78       333\n",
            "           2       0.76      0.89      0.82       314\n",
            "\n",
            "    accuracy                           0.83       990\n",
            "   macro avg       0.84      0.83      0.83       990\n",
            "weighted avg       0.84      0.83      0.83       990\n",
            "\n",
            "0.8323232323232324\n"
          ],
          "name": "stdout"
        }
      ]
    },
    {
      "cell_type": "code",
      "metadata": {
        "id": "4-hmjll5-kF3"
      },
      "source": [
        ""
      ],
      "execution_count": null,
      "outputs": []
    }
  ]
}