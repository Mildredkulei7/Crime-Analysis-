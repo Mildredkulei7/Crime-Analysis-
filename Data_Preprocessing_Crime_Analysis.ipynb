{
  "nbformat": 4,
  "nbformat_minor": 0,
  "metadata": {
    "colab": {
      "name": "Data_Preprocessing_Crime_Analysis.ipynb",
      "provenance": [],
      "collapsed_sections": [],
      "include_colab_link": true
    },
    "kernelspec": {
      "name": "python3",
      "display_name": "Python 3"
    },
    "language_info": {
      "name": "python"
    }
  },
  "cells": [
    {
      "cell_type": "markdown",
      "metadata": {
        "id": "view-in-github",
        "colab_type": "text"
      },
      "source": [
        "<a href=\"https://colab.research.google.com/github/Mildredkulei7/Crime-Analysis-/blob/Data-Preprocessing/Data_Preprocessing_Crime_Analysis.ipynb\" target=\"_parent\"><img src=\"https://colab.research.google.com/assets/colab-badge.svg\" alt=\"Open In Colab\"/></a>"
      ]
    },
    {
      "cell_type": "markdown",
      "metadata": {
        "id": "xMxtPsqcTsSH"
      },
      "source": [
        "# Overview"
      ]
    },
    {
      "cell_type": "code",
      "metadata": {
        "colab": {
          "base_uri": "https://localhost:8080/"
        },
        "id": "8TuHUwT5lVss",
        "outputId": "e5ed11d9-ef34-46b9-9776-015fce098272"
      },
      "source": [
        "from google.colab import drive\n",
        "drive.mount('/content/drive')"
      ],
      "execution_count": null,
      "outputs": [
        {
          "output_type": "stream",
          "text": [
            "Drive already mounted at /content/drive; to attempt to forcibly remount, call drive.mount(\"/content/drive\", force_remount=True).\n"
          ],
          "name": "stdout"
        }
      ]
    },
    {
      "cell_type": "markdown",
      "metadata": {
        "id": "kLG2VTrnTvYL"
      },
      "source": [
        "## 1. Defining the Question"
      ]
    },
    {
      "cell_type": "markdown",
      "metadata": {
        "id": "XecOwPNorl2W"
      },
      "source": [
        "### a) Specifying the Data Analytic Question"
      ]
    },
    {
      "cell_type": "markdown",
      "metadata": {
        "id": "9ozBnKfehSAw"
      },
      "source": [
        ""
      ]
    },
    {
      "cell_type": "markdown",
      "metadata": {
        "id": "J4wfHZwQrs-t"
      },
      "source": [
        "### b) Defining the Metric for Success"
      ]
    },
    {
      "cell_type": "markdown",
      "metadata": {
        "id": "yk0I9xFHRmWV"
      },
      "source": [
        ""
      ]
    },
    {
      "cell_type": "markdown",
      "metadata": {
        "id": "a9BPYqunry97"
      },
      "source": [
        "### c) Understanding the context "
      ]
    },
    {
      "cell_type": "markdown",
      "metadata": {
        "id": "7KMRBJ7zr9HD"
      },
      "source": [
        "### d) Recording the Experimental Design"
      ]
    },
    {
      "cell_type": "markdown",
      "metadata": {
        "id": "EuPqSQY9R_4r"
      },
      "source": [
        "* 1.Defining the question \n",
        "* 2.Importing the libraries \n",
        "* 3.Reading the data \n",
        "* 4.Data preprocessing \n",
        "* 5.Exploratory data analysis(Biveriate summaries) \n",
        "* 6.Model creation \n",
        "* 7.Implementing solution \n",
        "* 8.Challenging solution"
      ]
    },
    {
      "cell_type": "markdown",
      "metadata": {
        "id": "iUNbvIvnT7ep"
      },
      "source": [
        "## 2. Reading the Data"
      ]
    },
    {
      "cell_type": "code",
      "metadata": {
        "id": "gDjYP0SkTEKa",
        "colab": {
          "base_uri": "https://localhost:8080/"
        },
        "outputId": "6c8b9f1a-55b3-4a23-8c98-a8551fb65876"
      },
      "source": [
        "#Importing the libraries\n",
        "import pandas as pd\n",
        "import numpy as np\n",
        "import matplotlib.pyplot as plt\n",
        "import seaborn as sns\n",
        " \n",
        "from sklearn.model_selection import train_test_split\n",
        "from sklearn import metrics\n",
        "from sklearn.metrics import  accuracy_score\n",
        "from sklearn.metrics import confusion_matrix\n",
        "from sklearn.metrics import r2_score\n",
        "from sklearn.preprocessing import StandardScaler\n",
        "from sklearn.neighbors import KNeighborsClassifier\n",
        "from sklearn.metrics import classification_report\n",
        "from sklearn.discriminant_analysis import LinearDiscriminantAnalysis as LDA\n",
        "from sklearn.metrics.pairwise import cosine_similarity\n",
        "import heapq\n",
        "from collections import Counter\n",
        "from nltk.corpus import stopwords\n",
        "from nltk.util import ngrams\n",
        "from sklearn.feature_extraction.text import CountVectorizer\n",
        "from collections import defaultdict\n",
        "from collections import  Counter\n",
        "plt.style.use('ggplot')\n",
        "import re\n",
        "from nltk.tokenize import word_tokenize\n",
        "import gensim\n",
        "import string\n",
        "from keras.preprocessing.text import Tokenizer\n",
        "from keras.preprocessing.sequence import pad_sequences\n",
        "from tqdm import tqdm\n",
        "from keras.models import Sequential\n",
        "from keras.layers import Embedding,LSTM,Dense,SpatialDropout1D\n",
        "from keras.initializers import Constant\n",
        "from sklearn.model_selection import train_test_split\n",
        "from keras.optimizers import Adam\n",
        "import pandas as pd\n",
        "import numpy as np\n",
        " \n",
        "from sklearn.model_selection import train_test_split\n",
        "from sklearn.preprocessing import LabelEncoder\n",
        "from sklearn.metrics import confusion_matrix, classification_report\n",
        " \n",
        "import matplotlib.pyplot as plt\n",
        " \n",
        "from keras.preprocessing.text import Tokenizer\n",
        "from keras.preprocessing.sequence import pad_sequences\n",
        "from keras.utils import np_utils\n",
        "from keras.models import Sequential\n",
        "from keras import layers\n",
        "from keras.wrappers.scikit_learn import KerasClassifier\n",
        " \n",
        "from sklearn import metrics\n",
        "import sklearn.metrics as metrics\n",
        "from sklearn.ensemble import RandomForestClassifier\n",
        "from sklearn.ensemble import AdaBoostClassifier\n",
        "from sklearn.ensemble import GradientBoostingClassifier\n",
        "from sklearn.svm import SVC,LinearSVC\n",
        "\n",
        "#for text pre-processing\n",
        "import re, string\n",
        "import nltk\n",
        "from nltk.tokenize import word_tokenize\n",
        "from nltk.corpus import stopwords\n",
        "from nltk.tokenize import word_tokenize\n",
        "from nltk.stem import SnowballStemmer\n",
        "from nltk.corpus import wordnet\n",
        "from nltk.stem import WordNetLemmatizer\n",
        "nltk.download('punkt')\n",
        "nltk.download('averaged_perceptron_tagger')\n",
        "nltk.download('wordnet')\n",
        "#for model-building\n",
        "from sklearn.model_selection import train_test_split\n",
        "from sklearn.linear_model import LogisticRegression\n",
        "from sklearn.naive_bayes import MultinomialNB\n",
        "from sklearn.metrics import classification_report, f1_score, accuracy_score, confusion_matrix\n",
        "from sklearn.metrics import roc_curve, auc, roc_auc_score\n",
        "# bag of words\n",
        "from sklearn.feature_extraction.text import TfidfVectorizer\n",
        "from sklearn.feature_extraction.text import CountVectorizer\n",
        "#for word embedding\n",
        "import gensim\n",
        "from gensim.models import Word2Vec"
      ],
      "execution_count": null,
      "outputs": [
        {
          "output_type": "stream",
          "text": [
            "[nltk_data] Downloading package punkt to /root/nltk_data...\n",
            "[nltk_data]   Package punkt is already up-to-date!\n",
            "[nltk_data] Downloading package averaged_perceptron_tagger to\n",
            "[nltk_data]     /root/nltk_data...\n",
            "[nltk_data]   Package averaged_perceptron_tagger is already up-to-\n",
            "[nltk_data]       date!\n",
            "[nltk_data] Downloading package wordnet to /root/nltk_data...\n",
            "[nltk_data]   Package wordnet is already up-to-date!\n"
          ],
          "name": "stdout"
        }
      ]
    },
    {
      "cell_type": "code",
      "metadata": {
        "id": "XJn2KjW-WMlG"
      },
      "source": [
        "# Loading the Data from the source i.e. csv\n",
        "# ---\n",
        "police_brutality= pd.read_csv('/content/drive/MyDrive/GROUP 2/CSVfiles2/PoliceBrutality-2.csv')\n",
        "\n",
        "corruption= pd.read_csv('/content/drive/MyDrive/GROUP 2/CSVfiles2/corruption (2).csv')\n",
        "\n",
        "murder =pd.read_csv('/content/drive/MyDrive/GROUP 2/CSVfiles2/murder-2.csv')"
      ],
      "execution_count": null,
      "outputs": []
    },
    {
      "cell_type": "code",
      "metadata": {
        "id": "4PWO2arDTuGN",
        "colab": {
          "base_uri": "https://localhost:8080/",
          "height": 503
        },
        "outputId": "f10e381c-bf9b-4dc6-8db5-eda7b4dce9a2"
      },
      "source": [
        "#checking the top of our dataset\n",
        "\n",
        "police_brutality.head()"
      ],
      "execution_count": null,
      "outputs": [
        {
          "output_type": "execute_result",
          "data": {
            "text/html": [
              "<div>\n",
              "<style scoped>\n",
              "    .dataframe tbody tr th:only-of-type {\n",
              "        vertical-align: middle;\n",
              "    }\n",
              "\n",
              "    .dataframe tbody tr th {\n",
              "        vertical-align: top;\n",
              "    }\n",
              "\n",
              "    .dataframe thead th {\n",
              "        text-align: right;\n",
              "    }\n",
              "</style>\n",
              "<table border=\"1\" class=\"dataframe\">\n",
              "  <thead>\n",
              "    <tr style=\"text-align: right;\">\n",
              "      <th></th>\n",
              "      <th>Unnamed: 0</th>\n",
              "      <th>user</th>\n",
              "      <th>tweet</th>\n",
              "      <th>location</th>\n",
              "      <th>description</th>\n",
              "      <th>friends_count</th>\n",
              "      <th>followers_count</th>\n",
              "      <th>statuses_count</th>\n",
              "      <th>created_at</th>\n",
              "      <th>retweet_count</th>\n",
              "      <th>hashtags</th>\n",
              "      <th>label</th>\n",
              "    </tr>\n",
              "  </thead>\n",
              "  <tbody>\n",
              "    <tr>\n",
              "      <th>0</th>\n",
              "      <td>0</td>\n",
              "      <td>MuchangiNyaga5</td>\n",
              "      <td>@MathareSJustice @wanjirunjira @UhaiWetu @gach...</td>\n",
              "      <td>Nairobi, Kenya</td>\n",
              "      <td>NaN</td>\n",
              "      <td>37</td>\n",
              "      <td>0</td>\n",
              "      <td>2</td>\n",
              "      <td>8/17/2021 8:59</td>\n",
              "      <td>0</td>\n",
              "      <td>[]</td>\n",
              "      <td>police brutality</td>\n",
              "    </tr>\n",
              "    <tr>\n",
              "      <th>1</th>\n",
              "      <td>1</td>\n",
              "      <td>jmkariuki24</td>\n",
              "      <td>It is not easy being a young person in this co...</td>\n",
              "      <td>Nairobi, Kenya</td>\n",
              "      <td>Evidence enthusiast with a passion for advanci...</td>\n",
              "      <td>8979</td>\n",
              "      <td>12175</td>\n",
              "      <td>276</td>\n",
              "      <td>8/17/2021 8:52</td>\n",
              "      <td>0</td>\n",
              "      <td>[]</td>\n",
              "      <td>police brutality</td>\n",
              "    </tr>\n",
              "    <tr>\n",
              "      <th>2</th>\n",
              "      <td>2</td>\n",
              "      <td>FlavionsKimani</td>\n",
              "      <td>You come to voters begging for votes, yet none...</td>\n",
              "      <td>Nairobi Kenya</td>\n",
              "      <td>MUFC die hard,Opinions are my own #mufcfan,#mu...</td>\n",
              "      <td>1310</td>\n",
              "      <td>1561</td>\n",
              "      <td>66764</td>\n",
              "      <td>8/17/2021 8:48</td>\n",
              "      <td>0</td>\n",
              "      <td>[]</td>\n",
              "      <td>police brutality</td>\n",
              "    </tr>\n",
              "    <tr>\n",
              "      <th>3</th>\n",
              "      <td>3</td>\n",
              "      <td>nyamu_dickson</td>\n",
              "      <td>It would be wise if we have bloggers with cont...</td>\n",
              "      <td>Nairobi, Kenya</td>\n",
              "      <td>Love politics, sportsman (martial arts&amp;footbal...</td>\n",
              "      <td>356</td>\n",
              "      <td>338</td>\n",
              "      <td>2578</td>\n",
              "      <td>8/17/2021 7:45</td>\n",
              "      <td>0</td>\n",
              "      <td>[]</td>\n",
              "      <td>police brutality</td>\n",
              "    </tr>\n",
              "    <tr>\n",
              "      <th>4</th>\n",
              "      <td>4</td>\n",
              "      <td>prings_ke</td>\n",
              "      <td>Before you vote, ask your candidates what they...</td>\n",
              "      <td>Thika, Kenya</td>\n",
              "      <td>Love one, love all.</td>\n",
              "      <td>382</td>\n",
              "      <td>1926</td>\n",
              "      <td>2529</td>\n",
              "      <td>8/17/2021 7:44</td>\n",
              "      <td>3</td>\n",
              "      <td>[]</td>\n",
              "      <td>police brutality</td>\n",
              "    </tr>\n",
              "  </tbody>\n",
              "</table>\n",
              "</div>"
            ],
            "text/plain": [
              "   Unnamed: 0            user  ... hashtags             label\n",
              "0           0  MuchangiNyaga5  ...       []  police brutality\n",
              "1           1     jmkariuki24  ...       []  police brutality\n",
              "2           2  FlavionsKimani  ...       []  police brutality\n",
              "3           3   nyamu_dickson  ...       []  police brutality\n",
              "4           4       prings_ke  ...       []  police brutality\n",
              "\n",
              "[5 rows x 12 columns]"
            ]
          },
          "metadata": {
            "tags": []
          },
          "execution_count": 130
        }
      ]
    },
    {
      "cell_type": "code",
      "metadata": {
        "colab": {
          "base_uri": "https://localhost:8080/",
          "height": 469
        },
        "id": "-zscNxeink9Y",
        "outputId": "2120051b-36e0-4696-a5e2-1a108c68602b"
      },
      "source": [
        "corruption.head()"
      ],
      "execution_count": null,
      "outputs": [
        {
          "output_type": "execute_result",
          "data": {
            "text/html": [
              "<div>\n",
              "<style scoped>\n",
              "    .dataframe tbody tr th:only-of-type {\n",
              "        vertical-align: middle;\n",
              "    }\n",
              "\n",
              "    .dataframe tbody tr th {\n",
              "        vertical-align: top;\n",
              "    }\n",
              "\n",
              "    .dataframe thead th {\n",
              "        text-align: right;\n",
              "    }\n",
              "</style>\n",
              "<table border=\"1\" class=\"dataframe\">\n",
              "  <thead>\n",
              "    <tr style=\"text-align: right;\">\n",
              "      <th></th>\n",
              "      <th>Unnamed: 0</th>\n",
              "      <th>user</th>\n",
              "      <th>tweet</th>\n",
              "      <th>location</th>\n",
              "      <th>description</th>\n",
              "      <th>friends_count</th>\n",
              "      <th>followers_count</th>\n",
              "      <th>statuses_count</th>\n",
              "      <th>created_at</th>\n",
              "      <th>retweet_count</th>\n",
              "      <th>hashtags</th>\n",
              "      <th>label</th>\n",
              "    </tr>\n",
              "  </thead>\n",
              "  <tbody>\n",
              "    <tr>\n",
              "      <th>0</th>\n",
              "      <td>0</td>\n",
              "      <td>akwala08</td>\n",
              "      <td>People often think corruption is a way of life...</td>\n",
              "      <td>Nairobi</td>\n",
              "      <td>NaN</td>\n",
              "      <td>10</td>\n",
              "      <td>20</td>\n",
              "      <td>2</td>\n",
              "      <td>8/17/2021 9:38</td>\n",
              "      <td>0</td>\n",
              "      <td>[]</td>\n",
              "      <td>corruption</td>\n",
              "    </tr>\n",
              "    <tr>\n",
              "      <th>1</th>\n",
              "      <td>1</td>\n",
              "      <td>skasande2</td>\n",
              "      <td>We welcome the decision to host Afghani refuge...</td>\n",
              "      <td>Kampala, Uganda</td>\n",
              "      <td>Motorsport and human rights. #TeamLH</td>\n",
              "      <td>1284</td>\n",
              "      <td>1507</td>\n",
              "      <td>23002</td>\n",
              "      <td>8/17/2021 9:34</td>\n",
              "      <td>0</td>\n",
              "      <td>[]</td>\n",
              "      <td>corruption</td>\n",
              "    </tr>\n",
              "    <tr>\n",
              "      <th>2</th>\n",
              "      <td>2</td>\n",
              "      <td>GunnerAfrican</td>\n",
              "      <td>@citizentvkenya Raila Odinga supported the Gov...</td>\n",
              "      <td>Nairobi</td>\n",
              "      <td>HustlerTV on Youtube for the latest about the ...</td>\n",
              "      <td>408</td>\n",
              "      <td>1126</td>\n",
              "      <td>32671</td>\n",
              "      <td>8/17/2021 9:26</td>\n",
              "      <td>0</td>\n",
              "      <td>[]</td>\n",
              "      <td>corruption</td>\n",
              "    </tr>\n",
              "    <tr>\n",
              "      <th>3</th>\n",
              "      <td>3</td>\n",
              "      <td>Kevowinston_ke</td>\n",
              "      <td>@Ugaman01 In Kenya whatever we have is just co...</td>\n",
              "      <td>Kilifi Kenya</td>\n",
              "      <td>Introvert☺\\nStudent @PU_kilifi\\nGod First 💖\\nF...</td>\n",
              "      <td>3889</td>\n",
              "      <td>1702</td>\n",
              "      <td>1052</td>\n",
              "      <td>8/17/2021 9:21</td>\n",
              "      <td>0</td>\n",
              "      <td>[]</td>\n",
              "      <td>corruption</td>\n",
              "    </tr>\n",
              "    <tr>\n",
              "      <th>4</th>\n",
              "      <td>4</td>\n",
              "      <td>khumsalaba</td>\n",
              "      <td>@FGoloobaMutebi @FGoloobaMutebi Kenyans have s...</td>\n",
              "      <td>Dar es Salaam, Tanzania</td>\n",
              "      <td>Maintenant, Moïse était un homme très humble, ...</td>\n",
              "      <td>2295</td>\n",
              "      <td>550</td>\n",
              "      <td>950</td>\n",
              "      <td>8/17/2021 9:04</td>\n",
              "      <td>0</td>\n",
              "      <td>[]</td>\n",
              "      <td>corruption</td>\n",
              "    </tr>\n",
              "  </tbody>\n",
              "</table>\n",
              "</div>"
            ],
            "text/plain": [
              "   Unnamed: 0            user  ... hashtags       label\n",
              "0           0        akwala08  ...       []  corruption\n",
              "1           1       skasande2  ...       []  corruption\n",
              "2           2   GunnerAfrican  ...       []  corruption\n",
              "3           3  Kevowinston_ke  ...       []  corruption\n",
              "4           4      khumsalaba  ...       []  corruption\n",
              "\n",
              "[5 rows x 12 columns]"
            ]
          },
          "metadata": {
            "tags": []
          },
          "execution_count": 131
        }
      ]
    },
    {
      "cell_type": "code",
      "metadata": {
        "colab": {
          "base_uri": "https://localhost:8080/",
          "height": 521
        },
        "id": "gOADKPNYnzPO",
        "outputId": "43f43efa-e9e5-4df0-e92a-5849259d0ca4"
      },
      "source": [
        "murder.head()"
      ],
      "execution_count": null,
      "outputs": [
        {
          "output_type": "execute_result",
          "data": {
            "text/html": [
              "<div>\n",
              "<style scoped>\n",
              "    .dataframe tbody tr th:only-of-type {\n",
              "        vertical-align: middle;\n",
              "    }\n",
              "\n",
              "    .dataframe tbody tr th {\n",
              "        vertical-align: top;\n",
              "    }\n",
              "\n",
              "    .dataframe thead th {\n",
              "        text-align: right;\n",
              "    }\n",
              "</style>\n",
              "<table border=\"1\" class=\"dataframe\">\n",
              "  <thead>\n",
              "    <tr style=\"text-align: right;\">\n",
              "      <th></th>\n",
              "      <th>Unnamed: 0</th>\n",
              "      <th>user</th>\n",
              "      <th>tweet</th>\n",
              "      <th>location</th>\n",
              "      <th>description</th>\n",
              "      <th>friends_count</th>\n",
              "      <th>followers_count</th>\n",
              "      <th>statuses_count</th>\n",
              "      <th>created_at</th>\n",
              "      <th>retweet_count</th>\n",
              "      <th>hashtags</th>\n",
              "      <th>label</th>\n",
              "    </tr>\n",
              "  </thead>\n",
              "  <tbody>\n",
              "    <tr>\n",
              "      <th>0</th>\n",
              "      <td>0</td>\n",
              "      <td>ValAbraham2</td>\n",
              "      <td>@Theo_mwangi @DCI_Kenya The man should be jail...</td>\n",
              "      <td>Kenya</td>\n",
              "      <td>Kiongos 🇰🇪</td>\n",
              "      <td>2596</td>\n",
              "      <td>1682</td>\n",
              "      <td>10716</td>\n",
              "      <td>8/17/2021 8:36</td>\n",
              "      <td>0</td>\n",
              "      <td>[]</td>\n",
              "      <td>murder</td>\n",
              "    </tr>\n",
              "    <tr>\n",
              "      <th>1</th>\n",
              "      <td>1</td>\n",
              "      <td>ugnews24</td>\n",
              "      <td>DCI arrests prime suspect in grisly murder of ...</td>\n",
              "      <td>Kampala - Uganda</td>\n",
              "      <td>Your number one source of breaking news from K...</td>\n",
              "      <td>411</td>\n",
              "      <td>561</td>\n",
              "      <td>72656</td>\n",
              "      <td>8/17/2021 8:35</td>\n",
              "      <td>0</td>\n",
              "      <td>[{'text': 'UGNEWS24', 'indices': [81, 90]}]</td>\n",
              "      <td>murder</td>\n",
              "    </tr>\n",
              "    <tr>\n",
              "      <th>2</th>\n",
              "      <td>2</td>\n",
              "      <td>alom1807</td>\n",
              "      <td>@TheStarKenya After he serves his term for murder</td>\n",
              "      <td>Nairobi, Kenya</td>\n",
              "      <td>Dad to Hussein &amp; Farid | Video Producer | Tech...</td>\n",
              "      <td>1393</td>\n",
              "      <td>646</td>\n",
              "      <td>17102</td>\n",
              "      <td>8/17/2021 8:35</td>\n",
              "      <td>0</td>\n",
              "      <td>[]</td>\n",
              "      <td>murder</td>\n",
              "    </tr>\n",
              "    <tr>\n",
              "      <th>3</th>\n",
              "      <td>3</td>\n",
              "      <td>Informer_ke</td>\n",
              "      <td>DPP orders arrest, prefer murder charges again...</td>\n",
              "      <td>Nairobi, Kenya</td>\n",
              "      <td>It is our job to #GoThere and tell the most di...</td>\n",
              "      <td>13051</td>\n",
              "      <td>18544</td>\n",
              "      <td>15385</td>\n",
              "      <td>8/17/2021 8:35</td>\n",
              "      <td>0</td>\n",
              "      <td>[]</td>\n",
              "      <td>murder</td>\n",
              "    </tr>\n",
              "    <tr>\n",
              "      <th>4</th>\n",
              "      <td>4</td>\n",
              "      <td>kenyan_digest</td>\n",
              "      <td>DCI officers arrest prime suspect behind murde...</td>\n",
              "      <td>Nairobi, Kenya</td>\n",
              "      <td>News  on Politics, Entertainment, News Alerts ...</td>\n",
              "      <td>0</td>\n",
              "      <td>2837</td>\n",
              "      <td>316467</td>\n",
              "      <td>8/17/2021 8:30</td>\n",
              "      <td>0</td>\n",
              "      <td>[]</td>\n",
              "      <td>murder</td>\n",
              "    </tr>\n",
              "  </tbody>\n",
              "</table>\n",
              "</div>"
            ],
            "text/plain": [
              "   Unnamed: 0  ...   label\n",
              "0           0  ...  murder\n",
              "1           1  ...  murder\n",
              "2           2  ...  murder\n",
              "3           3  ...  murder\n",
              "4           4  ...  murder\n",
              "\n",
              "[5 rows x 12 columns]"
            ]
          },
          "metadata": {
            "tags": []
          },
          "execution_count": 132
        }
      ]
    },
    {
      "cell_type": "code",
      "metadata": {
        "colab": {
          "base_uri": "https://localhost:8080/",
          "height": 521
        },
        "id": "kYssKpJroLDa",
        "outputId": "f5444061-8b4d-42f2-be68-0893c371abea"
      },
      "source": [
        "#checking the tail\n",
        "police_brutality.tail()"
      ],
      "execution_count": null,
      "outputs": [
        {
          "output_type": "execute_result",
          "data": {
            "text/html": [
              "<div>\n",
              "<style scoped>\n",
              "    .dataframe tbody tr th:only-of-type {\n",
              "        vertical-align: middle;\n",
              "    }\n",
              "\n",
              "    .dataframe tbody tr th {\n",
              "        vertical-align: top;\n",
              "    }\n",
              "\n",
              "    .dataframe thead th {\n",
              "        text-align: right;\n",
              "    }\n",
              "</style>\n",
              "<table border=\"1\" class=\"dataframe\">\n",
              "  <thead>\n",
              "    <tr style=\"text-align: right;\">\n",
              "      <th></th>\n",
              "      <th>Unnamed: 0</th>\n",
              "      <th>user</th>\n",
              "      <th>tweet</th>\n",
              "      <th>location</th>\n",
              "      <th>description</th>\n",
              "      <th>friends_count</th>\n",
              "      <th>followers_count</th>\n",
              "      <th>statuses_count</th>\n",
              "      <th>created_at</th>\n",
              "      <th>retweet_count</th>\n",
              "      <th>hashtags</th>\n",
              "      <th>label</th>\n",
              "    </tr>\n",
              "  </thead>\n",
              "  <tbody>\n",
              "    <tr>\n",
              "      <th>995</th>\n",
              "      <td>995</td>\n",
              "      <td>Methu_junia</td>\n",
              "      <td>Can we now sgow this numbers against victims o...</td>\n",
              "      <td>Nairobi,kenya</td>\n",
              "      <td>Nothing constructive to see here💀</td>\n",
              "      <td>1001</td>\n",
              "      <td>222</td>\n",
              "      <td>3527</td>\n",
              "      <td>8/13/2021 5:34</td>\n",
              "      <td>0</td>\n",
              "      <td>[]</td>\n",
              "      <td>police brutality</td>\n",
              "    </tr>\n",
              "    <tr>\n",
              "      <th>996</th>\n",
              "      <td>996</td>\n",
              "      <td>davidkimwele</td>\n",
              "      <td>@DCI_Kenya You're not distracting us from this...</td>\n",
              "      <td>Arusha, Tanzania</td>\n",
              "      <td>Independence of thought. Seeing the big pictur...</td>\n",
              "      <td>1244</td>\n",
              "      <td>719</td>\n",
              "      <td>10084</td>\n",
              "      <td>8/13/2021 5:31</td>\n",
              "      <td>14</td>\n",
              "      <td>[]</td>\n",
              "      <td>police brutality</td>\n",
              "    </tr>\n",
              "    <tr>\n",
              "      <th>997</th>\n",
              "      <td>997</td>\n",
              "      <td>benjabali</td>\n",
              "      <td>I Now See The Reason why at some Point Police ...</td>\n",
              "      <td>Nairobi, Kenya</td>\n",
              "      <td>Just Simple..Just Bennie..Just Me  💫</td>\n",
              "      <td>10789</td>\n",
              "      <td>15153</td>\n",
              "      <td>34111</td>\n",
              "      <td>8/13/2021 5:07</td>\n",
              "      <td>10</td>\n",
              "      <td>[]</td>\n",
              "      <td>police brutality</td>\n",
              "    </tr>\n",
              "    <tr>\n",
              "      <th>998</th>\n",
              "      <td>998</td>\n",
              "      <td>TeiMutuku</td>\n",
              "      <td>@citizentvkenya  @ntvkenya  @KTNNewsKE \\nIt'd ...</td>\n",
              "      <td>Nyeri, Kenya</td>\n",
              "      <td>I am my tweets,and more😄\\nhttps://t.co/htaTXkVzR1</td>\n",
              "      <td>788</td>\n",
              "      <td>3751</td>\n",
              "      <td>8271</td>\n",
              "      <td>8/13/2021 5:01</td>\n",
              "      <td>0</td>\n",
              "      <td>[]</td>\n",
              "      <td>police brutality</td>\n",
              "    </tr>\n",
              "    <tr>\n",
              "      <th>999</th>\n",
              "      <td>999</td>\n",
              "      <td>DenisGitari12</td>\n",
              "      <td>It's about time to end police brutality throug...</td>\n",
              "      <td>Nairobi, Kenya</td>\n",
              "      <td>NaN</td>\n",
              "      <td>954</td>\n",
              "      <td>149</td>\n",
              "      <td>1478</td>\n",
              "      <td>8/13/2021 4:51</td>\n",
              "      <td>0</td>\n",
              "      <td>[{'text': 'KianjokomaBrothers', 'indices': [86...</td>\n",
              "      <td>police brutality</td>\n",
              "    </tr>\n",
              "  </tbody>\n",
              "</table>\n",
              "</div>"
            ],
            "text/plain": [
              "     Unnamed: 0  ...             label\n",
              "995         995  ...  police brutality\n",
              "996         996  ...  police brutality\n",
              "997         997  ...  police brutality\n",
              "998         998  ...  police brutality\n",
              "999         999  ...  police brutality\n",
              "\n",
              "[5 rows x 12 columns]"
            ]
          },
          "metadata": {
            "tags": []
          },
          "execution_count": 133
        }
      ]
    },
    {
      "cell_type": "code",
      "metadata": {
        "colab": {
          "base_uri": "https://localhost:8080/",
          "height": 503
        },
        "id": "4ILOlSWSoeTQ",
        "outputId": "b1eeb8dd-12c9-4cc6-c5a3-4dc42b17e453"
      },
      "source": [
        "corruption.tail()"
      ],
      "execution_count": null,
      "outputs": [
        {
          "output_type": "execute_result",
          "data": {
            "text/html": [
              "<div>\n",
              "<style scoped>\n",
              "    .dataframe tbody tr th:only-of-type {\n",
              "        vertical-align: middle;\n",
              "    }\n",
              "\n",
              "    .dataframe tbody tr th {\n",
              "        vertical-align: top;\n",
              "    }\n",
              "\n",
              "    .dataframe thead th {\n",
              "        text-align: right;\n",
              "    }\n",
              "</style>\n",
              "<table border=\"1\" class=\"dataframe\">\n",
              "  <thead>\n",
              "    <tr style=\"text-align: right;\">\n",
              "      <th></th>\n",
              "      <th>Unnamed: 0</th>\n",
              "      <th>user</th>\n",
              "      <th>tweet</th>\n",
              "      <th>location</th>\n",
              "      <th>description</th>\n",
              "      <th>friends_count</th>\n",
              "      <th>followers_count</th>\n",
              "      <th>statuses_count</th>\n",
              "      <th>created_at</th>\n",
              "      <th>retweet_count</th>\n",
              "      <th>hashtags</th>\n",
              "      <th>label</th>\n",
              "    </tr>\n",
              "  </thead>\n",
              "  <tbody>\n",
              "    <tr>\n",
              "      <th>995</th>\n",
              "      <td>995</td>\n",
              "      <td>ErickOtienoMang</td>\n",
              "      <td>Uhuru, pawns hunger-torture impunity; Judiciar...</td>\n",
              "      <td>Kenya</td>\n",
              "      <td>A global citizen in The Kenyan Arena embracing...</td>\n",
              "      <td>1488</td>\n",
              "      <td>595</td>\n",
              "      <td>30411</td>\n",
              "      <td>8/13/2021 17:08</td>\n",
              "      <td>0</td>\n",
              "      <td>[]</td>\n",
              "      <td>corruption</td>\n",
              "    </tr>\n",
              "    <tr>\n",
              "      <th>996</th>\n",
              "      <td>996</td>\n",
              "      <td>jeoges2</td>\n",
              "      <td>@danaceda @OliverMathenge How I wish they coul...</td>\n",
              "      <td>Nairobi, Kenya</td>\n",
              "      <td>NaN</td>\n",
              "      <td>2280</td>\n",
              "      <td>298</td>\n",
              "      <td>968</td>\n",
              "      <td>8/13/2021 16:57</td>\n",
              "      <td>0</td>\n",
              "      <td>[]</td>\n",
              "      <td>corruption</td>\n",
              "    </tr>\n",
              "    <tr>\n",
              "      <th>997</th>\n",
              "      <td>997</td>\n",
              "      <td>the_oilmann</td>\n",
              "      <td>Same way the govt here has been much more succ...</td>\n",
              "      <td>Kampala, Uganda</td>\n",
              "      <td>PanAfrican\\n\\nPetroleum geophysics\\n\\nStrange,...</td>\n",
              "      <td>683</td>\n",
              "      <td>450</td>\n",
              "      <td>565</td>\n",
              "      <td>8/13/2021 16:55</td>\n",
              "      <td>0</td>\n",
              "      <td>[]</td>\n",
              "      <td>corruption</td>\n",
              "    </tr>\n",
              "    <tr>\n",
              "      <th>998</th>\n",
              "      <td>998</td>\n",
              "      <td>johngithongo</td>\n",
              "      <td>MUKAMI, ATELLAH, ZALAN &amp;amp; NAMU - Kenya: Ins...</td>\n",
              "      <td>Nairobi, Kenya</td>\n",
              "      <td>CEO Inuka Kenya Ltd (by guarantee) https://t.c...</td>\n",
              "      <td>14013</td>\n",
              "      <td>286155</td>\n",
              "      <td>12384</td>\n",
              "      <td>8/13/2021 16:51</td>\n",
              "      <td>11</td>\n",
              "      <td>[]</td>\n",
              "      <td>corruption</td>\n",
              "    </tr>\n",
              "    <tr>\n",
              "      <th>999</th>\n",
              "      <td>999</td>\n",
              "      <td>Bilykemb</td>\n",
              "      <td>@FredMatiangi Stop lying day time. I used to r...</td>\n",
              "      <td>Mombasa</td>\n",
              "      <td>The greatest gift God gave to us is Life!! So ...</td>\n",
              "      <td>362</td>\n",
              "      <td>101</td>\n",
              "      <td>284</td>\n",
              "      <td>8/13/2021 16:50</td>\n",
              "      <td>0</td>\n",
              "      <td>[]</td>\n",
              "      <td>corruption</td>\n",
              "    </tr>\n",
              "  </tbody>\n",
              "</table>\n",
              "</div>"
            ],
            "text/plain": [
              "     Unnamed: 0             user  ... hashtags       label\n",
              "995         995  ErickOtienoMang  ...       []  corruption\n",
              "996         996          jeoges2  ...       []  corruption\n",
              "997         997      the_oilmann  ...       []  corruption\n",
              "998         998     johngithongo  ...       []  corruption\n",
              "999         999         Bilykemb  ...       []  corruption\n",
              "\n",
              "[5 rows x 12 columns]"
            ]
          },
          "metadata": {
            "tags": []
          },
          "execution_count": 134
        }
      ]
    },
    {
      "cell_type": "code",
      "metadata": {
        "colab": {
          "base_uri": "https://localhost:8080/",
          "height": 503
        },
        "id": "m8Uit96uoifx",
        "outputId": "f38622b0-638d-497b-df05-55c9b72dcdbb"
      },
      "source": [
        "murder.tail()"
      ],
      "execution_count": null,
      "outputs": [
        {
          "output_type": "execute_result",
          "data": {
            "text/html": [
              "<div>\n",
              "<style scoped>\n",
              "    .dataframe tbody tr th:only-of-type {\n",
              "        vertical-align: middle;\n",
              "    }\n",
              "\n",
              "    .dataframe tbody tr th {\n",
              "        vertical-align: top;\n",
              "    }\n",
              "\n",
              "    .dataframe thead th {\n",
              "        text-align: right;\n",
              "    }\n",
              "</style>\n",
              "<table border=\"1\" class=\"dataframe\">\n",
              "  <thead>\n",
              "    <tr style=\"text-align: right;\">\n",
              "      <th></th>\n",
              "      <th>Unnamed: 0</th>\n",
              "      <th>user</th>\n",
              "      <th>tweet</th>\n",
              "      <th>location</th>\n",
              "      <th>description</th>\n",
              "      <th>friends_count</th>\n",
              "      <th>followers_count</th>\n",
              "      <th>statuses_count</th>\n",
              "      <th>created_at</th>\n",
              "      <th>retweet_count</th>\n",
              "      <th>hashtags</th>\n",
              "      <th>label</th>\n",
              "    </tr>\n",
              "  </thead>\n",
              "  <tbody>\n",
              "    <tr>\n",
              "      <th>995</th>\n",
              "      <td>995</td>\n",
              "      <td>jkoskey2015</td>\n",
              "      <td>@FredMatiangi @IG_NPS @NPSOfficial_KE @NPSC_KE...</td>\n",
              "      <td>Kenya</td>\n",
              "      <td>x</td>\n",
              "      <td>841</td>\n",
              "      <td>382</td>\n",
              "      <td>8675</td>\n",
              "      <td>8/11/2021 19:52</td>\n",
              "      <td>4</td>\n",
              "      <td>[]</td>\n",
              "      <td>murder</td>\n",
              "    </tr>\n",
              "    <tr>\n",
              "      <th>996</th>\n",
              "      <td>996</td>\n",
              "      <td>ManuelKKrazy</td>\n",
              "      <td>@DonutOperator @BenzoEffect  and you have  a p...</td>\n",
              "      <td>East Africa</td>\n",
              "      <td>Curiosity Solves Mysteries</td>\n",
              "      <td>52</td>\n",
              "      <td>3</td>\n",
              "      <td>131</td>\n",
              "      <td>8/11/2021 19:40</td>\n",
              "      <td>0</td>\n",
              "      <td>[]</td>\n",
              "      <td>murder</td>\n",
              "    </tr>\n",
              "    <tr>\n",
              "      <th>997</th>\n",
              "      <td>997</td>\n",
              "      <td>iwilliamkennedy</td>\n",
              "      <td>Are you washed in THE BLOOD OF JESUS?\\n\\nHowev...</td>\n",
              "      <td>Nairobi, Kenya</td>\n",
              "      <td>Just another passerby - Born again - I.T stude...</td>\n",
              "      <td>2052</td>\n",
              "      <td>2127</td>\n",
              "      <td>9151</td>\n",
              "      <td>8/11/2021 19:27</td>\n",
              "      <td>3</td>\n",
              "      <td>[]</td>\n",
              "      <td>murder</td>\n",
              "    </tr>\n",
              "    <tr>\n",
              "      <th>998</th>\n",
              "      <td>998</td>\n",
              "      <td>nelsonkimathi</td>\n",
              "      <td>@HoseaKinyuaQs The bosses had guts to lie to u...</td>\n",
              "      <td>Nairobi</td>\n",
              "      <td>Civil Engineer|Construction Management Expert|...</td>\n",
              "      <td>1597</td>\n",
              "      <td>587</td>\n",
              "      <td>19213</td>\n",
              "      <td>8/11/2021 19:26</td>\n",
              "      <td>0</td>\n",
              "      <td>[]</td>\n",
              "      <td>murder</td>\n",
              "    </tr>\n",
              "    <tr>\n",
              "      <th>999</th>\n",
              "      <td>999</td>\n",
              "      <td>nelsonkimathi</td>\n",
              "      <td>@GabrielDolan1 @StandardKenya @IG_NPS @ODPP_KE...</td>\n",
              "      <td>Nairobi</td>\n",
              "      <td>Civil Engineer|Construction Management Expert|...</td>\n",
              "      <td>1597</td>\n",
              "      <td>587</td>\n",
              "      <td>19213</td>\n",
              "      <td>8/11/2021 19:15</td>\n",
              "      <td>0</td>\n",
              "      <td>[]</td>\n",
              "      <td>murder</td>\n",
              "    </tr>\n",
              "  </tbody>\n",
              "</table>\n",
              "</div>"
            ],
            "text/plain": [
              "     Unnamed: 0             user  ... hashtags   label\n",
              "995         995      jkoskey2015  ...       []  murder\n",
              "996         996     ManuelKKrazy  ...       []  murder\n",
              "997         997  iwilliamkennedy  ...       []  murder\n",
              "998         998    nelsonkimathi  ...       []  murder\n",
              "999         999    nelsonkimathi  ...       []  murder\n",
              "\n",
              "[5 rows x 12 columns]"
            ]
          },
          "metadata": {
            "tags": []
          },
          "execution_count": 135
        }
      ]
    },
    {
      "cell_type": "code",
      "metadata": {
        "colab": {
          "base_uri": "https://localhost:8080/"
        },
        "id": "xWaDRXvwo_-J",
        "outputId": "1a7af052-fc57-46ef-8617-cc964b403b07"
      },
      "source": [
        "#checking the number of rows and columns in each dataset\n",
        "print('Police:', police_brutality.shape,'\\n') \n",
        "print('Corruption:',corruption.shape, '\\n')\n",
        "print('Murder:', murder.shape)"
      ],
      "execution_count": null,
      "outputs": [
        {
          "output_type": "stream",
          "text": [
            "Police: (1000, 12) \n",
            "\n",
            "Corruption: (1000, 12) \n",
            "\n",
            "Murder: (1000, 12)\n"
          ],
          "name": "stdout"
        }
      ]
    },
    {
      "cell_type": "code",
      "metadata": {
        "colab": {
          "base_uri": "https://localhost:8080/"
        },
        "id": "QpHwYVOpqWTN",
        "outputId": "c06081f6-5dd6-4743-a63a-e561273fa3a2"
      },
      "source": [
        "murder.columns"
      ],
      "execution_count": null,
      "outputs": [
        {
          "output_type": "execute_result",
          "data": {
            "text/plain": [
              "Index(['Unnamed: 0', 'user', 'tweet', 'location', 'description',\n",
              "       'friends_count', 'followers_count', 'statuses_count', 'created_at',\n",
              "       'retweet_count', 'hashtags', 'label'],\n",
              "      dtype='object')"
            ]
          },
          "metadata": {
            "tags": []
          },
          "execution_count": 137
        }
      ]
    },
    {
      "cell_type": "code",
      "metadata": {
        "colab": {
          "base_uri": "https://localhost:8080/"
        },
        "id": "QrGMbnyQsGCE",
        "outputId": "c96025a2-d2c7-4467-de36-5e01f7163d27"
      },
      "source": [
        "police_brutality.columns"
      ],
      "execution_count": null,
      "outputs": [
        {
          "output_type": "execute_result",
          "data": {
            "text/plain": [
              "Index(['Unnamed: 0', 'user', 'tweet', 'location', 'description',\n",
              "       'friends_count', 'followers_count', 'statuses_count', 'created_at',\n",
              "       'retweet_count', 'hashtags', 'label'],\n",
              "      dtype='object')"
            ]
          },
          "metadata": {
            "tags": []
          },
          "execution_count": 138
        }
      ]
    },
    {
      "cell_type": "code",
      "metadata": {
        "colab": {
          "base_uri": "https://localhost:8080/"
        },
        "id": "th6Jq3xmuuvq",
        "outputId": "ec23ce2b-d24a-48b5-917e-a8a7548f49b1"
      },
      "source": [
        "corruption.columns"
      ],
      "execution_count": null,
      "outputs": [
        {
          "output_type": "execute_result",
          "data": {
            "text/plain": [
              "Index(['Unnamed: 0', 'user', 'tweet', 'location', 'description',\n",
              "       'friends_count', 'followers_count', 'statuses_count', 'created_at',\n",
              "       'retweet_count', 'hashtags', 'label'],\n",
              "      dtype='object')"
            ]
          },
          "metadata": {
            "tags": []
          },
          "execution_count": 139
        }
      ]
    },
    {
      "cell_type": "markdown",
      "metadata": {
        "id": "uBijKGphtXj4"
      },
      "source": [
        "Concatenating the files."
      ]
    },
    {
      "cell_type": "code",
      "metadata": {
        "colab": {
          "base_uri": "https://localhost:8080/",
          "height": 911
        },
        "id": "UFfldTM2taTa",
        "outputId": "5e0e54da-3ab1-498e-f7a6-3497ee5caf27"
      },
      "source": [
        "frames = [police_brutality, murder, corruption]\n",
        "  \n",
        "result = pd.concat(frames)\n",
        "display(result)"
      ],
      "execution_count": null,
      "outputs": [
        {
          "output_type": "display_data",
          "data": {
            "text/html": [
              "<div>\n",
              "<style scoped>\n",
              "    .dataframe tbody tr th:only-of-type {\n",
              "        vertical-align: middle;\n",
              "    }\n",
              "\n",
              "    .dataframe tbody tr th {\n",
              "        vertical-align: top;\n",
              "    }\n",
              "\n",
              "    .dataframe thead th {\n",
              "        text-align: right;\n",
              "    }\n",
              "</style>\n",
              "<table border=\"1\" class=\"dataframe\">\n",
              "  <thead>\n",
              "    <tr style=\"text-align: right;\">\n",
              "      <th></th>\n",
              "      <th>Unnamed: 0</th>\n",
              "      <th>user</th>\n",
              "      <th>tweet</th>\n",
              "      <th>location</th>\n",
              "      <th>description</th>\n",
              "      <th>friends_count</th>\n",
              "      <th>followers_count</th>\n",
              "      <th>statuses_count</th>\n",
              "      <th>created_at</th>\n",
              "      <th>retweet_count</th>\n",
              "      <th>hashtags</th>\n",
              "      <th>label</th>\n",
              "    </tr>\n",
              "  </thead>\n",
              "  <tbody>\n",
              "    <tr>\n",
              "      <th>0</th>\n",
              "      <td>0</td>\n",
              "      <td>MuchangiNyaga5</td>\n",
              "      <td>@MathareSJustice @wanjirunjira @UhaiWetu @gach...</td>\n",
              "      <td>Nairobi, Kenya</td>\n",
              "      <td>NaN</td>\n",
              "      <td>37</td>\n",
              "      <td>0</td>\n",
              "      <td>2</td>\n",
              "      <td>8/17/2021 8:59</td>\n",
              "      <td>0</td>\n",
              "      <td>[]</td>\n",
              "      <td>police brutality</td>\n",
              "    </tr>\n",
              "    <tr>\n",
              "      <th>1</th>\n",
              "      <td>1</td>\n",
              "      <td>jmkariuki24</td>\n",
              "      <td>It is not easy being a young person in this co...</td>\n",
              "      <td>Nairobi, Kenya</td>\n",
              "      <td>Evidence enthusiast with a passion for advanci...</td>\n",
              "      <td>8979</td>\n",
              "      <td>12175</td>\n",
              "      <td>276</td>\n",
              "      <td>8/17/2021 8:52</td>\n",
              "      <td>0</td>\n",
              "      <td>[]</td>\n",
              "      <td>police brutality</td>\n",
              "    </tr>\n",
              "    <tr>\n",
              "      <th>2</th>\n",
              "      <td>2</td>\n",
              "      <td>FlavionsKimani</td>\n",
              "      <td>You come to voters begging for votes, yet none...</td>\n",
              "      <td>Nairobi Kenya</td>\n",
              "      <td>MUFC die hard,Opinions are my own #mufcfan,#mu...</td>\n",
              "      <td>1310</td>\n",
              "      <td>1561</td>\n",
              "      <td>66764</td>\n",
              "      <td>8/17/2021 8:48</td>\n",
              "      <td>0</td>\n",
              "      <td>[]</td>\n",
              "      <td>police brutality</td>\n",
              "    </tr>\n",
              "    <tr>\n",
              "      <th>3</th>\n",
              "      <td>3</td>\n",
              "      <td>nyamu_dickson</td>\n",
              "      <td>It would be wise if we have bloggers with cont...</td>\n",
              "      <td>Nairobi, Kenya</td>\n",
              "      <td>Love politics, sportsman (martial arts&amp;footbal...</td>\n",
              "      <td>356</td>\n",
              "      <td>338</td>\n",
              "      <td>2578</td>\n",
              "      <td>8/17/2021 7:45</td>\n",
              "      <td>0</td>\n",
              "      <td>[]</td>\n",
              "      <td>police brutality</td>\n",
              "    </tr>\n",
              "    <tr>\n",
              "      <th>4</th>\n",
              "      <td>4</td>\n",
              "      <td>prings_ke</td>\n",
              "      <td>Before you vote, ask your candidates what they...</td>\n",
              "      <td>Thika, Kenya</td>\n",
              "      <td>Love one, love all.</td>\n",
              "      <td>382</td>\n",
              "      <td>1926</td>\n",
              "      <td>2529</td>\n",
              "      <td>8/17/2021 7:44</td>\n",
              "      <td>3</td>\n",
              "      <td>[]</td>\n",
              "      <td>police brutality</td>\n",
              "    </tr>\n",
              "    <tr>\n",
              "      <th>...</th>\n",
              "      <td>...</td>\n",
              "      <td>...</td>\n",
              "      <td>...</td>\n",
              "      <td>...</td>\n",
              "      <td>...</td>\n",
              "      <td>...</td>\n",
              "      <td>...</td>\n",
              "      <td>...</td>\n",
              "      <td>...</td>\n",
              "      <td>...</td>\n",
              "      <td>...</td>\n",
              "      <td>...</td>\n",
              "    </tr>\n",
              "    <tr>\n",
              "      <th>995</th>\n",
              "      <td>995</td>\n",
              "      <td>ErickOtienoMang</td>\n",
              "      <td>Uhuru, pawns hunger-torture impunity; Judiciar...</td>\n",
              "      <td>Kenya</td>\n",
              "      <td>A global citizen in The Kenyan Arena embracing...</td>\n",
              "      <td>1488</td>\n",
              "      <td>595</td>\n",
              "      <td>30411</td>\n",
              "      <td>8/13/2021 17:08</td>\n",
              "      <td>0</td>\n",
              "      <td>[]</td>\n",
              "      <td>corruption</td>\n",
              "    </tr>\n",
              "    <tr>\n",
              "      <th>996</th>\n",
              "      <td>996</td>\n",
              "      <td>jeoges2</td>\n",
              "      <td>@danaceda @OliverMathenge How I wish they coul...</td>\n",
              "      <td>Nairobi, Kenya</td>\n",
              "      <td>NaN</td>\n",
              "      <td>2280</td>\n",
              "      <td>298</td>\n",
              "      <td>968</td>\n",
              "      <td>8/13/2021 16:57</td>\n",
              "      <td>0</td>\n",
              "      <td>[]</td>\n",
              "      <td>corruption</td>\n",
              "    </tr>\n",
              "    <tr>\n",
              "      <th>997</th>\n",
              "      <td>997</td>\n",
              "      <td>the_oilmann</td>\n",
              "      <td>Same way the govt here has been much more succ...</td>\n",
              "      <td>Kampala, Uganda</td>\n",
              "      <td>PanAfrican\\n\\nPetroleum geophysics\\n\\nStrange,...</td>\n",
              "      <td>683</td>\n",
              "      <td>450</td>\n",
              "      <td>565</td>\n",
              "      <td>8/13/2021 16:55</td>\n",
              "      <td>0</td>\n",
              "      <td>[]</td>\n",
              "      <td>corruption</td>\n",
              "    </tr>\n",
              "    <tr>\n",
              "      <th>998</th>\n",
              "      <td>998</td>\n",
              "      <td>johngithongo</td>\n",
              "      <td>MUKAMI, ATELLAH, ZALAN &amp;amp; NAMU - Kenya: Ins...</td>\n",
              "      <td>Nairobi, Kenya</td>\n",
              "      <td>CEO Inuka Kenya Ltd (by guarantee) https://t.c...</td>\n",
              "      <td>14013</td>\n",
              "      <td>286155</td>\n",
              "      <td>12384</td>\n",
              "      <td>8/13/2021 16:51</td>\n",
              "      <td>11</td>\n",
              "      <td>[]</td>\n",
              "      <td>corruption</td>\n",
              "    </tr>\n",
              "    <tr>\n",
              "      <th>999</th>\n",
              "      <td>999</td>\n",
              "      <td>Bilykemb</td>\n",
              "      <td>@FredMatiangi Stop lying day time. I used to r...</td>\n",
              "      <td>Mombasa</td>\n",
              "      <td>The greatest gift God gave to us is Life!! So ...</td>\n",
              "      <td>362</td>\n",
              "      <td>101</td>\n",
              "      <td>284</td>\n",
              "      <td>8/13/2021 16:50</td>\n",
              "      <td>0</td>\n",
              "      <td>[]</td>\n",
              "      <td>corruption</td>\n",
              "    </tr>\n",
              "  </tbody>\n",
              "</table>\n",
              "<p>3000 rows × 12 columns</p>\n",
              "</div>"
            ],
            "text/plain": [
              "     Unnamed: 0             user  ... hashtags             label\n",
              "0             0   MuchangiNyaga5  ...       []  police brutality\n",
              "1             1      jmkariuki24  ...       []  police brutality\n",
              "2             2   FlavionsKimani  ...       []  police brutality\n",
              "3             3    nyamu_dickson  ...       []  police brutality\n",
              "4             4        prings_ke  ...       []  police brutality\n",
              "..          ...              ...  ...      ...               ...\n",
              "995         995  ErickOtienoMang  ...       []        corruption\n",
              "996         996          jeoges2  ...       []        corruption\n",
              "997         997      the_oilmann  ...       []        corruption\n",
              "998         998     johngithongo  ...       []        corruption\n",
              "999         999         Bilykemb  ...       []        corruption\n",
              "\n",
              "[3000 rows x 12 columns]"
            ]
          },
          "metadata": {
            "tags": []
          }
        }
      ]
    },
    {
      "cell_type": "code",
      "metadata": {
        "id": "whPtgQgfvptY"
      },
      "source": [
        "result.to_csv('crime-k.csv', index=False)"
      ],
      "execution_count": null,
      "outputs": []
    },
    {
      "cell_type": "markdown",
      "metadata": {
        "id": "OI3P3YnHUEBk"
      },
      "source": [
        "\n",
        "\n",
        "## 3. Checking the Data"
      ]
    },
    {
      "cell_type": "code",
      "metadata": {
        "id": "YjSVNwgptHxY",
        "colab": {
          "base_uri": "https://localhost:8080/",
          "height": 503
        },
        "outputId": "570e3eb9-dd55-4d83-8227-c4b3f50dfa42"
      },
      "source": [
        "#loading our concatenated data\n",
        "\n",
        "crime = pd.read_csv('/content/crime-k.csv')\n",
        "crime.head()"
      ],
      "execution_count": null,
      "outputs": [
        {
          "output_type": "execute_result",
          "data": {
            "text/html": [
              "<div>\n",
              "<style scoped>\n",
              "    .dataframe tbody tr th:only-of-type {\n",
              "        vertical-align: middle;\n",
              "    }\n",
              "\n",
              "    .dataframe tbody tr th {\n",
              "        vertical-align: top;\n",
              "    }\n",
              "\n",
              "    .dataframe thead th {\n",
              "        text-align: right;\n",
              "    }\n",
              "</style>\n",
              "<table border=\"1\" class=\"dataframe\">\n",
              "  <thead>\n",
              "    <tr style=\"text-align: right;\">\n",
              "      <th></th>\n",
              "      <th>Unnamed: 0</th>\n",
              "      <th>user</th>\n",
              "      <th>tweet</th>\n",
              "      <th>location</th>\n",
              "      <th>description</th>\n",
              "      <th>friends_count</th>\n",
              "      <th>followers_count</th>\n",
              "      <th>statuses_count</th>\n",
              "      <th>created_at</th>\n",
              "      <th>retweet_count</th>\n",
              "      <th>hashtags</th>\n",
              "      <th>label</th>\n",
              "    </tr>\n",
              "  </thead>\n",
              "  <tbody>\n",
              "    <tr>\n",
              "      <th>0</th>\n",
              "      <td>0</td>\n",
              "      <td>MuchangiNyaga5</td>\n",
              "      <td>@MathareSJustice @wanjirunjira @UhaiWetu @gach...</td>\n",
              "      <td>Nairobi, Kenya</td>\n",
              "      <td>NaN</td>\n",
              "      <td>37</td>\n",
              "      <td>0</td>\n",
              "      <td>2</td>\n",
              "      <td>8/17/2021 8:59</td>\n",
              "      <td>0</td>\n",
              "      <td>[]</td>\n",
              "      <td>police brutality</td>\n",
              "    </tr>\n",
              "    <tr>\n",
              "      <th>1</th>\n",
              "      <td>1</td>\n",
              "      <td>jmkariuki24</td>\n",
              "      <td>It is not easy being a young person in this co...</td>\n",
              "      <td>Nairobi, Kenya</td>\n",
              "      <td>Evidence enthusiast with a passion for advanci...</td>\n",
              "      <td>8979</td>\n",
              "      <td>12175</td>\n",
              "      <td>276</td>\n",
              "      <td>8/17/2021 8:52</td>\n",
              "      <td>0</td>\n",
              "      <td>[]</td>\n",
              "      <td>police brutality</td>\n",
              "    </tr>\n",
              "    <tr>\n",
              "      <th>2</th>\n",
              "      <td>2</td>\n",
              "      <td>FlavionsKimani</td>\n",
              "      <td>You come to voters begging for votes, yet none...</td>\n",
              "      <td>Nairobi Kenya</td>\n",
              "      <td>MUFC die hard,Opinions are my own #mufcfan,#mu...</td>\n",
              "      <td>1310</td>\n",
              "      <td>1561</td>\n",
              "      <td>66764</td>\n",
              "      <td>8/17/2021 8:48</td>\n",
              "      <td>0</td>\n",
              "      <td>[]</td>\n",
              "      <td>police brutality</td>\n",
              "    </tr>\n",
              "    <tr>\n",
              "      <th>3</th>\n",
              "      <td>3</td>\n",
              "      <td>nyamu_dickson</td>\n",
              "      <td>It would be wise if we have bloggers with cont...</td>\n",
              "      <td>Nairobi, Kenya</td>\n",
              "      <td>Love politics, sportsman (martial arts&amp;footbal...</td>\n",
              "      <td>356</td>\n",
              "      <td>338</td>\n",
              "      <td>2578</td>\n",
              "      <td>8/17/2021 7:45</td>\n",
              "      <td>0</td>\n",
              "      <td>[]</td>\n",
              "      <td>police brutality</td>\n",
              "    </tr>\n",
              "    <tr>\n",
              "      <th>4</th>\n",
              "      <td>4</td>\n",
              "      <td>prings_ke</td>\n",
              "      <td>Before you vote, ask your candidates what they...</td>\n",
              "      <td>Thika, Kenya</td>\n",
              "      <td>Love one, love all.</td>\n",
              "      <td>382</td>\n",
              "      <td>1926</td>\n",
              "      <td>2529</td>\n",
              "      <td>8/17/2021 7:44</td>\n",
              "      <td>3</td>\n",
              "      <td>[]</td>\n",
              "      <td>police brutality</td>\n",
              "    </tr>\n",
              "  </tbody>\n",
              "</table>\n",
              "</div>"
            ],
            "text/plain": [
              "   Unnamed: 0            user  ... hashtags             label\n",
              "0           0  MuchangiNyaga5  ...       []  police brutality\n",
              "1           1     jmkariuki24  ...       []  police brutality\n",
              "2           2  FlavionsKimani  ...       []  police brutality\n",
              "3           3   nyamu_dickson  ...       []  police brutality\n",
              "4           4       prings_ke  ...       []  police brutality\n",
              "\n",
              "[5 rows x 12 columns]"
            ]
          },
          "metadata": {
            "tags": []
          },
          "execution_count": 142
        }
      ]
    },
    {
      "cell_type": "code",
      "metadata": {
        "id": "xHhTw5eKWr0n",
        "colab": {
          "base_uri": "https://localhost:8080/",
          "height": 503
        },
        "outputId": "e5b14300-3e3c-460b-88d0-79de39a16940"
      },
      "source": [
        "# Previewing the top of our dataset\n",
        "# Train dataset\n",
        "crime.head()"
      ],
      "execution_count": null,
      "outputs": [
        {
          "output_type": "execute_result",
          "data": {
            "text/html": [
              "<div>\n",
              "<style scoped>\n",
              "    .dataframe tbody tr th:only-of-type {\n",
              "        vertical-align: middle;\n",
              "    }\n",
              "\n",
              "    .dataframe tbody tr th {\n",
              "        vertical-align: top;\n",
              "    }\n",
              "\n",
              "    .dataframe thead th {\n",
              "        text-align: right;\n",
              "    }\n",
              "</style>\n",
              "<table border=\"1\" class=\"dataframe\">\n",
              "  <thead>\n",
              "    <tr style=\"text-align: right;\">\n",
              "      <th></th>\n",
              "      <th>Unnamed: 0</th>\n",
              "      <th>user</th>\n",
              "      <th>tweet</th>\n",
              "      <th>location</th>\n",
              "      <th>description</th>\n",
              "      <th>friends_count</th>\n",
              "      <th>followers_count</th>\n",
              "      <th>statuses_count</th>\n",
              "      <th>created_at</th>\n",
              "      <th>retweet_count</th>\n",
              "      <th>hashtags</th>\n",
              "      <th>label</th>\n",
              "    </tr>\n",
              "  </thead>\n",
              "  <tbody>\n",
              "    <tr>\n",
              "      <th>0</th>\n",
              "      <td>0</td>\n",
              "      <td>MuchangiNyaga5</td>\n",
              "      <td>@MathareSJustice @wanjirunjira @UhaiWetu @gach...</td>\n",
              "      <td>Nairobi, Kenya</td>\n",
              "      <td>NaN</td>\n",
              "      <td>37</td>\n",
              "      <td>0</td>\n",
              "      <td>2</td>\n",
              "      <td>8/17/2021 8:59</td>\n",
              "      <td>0</td>\n",
              "      <td>[]</td>\n",
              "      <td>police brutality</td>\n",
              "    </tr>\n",
              "    <tr>\n",
              "      <th>1</th>\n",
              "      <td>1</td>\n",
              "      <td>jmkariuki24</td>\n",
              "      <td>It is not easy being a young person in this co...</td>\n",
              "      <td>Nairobi, Kenya</td>\n",
              "      <td>Evidence enthusiast with a passion for advanci...</td>\n",
              "      <td>8979</td>\n",
              "      <td>12175</td>\n",
              "      <td>276</td>\n",
              "      <td>8/17/2021 8:52</td>\n",
              "      <td>0</td>\n",
              "      <td>[]</td>\n",
              "      <td>police brutality</td>\n",
              "    </tr>\n",
              "    <tr>\n",
              "      <th>2</th>\n",
              "      <td>2</td>\n",
              "      <td>FlavionsKimani</td>\n",
              "      <td>You come to voters begging for votes, yet none...</td>\n",
              "      <td>Nairobi Kenya</td>\n",
              "      <td>MUFC die hard,Opinions are my own #mufcfan,#mu...</td>\n",
              "      <td>1310</td>\n",
              "      <td>1561</td>\n",
              "      <td>66764</td>\n",
              "      <td>8/17/2021 8:48</td>\n",
              "      <td>0</td>\n",
              "      <td>[]</td>\n",
              "      <td>police brutality</td>\n",
              "    </tr>\n",
              "    <tr>\n",
              "      <th>3</th>\n",
              "      <td>3</td>\n",
              "      <td>nyamu_dickson</td>\n",
              "      <td>It would be wise if we have bloggers with cont...</td>\n",
              "      <td>Nairobi, Kenya</td>\n",
              "      <td>Love politics, sportsman (martial arts&amp;footbal...</td>\n",
              "      <td>356</td>\n",
              "      <td>338</td>\n",
              "      <td>2578</td>\n",
              "      <td>8/17/2021 7:45</td>\n",
              "      <td>0</td>\n",
              "      <td>[]</td>\n",
              "      <td>police brutality</td>\n",
              "    </tr>\n",
              "    <tr>\n",
              "      <th>4</th>\n",
              "      <td>4</td>\n",
              "      <td>prings_ke</td>\n",
              "      <td>Before you vote, ask your candidates what they...</td>\n",
              "      <td>Thika, Kenya</td>\n",
              "      <td>Love one, love all.</td>\n",
              "      <td>382</td>\n",
              "      <td>1926</td>\n",
              "      <td>2529</td>\n",
              "      <td>8/17/2021 7:44</td>\n",
              "      <td>3</td>\n",
              "      <td>[]</td>\n",
              "      <td>police brutality</td>\n",
              "    </tr>\n",
              "  </tbody>\n",
              "</table>\n",
              "</div>"
            ],
            "text/plain": [
              "   Unnamed: 0            user  ... hashtags             label\n",
              "0           0  MuchangiNyaga5  ...       []  police brutality\n",
              "1           1     jmkariuki24  ...       []  police brutality\n",
              "2           2  FlavionsKimani  ...       []  police brutality\n",
              "3           3   nyamu_dickson  ...       []  police brutality\n",
              "4           4       prings_ke  ...       []  police brutality\n",
              "\n",
              "[5 rows x 12 columns]"
            ]
          },
          "metadata": {
            "tags": []
          },
          "execution_count": 143
        }
      ]
    },
    {
      "cell_type": "code",
      "metadata": {
        "id": "OMvUeJCHU7oA",
        "colab": {
          "base_uri": "https://localhost:8080/",
          "height": 503
        },
        "outputId": "c7cd9378-b04b-48e0-da68-d50570709f58"
      },
      "source": [
        "#train dataset bottom\n",
        "crime.tail()"
      ],
      "execution_count": null,
      "outputs": [
        {
          "output_type": "execute_result",
          "data": {
            "text/html": [
              "<div>\n",
              "<style scoped>\n",
              "    .dataframe tbody tr th:only-of-type {\n",
              "        vertical-align: middle;\n",
              "    }\n",
              "\n",
              "    .dataframe tbody tr th {\n",
              "        vertical-align: top;\n",
              "    }\n",
              "\n",
              "    .dataframe thead th {\n",
              "        text-align: right;\n",
              "    }\n",
              "</style>\n",
              "<table border=\"1\" class=\"dataframe\">\n",
              "  <thead>\n",
              "    <tr style=\"text-align: right;\">\n",
              "      <th></th>\n",
              "      <th>Unnamed: 0</th>\n",
              "      <th>user</th>\n",
              "      <th>tweet</th>\n",
              "      <th>location</th>\n",
              "      <th>description</th>\n",
              "      <th>friends_count</th>\n",
              "      <th>followers_count</th>\n",
              "      <th>statuses_count</th>\n",
              "      <th>created_at</th>\n",
              "      <th>retweet_count</th>\n",
              "      <th>hashtags</th>\n",
              "      <th>label</th>\n",
              "    </tr>\n",
              "  </thead>\n",
              "  <tbody>\n",
              "    <tr>\n",
              "      <th>2995</th>\n",
              "      <td>995</td>\n",
              "      <td>ErickOtienoMang</td>\n",
              "      <td>Uhuru, pawns hunger-torture impunity; Judiciar...</td>\n",
              "      <td>Kenya</td>\n",
              "      <td>A global citizen in The Kenyan Arena embracing...</td>\n",
              "      <td>1488</td>\n",
              "      <td>595</td>\n",
              "      <td>30411</td>\n",
              "      <td>8/13/2021 17:08</td>\n",
              "      <td>0</td>\n",
              "      <td>[]</td>\n",
              "      <td>corruption</td>\n",
              "    </tr>\n",
              "    <tr>\n",
              "      <th>2996</th>\n",
              "      <td>996</td>\n",
              "      <td>jeoges2</td>\n",
              "      <td>@danaceda @OliverMathenge How I wish they coul...</td>\n",
              "      <td>Nairobi, Kenya</td>\n",
              "      <td>NaN</td>\n",
              "      <td>2280</td>\n",
              "      <td>298</td>\n",
              "      <td>968</td>\n",
              "      <td>8/13/2021 16:57</td>\n",
              "      <td>0</td>\n",
              "      <td>[]</td>\n",
              "      <td>corruption</td>\n",
              "    </tr>\n",
              "    <tr>\n",
              "      <th>2997</th>\n",
              "      <td>997</td>\n",
              "      <td>the_oilmann</td>\n",
              "      <td>Same way the govt here has been much more succ...</td>\n",
              "      <td>Kampala, Uganda</td>\n",
              "      <td>PanAfrican\\n\\nPetroleum geophysics\\n\\nStrange,...</td>\n",
              "      <td>683</td>\n",
              "      <td>450</td>\n",
              "      <td>565</td>\n",
              "      <td>8/13/2021 16:55</td>\n",
              "      <td>0</td>\n",
              "      <td>[]</td>\n",
              "      <td>corruption</td>\n",
              "    </tr>\n",
              "    <tr>\n",
              "      <th>2998</th>\n",
              "      <td>998</td>\n",
              "      <td>johngithongo</td>\n",
              "      <td>MUKAMI, ATELLAH, ZALAN &amp;amp; NAMU - Kenya: Ins...</td>\n",
              "      <td>Nairobi, Kenya</td>\n",
              "      <td>CEO Inuka Kenya Ltd (by guarantee) https://t.c...</td>\n",
              "      <td>14013</td>\n",
              "      <td>286155</td>\n",
              "      <td>12384</td>\n",
              "      <td>8/13/2021 16:51</td>\n",
              "      <td>11</td>\n",
              "      <td>[]</td>\n",
              "      <td>corruption</td>\n",
              "    </tr>\n",
              "    <tr>\n",
              "      <th>2999</th>\n",
              "      <td>999</td>\n",
              "      <td>Bilykemb</td>\n",
              "      <td>@FredMatiangi Stop lying day time. I used to r...</td>\n",
              "      <td>Mombasa</td>\n",
              "      <td>The greatest gift God gave to us is Life!! So ...</td>\n",
              "      <td>362</td>\n",
              "      <td>101</td>\n",
              "      <td>284</td>\n",
              "      <td>8/13/2021 16:50</td>\n",
              "      <td>0</td>\n",
              "      <td>[]</td>\n",
              "      <td>corruption</td>\n",
              "    </tr>\n",
              "  </tbody>\n",
              "</table>\n",
              "</div>"
            ],
            "text/plain": [
              "      Unnamed: 0             user  ... hashtags       label\n",
              "2995         995  ErickOtienoMang  ...       []  corruption\n",
              "2996         996          jeoges2  ...       []  corruption\n",
              "2997         997      the_oilmann  ...       []  corruption\n",
              "2998         998     johngithongo  ...       []  corruption\n",
              "2999         999         Bilykemb  ...       []  corruption\n",
              "\n",
              "[5 rows x 12 columns]"
            ]
          },
          "metadata": {
            "tags": []
          },
          "execution_count": 144
        }
      ]
    },
    {
      "cell_type": "code",
      "metadata": {
        "id": "n8-dW4sQWzbc",
        "colab": {
          "base_uri": "https://localhost:8080/"
        },
        "outputId": "8532beac-2a6b-4bf6-bdec-406827b0feaa"
      },
      "source": [
        "# Checking the number of rows\n",
        "crime.shape"
      ],
      "execution_count": null,
      "outputs": [
        {
          "output_type": "execute_result",
          "data": {
            "text/plain": [
              "(3000, 12)"
            ]
          },
          "metadata": {
            "tags": []
          },
          "execution_count": 145
        }
      ]
    },
    {
      "cell_type": "code",
      "metadata": {
        "colab": {
          "base_uri": "https://localhost:8080/"
        },
        "id": "P0wZblu3w-6n",
        "outputId": "70a5e10a-4728-44c0-da4a-b81d4ff7d304"
      },
      "source": [
        "#checking the datatypes\n",
        "crime.info()"
      ],
      "execution_count": null,
      "outputs": [
        {
          "output_type": "stream",
          "text": [
            "<class 'pandas.core.frame.DataFrame'>\n",
            "RangeIndex: 3000 entries, 0 to 2999\n",
            "Data columns (total 12 columns):\n",
            " #   Column           Non-Null Count  Dtype \n",
            "---  ------           --------------  ----- \n",
            " 0   Unnamed: 0       3000 non-null   int64 \n",
            " 1   user             3000 non-null   object\n",
            " 2   tweet            3000 non-null   object\n",
            " 3   location         2974 non-null   object\n",
            " 4   description      2816 non-null   object\n",
            " 5   friends_count    3000 non-null   int64 \n",
            " 6   followers_count  3000 non-null   int64 \n",
            " 7   statuses_count   3000 non-null   int64 \n",
            " 8   created_at       3000 non-null   object\n",
            " 9   retweet_count    3000 non-null   int64 \n",
            " 10  hashtags         3000 non-null   object\n",
            " 11  label            3000 non-null   object\n",
            "dtypes: int64(5), object(7)\n",
            "memory usage: 281.4+ KB\n"
          ],
          "name": "stdout"
        }
      ]
    },
    {
      "cell_type": "markdown",
      "metadata": {
        "id": "FlBMxEDBUc9B"
      },
      "source": [
        "## 4. Tidying the Dataset"
      ]
    },
    {
      "cell_type": "code",
      "metadata": {
        "id": "MpsDGKZHsf_W",
        "colab": {
          "base_uri": "https://localhost:8080/"
        },
        "outputId": "28b973a2-d0dc-4d1b-c4a1-402869d5efd2"
      },
      "source": [
        "# Dealing with the Missing Data\n",
        "#\n",
        "crime.isnull().sum()"
      ],
      "execution_count": null,
      "outputs": [
        {
          "output_type": "execute_result",
          "data": {
            "text/plain": [
              "Unnamed: 0           0\n",
              "user                 0\n",
              "tweet                0\n",
              "location            26\n",
              "description        184\n",
              "friends_count        0\n",
              "followers_count      0\n",
              "statuses_count       0\n",
              "created_at           0\n",
              "retweet_count        0\n",
              "hashtags             0\n",
              "label                0\n",
              "dtype: int64"
            ]
          },
          "metadata": {
            "tags": []
          },
          "execution_count": 147
        }
      ]
    },
    {
      "cell_type": "code",
      "metadata": {
        "colab": {
          "base_uri": "https://localhost:8080/"
        },
        "id": "MYS5-j7lxUjd",
        "outputId": "2a0bd020-2112-43ba-961f-0a5f81b41c6e"
      },
      "source": [
        "crime.duplicated().sum()"
      ],
      "execution_count": null,
      "outputs": [
        {
          "output_type": "execute_result",
          "data": {
            "text/plain": [
              "0"
            ]
          },
          "metadata": {
            "tags": []
          },
          "execution_count": 148
        }
      ]
    },
    {
      "cell_type": "markdown",
      "metadata": {
        "id": "YuzA0SJMxfNC"
      },
      "source": [
        "Deleting unwanted columns"
      ]
    },
    {
      "cell_type": "code",
      "metadata": {
        "colab": {
          "base_uri": "https://localhost:8080/"
        },
        "id": "ek8jPWhjyEaP",
        "outputId": "bfcfe1b6-c00d-4113-f840-9d76821d7a97"
      },
      "source": [
        "crime.columns"
      ],
      "execution_count": null,
      "outputs": [
        {
          "output_type": "execute_result",
          "data": {
            "text/plain": [
              "Index(['Unnamed: 0', 'user', 'tweet', 'location', 'description',\n",
              "       'friends_count', 'followers_count', 'statuses_count', 'created_at',\n",
              "       'retweet_count', 'hashtags', 'label'],\n",
              "      dtype='object')"
            ]
          },
          "metadata": {
            "tags": []
          },
          "execution_count": 149
        }
      ]
    },
    {
      "cell_type": "code",
      "metadata": {
        "id": "eJ9tj0H5xiOp"
      },
      "source": [
        "crime.drop(['Unnamed: 0', 'user', 'friends_count', 'followers_count', 'statuses_count', 'retweet_count'], axis=1, inplace=True)"
      ],
      "execution_count": null,
      "outputs": []
    },
    {
      "cell_type": "code",
      "metadata": {
        "id": "HpCsWmZLy0PX"
      },
      "source": [
        "crime.drop('description', axis=1, inplace=True)"
      ],
      "execution_count": null,
      "outputs": []
    },
    {
      "cell_type": "code",
      "metadata": {
        "colab": {
          "base_uri": "https://localhost:8080/"
        },
        "id": "5oR-Ch93yeYs",
        "outputId": "d739109a-f327-43fa-c774-5a8ca51586a8"
      },
      "source": [
        "crime.shape"
      ],
      "execution_count": null,
      "outputs": [
        {
          "output_type": "execute_result",
          "data": {
            "text/plain": [
              "(3000, 5)"
            ]
          },
          "metadata": {
            "tags": []
          },
          "execution_count": 152
        }
      ]
    },
    {
      "cell_type": "code",
      "metadata": {
        "colab": {
          "base_uri": "https://localhost:8080/",
          "height": 112
        },
        "id": "MNQDJVi0yi1s",
        "outputId": "54de7e7b-1b45-4604-970a-1dba1f370ad5"
      },
      "source": [
        "crime.head(2)"
      ],
      "execution_count": null,
      "outputs": [
        {
          "output_type": "execute_result",
          "data": {
            "text/html": [
              "<div>\n",
              "<style scoped>\n",
              "    .dataframe tbody tr th:only-of-type {\n",
              "        vertical-align: middle;\n",
              "    }\n",
              "\n",
              "    .dataframe tbody tr th {\n",
              "        vertical-align: top;\n",
              "    }\n",
              "\n",
              "    .dataframe thead th {\n",
              "        text-align: right;\n",
              "    }\n",
              "</style>\n",
              "<table border=\"1\" class=\"dataframe\">\n",
              "  <thead>\n",
              "    <tr style=\"text-align: right;\">\n",
              "      <th></th>\n",
              "      <th>tweet</th>\n",
              "      <th>location</th>\n",
              "      <th>created_at</th>\n",
              "      <th>hashtags</th>\n",
              "      <th>label</th>\n",
              "    </tr>\n",
              "  </thead>\n",
              "  <tbody>\n",
              "    <tr>\n",
              "      <th>0</th>\n",
              "      <td>@MathareSJustice @wanjirunjira @UhaiWetu @gach...</td>\n",
              "      <td>Nairobi, Kenya</td>\n",
              "      <td>8/17/2021 8:59</td>\n",
              "      <td>[]</td>\n",
              "      <td>police brutality</td>\n",
              "    </tr>\n",
              "    <tr>\n",
              "      <th>1</th>\n",
              "      <td>It is not easy being a young person in this co...</td>\n",
              "      <td>Nairobi, Kenya</td>\n",
              "      <td>8/17/2021 8:52</td>\n",
              "      <td>[]</td>\n",
              "      <td>police brutality</td>\n",
              "    </tr>\n",
              "  </tbody>\n",
              "</table>\n",
              "</div>"
            ],
            "text/plain": [
              "                                               tweet  ...             label\n",
              "0  @MathareSJustice @wanjirunjira @UhaiWetu @gach...  ...  police brutality\n",
              "1  It is not easy being a young person in this co...  ...  police brutality\n",
              "\n",
              "[2 rows x 5 columns]"
            ]
          },
          "metadata": {
            "tags": []
          },
          "execution_count": 153
        }
      ]
    },
    {
      "cell_type": "code",
      "metadata": {
        "id": "LB9ehJPvnVEP"
      },
      "source": [
        "# extracting the last names from the \"location\" column.\n",
        "#crime['town name'] = crime['location'].str.split(',|\\\\.',expand = True)[2] #expand set to True to return a df instead of series\n",
        "#crime['town name'] = crime['town name'].str.strip() #strip leading and trailing white spaces\n",
        "#crime['country name'] = crime['location'].str.split(',|\\\\.',expand = True)[0] #expand set to True to return a df instead of series\n",
        "#crime['country name'] = crime['country name'].str.strip()\n",
        "#crime['title']"
      ],
      "execution_count": null,
      "outputs": []
    },
    {
      "cell_type": "code",
      "metadata": {
        "id": "OC6hi9ofzsBu"
      },
      "source": [
        "#removing the URL links\n",
        "example=\"New competition launched :https://www.kaggle.com/c/nlp-getting-started\""
      ],
      "execution_count": null,
      "outputs": []
    },
    {
      "cell_type": "code",
      "metadata": {
        "colab": {
          "base_uri": "https://localhost:8080/",
          "height": 35
        },
        "id": "SY0hnwrJzvox",
        "outputId": "493d98d4-8d82-4dd0-d269-52b5ec2737de"
      },
      "source": [
        "def remove_URL(text):\n",
        "    url = re.compile(r'https?://\\S+|www\\.\\S+')\n",
        "    return url.sub(r'',text)\n",
        "\n",
        "remove_URL(example)"
      ],
      "execution_count": null,
      "outputs": [
        {
          "output_type": "execute_result",
          "data": {
            "application/vnd.google.colaboratory.intrinsic+json": {
              "type": "string"
            },
            "text/plain": [
              "'New competition launched :'"
            ]
          },
          "metadata": {
            "tags": []
          },
          "execution_count": 156
        }
      ]
    },
    {
      "cell_type": "code",
      "metadata": {
        "id": "Bh5cgIH_z1dP"
      },
      "source": [
        "crime['tweet']=crime['tweet'].apply(lambda x : remove_URL(x))"
      ],
      "execution_count": null,
      "outputs": []
    },
    {
      "cell_type": "code",
      "metadata": {
        "colab": {
          "base_uri": "https://localhost:8080/",
          "height": 206
        },
        "id": "HCmRcYwb0QHz",
        "outputId": "1ef8a08d-7f54-4e52-96f1-e290b269fdd5"
      },
      "source": [
        "crime.head()"
      ],
      "execution_count": null,
      "outputs": [
        {
          "output_type": "execute_result",
          "data": {
            "text/html": [
              "<div>\n",
              "<style scoped>\n",
              "    .dataframe tbody tr th:only-of-type {\n",
              "        vertical-align: middle;\n",
              "    }\n",
              "\n",
              "    .dataframe tbody tr th {\n",
              "        vertical-align: top;\n",
              "    }\n",
              "\n",
              "    .dataframe thead th {\n",
              "        text-align: right;\n",
              "    }\n",
              "</style>\n",
              "<table border=\"1\" class=\"dataframe\">\n",
              "  <thead>\n",
              "    <tr style=\"text-align: right;\">\n",
              "      <th></th>\n",
              "      <th>tweet</th>\n",
              "      <th>location</th>\n",
              "      <th>created_at</th>\n",
              "      <th>hashtags</th>\n",
              "      <th>label</th>\n",
              "    </tr>\n",
              "  </thead>\n",
              "  <tbody>\n",
              "    <tr>\n",
              "      <th>0</th>\n",
              "      <td>@MathareSJustice @wanjirunjira @UhaiWetu @gach...</td>\n",
              "      <td>Nairobi, Kenya</td>\n",
              "      <td>8/17/2021 8:59</td>\n",
              "      <td>[]</td>\n",
              "      <td>police brutality</td>\n",
              "    </tr>\n",
              "    <tr>\n",
              "      <th>1</th>\n",
              "      <td>It is not easy being a young person in this co...</td>\n",
              "      <td>Nairobi, Kenya</td>\n",
              "      <td>8/17/2021 8:52</td>\n",
              "      <td>[]</td>\n",
              "      <td>police brutality</td>\n",
              "    </tr>\n",
              "    <tr>\n",
              "      <th>2</th>\n",
              "      <td>You come to voters begging for votes, yet none...</td>\n",
              "      <td>Nairobi Kenya</td>\n",
              "      <td>8/17/2021 8:48</td>\n",
              "      <td>[]</td>\n",
              "      <td>police brutality</td>\n",
              "    </tr>\n",
              "    <tr>\n",
              "      <th>3</th>\n",
              "      <td>It would be wise if we have bloggers with cont...</td>\n",
              "      <td>Nairobi, Kenya</td>\n",
              "      <td>8/17/2021 7:45</td>\n",
              "      <td>[]</td>\n",
              "      <td>police brutality</td>\n",
              "    </tr>\n",
              "    <tr>\n",
              "      <th>4</th>\n",
              "      <td>Before you vote, ask your candidates what they...</td>\n",
              "      <td>Thika, Kenya</td>\n",
              "      <td>8/17/2021 7:44</td>\n",
              "      <td>[]</td>\n",
              "      <td>police brutality</td>\n",
              "    </tr>\n",
              "  </tbody>\n",
              "</table>\n",
              "</div>"
            ],
            "text/plain": [
              "                                               tweet  ...             label\n",
              "0  @MathareSJustice @wanjirunjira @UhaiWetu @gach...  ...  police brutality\n",
              "1  It is not easy being a young person in this co...  ...  police brutality\n",
              "2  You come to voters begging for votes, yet none...  ...  police brutality\n",
              "3  It would be wise if we have bloggers with cont...  ...  police brutality\n",
              "4  Before you vote, ask your candidates what they...  ...  police brutality\n",
              "\n",
              "[5 rows x 5 columns]"
            ]
          },
          "metadata": {
            "tags": []
          },
          "execution_count": 158
        }
      ]
    },
    {
      "cell_type": "code",
      "metadata": {
        "colab": {
          "base_uri": "https://localhost:8080/"
        },
        "id": "fs5e6X2d0Iri",
        "outputId": "d5d3f76b-c08b-4141-cadc-7f38a5bdc92a"
      },
      "source": [
        "#removing all the panctuation marks in 'text' column\n",
        "def remove_punct(text):\n",
        "    table=str.maketrans('','',string.punctuation)\n",
        "    return text.translate(table)\n",
        "\n",
        "example=\"I am a #king\"\n",
        "print(remove_punct(example))"
      ],
      "execution_count": null,
      "outputs": [
        {
          "output_type": "stream",
          "text": [
            "I am a king\n"
          ],
          "name": "stdout"
        }
      ]
    },
    {
      "cell_type": "code",
      "metadata": {
        "id": "uSrbaqe70Xik"
      },
      "source": [
        "crime['tweet']=crime['tweet'].apply(lambda x : remove_punct(x))"
      ],
      "execution_count": null,
      "outputs": []
    },
    {
      "cell_type": "code",
      "metadata": {
        "colab": {
          "base_uri": "https://localhost:8080/",
          "height": 206
        },
        "id": "ZKXARXQW0dzY",
        "outputId": "dd9c1d4d-cf21-420a-f26d-42848782b508"
      },
      "source": [
        "crime.head()"
      ],
      "execution_count": null,
      "outputs": [
        {
          "output_type": "execute_result",
          "data": {
            "text/html": [
              "<div>\n",
              "<style scoped>\n",
              "    .dataframe tbody tr th:only-of-type {\n",
              "        vertical-align: middle;\n",
              "    }\n",
              "\n",
              "    .dataframe tbody tr th {\n",
              "        vertical-align: top;\n",
              "    }\n",
              "\n",
              "    .dataframe thead th {\n",
              "        text-align: right;\n",
              "    }\n",
              "</style>\n",
              "<table border=\"1\" class=\"dataframe\">\n",
              "  <thead>\n",
              "    <tr style=\"text-align: right;\">\n",
              "      <th></th>\n",
              "      <th>tweet</th>\n",
              "      <th>location</th>\n",
              "      <th>created_at</th>\n",
              "      <th>hashtags</th>\n",
              "      <th>label</th>\n",
              "    </tr>\n",
              "  </thead>\n",
              "  <tbody>\n",
              "    <tr>\n",
              "      <th>0</th>\n",
              "      <td>MathareSJustice wanjirunjira UhaiWetu gacheke2...</td>\n",
              "      <td>Nairobi, Kenya</td>\n",
              "      <td>8/17/2021 8:59</td>\n",
              "      <td>[]</td>\n",
              "      <td>police brutality</td>\n",
              "    </tr>\n",
              "    <tr>\n",
              "      <th>1</th>\n",
              "      <td>It is not easy being a young person in this co...</td>\n",
              "      <td>Nairobi, Kenya</td>\n",
              "      <td>8/17/2021 8:52</td>\n",
              "      <td>[]</td>\n",
              "      <td>police brutality</td>\n",
              "    </tr>\n",
              "    <tr>\n",
              "      <th>2</th>\n",
              "      <td>You come to voters begging for votes yet none ...</td>\n",
              "      <td>Nairobi Kenya</td>\n",
              "      <td>8/17/2021 8:48</td>\n",
              "      <td>[]</td>\n",
              "      <td>police brutality</td>\n",
              "    </tr>\n",
              "    <tr>\n",
              "      <th>3</th>\n",
              "      <td>It would be wise if we have bloggers with cont...</td>\n",
              "      <td>Nairobi, Kenya</td>\n",
              "      <td>8/17/2021 7:45</td>\n",
              "      <td>[]</td>\n",
              "      <td>police brutality</td>\n",
              "    </tr>\n",
              "    <tr>\n",
              "      <th>4</th>\n",
              "      <td>Before you vote ask your candidates what theyl...</td>\n",
              "      <td>Thika, Kenya</td>\n",
              "      <td>8/17/2021 7:44</td>\n",
              "      <td>[]</td>\n",
              "      <td>police brutality</td>\n",
              "    </tr>\n",
              "  </tbody>\n",
              "</table>\n",
              "</div>"
            ],
            "text/plain": [
              "                                               tweet  ...             label\n",
              "0  MathareSJustice wanjirunjira UhaiWetu gacheke2...  ...  police brutality\n",
              "1  It is not easy being a young person in this co...  ...  police brutality\n",
              "2  You come to voters begging for votes yet none ...  ...  police brutality\n",
              "3  It would be wise if we have bloggers with cont...  ...  police brutality\n",
              "4  Before you vote ask your candidates what theyl...  ...  police brutality\n",
              "\n",
              "[5 rows x 5 columns]"
            ]
          },
          "metadata": {
            "tags": []
          },
          "execution_count": 161
        }
      ]
    },
    {
      "cell_type": "code",
      "metadata": {
        "id": "WEE3axNL0mzP"
      },
      "source": [
        "#putting the tweet characters to lower case\n",
        "crime['tweet'] = crime['tweet'].map(lambda x: x.lower())"
      ],
      "execution_count": null,
      "outputs": []
    },
    {
      "cell_type": "code",
      "metadata": {
        "colab": {
          "base_uri": "https://localhost:8080/",
          "height": 206
        },
        "id": "bRgk9__n0wHt",
        "outputId": "2d1312ac-7ad2-4922-cb9f-24aea04357fa"
      },
      "source": [
        "crime.head()"
      ],
      "execution_count": null,
      "outputs": [
        {
          "output_type": "execute_result",
          "data": {
            "text/html": [
              "<div>\n",
              "<style scoped>\n",
              "    .dataframe tbody tr th:only-of-type {\n",
              "        vertical-align: middle;\n",
              "    }\n",
              "\n",
              "    .dataframe tbody tr th {\n",
              "        vertical-align: top;\n",
              "    }\n",
              "\n",
              "    .dataframe thead th {\n",
              "        text-align: right;\n",
              "    }\n",
              "</style>\n",
              "<table border=\"1\" class=\"dataframe\">\n",
              "  <thead>\n",
              "    <tr style=\"text-align: right;\">\n",
              "      <th></th>\n",
              "      <th>tweet</th>\n",
              "      <th>location</th>\n",
              "      <th>created_at</th>\n",
              "      <th>hashtags</th>\n",
              "      <th>label</th>\n",
              "    </tr>\n",
              "  </thead>\n",
              "  <tbody>\n",
              "    <tr>\n",
              "      <th>0</th>\n",
              "      <td>matharesjustice wanjirunjira uhaiwetu gacheke2...</td>\n",
              "      <td>Nairobi, Kenya</td>\n",
              "      <td>8/17/2021 8:59</td>\n",
              "      <td>[]</td>\n",
              "      <td>police brutality</td>\n",
              "    </tr>\n",
              "    <tr>\n",
              "      <th>1</th>\n",
              "      <td>it is not easy being a young person in this co...</td>\n",
              "      <td>Nairobi, Kenya</td>\n",
              "      <td>8/17/2021 8:52</td>\n",
              "      <td>[]</td>\n",
              "      <td>police brutality</td>\n",
              "    </tr>\n",
              "    <tr>\n",
              "      <th>2</th>\n",
              "      <td>you come to voters begging for votes yet none ...</td>\n",
              "      <td>Nairobi Kenya</td>\n",
              "      <td>8/17/2021 8:48</td>\n",
              "      <td>[]</td>\n",
              "      <td>police brutality</td>\n",
              "    </tr>\n",
              "    <tr>\n",
              "      <th>3</th>\n",
              "      <td>it would be wise if we have bloggers with cont...</td>\n",
              "      <td>Nairobi, Kenya</td>\n",
              "      <td>8/17/2021 7:45</td>\n",
              "      <td>[]</td>\n",
              "      <td>police brutality</td>\n",
              "    </tr>\n",
              "    <tr>\n",
              "      <th>4</th>\n",
              "      <td>before you vote ask your candidates what theyl...</td>\n",
              "      <td>Thika, Kenya</td>\n",
              "      <td>8/17/2021 7:44</td>\n",
              "      <td>[]</td>\n",
              "      <td>police brutality</td>\n",
              "    </tr>\n",
              "  </tbody>\n",
              "</table>\n",
              "</div>"
            ],
            "text/plain": [
              "                                               tweet  ...             label\n",
              "0  matharesjustice wanjirunjira uhaiwetu gacheke2...  ...  police brutality\n",
              "1  it is not easy being a young person in this co...  ...  police brutality\n",
              "2  you come to voters begging for votes yet none ...  ...  police brutality\n",
              "3  it would be wise if we have bloggers with cont...  ...  police brutality\n",
              "4  before you vote ask your candidates what theyl...  ...  police brutality\n",
              "\n",
              "[5 rows x 5 columns]"
            ]
          },
          "metadata": {
            "tags": []
          },
          "execution_count": 163
        }
      ]
    },
    {
      "cell_type": "code",
      "metadata": {
        "colab": {
          "base_uri": "https://localhost:8080/",
          "height": 35
        },
        "id": "UT63sKp20-HA",
        "outputId": "b3c19ff8-47a0-4281-b491-96453144fe2e"
      },
      "source": [
        "#function to remove emojis\n",
        "def remove_emoji(text):\n",
        "    emoji_pattern = re.compile(\"[\"\n",
        "                           u\"\\U0001F600-\\U0001F64F\"  # emoticons\n",
        "                           u\"\\U0001F300-\\U0001F5FF\"  # symbols & pictographs\n",
        "                           u\"\\U0001F680-\\U0001F6FF\"  # transport & map symbols\n",
        "                           u\"\\U0001F1E0-\\U0001F1FF\"  # flags (iOS)\n",
        "                           u\"\\U00002702-\\U000027B0\"\n",
        "                           u\"\\U000024C2-\\U0001F251\"\n",
        "                           \"]+\", flags=re.UNICODE)\n",
        "    return emoji_pattern.sub(r'', text)\n",
        "\n",
        "remove_emoji(\"Omg another Earthquake 😔😔\")"
      ],
      "execution_count": null,
      "outputs": [
        {
          "output_type": "execute_result",
          "data": {
            "application/vnd.google.colaboratory.intrinsic+json": {
              "type": "string"
            },
            "text/plain": [
              "'Omg another Earthquake '"
            ]
          },
          "metadata": {
            "tags": []
          },
          "execution_count": 164
        }
      ]
    },
    {
      "cell_type": "code",
      "metadata": {
        "id": "sN5vhdK81DT-"
      },
      "source": [
        "#removing the emojis in text column if any.\n",
        "crime['tweet']=crime['tweet'].apply(lambda x: remove_emoji(x))"
      ],
      "execution_count": null,
      "outputs": []
    },
    {
      "cell_type": "code",
      "metadata": {
        "id": "dCNW2niQ1S_w"
      },
      "source": [
        "# STOPWORD REMOVAL\n",
        "def stopword(string):\n",
        "    a= [i for i in string.split() if i not in stopwords.words('english')]\n",
        "    return ' '.join(a)\n",
        "#LEMMATIZATION\n",
        "# Initialize the lemmatizer\n",
        "wl = WordNetLemmatizer()\n",
        "# This is a helper function to map NTLK position tags\n",
        "def get_wordnet_pos(tag):\n",
        "    if tag.startswith('J'):\n",
        "        return wordnet.ADJ\n",
        "    elif tag.startswith('V'):\n",
        "        return wordnet.VERB\n",
        "    elif tag.startswith('N'):\n",
        "        return wordnet.NOUN\n",
        "    elif tag.startswith('R'):\n",
        "        return wordnet.ADV\n",
        "    else:\n",
        "        return wordnet.NOUN\n",
        "# Tokenize the sentence\n",
        "def lemmatizer(string):\n",
        "    word_pos_tags = nltk.pos_tag(word_tokenize(string)) # Get position tags\n",
        "    a=[wl.lemmatize(tag[0], get_wordnet_pos(tag[1])) for idx, tag in enumerate(word_pos_tags)] # Map the position tag and lemmatize the word/token\n",
        "    return \" \".join(a)\n",
        "\n"
      ],
      "execution_count": null,
      "outputs": []
    },
    {
      "cell_type": "code",
      "metadata": {
        "colab": {
          "base_uri": "https://localhost:8080/"
        },
        "id": "wAeehzTz2gX_",
        "outputId": "dcad7f5a-b080-400b-d6cd-c29a206f7d04"
      },
      "source": [
        "from nltk.corpus import stopwords\n",
        "nltk.download('stopwords')"
      ],
      "execution_count": null,
      "outputs": [
        {
          "output_type": "stream",
          "text": [
            "[nltk_data] Downloading package stopwords to /root/nltk_data...\n",
            "[nltk_data]   Package stopwords is already up-to-date!\n"
          ],
          "name": "stdout"
        },
        {
          "output_type": "execute_result",
          "data": {
            "text/plain": [
              "True"
            ]
          },
          "metadata": {
            "tags": []
          },
          "execution_count": 167
        }
      ]
    },
    {
      "cell_type": "code",
      "metadata": {
        "id": "VzR8PSko43hY"
      },
      "source": [
        "#convert to lowercase, strip and remove punctuations\n",
        "def preprocess(text):\n",
        "    text = text.lower() \n",
        "    text=text.strip()  \n",
        "    text=re.compile('<.*?>').sub('', text) \n",
        "    text = re.compile('[%s]' % re.escape(string.punctuation)).sub(' ', text)  \n",
        "    text = re.sub('\\s+', ' ', text)  \n",
        "    text = re.sub(r'\\[[0-9]*\\]',' ',text) \n",
        "    text=re.sub(r'[^\\w\\s]', '', str(text).lower().strip())\n",
        "    text = re.sub(r'\\d',' ',text) \n",
        "    text = re.sub(r'\\s+',' ',text) \n",
        "    return text"
      ],
      "execution_count": null,
      "outputs": []
    },
    {
      "cell_type": "code",
      "metadata": {
        "colab": {
          "base_uri": "https://localhost:8080/",
          "height": 293
        },
        "id": "b0Wc9JJV2pxZ",
        "outputId": "5dbd6d7d-b796-4210-eb3c-df321929f3f8"
      },
      "source": [
        "#removing the stop words. \n",
        "def finalpreprocess(string):\n",
        "    return lemmatizer(stopword(preprocess(string)))\n",
        "crime['clean_text'] = crime['tweet'].apply(lambda x: finalpreprocess(x))\n",
        "crime.head()"
      ],
      "execution_count": null,
      "outputs": [
        {
          "output_type": "execute_result",
          "data": {
            "text/html": [
              "<div>\n",
              "<style scoped>\n",
              "    .dataframe tbody tr th:only-of-type {\n",
              "        vertical-align: middle;\n",
              "    }\n",
              "\n",
              "    .dataframe tbody tr th {\n",
              "        vertical-align: top;\n",
              "    }\n",
              "\n",
              "    .dataframe thead th {\n",
              "        text-align: right;\n",
              "    }\n",
              "</style>\n",
              "<table border=\"1\" class=\"dataframe\">\n",
              "  <thead>\n",
              "    <tr style=\"text-align: right;\">\n",
              "      <th></th>\n",
              "      <th>tweet</th>\n",
              "      <th>location</th>\n",
              "      <th>created_at</th>\n",
              "      <th>hashtags</th>\n",
              "      <th>label</th>\n",
              "      <th>clean_text</th>\n",
              "    </tr>\n",
              "  </thead>\n",
              "  <tbody>\n",
              "    <tr>\n",
              "      <th>0</th>\n",
              "      <td>matharesjustice wanjirunjira uhaiwetu gacheke2...</td>\n",
              "      <td>Nairobi, Kenya</td>\n",
              "      <td>8/17/2021 8:59</td>\n",
              "      <td>[]</td>\n",
              "      <td>police brutality</td>\n",
              "      <td>matharesjustice wanjirunjira uhaiwetu gacheke ...</td>\n",
              "    </tr>\n",
              "    <tr>\n",
              "      <th>1</th>\n",
              "      <td>it is not easy being a young person in this co...</td>\n",
              "      <td>Nairobi, Kenya</td>\n",
              "      <td>8/17/2021 8:52</td>\n",
              "      <td>[]</td>\n",
              "      <td>police brutality</td>\n",
              "      <td>easy young person country survive kcse kuccps ...</td>\n",
              "    </tr>\n",
              "    <tr>\n",
              "      <th>2</th>\n",
              "      <td>you come to voters begging for votes yet none ...</td>\n",
              "      <td>Nairobi Kenya</td>\n",
              "      <td>8/17/2021 8:48</td>\n",
              "      <td>[]</td>\n",
              "      <td>police brutality</td>\n",
              "      <td>come voter beg vote yet none yall politician c...</td>\n",
              "    </tr>\n",
              "    <tr>\n",
              "      <th>3</th>\n",
              "      <td>it would be wise if we have bloggers with cont...</td>\n",
              "      <td>Nairobi, Kenya</td>\n",
              "      <td>8/17/2021 7:45</td>\n",
              "      <td>[]</td>\n",
              "      <td>police brutality</td>\n",
              "      <td>would wise blogger content drive agenda succes...</td>\n",
              "    </tr>\n",
              "    <tr>\n",
              "      <th>4</th>\n",
              "      <td>before you vote ask your candidates what theyl...</td>\n",
              "      <td>Thika, Kenya</td>\n",
              "      <td>8/17/2021 7:44</td>\n",
              "      <td>[]</td>\n",
              "      <td>police brutality</td>\n",
              "      <td>vote ask candidate theyll police brutality tak...</td>\n",
              "    </tr>\n",
              "  </tbody>\n",
              "</table>\n",
              "</div>"
            ],
            "text/plain": [
              "                                               tweet  ...                                         clean_text\n",
              "0  matharesjustice wanjirunjira uhaiwetu gacheke2...  ...  matharesjustice wanjirunjira uhaiwetu gacheke ...\n",
              "1  it is not easy being a young person in this co...  ...  easy young person country survive kcse kuccps ...\n",
              "2  you come to voters begging for votes yet none ...  ...  come voter beg vote yet none yall politician c...\n",
              "3  it would be wise if we have bloggers with cont...  ...  would wise blogger content drive agenda succes...\n",
              "4  before you vote ask your candidates what theyl...  ...  vote ask candidate theyll police brutality tak...\n",
              "\n",
              "[5 rows x 6 columns]"
            ]
          },
          "metadata": {
            "tags": []
          },
          "execution_count": 169
        }
      ]
    },
    {
      "cell_type": "code",
      "metadata": {
        "id": "2h-l7m8j-ve-"
      },
      "source": [
        "# Tokenizing the messages into single words using nltk. \n",
        "\n",
        "# Applying the tokenization\n",
        "# \n",
        "crime['clean_text']= crime['clean_text'].apply(nltk.word_tokenize)"
      ],
      "execution_count": null,
      "outputs": []
    },
    {
      "cell_type": "code",
      "metadata": {
        "colab": {
          "base_uri": "https://localhost:8080/",
          "height": 147
        },
        "id": "jwzi5VxtGjW0",
        "outputId": "af0e607e-60f7-4815-afaf-a99769cc5fe3"
      },
      "source": [
        "crime.head(2)"
      ],
      "execution_count": null,
      "outputs": [
        {
          "output_type": "execute_result",
          "data": {
            "text/html": [
              "<div>\n",
              "<style scoped>\n",
              "    .dataframe tbody tr th:only-of-type {\n",
              "        vertical-align: middle;\n",
              "    }\n",
              "\n",
              "    .dataframe tbody tr th {\n",
              "        vertical-align: top;\n",
              "    }\n",
              "\n",
              "    .dataframe thead th {\n",
              "        text-align: right;\n",
              "    }\n",
              "</style>\n",
              "<table border=\"1\" class=\"dataframe\">\n",
              "  <thead>\n",
              "    <tr style=\"text-align: right;\">\n",
              "      <th></th>\n",
              "      <th>tweet</th>\n",
              "      <th>location</th>\n",
              "      <th>created_at</th>\n",
              "      <th>hashtags</th>\n",
              "      <th>label</th>\n",
              "      <th>clean_text</th>\n",
              "    </tr>\n",
              "  </thead>\n",
              "  <tbody>\n",
              "    <tr>\n",
              "      <th>0</th>\n",
              "      <td>matharesjustice wanjirunjira uhaiwetu gacheke2...</td>\n",
              "      <td>Nairobi, Kenya</td>\n",
              "      <td>8/17/2021 8:59</td>\n",
              "      <td>[]</td>\n",
              "      <td>police brutality</td>\n",
              "      <td>[matharesjustice, wanjirunjira, uhaiwetu, gach...</td>\n",
              "    </tr>\n",
              "    <tr>\n",
              "      <th>1</th>\n",
              "      <td>it is not easy being a young person in this co...</td>\n",
              "      <td>Nairobi, Kenya</td>\n",
              "      <td>8/17/2021 8:52</td>\n",
              "      <td>[]</td>\n",
              "      <td>police brutality</td>\n",
              "      <td>[easy, young, person, country, survive, kcse, ...</td>\n",
              "    </tr>\n",
              "  </tbody>\n",
              "</table>\n",
              "</div>"
            ],
            "text/plain": [
              "                                               tweet  ...                                         clean_text\n",
              "0  matharesjustice wanjirunjira uhaiwetu gacheke2...  ...  [matharesjustice, wanjirunjira, uhaiwetu, gach...\n",
              "1  it is not easy being a young person in this co...  ...  [easy, young, person, country, survive, kcse, ...\n",
              "\n",
              "[2 rows x 6 columns]"
            ]
          },
          "metadata": {
            "tags": []
          },
          "execution_count": 178
        }
      ]
    },
    {
      "cell_type": "code",
      "metadata": {
        "id": "CDPExJ9G7Cw5"
      },
      "source": [
        "#saving the tokenized file\n",
        "crime.to_csv('crimetokenized.csv')"
      ],
      "execution_count": null,
      "outputs": []
    },
    {
      "cell_type": "code",
      "metadata": {
        "id": "QQigA8ZW_X7h"
      },
      "source": [
        "#SPLITTING THE TRAINING DATASET INTO TRAINING AND VALIDATION\n",
        "\n",
        "X_train, X_val, y_train, y_val = train_test_split(crime[\"clean_text\"], \n",
        "                                                  crime['label'],\n",
        "                                                  test_size=0.33,\n",
        "                                                  shuffle=True)\n",
        "#X_train_tok= [nltk.word_tokenize(i) for i in X_train]  #for word2vec # X_train"
      ],
      "execution_count": null,
      "outputs": []
    },
    {
      "cell_type": "code",
      "metadata": {
        "colab": {
          "base_uri": "https://localhost:8080/"
        },
        "id": "mDLHyBWecAK0",
        "outputId": "110b7835-0f5b-4e4c-8b72-575d17496e95"
      },
      "source": [
        "from sklearn.feature_extraction.text import CountVectorizer\n",
        "\n",
        "vectorizer = CountVectorizer()\n",
        "vectors = vectorizer.fit_transform(crime['clean_text'])\n",
        "print(vectors)"
      ],
      "execution_count": 204,
      "outputs": [
        {
          "output_type": "stream",
          "text": [
            "  (0, 3598)\t1\n",
            "  (0, 6231)\t1\n",
            "  (0, 5966)\t1\n",
            "  (0, 2190)\t1\n",
            "  (0, 234)\t1\n",
            "  (0, 4496)\t1\n",
            "  (0, 3111)\t1\n",
            "  (0, 533)\t1\n",
            "  (0, 3664)\t1\n",
            "  (0, 2087)\t1\n",
            "  (1, 1662)\t1\n",
            "  (1, 6443)\t1\n",
            "  (1, 4421)\t1\n",
            "  (1, 1195)\t1\n",
            "  (1, 5601)\t1\n",
            "  (1, 3086)\t1\n",
            "  (1, 3259)\t1\n",
            "  (1, 516)\t1\n",
            "  (1, 2951)\t1\n",
            "  (1, 4545)\t1\n",
            "  (2, 4496)\t1\n",
            "  (2, 1006)\t1\n",
            "  (2, 6181)\t1\n",
            "  (2, 529)\t1\n",
            "  (2, 6180)\t1\n",
            "  :\t:\n",
            "  (2998, 3111)\t1\n",
            "  (2998, 2473)\t1\n",
            "  (2998, 1165)\t1\n",
            "  (2998, 241)\t1\n",
            "  (2998, 1179)\t1\n",
            "  (2998, 746)\t1\n",
            "  (2998, 5709)\t1\n",
            "  (2998, 2782)\t1\n",
            "  (2998, 3862)\t1\n",
            "  (2998, 394)\t1\n",
            "  (2998, 6462)\t1\n",
            "  (2998, 3980)\t1\n",
            "  (2998, 1709)\t1\n",
            "  (2999, 5641)\t1\n",
            "  (2999, 5783)\t1\n",
            "  (2999, 3389)\t1\n",
            "  (2999, 5510)\t1\n",
            "  (2999, 6096)\t1\n",
            "  (2999, 5309)\t1\n",
            "  (2999, 1322)\t1\n",
            "  (2999, 2142)\t1\n",
            "  (2999, 4912)\t1\n",
            "  (2999, 293)\t1\n",
            "  (2999, 1573)\t1\n",
            "  (2999, 3993)\t1\n"
          ],
          "name": "stdout"
        }
      ]
    },
    {
      "cell_type": "markdown",
      "metadata": {
        "id": "n_rbQFTlZYws"
      },
      "source": [
        "Encoding the label column"
      ]
    },
    {
      "cell_type": "code",
      "metadata": {
        "colab": {
          "base_uri": "https://localhost:8080/"
        },
        "id": "H2ZxPhJMZcVn",
        "outputId": "11fabc9c-bab6-4136-f94b-7a6ed3e9a765"
      },
      "source": [
        "label_col = ['label']\n",
        "\n",
        "for col in label_col:\n",
        "\n",
        "  label_enc= {'label': {'police brutality': 0, 'murder':1, 'corruption':2}}\n",
        "\n",
        "crime.replace(label_enc, inplace=True)\n",
        "\n",
        "crime['label'].astype(int)"
      ],
      "execution_count": 201,
      "outputs": [
        {
          "output_type": "execute_result",
          "data": {
            "text/plain": [
              "0       0\n",
              "1       0\n",
              "2       0\n",
              "3       0\n",
              "4       0\n",
              "       ..\n",
              "2995    2\n",
              "2996    2\n",
              "2997    2\n",
              "2998    2\n",
              "2999    2\n",
              "Name: label, Length: 3000, dtype: int64"
            ]
          },
          "metadata": {
            "tags": []
          },
          "execution_count": 201
        }
      ]
    },
    {
      "cell_type": "code",
      "metadata": {
        "id": "oxrR3I7Fd5Aa"
      },
      "source": [
        "crime.to_csv('crime-vectorised.csv')"
      ],
      "execution_count": 205,
      "outputs": []
    }
  ]
}