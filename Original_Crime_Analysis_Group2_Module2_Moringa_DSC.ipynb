{
  "nbformat": 4,
  "nbformat_minor": 0,
  "metadata": {
    "colab": {
      "name": "Original_Crime_Analysis_Group2_Module2_Moringa_DSC.ipynb",
      "provenance": [],
      "collapsed_sections": [],
      "include_colab_link": true
    },
    "kernelspec": {
      "name": "python3",
      "display_name": "Python 3"
    },
    "language_info": {
      "name": "python"
    }
  },
  "cells": [
    {
      "cell_type": "markdown",
      "metadata": {
        "id": "view-in-github",
        "colab_type": "text"
      },
      "source": [
        "<a href=\"https://colab.research.google.com/github/Mildredkulei7/Crime-Analysis-/blob/dev/Original_Crime_Analysis_Group2_Module2_Moringa_DSC.ipynb\" target=\"_parent\"><img src=\"https://colab.research.google.com/assets/colab-badge.svg\" alt=\"Open In Colab\"/></a>"
      ]
    },
    {
      "cell_type": "markdown",
      "metadata": {
        "id": "xMxtPsqcTsSH"
      },
      "source": [
        "# Overview"
      ]
    },
    {
      "cell_type": "code",
      "metadata": {
        "colab": {
          "base_uri": "https://localhost:8080/"
        },
        "id": "8TuHUwT5lVss",
        "outputId": "fc737666-8df1-484d-85bb-f3d833797ee4"
      },
      "source": [
        "from google.colab import drive\n",
        "drive.mount('/content/drive')"
      ],
      "execution_count": 135,
      "outputs": [
        {
          "output_type": "stream",
          "text": [
            "Drive already mounted at /content/drive; to attempt to forcibly remount, call drive.mount(\"/content/drive\", force_remount=True).\n"
          ],
          "name": "stdout"
        }
      ]
    },
    {
      "cell_type": "markdown",
      "metadata": {
        "id": "kLG2VTrnTvYL"
      },
      "source": [
        "## 1. Defining the Question"
      ]
    },
    {
      "cell_type": "markdown",
      "metadata": {
        "id": "XecOwPNorl2W"
      },
      "source": [
        "### a) Specifying the Data Analytic Question"
      ]
    },
    {
      "cell_type": "markdown",
      "metadata": {
        "id": "9ozBnKfehSAw"
      },
      "source": [
        ""
      ]
    },
    {
      "cell_type": "markdown",
      "metadata": {
        "id": "J4wfHZwQrs-t"
      },
      "source": [
        "### b) Defining the Metric for Success"
      ]
    },
    {
      "cell_type": "markdown",
      "metadata": {
        "id": "yk0I9xFHRmWV"
      },
      "source": [
        ""
      ]
    },
    {
      "cell_type": "markdown",
      "metadata": {
        "id": "a9BPYqunry97"
      },
      "source": [
        "### c) Understanding the context "
      ]
    },
    {
      "cell_type": "markdown",
      "metadata": {
        "id": "7KMRBJ7zr9HD"
      },
      "source": [
        "### d) Recording the Experimental Design"
      ]
    },
    {
      "cell_type": "markdown",
      "metadata": {
        "id": "EuPqSQY9R_4r"
      },
      "source": [
        "* 1.Defining the question \n",
        "* 2.Importing the libraries \n",
        "* 3.Reading the data \n",
        "* 4.Data preprocessing \n",
        "* 5.Exploratory data analysis(Biveriate summaries) \n",
        "* 6.Model creation \n",
        "* 7.Implementing solution \n",
        "* 8.Challenging solution"
      ]
    },
    {
      "cell_type": "markdown",
      "metadata": {
        "id": "iUNbvIvnT7ep"
      },
      "source": [
        "## 2. Reading the Data"
      ]
    },
    {
      "cell_type": "code",
      "metadata": {
        "id": "gDjYP0SkTEKa",
        "colab": {
          "base_uri": "https://localhost:8080/"
        },
        "outputId": "64393941-4426-4f22-c62f-7fdf22f66e3c"
      },
      "source": [
        "#Importing the libraries\n",
        "import pandas as pd\n",
        "import numpy as np\n",
        "import matplotlib.pyplot as plt\n",
        "import seaborn as sns\n",
        " \n",
        "from sklearn.model_selection import train_test_split\n",
        "from sklearn import metrics\n",
        "from sklearn.metrics import  accuracy_score\n",
        "from sklearn.metrics import confusion_matrix\n",
        "from sklearn.metrics import r2_score\n",
        "from sklearn.preprocessing import StandardScaler\n",
        "from sklearn.neighbors import KNeighborsClassifier\n",
        "from sklearn.metrics import classification_report\n",
        "from sklearn.discriminant_analysis import LinearDiscriminantAnalysis as LDA\n",
        "from sklearn.metrics.pairwise import cosine_similarity\n",
        "import heapq\n",
        "from collections import Counter\n",
        "from nltk.corpus import stopwords\n",
        "from nltk.util import ngrams\n",
        "from sklearn.feature_extraction.text import CountVectorizer\n",
        "from collections import defaultdict\n",
        "from collections import  Counter\n",
        "plt.style.use('ggplot')\n",
        "import re\n",
        "from nltk.tokenize import word_tokenize\n",
        "import gensim\n",
        "import string\n",
        "from keras.preprocessing.text import Tokenizer\n",
        "from keras.preprocessing.sequence import pad_sequences\n",
        "from tqdm import tqdm\n",
        "from keras.models import Sequential\n",
        "from keras.layers import Embedding,LSTM,Dense,SpatialDropout1D\n",
        "from keras.initializers import Constant\n",
        "from sklearn.model_selection import train_test_split\n",
        "from keras.optimizers import Adam\n",
        "import pandas as pd\n",
        "import numpy as np\n",
        " \n",
        "from sklearn.model_selection import train_test_split\n",
        "from sklearn.preprocessing import LabelEncoder\n",
        "from sklearn.metrics import confusion_matrix, classification_report\n",
        " \n",
        "import matplotlib.pyplot as plt\n",
        " \n",
        "from keras.preprocessing.text import Tokenizer\n",
        "from keras.preprocessing.sequence import pad_sequences\n",
        "from keras.utils import np_utils\n",
        "from keras.models import Sequential\n",
        "from keras import layers\n",
        "from keras.wrappers.scikit_learn import KerasClassifier\n",
        " \n",
        "from sklearn import metrics\n",
        "import sklearn.metrics as metrics\n",
        "from sklearn.ensemble import RandomForestClassifier\n",
        "from sklearn.ensemble import AdaBoostClassifier\n",
        "from sklearn.ensemble import GradientBoostingClassifier\n",
        "from sklearn.svm import SVC,LinearSVC\n",
        "\n",
        "#for text pre-processing\n",
        "import re, string\n",
        "import nltk\n",
        "from nltk.tokenize import word_tokenize\n",
        "from nltk.corpus import stopwords\n",
        "from nltk.tokenize import word_tokenize\n",
        "from nltk.stem import SnowballStemmer\n",
        "from nltk.corpus import wordnet\n",
        "from nltk.stem import WordNetLemmatizer\n",
        "nltk.download('punkt')\n",
        "nltk.download('averaged_perceptron_tagger')\n",
        "nltk.download('wordnet')\n",
        "#for model-building\n",
        "from sklearn.model_selection import train_test_split\n",
        "from sklearn.linear_model import LogisticRegression\n",
        "from sklearn.naive_bayes import MultinomialNB\n",
        "from sklearn.metrics import classification_report, f1_score, accuracy_score, confusion_matrix\n",
        "from sklearn.metrics import roc_curve, auc, roc_auc_score\n",
        "# bag of words\n",
        "from sklearn.feature_extraction.text import TfidfVectorizer\n",
        "from sklearn.feature_extraction.text import CountVectorizer\n",
        "#for word embedding\n",
        "import gensim\n",
        "from gensim.models import Word2Vec"
      ],
      "execution_count": 136,
      "outputs": [
        {
          "output_type": "stream",
          "text": [
            "[nltk_data] Downloading package punkt to /root/nltk_data...\n",
            "[nltk_data]   Package punkt is already up-to-date!\n",
            "[nltk_data] Downloading package averaged_perceptron_tagger to\n",
            "[nltk_data]     /root/nltk_data...\n",
            "[nltk_data]   Package averaged_perceptron_tagger is already up-to-\n",
            "[nltk_data]       date!\n",
            "[nltk_data] Downloading package wordnet to /root/nltk_data...\n",
            "[nltk_data]   Package wordnet is already up-to-date!\n"
          ],
          "name": "stdout"
        }
      ]
    },
    {
      "cell_type": "code",
      "metadata": {
        "id": "XJn2KjW-WMlG"
      },
      "source": [
        "# Loading the Data from the source i.e. csv\n",
        "# ---\n",
        "police_brutality= pd.read_csv('/content/drive/MyDrive/GROUP 2/CSV files/Police_Brutality.csv')\n",
        "\n",
        "corruption=pd.read_csv('/content/drive/MyDrive/GROUP 2/CSV files/corruption_final.csv')\n",
        "\n",
        "missing= pd.read_csv('/content/drive/MyDrive/GROUP 2/CSV files/final missing.csv')\n",
        "\n",
        "pickpocket = pd.read_csv('/content/drive/MyDrive/GROUP 2/CSV files/pickpocket.csv')\n",
        "\n",
        "murder =pd.read_csv('/content/drive/MyDrive/GROUP 2/CSV files/final murder.csv')"
      ],
      "execution_count": 137,
      "outputs": []
    },
    {
      "cell_type": "code",
      "metadata": {
        "id": "4PWO2arDTuGN",
        "colab": {
          "base_uri": "https://localhost:8080/",
          "height": 559
        },
        "outputId": "94e53f4c-9d6a-4bec-f5cf-7c8bc38d9846"
      },
      "source": [
        "#checking the top of our dataset\n",
        "\n",
        "police_brutality.head()"
      ],
      "execution_count": 138,
      "outputs": [
        {
          "output_type": "execute_result",
          "data": {
            "text/html": [
              "<div>\n",
              "<style scoped>\n",
              "    .dataframe tbody tr th:only-of-type {\n",
              "        vertical-align: middle;\n",
              "    }\n",
              "\n",
              "    .dataframe tbody tr th {\n",
              "        vertical-align: top;\n",
              "    }\n",
              "\n",
              "    .dataframe thead th {\n",
              "        text-align: right;\n",
              "    }\n",
              "</style>\n",
              "<table border=\"1\" class=\"dataframe\">\n",
              "  <thead>\n",
              "    <tr style=\"text-align: right;\">\n",
              "      <th></th>\n",
              "      <th>Unnamed: 0</th>\n",
              "      <th>user</th>\n",
              "      <th>tweet</th>\n",
              "      <th>location</th>\n",
              "      <th>description</th>\n",
              "      <th>friends_count</th>\n",
              "      <th>followers_count</th>\n",
              "      <th>statuses_count</th>\n",
              "      <th>created_at</th>\n",
              "      <th>retweet_count</th>\n",
              "      <th>hashtags</th>\n",
              "      <th>label</th>\n",
              "    </tr>\n",
              "  </thead>\n",
              "  <tbody>\n",
              "    <tr>\n",
              "      <th>0</th>\n",
              "      <td>0</td>\n",
              "      <td>ThinkerwaThika</td>\n",
              "      <td>@citizentvkenya It's at the extremity of life ...</td>\n",
              "      <td>Nairobi, Kenya</td>\n",
              "      <td>This Is Eddie✌\\nGreat Thinker 💭\\nWriter 📒\\nMat...</td>\n",
              "      <td>688</td>\n",
              "      <td>1340</td>\n",
              "      <td>7383</td>\n",
              "      <td>6/19/2016 6:57</td>\n",
              "      <td>0</td>\n",
              "      <td>[]</td>\n",
              "      <td>Police Brutality</td>\n",
              "    </tr>\n",
              "    <tr>\n",
              "      <th>1</th>\n",
              "      <td>1</td>\n",
              "      <td>ThinkerwaThika</td>\n",
              "      <td>@EileenWakesho I'm Feeling hurt ...I really fe...</td>\n",
              "      <td>Nairobi, Kenya</td>\n",
              "      <td>This Is Eddie✌\\nGreat Thinker 💭\\nWriter 📒\\nMat...</td>\n",
              "      <td>688</td>\n",
              "      <td>1340</td>\n",
              "      <td>7383</td>\n",
              "      <td>6/19/2016 6:57</td>\n",
              "      <td>0</td>\n",
              "      <td>[]</td>\n",
              "      <td>Police Brutality</td>\n",
              "    </tr>\n",
              "    <tr>\n",
              "      <th>2</th>\n",
              "      <td>2</td>\n",
              "      <td>Its_Roba</td>\n",
              "      <td>Every time I learn sth about the Kionjokama br...</td>\n",
              "      <td>Nairobi, Kenya</td>\n",
              "      <td>A yearning heart, inquisitive, sometimes an ad...</td>\n",
              "      <td>2485</td>\n",
              "      <td>3765</td>\n",
              "      <td>11179</td>\n",
              "      <td>7/14/2015 22:23</td>\n",
              "      <td>1</td>\n",
              "      <td>[]</td>\n",
              "      <td>Police Brutality</td>\n",
              "    </tr>\n",
              "    <tr>\n",
              "      <th>3</th>\n",
              "      <td>3</td>\n",
              "      <td>mwakodi</td>\n",
              "      <td>I lit these 2 candles tonight in their memory....</td>\n",
              "      <td>Nairobi</td>\n",
              "      <td>An outspoken human rights defender advocating ...</td>\n",
              "      <td>331</td>\n",
              "      <td>170</td>\n",
              "      <td>1988</td>\n",
              "      <td>11/29/2012 16:14</td>\n",
              "      <td>2</td>\n",
              "      <td>[]</td>\n",
              "      <td>Police Brutality</td>\n",
              "    </tr>\n",
              "    <tr>\n",
              "      <th>4</th>\n",
              "      <td>4</td>\n",
              "      <td>muthuriamos</td>\n",
              "      <td>It seems being young in this country is a crim...</td>\n",
              "      <td>nairobi</td>\n",
              "      <td>the goal is to get wealthier, wiser and health...</td>\n",
              "      <td>1901</td>\n",
              "      <td>1273</td>\n",
              "      <td>666</td>\n",
              "      <td>01/08/2014 04:39</td>\n",
              "      <td>1</td>\n",
              "      <td>[]</td>\n",
              "      <td>Police Brutality</td>\n",
              "    </tr>\n",
              "  </tbody>\n",
              "</table>\n",
              "</div>"
            ],
            "text/plain": [
              "   Unnamed: 0            user  ... hashtags             label\n",
              "0           0  ThinkerwaThika  ...       []  Police Brutality\n",
              "1           1  ThinkerwaThika  ...       []  Police Brutality\n",
              "2           2        Its_Roba  ...       []  Police Brutality\n",
              "3           3         mwakodi  ...       []  Police Brutality\n",
              "4           4     muthuriamos  ...       []  Police Brutality\n",
              "\n",
              "[5 rows x 12 columns]"
            ]
          },
          "metadata": {
            "tags": []
          },
          "execution_count": 138
        }
      ]
    },
    {
      "cell_type": "code",
      "metadata": {
        "colab": {
          "base_uri": "https://localhost:8080/",
          "height": 458
        },
        "id": "-zscNxeink9Y",
        "outputId": "4e090b46-6b01-4dfa-a414-e22bfac3bdc2"
      },
      "source": [
        "corruption.head()"
      ],
      "execution_count": 139,
      "outputs": [
        {
          "output_type": "execute_result",
          "data": {
            "text/html": [
              "<div>\n",
              "<style scoped>\n",
              "    .dataframe tbody tr th:only-of-type {\n",
              "        vertical-align: middle;\n",
              "    }\n",
              "\n",
              "    .dataframe tbody tr th {\n",
              "        vertical-align: top;\n",
              "    }\n",
              "\n",
              "    .dataframe thead th {\n",
              "        text-align: right;\n",
              "    }\n",
              "</style>\n",
              "<table border=\"1\" class=\"dataframe\">\n",
              "  <thead>\n",
              "    <tr style=\"text-align: right;\">\n",
              "      <th></th>\n",
              "      <th>Unnamed: 0</th>\n",
              "      <th>user</th>\n",
              "      <th>tweet</th>\n",
              "      <th>location</th>\n",
              "      <th>description</th>\n",
              "      <th>friends_count</th>\n",
              "      <th>followers_count</th>\n",
              "      <th>statuses_count</th>\n",
              "      <th>created_at</th>\n",
              "      <th>retweet_count</th>\n",
              "      <th>hashtags</th>\n",
              "      <th>label</th>\n",
              "    </tr>\n",
              "  </thead>\n",
              "  <tbody>\n",
              "    <tr>\n",
              "      <th>0</th>\n",
              "      <td>0</td>\n",
              "      <td>TIKenya</td>\n",
              "      <td>As the political campaign season heats up, the...</td>\n",
              "      <td>Nairobi, Kenya</td>\n",
              "      <td>Transparency International Kenya | Not for Pro...</td>\n",
              "      <td>2309</td>\n",
              "      <td>15927</td>\n",
              "      <td>20315</td>\n",
              "      <td>8/19/2010 7:49</td>\n",
              "      <td>26</td>\n",
              "      <td>[]</td>\n",
              "      <td>corruption</td>\n",
              "    </tr>\n",
              "    <tr>\n",
              "      <th>1</th>\n",
              "      <td>1</td>\n",
              "      <td>TimKurya</td>\n",
              "      <td>BEST DEALS ON LOCALLY AND FOREIGN USED VEHICLE...</td>\n",
              "      <td>Nairobi, Kenya</td>\n",
              "      <td>NEVER LIMIT WHAT GOD CAN DO \\nGOD OVER EVERYTHING</td>\n",
              "      <td>1082</td>\n",
              "      <td>1079</td>\n",
              "      <td>2171</td>\n",
              "      <td>1/4/2017 18:26</td>\n",
              "      <td>0</td>\n",
              "      <td>[{'text': 'Corruption', 'indices': [95, 106]}]</td>\n",
              "      <td>corruption</td>\n",
              "    </tr>\n",
              "    <tr>\n",
              "      <th>2</th>\n",
              "      <td>2</td>\n",
              "      <td>Tuko_co_ke</td>\n",
              "      <td>In your opinion, which political party/allianc...</td>\n",
              "      <td>Nairobi, Kenya</td>\n",
              "      <td>Follow TUKO for reliable breaking news on Poli...</td>\n",
              "      <td>4000</td>\n",
              "      <td>166335</td>\n",
              "      <td>107983</td>\n",
              "      <td>4/2/2015 13:49</td>\n",
              "      <td>6</td>\n",
              "      <td>[]</td>\n",
              "      <td>corruption</td>\n",
              "    </tr>\n",
              "    <tr>\n",
              "      <th>3</th>\n",
              "      <td>3</td>\n",
              "      <td>WEnzoveli</td>\n",
              "      <td>#CORRUPTION FORM ZAMBIA TO KENYA ND THEN THE W...</td>\n",
              "      <td>Kericho, Kenya</td>\n",
              "      <td>I'm a child of Yahweh.....Son/Brother/Linguist...</td>\n",
              "      <td>330</td>\n",
              "      <td>607</td>\n",
              "      <td>2631</td>\n",
              "      <td>1/10/2019 16:27</td>\n",
              "      <td>0</td>\n",
              "      <td>[{'text': 'CORRUPTION', 'indices': [0, 11]}]</td>\n",
              "      <td>corruption</td>\n",
              "    </tr>\n",
              "    <tr>\n",
              "      <th>4</th>\n",
              "      <td>4</td>\n",
              "      <td>OkoreOkoth</td>\n",
              "      <td>#Corruption@helb @HELBpage @Owino @CisNyakundi...</td>\n",
              "      <td>nakuru</td>\n",
              "      <td>Portfolio manager and financial analyst at KWMB</td>\n",
              "      <td>302</td>\n",
              "      <td>127</td>\n",
              "      <td>724</td>\n",
              "      <td>1/20/2014 13:16</td>\n",
              "      <td>0</td>\n",
              "      <td>[{'text': 'Corruption', 'indices': [0, 11]}]</td>\n",
              "      <td>corruption</td>\n",
              "    </tr>\n",
              "  </tbody>\n",
              "</table>\n",
              "</div>"
            ],
            "text/plain": [
              "   Unnamed: 0  ...       label\n",
              "0           0  ...  corruption\n",
              "1           1  ...  corruption\n",
              "2           2  ...  corruption\n",
              "3           3  ...  corruption\n",
              "4           4  ...  corruption\n",
              "\n",
              "[5 rows x 12 columns]"
            ]
          },
          "metadata": {
            "tags": []
          },
          "execution_count": 139
        }
      ]
    },
    {
      "cell_type": "code",
      "metadata": {
        "colab": {
          "base_uri": "https://localhost:8080/",
          "height": 643
        },
        "id": "gOADKPNYnzPO",
        "outputId": "f18a5f42-46b5-4159-f207-b12f2b6284cb"
      },
      "source": [
        "missing.head()"
      ],
      "execution_count": 140,
      "outputs": [
        {
          "output_type": "execute_result",
          "data": {
            "text/html": [
              "<div>\n",
              "<style scoped>\n",
              "    .dataframe tbody tr th:only-of-type {\n",
              "        vertical-align: middle;\n",
              "    }\n",
              "\n",
              "    .dataframe tbody tr th {\n",
              "        vertical-align: top;\n",
              "    }\n",
              "\n",
              "    .dataframe thead th {\n",
              "        text-align: right;\n",
              "    }\n",
              "</style>\n",
              "<table border=\"1\" class=\"dataframe\">\n",
              "  <thead>\n",
              "    <tr style=\"text-align: right;\">\n",
              "      <th></th>\n",
              "      <th>Unnamed: 0</th>\n",
              "      <th>Unnamed: 0.1</th>\n",
              "      <th>user</th>\n",
              "      <th>tweet</th>\n",
              "      <th>location</th>\n",
              "      <th>description</th>\n",
              "      <th>friends_count</th>\n",
              "      <th>followers_count</th>\n",
              "      <th>statuses_count</th>\n",
              "      <th>created_at</th>\n",
              "      <th>retweet_count</th>\n",
              "      <th>hashtags</th>\n",
              "      <th>label</th>\n",
              "    </tr>\n",
              "  </thead>\n",
              "  <tbody>\n",
              "    <tr>\n",
              "      <th>0</th>\n",
              "      <td>0</td>\n",
              "      <td>0</td>\n",
              "      <td>missingchild_ke</td>\n",
              "      <td>GOOD NEWS – CHILD FOUND. Wallace Misiko (16 yr...</td>\n",
              "      <td>Nairobi, Kenya</td>\n",
              "      <td>Search Trace &amp; Reunification for MISSING CHILD...</td>\n",
              "      <td>9250</td>\n",
              "      <td>10708</td>\n",
              "      <td>3613</td>\n",
              "      <td>2016-07-12 11:42:35</td>\n",
              "      <td>1</td>\n",
              "      <td>[]</td>\n",
              "      <td>abduction</td>\n",
              "    </tr>\n",
              "    <tr>\n",
              "      <th>1</th>\n",
              "      <td>1</td>\n",
              "      <td>1</td>\n",
              "      <td>missingchild_ke</td>\n",
              "      <td>GOOD NEWS – CHILD FOUND.  Teresa Wairimu (15 y...</td>\n",
              "      <td>Nairobi, Kenya</td>\n",
              "      <td>Search Trace &amp; Reunification for MISSING CHILD...</td>\n",
              "      <td>9250</td>\n",
              "      <td>10708</td>\n",
              "      <td>3613</td>\n",
              "      <td>2016-07-12 11:42:35</td>\n",
              "      <td>0</td>\n",
              "      <td>[]</td>\n",
              "      <td>abduction</td>\n",
              "    </tr>\n",
              "    <tr>\n",
              "      <th>2</th>\n",
              "      <td>2</td>\n",
              "      <td>2</td>\n",
              "      <td>missingchild_ke</td>\n",
              "      <td>MISSING CHILD ALERT – DAGORETTI - NAIROBI. Glo...</td>\n",
              "      <td>Nairobi, Kenya</td>\n",
              "      <td>Search Trace &amp; Reunification for MISSING CHILD...</td>\n",
              "      <td>9250</td>\n",
              "      <td>10708</td>\n",
              "      <td>3613</td>\n",
              "      <td>2016-07-12 11:42:35</td>\n",
              "      <td>35</td>\n",
              "      <td>[]</td>\n",
              "      <td>abduction</td>\n",
              "    </tr>\n",
              "    <tr>\n",
              "      <th>3</th>\n",
              "      <td>3</td>\n",
              "      <td>3</td>\n",
              "      <td>missingchild_ke</td>\n",
              "      <td>MISSING CHILD ALERT – MUKURWEINI - NYERI. Tami...</td>\n",
              "      <td>Nairobi, Kenya</td>\n",
              "      <td>Search Trace &amp; Reunification for MISSING CHILD...</td>\n",
              "      <td>9250</td>\n",
              "      <td>10708</td>\n",
              "      <td>3613</td>\n",
              "      <td>2016-07-12 11:42:35</td>\n",
              "      <td>32</td>\n",
              "      <td>[]</td>\n",
              "      <td>abduction</td>\n",
              "    </tr>\n",
              "    <tr>\n",
              "      <th>4</th>\n",
              "      <td>4</td>\n",
              "      <td>4</td>\n",
              "      <td>missingchild_ke</td>\n",
              "      <td>UPDATE – CHILD FOUND. Rudolf Mwenda Mwaniki (1...</td>\n",
              "      <td>Nairobi, Kenya</td>\n",
              "      <td>Search Trace &amp; Reunification for MISSING CHILD...</td>\n",
              "      <td>9250</td>\n",
              "      <td>10708</td>\n",
              "      <td>3613</td>\n",
              "      <td>2016-07-12 11:42:35</td>\n",
              "      <td>1</td>\n",
              "      <td>[]</td>\n",
              "      <td>abduction</td>\n",
              "    </tr>\n",
              "  </tbody>\n",
              "</table>\n",
              "</div>"
            ],
            "text/plain": [
              "   Unnamed: 0  Unnamed: 0.1             user  ... retweet_count hashtags      label\n",
              "0           0             0  missingchild_ke  ...             1       []  abduction\n",
              "1           1             1  missingchild_ke  ...             0       []  abduction\n",
              "2           2             2  missingchild_ke  ...            35       []  abduction\n",
              "3           3             3  missingchild_ke  ...            32       []  abduction\n",
              "4           4             4  missingchild_ke  ...             1       []  abduction\n",
              "\n",
              "[5 rows x 13 columns]"
            ]
          },
          "metadata": {
            "tags": []
          },
          "execution_count": 140
        }
      ]
    },
    {
      "cell_type": "code",
      "metadata": {
        "colab": {
          "base_uri": "https://localhost:8080/",
          "height": 296
        },
        "id": "-aThIH8Cn70y",
        "outputId": "745a11a7-96f9-4926-fd35-d98c023032a6"
      },
      "source": [
        "pickpocket.head()"
      ],
      "execution_count": 141,
      "outputs": [
        {
          "output_type": "execute_result",
          "data": {
            "text/html": [
              "<div>\n",
              "<style scoped>\n",
              "    .dataframe tbody tr th:only-of-type {\n",
              "        vertical-align: middle;\n",
              "    }\n",
              "\n",
              "    .dataframe tbody tr th {\n",
              "        vertical-align: top;\n",
              "    }\n",
              "\n",
              "    .dataframe thead th {\n",
              "        text-align: right;\n",
              "    }\n",
              "</style>\n",
              "<table border=\"1\" class=\"dataframe\">\n",
              "  <thead>\n",
              "    <tr style=\"text-align: right;\">\n",
              "      <th></th>\n",
              "      <th>Unnamed: 0</th>\n",
              "      <th>user</th>\n",
              "      <th>tweet</th>\n",
              "      <th>location</th>\n",
              "      <th>description</th>\n",
              "      <th>friends_count</th>\n",
              "      <th>followers_count</th>\n",
              "      <th>statuses_count</th>\n",
              "      <th>created_at</th>\n",
              "      <th>retweet_count</th>\n",
              "      <th>hashtags</th>\n",
              "      <th>label</th>\n",
              "    </tr>\n",
              "  </thead>\n",
              "  <tbody>\n",
              "    <tr>\n",
              "      <th>0</th>\n",
              "      <td>0</td>\n",
              "      <td>NewsAlerts_Ke</td>\n",
              "      <td>@lawrencekitema Phone pickpocketing...ilikua o...</td>\n",
              "      <td>Nairobi, Kenya</td>\n",
              "      <td>Digital Media and News 🗞️ Alerts_|To Inform|Ed...</td>\n",
              "      <td>3343</td>\n",
              "      <td>1167</td>\n",
              "      <td>825</td>\n",
              "      <td>21/01/2021 19:03</td>\n",
              "      <td>0</td>\n",
              "      <td>[]</td>\n",
              "      <td>pickpocket</td>\n",
              "    </tr>\n",
              "    <tr>\n",
              "      <th>1</th>\n",
              "      <td>1</td>\n",
              "      <td>leyi_leleti</td>\n",
              "      <td>Now they're back to pickpocketing us kwa matatu</td>\n",
              "      <td>Nairobi Kenya</td>\n",
              "      <td>NaN</td>\n",
              "      <td>337</td>\n",
              "      <td>778</td>\n",
              "      <td>2547</td>\n",
              "      <td>23/06/2014 07:50</td>\n",
              "      <td>0</td>\n",
              "      <td>[]</td>\n",
              "      <td>pickpocket</td>\n",
              "    </tr>\n",
              "    <tr>\n",
              "      <th>2</th>\n",
              "      <td>2</td>\n",
              "      <td>Raybo0mLynn</td>\n",
              "      <td>meet a 12 yr old who was arrested for pickpock...</td>\n",
              "      <td>Nairobi</td>\n",
              "      <td>NaN</td>\n",
              "      <td>582</td>\n",
              "      <td>648</td>\n",
              "      <td>4711</td>\n",
              "      <td>26/05/2009 05:47</td>\n",
              "      <td>2</td>\n",
              "      <td>[]</td>\n",
              "      <td>pickpocket</td>\n",
              "    </tr>\n",
              "  </tbody>\n",
              "</table>\n",
              "</div>"
            ],
            "text/plain": [
              "   Unnamed: 0           user  ... hashtags       label\n",
              "0           0  NewsAlerts_Ke  ...       []  pickpocket\n",
              "1           1    leyi_leleti  ...       []  pickpocket\n",
              "2           2    Raybo0mLynn  ...       []  pickpocket\n",
              "\n",
              "[3 rows x 12 columns]"
            ]
          },
          "metadata": {
            "tags": []
          },
          "execution_count": 141
        }
      ]
    },
    {
      "cell_type": "code",
      "metadata": {
        "colab": {
          "base_uri": "https://localhost:8080/",
          "height": 442
        },
        "id": "p7i9Q7LDoFov",
        "outputId": "65705781-dee6-4429-d1a4-26c96e27850e"
      },
      "source": [
        "murder.head()"
      ],
      "execution_count": 142,
      "outputs": [
        {
          "output_type": "execute_result",
          "data": {
            "text/html": [
              "<div>\n",
              "<style scoped>\n",
              "    .dataframe tbody tr th:only-of-type {\n",
              "        vertical-align: middle;\n",
              "    }\n",
              "\n",
              "    .dataframe tbody tr th {\n",
              "        vertical-align: top;\n",
              "    }\n",
              "\n",
              "    .dataframe thead th {\n",
              "        text-align: right;\n",
              "    }\n",
              "</style>\n",
              "<table border=\"1\" class=\"dataframe\">\n",
              "  <thead>\n",
              "    <tr style=\"text-align: right;\">\n",
              "      <th></th>\n",
              "      <th>Unnamed: 0</th>\n",
              "      <th>Unnamed: 0.1</th>\n",
              "      <th>user</th>\n",
              "      <th>tweet</th>\n",
              "      <th>location</th>\n",
              "      <th>description</th>\n",
              "      <th>friends_count</th>\n",
              "      <th>followers_count</th>\n",
              "      <th>statuses_count</th>\n",
              "      <th>created_at</th>\n",
              "      <th>retweet_count</th>\n",
              "      <th>hashtags</th>\n",
              "      <th>label</th>\n",
              "    </tr>\n",
              "  </thead>\n",
              "  <tbody>\n",
              "    <tr>\n",
              "      <th>0</th>\n",
              "      <td>0</td>\n",
              "      <td>0</td>\n",
              "      <td>Partoz_COG</td>\n",
              "      <td>Sad as Primary School Teacher Dies, Several St...</td>\n",
              "      <td>Nairobi Kenya</td>\n",
              "      <td>God cares for me and i will always trust in Him.</td>\n",
              "      <td>1346</td>\n",
              "      <td>279</td>\n",
              "      <td>1408</td>\n",
              "      <td>2012-03-27 06:45:19</td>\n",
              "      <td>1</td>\n",
              "      <td>[]</td>\n",
              "      <td>murder</td>\n",
              "    </tr>\n",
              "    <tr>\n",
              "      <th>1</th>\n",
              "      <td>1</td>\n",
              "      <td>1</td>\n",
              "      <td>anj_116_</td>\n",
              "      <td>We need a #JusticeForKianjokomaBrothers and #K...</td>\n",
              "      <td>Ba Sing Se, Earth Kingdom</td>\n",
              "      <td>GFB</td>\n",
              "      <td>10392</td>\n",
              "      <td>13516</td>\n",
              "      <td>246797</td>\n",
              "      <td>2011-03-09 10:46:29</td>\n",
              "      <td>3</td>\n",
              "      <td>[{'text': 'JusticeForKianjokomaBrothers', 'ind...</td>\n",
              "      <td>murder</td>\n",
              "    </tr>\n",
              "    <tr>\n",
              "      <th>2</th>\n",
              "      <td>2</td>\n",
              "      <td>2</td>\n",
              "      <td>AlWandaabz</td>\n",
              "      <td>By this I mean if some people having these arm...</td>\n",
              "      <td>Nairobi, Kenya</td>\n",
              "      <td>living on vibes and inshallah 😌.</td>\n",
              "      <td>273</td>\n",
              "      <td>218</td>\n",
              "      <td>2761</td>\n",
              "      <td>2017-06-12 19:12:12</td>\n",
              "      <td>0</td>\n",
              "      <td>[]</td>\n",
              "      <td>murder</td>\n",
              "    </tr>\n",
              "    <tr>\n",
              "      <th>3</th>\n",
              "      <td>3</td>\n",
              "      <td>3</td>\n",
              "      <td>ImbayiK</td>\n",
              "      <td>@IG_NPS next week don't even ask us to engage....</td>\n",
              "      <td>Nairobi, Kenya</td>\n",
              "      <td>Stylist || I'm not stylish, I'm style || Rhumb...</td>\n",
              "      <td>1029</td>\n",
              "      <td>15333</td>\n",
              "      <td>127640</td>\n",
              "      <td>2018-04-05 07:37:02</td>\n",
              "      <td>0</td>\n",
              "      <td>[{'text': 'JusticeForKianjokomaBrothers', 'ind...</td>\n",
              "      <td>murder</td>\n",
              "    </tr>\n",
              "    <tr>\n",
              "      <th>4</th>\n",
              "      <td>4</td>\n",
              "      <td>4</td>\n",
              "      <td>bankwood_ke</td>\n",
              "      <td>puree facsts #KitengelaBrothers https://t.co/Z...</td>\n",
              "      <td>Juja</td>\n",
              "      <td>Family is an F word©️</td>\n",
              "      <td>734</td>\n",
              "      <td>769</td>\n",
              "      <td>2831</td>\n",
              "      <td>2019-07-03 10:56:06</td>\n",
              "      <td>0</td>\n",
              "      <td>[{'text': 'KitengelaBrothers', 'indices': [13,...</td>\n",
              "      <td>murder</td>\n",
              "    </tr>\n",
              "  </tbody>\n",
              "</table>\n",
              "</div>"
            ],
            "text/plain": [
              "   Unnamed: 0  ...   label\n",
              "0           0  ...  murder\n",
              "1           1  ...  murder\n",
              "2           2  ...  murder\n",
              "3           3  ...  murder\n",
              "4           4  ...  murder\n",
              "\n",
              "[5 rows x 13 columns]"
            ]
          },
          "metadata": {
            "tags": []
          },
          "execution_count": 142
        }
      ]
    },
    {
      "cell_type": "code",
      "metadata": {
        "colab": {
          "base_uri": "https://localhost:8080/",
          "height": 442
        },
        "id": "kYssKpJroLDa",
        "outputId": "0e127bd0-cac2-4f2e-afe6-a70e1d52a637"
      },
      "source": [
        "#checking the tail\n",
        "police_brutality.tail()"
      ],
      "execution_count": 143,
      "outputs": [
        {
          "output_type": "execute_result",
          "data": {
            "text/html": [
              "<div>\n",
              "<style scoped>\n",
              "    .dataframe tbody tr th:only-of-type {\n",
              "        vertical-align: middle;\n",
              "    }\n",
              "\n",
              "    .dataframe tbody tr th {\n",
              "        vertical-align: top;\n",
              "    }\n",
              "\n",
              "    .dataframe thead th {\n",
              "        text-align: right;\n",
              "    }\n",
              "</style>\n",
              "<table border=\"1\" class=\"dataframe\">\n",
              "  <thead>\n",
              "    <tr style=\"text-align: right;\">\n",
              "      <th></th>\n",
              "      <th>Unnamed: 0</th>\n",
              "      <th>user</th>\n",
              "      <th>tweet</th>\n",
              "      <th>location</th>\n",
              "      <th>description</th>\n",
              "      <th>friends_count</th>\n",
              "      <th>followers_count</th>\n",
              "      <th>statuses_count</th>\n",
              "      <th>created_at</th>\n",
              "      <th>retweet_count</th>\n",
              "      <th>hashtags</th>\n",
              "      <th>label</th>\n",
              "    </tr>\n",
              "  </thead>\n",
              "  <tbody>\n",
              "    <tr>\n",
              "      <th>995</th>\n",
              "      <td>995</td>\n",
              "      <td>MkenyaD95974417</td>\n",
              "      <td>One of the Ndwiga Brothers was an aspiring Law...</td>\n",
              "      <td>Murang'a</td>\n",
              "      <td>Polymath, Afro-optimist,Kenyan, Husband, Fathe...</td>\n",
              "      <td>677</td>\n",
              "      <td>201</td>\n",
              "      <td>15088</td>\n",
              "      <td>12/11/2019 13:09</td>\n",
              "      <td>5</td>\n",
              "      <td>[{'text': 'IEK', 'indices': [95, 99]}, {'text'...</td>\n",
              "      <td>Police Brutality</td>\n",
              "    </tr>\n",
              "    <tr>\n",
              "      <th>996</th>\n",
              "      <td>996</td>\n",
              "      <td>Shikukega</td>\n",
              "      <td>#JusticeForKianjokomaBrothers\\n#JusticeforEmma...</td>\n",
              "      <td>Nairobi, Kenya</td>\n",
              "      <td>Its either 'One Day' or 'Day One'</td>\n",
              "      <td>1146</td>\n",
              "      <td>1427</td>\n",
              "      <td>3093</td>\n",
              "      <td>1/17/2012 16:20</td>\n",
              "      <td>2</td>\n",
              "      <td>[{'text': 'JusticeForKianjokomaBrothers', 'ind...</td>\n",
              "      <td>Police Brutality</td>\n",
              "    </tr>\n",
              "    <tr>\n",
              "      <th>997</th>\n",
              "      <td>997</td>\n",
              "      <td>karris_kikkie</td>\n",
              "      <td>why should two young souls never see the sun a...</td>\n",
              "      <td>Nairobi, Kenya</td>\n",
              "      <td>FilmMaking and Theatre Perfomance...My kind of...</td>\n",
              "      <td>172</td>\n",
              "      <td>154</td>\n",
              "      <td>148</td>\n",
              "      <td>11/03/2014 05:08</td>\n",
              "      <td>0</td>\n",
              "      <td>[]</td>\n",
              "      <td>Police Brutality</td>\n",
              "    </tr>\n",
              "    <tr>\n",
              "      <th>998</th>\n",
              "      <td>998</td>\n",
              "      <td>profkitur</td>\n",
              "      <td>It's reported that the officers who arrested t...</td>\n",
              "      <td>Eldoret, Kenya</td>\n",
              "      <td>#ICT #Marketing #infosec #CyberSecurity</td>\n",
              "      <td>8753</td>\n",
              "      <td>15794</td>\n",
              "      <td>10823</td>\n",
              "      <td>5/13/2012 9:19</td>\n",
              "      <td>0</td>\n",
              "      <td>[]</td>\n",
              "      <td>Police Brutality</td>\n",
              "    </tr>\n",
              "    <tr>\n",
              "      <th>999</th>\n",
              "      <td>999</td>\n",
              "      <td>mugendi934</td>\n",
              "      <td>We demand justice. #JusticeForKianjokomaBrothers</td>\n",
              "      <td>Nairobi</td>\n",
              "      <td>Courageous,born to win and 100℅ Jesus. A farme...</td>\n",
              "      <td>1180</td>\n",
              "      <td>617</td>\n",
              "      <td>1381</td>\n",
              "      <td>4/30/2016 5:48</td>\n",
              "      <td>0</td>\n",
              "      <td>[{'text': 'JusticeForKianjokomaBrothers', 'ind...</td>\n",
              "      <td>Police Brutality</td>\n",
              "    </tr>\n",
              "  </tbody>\n",
              "</table>\n",
              "</div>"
            ],
            "text/plain": [
              "     Unnamed: 0  ...             label\n",
              "995         995  ...  Police Brutality\n",
              "996         996  ...  Police Brutality\n",
              "997         997  ...  Police Brutality\n",
              "998         998  ...  Police Brutality\n",
              "999         999  ...  Police Brutality\n",
              "\n",
              "[5 rows x 12 columns]"
            ]
          },
          "metadata": {
            "tags": []
          },
          "execution_count": 143
        }
      ]
    },
    {
      "cell_type": "code",
      "metadata": {
        "colab": {
          "base_uri": "https://localhost:8080/",
          "height": 458
        },
        "id": "4ILOlSWSoeTQ",
        "outputId": "bf9466af-b3a7-4923-f94d-6b141594732c"
      },
      "source": [
        "corruption.tail()"
      ],
      "execution_count": 144,
      "outputs": [
        {
          "output_type": "execute_result",
          "data": {
            "text/html": [
              "<div>\n",
              "<style scoped>\n",
              "    .dataframe tbody tr th:only-of-type {\n",
              "        vertical-align: middle;\n",
              "    }\n",
              "\n",
              "    .dataframe tbody tr th {\n",
              "        vertical-align: top;\n",
              "    }\n",
              "\n",
              "    .dataframe thead th {\n",
              "        text-align: right;\n",
              "    }\n",
              "</style>\n",
              "<table border=\"1\" class=\"dataframe\">\n",
              "  <thead>\n",
              "    <tr style=\"text-align: right;\">\n",
              "      <th></th>\n",
              "      <th>Unnamed: 0</th>\n",
              "      <th>user</th>\n",
              "      <th>tweet</th>\n",
              "      <th>location</th>\n",
              "      <th>description</th>\n",
              "      <th>friends_count</th>\n",
              "      <th>followers_count</th>\n",
              "      <th>statuses_count</th>\n",
              "      <th>created_at</th>\n",
              "      <th>retweet_count</th>\n",
              "      <th>hashtags</th>\n",
              "      <th>label</th>\n",
              "    </tr>\n",
              "  </thead>\n",
              "  <tbody>\n",
              "    <tr>\n",
              "      <th>9</th>\n",
              "      <td>9</td>\n",
              "      <td>OkoreOkoth</td>\n",
              "      <td>@HELBpage @StateHouseKenya A thread on #Corrup...</td>\n",
              "      <td>nakuru</td>\n",
              "      <td>Portfolio manager and financial analyst at KWMB</td>\n",
              "      <td>302</td>\n",
              "      <td>127</td>\n",
              "      <td>724</td>\n",
              "      <td>1/20/2014 13:16</td>\n",
              "      <td>0</td>\n",
              "      <td>[{'text': 'Corruption', 'indices': [39, 50]}]</td>\n",
              "      <td>corruption</td>\n",
              "    </tr>\n",
              "    <tr>\n",
              "      <th>10</th>\n",
              "      <td>10</td>\n",
              "      <td>skizadua</td>\n",
              "      <td>Always seek justice \\n\\n                     a...</td>\n",
              "      <td>Nairobi, Kenya</td>\n",
              "      <td>I stand for fairness and equality.</td>\n",
              "      <td>473</td>\n",
              "      <td>640</td>\n",
              "      <td>16574</td>\n",
              "      <td>10/3/2015 15:27</td>\n",
              "      <td>0</td>\n",
              "      <td>[{'text': 'HumanRights', 'indices': [95, 107]}]</td>\n",
              "      <td>corruption</td>\n",
              "    </tr>\n",
              "    <tr>\n",
              "      <th>11</th>\n",
              "      <td>11</td>\n",
              "      <td>AOgolla</td>\n",
              "      <td>#CORRUPTION of any nature is officially endors...</td>\n",
              "      <td>Kisumu</td>\n",
              "      <td>Computer Software and hardware expert, Communi...</td>\n",
              "      <td>663</td>\n",
              "      <td>534</td>\n",
              "      <td>10457</td>\n",
              "      <td>7/5/2011 14:56</td>\n",
              "      <td>0</td>\n",
              "      <td>[{'text': 'CORRUPTION', 'indices': [0, 11]}]</td>\n",
              "      <td>corruption</td>\n",
              "    </tr>\n",
              "    <tr>\n",
              "      <th>12</th>\n",
              "      <td>12</td>\n",
              "      <td>mandere</td>\n",
              "      <td>@NCIC_Kenya you are so toothless it hurts... Y...</td>\n",
              "      <td>Nairobi, Kenya</td>\n",
              "      <td>Opportunity = LIFE!  Who you are authentically...</td>\n",
              "      <td>3453</td>\n",
              "      <td>8413</td>\n",
              "      <td>134865</td>\n",
              "      <td>6/5/2009 17:17</td>\n",
              "      <td>0</td>\n",
              "      <td>[]</td>\n",
              "      <td>corruption</td>\n",
              "    </tr>\n",
              "    <tr>\n",
              "      <th>13</th>\n",
              "      <td>13</td>\n",
              "      <td>sonofmanymums</td>\n",
              "      <td>In this life decisions are like shitting, you ...</td>\n",
              "      <td>Manverse</td>\n",
              "      <td>Entertainerprenuer. Communicator. Menist. Beli...</td>\n",
              "      <td>2</td>\n",
              "      <td>931</td>\n",
              "      <td>487</td>\n",
              "      <td>3/18/2017 20:10</td>\n",
              "      <td>0</td>\n",
              "      <td>[{'text': 'mejja', 'indices': [78, 84]}, {'tex...</td>\n",
              "      <td>corruption</td>\n",
              "    </tr>\n",
              "  </tbody>\n",
              "</table>\n",
              "</div>"
            ],
            "text/plain": [
              "    Unnamed: 0  ...       label\n",
              "9            9  ...  corruption\n",
              "10          10  ...  corruption\n",
              "11          11  ...  corruption\n",
              "12          12  ...  corruption\n",
              "13          13  ...  corruption\n",
              "\n",
              "[5 rows x 12 columns]"
            ]
          },
          "metadata": {
            "tags": []
          },
          "execution_count": 144
        }
      ]
    },
    {
      "cell_type": "code",
      "metadata": {
        "colab": {
          "base_uri": "https://localhost:8080/",
          "height": 458
        },
        "id": "m8Uit96uoifx",
        "outputId": "b8b317b7-8e21-426b-97d0-24c8c7ca28a1"
      },
      "source": [
        "murder.tail()"
      ],
      "execution_count": 145,
      "outputs": [
        {
          "output_type": "execute_result",
          "data": {
            "text/html": [
              "<div>\n",
              "<style scoped>\n",
              "    .dataframe tbody tr th:only-of-type {\n",
              "        vertical-align: middle;\n",
              "    }\n",
              "\n",
              "    .dataframe tbody tr th {\n",
              "        vertical-align: top;\n",
              "    }\n",
              "\n",
              "    .dataframe thead th {\n",
              "        text-align: right;\n",
              "    }\n",
              "</style>\n",
              "<table border=\"1\" class=\"dataframe\">\n",
              "  <thead>\n",
              "    <tr style=\"text-align: right;\">\n",
              "      <th></th>\n",
              "      <th>Unnamed: 0</th>\n",
              "      <th>Unnamed: 0.1</th>\n",
              "      <th>user</th>\n",
              "      <th>tweet</th>\n",
              "      <th>location</th>\n",
              "      <th>description</th>\n",
              "      <th>friends_count</th>\n",
              "      <th>followers_count</th>\n",
              "      <th>statuses_count</th>\n",
              "      <th>created_at</th>\n",
              "      <th>retweet_count</th>\n",
              "      <th>hashtags</th>\n",
              "      <th>label</th>\n",
              "    </tr>\n",
              "  </thead>\n",
              "  <tbody>\n",
              "    <tr>\n",
              "      <th>48</th>\n",
              "      <td>48</td>\n",
              "      <td>48</td>\n",
              "      <td>monsieur_adede</td>\n",
              "      <td>@Generalmsenge @SamMacoha @johnchege @Osama_ot...</td>\n",
              "      <td>nairobi,kenya</td>\n",
              "      <td>life is short,smile while you still have teeth...</td>\n",
              "      <td>606</td>\n",
              "      <td>359</td>\n",
              "      <td>5240</td>\n",
              "      <td>2012-09-18 06:41:46</td>\n",
              "      <td>4</td>\n",
              "      <td>[]</td>\n",
              "      <td>murder</td>\n",
              "    </tr>\n",
              "    <tr>\n",
              "      <th>49</th>\n",
              "      <td>49</td>\n",
              "      <td>49</td>\n",
              "      <td>Rein_Asamo</td>\n",
              "      <td>Did tribalism play a role in the unfortunate m...</td>\n",
              "      <td>Nairobi, Kenya</td>\n",
              "      <td>Economist</td>\n",
              "      <td>455</td>\n",
              "      <td>5067</td>\n",
              "      <td>41904</td>\n",
              "      <td>2016-04-30 18:48:57</td>\n",
              "      <td>1</td>\n",
              "      <td>[{'text': 'KitengelaBrothers', 'indices': [55,...</td>\n",
              "      <td>murder</td>\n",
              "    </tr>\n",
              "    <tr>\n",
              "      <th>50</th>\n",
              "      <td>50</td>\n",
              "      <td>50</td>\n",
              "      <td>Osama_otero</td>\n",
              "      <td>#KitengelaBrothers Dont judge anyone by the lo...</td>\n",
              "      <td>Nairobi, Kenya</td>\n",
              "      <td>Call/text 0700160868 for business inquiry. Som...</td>\n",
              "      <td>3525</td>\n",
              "      <td>51745</td>\n",
              "      <td>161169</td>\n",
              "      <td>2020-01-11 22:03:03</td>\n",
              "      <td>442</td>\n",
              "      <td>[{'text': 'KitengelaBrothers', 'indices': [0, ...</td>\n",
              "      <td>murder</td>\n",
              "    </tr>\n",
              "    <tr>\n",
              "      <th>51</th>\n",
              "      <td>51</td>\n",
              "      <td>51</td>\n",
              "      <td>Theodoregeneral</td>\n",
              "      <td>Injustice is so painful! \\n#JusticeForKianjoko...</td>\n",
              "      <td>Kenya</td>\n",
              "      <td>Entertainment</td>\n",
              "      <td>85</td>\n",
              "      <td>1589</td>\n",
              "      <td>5480</td>\n",
              "      <td>2017-08-28 08:10:19</td>\n",
              "      <td>1</td>\n",
              "      <td>[{'text': 'JusticeForKianjokomaBrothers', 'ind...</td>\n",
              "      <td>murder</td>\n",
              "    </tr>\n",
              "    <tr>\n",
              "      <th>52</th>\n",
              "      <td>52</td>\n",
              "      <td>52</td>\n",
              "      <td>KOTReferee</td>\n",
              "      <td>This one has hit me so hard. \\n\\nAnother Kiten...</td>\n",
              "      <td>Nairobi, Kenya</td>\n",
              "      <td>Lover of Peace and Fairness. #Art \\nHii kenya ...</td>\n",
              "      <td>963</td>\n",
              "      <td>243</td>\n",
              "      <td>782</td>\n",
              "      <td>2012-11-19 06:53:56</td>\n",
              "      <td>3</td>\n",
              "      <td>[{'text': 'KitengelaBrothers', 'indices': [61,...</td>\n",
              "      <td>murder</td>\n",
              "    </tr>\n",
              "  </tbody>\n",
              "</table>\n",
              "</div>"
            ],
            "text/plain": [
              "    Unnamed: 0  ...   label\n",
              "48          48  ...  murder\n",
              "49          49  ...  murder\n",
              "50          50  ...  murder\n",
              "51          51  ...  murder\n",
              "52          52  ...  murder\n",
              "\n",
              "[5 rows x 13 columns]"
            ]
          },
          "metadata": {
            "tags": []
          },
          "execution_count": 145
        }
      ]
    },
    {
      "cell_type": "code",
      "metadata": {
        "colab": {
          "base_uri": "https://localhost:8080/",
          "height": 744
        },
        "id": "VH8fg7zSookl",
        "outputId": "a85f2b2d-e31d-4cc6-9762-202a3d43c531"
      },
      "source": [
        "missing.tail()"
      ],
      "execution_count": 146,
      "outputs": [
        {
          "output_type": "execute_result",
          "data": {
            "text/html": [
              "<div>\n",
              "<style scoped>\n",
              "    .dataframe tbody tr th:only-of-type {\n",
              "        vertical-align: middle;\n",
              "    }\n",
              "\n",
              "    .dataframe tbody tr th {\n",
              "        vertical-align: top;\n",
              "    }\n",
              "\n",
              "    .dataframe thead th {\n",
              "        text-align: right;\n",
              "    }\n",
              "</style>\n",
              "<table border=\"1\" class=\"dataframe\">\n",
              "  <thead>\n",
              "    <tr style=\"text-align: right;\">\n",
              "      <th></th>\n",
              "      <th>Unnamed: 0</th>\n",
              "      <th>Unnamed: 0.1</th>\n",
              "      <th>user</th>\n",
              "      <th>tweet</th>\n",
              "      <th>location</th>\n",
              "      <th>description</th>\n",
              "      <th>friends_count</th>\n",
              "      <th>followers_count</th>\n",
              "      <th>statuses_count</th>\n",
              "      <th>created_at</th>\n",
              "      <th>retweet_count</th>\n",
              "      <th>hashtags</th>\n",
              "      <th>label</th>\n",
              "    </tr>\n",
              "  </thead>\n",
              "  <tbody>\n",
              "    <tr>\n",
              "      <th>12</th>\n",
              "      <td>12</td>\n",
              "      <td>12</td>\n",
              "      <td>missingchild_ke</td>\n",
              "      <td>MISSING CHILD ALERT – KIRUNGU - MATHIOYA - MUR...</td>\n",
              "      <td>Nairobi, Kenya</td>\n",
              "      <td>Search Trace &amp; Reunification for MISSING CHILD...</td>\n",
              "      <td>9250</td>\n",
              "      <td>10708</td>\n",
              "      <td>3613</td>\n",
              "      <td>2016-07-12 11:42:35</td>\n",
              "      <td>16</td>\n",
              "      <td>[]</td>\n",
              "      <td>abduction</td>\n",
              "    </tr>\n",
              "    <tr>\n",
              "      <th>13</th>\n",
              "      <td>13</td>\n",
              "      <td>13</td>\n",
              "      <td>missingchild_ke</td>\n",
              "      <td>MISSING CHILD ALERT – KIRUNGU - MATHIOYA - MUR...</td>\n",
              "      <td>Nairobi, Kenya</td>\n",
              "      <td>Search Trace &amp; Reunification for MISSING CHILD...</td>\n",
              "      <td>9250</td>\n",
              "      <td>10708</td>\n",
              "      <td>3613</td>\n",
              "      <td>2016-07-12 11:42:35</td>\n",
              "      <td>26</td>\n",
              "      <td>[]</td>\n",
              "      <td>abduction</td>\n",
              "    </tr>\n",
              "    <tr>\n",
              "      <th>14</th>\n",
              "      <td>14</td>\n",
              "      <td>14</td>\n",
              "      <td>missingchild_ke</td>\n",
              "      <td>GOOD NEWS – CHILD FOUND. Anne Mate Wetende (15...</td>\n",
              "      <td>Nairobi, Kenya</td>\n",
              "      <td>Search Trace &amp; Reunification for MISSING CHILD...</td>\n",
              "      <td>9250</td>\n",
              "      <td>10708</td>\n",
              "      <td>3613</td>\n",
              "      <td>2016-07-12 11:42:35</td>\n",
              "      <td>1</td>\n",
              "      <td>[]</td>\n",
              "      <td>abduction</td>\n",
              "    </tr>\n",
              "    <tr>\n",
              "      <th>15</th>\n",
              "      <td>15</td>\n",
              "      <td>15</td>\n",
              "      <td>KenyanTraffic</td>\n",
              "      <td>: GOOD NEWS CHILD FOUND. Daniel Kibira Wanjiku...</td>\n",
              "      <td>Nairobi</td>\n",
              "      <td>#KenyanTraffic official account. 🇰🇪 We tweet t...</td>\n",
              "      <td>90088</td>\n",
              "      <td>568363</td>\n",
              "      <td>497709</td>\n",
              "      <td>2014-09-25 08:45:50</td>\n",
              "      <td>0</td>\n",
              "      <td>[]</td>\n",
              "      <td>abduction</td>\n",
              "    </tr>\n",
              "    <tr>\n",
              "      <th>16</th>\n",
              "      <td>16</td>\n",
              "      <td>16</td>\n",
              "      <td>missingchild_ke</td>\n",
              "      <td>GOOD NEWS – CHILD FOUND. Daniel Kibira Wanjiku...</td>\n",
              "      <td>Nairobi, Kenya</td>\n",
              "      <td>Search Trace &amp; Reunification for MISSING CHILD...</td>\n",
              "      <td>9250</td>\n",
              "      <td>10708</td>\n",
              "      <td>3613</td>\n",
              "      <td>2016-07-12 11:42:35</td>\n",
              "      <td>1</td>\n",
              "      <td>[]</td>\n",
              "      <td>abduction</td>\n",
              "    </tr>\n",
              "  </tbody>\n",
              "</table>\n",
              "</div>"
            ],
            "text/plain": [
              "    Unnamed: 0  Unnamed: 0.1  ... hashtags      label\n",
              "12          12            12  ...       []  abduction\n",
              "13          13            13  ...       []  abduction\n",
              "14          14            14  ...       []  abduction\n",
              "15          15            15  ...       []  abduction\n",
              "16          16            16  ...       []  abduction\n",
              "\n",
              "[5 rows x 13 columns]"
            ]
          },
          "metadata": {
            "tags": []
          },
          "execution_count": 146
        }
      ]
    },
    {
      "cell_type": "code",
      "metadata": {
        "colab": {
          "base_uri": "https://localhost:8080/",
          "height": 296
        },
        "id": "LnXD7euto7__",
        "outputId": "2147c581-5e83-4b25-e508-dcafa9016492"
      },
      "source": [
        "pickpocket.tail()"
      ],
      "execution_count": 147,
      "outputs": [
        {
          "output_type": "execute_result",
          "data": {
            "text/html": [
              "<div>\n",
              "<style scoped>\n",
              "    .dataframe tbody tr th:only-of-type {\n",
              "        vertical-align: middle;\n",
              "    }\n",
              "\n",
              "    .dataframe tbody tr th {\n",
              "        vertical-align: top;\n",
              "    }\n",
              "\n",
              "    .dataframe thead th {\n",
              "        text-align: right;\n",
              "    }\n",
              "</style>\n",
              "<table border=\"1\" class=\"dataframe\">\n",
              "  <thead>\n",
              "    <tr style=\"text-align: right;\">\n",
              "      <th></th>\n",
              "      <th>Unnamed: 0</th>\n",
              "      <th>user</th>\n",
              "      <th>tweet</th>\n",
              "      <th>location</th>\n",
              "      <th>description</th>\n",
              "      <th>friends_count</th>\n",
              "      <th>followers_count</th>\n",
              "      <th>statuses_count</th>\n",
              "      <th>created_at</th>\n",
              "      <th>retweet_count</th>\n",
              "      <th>hashtags</th>\n",
              "      <th>label</th>\n",
              "    </tr>\n",
              "  </thead>\n",
              "  <tbody>\n",
              "    <tr>\n",
              "      <th>0</th>\n",
              "      <td>0</td>\n",
              "      <td>NewsAlerts_Ke</td>\n",
              "      <td>@lawrencekitema Phone pickpocketing...ilikua o...</td>\n",
              "      <td>Nairobi, Kenya</td>\n",
              "      <td>Digital Media and News 🗞️ Alerts_|To Inform|Ed...</td>\n",
              "      <td>3343</td>\n",
              "      <td>1167</td>\n",
              "      <td>825</td>\n",
              "      <td>21/01/2021 19:03</td>\n",
              "      <td>0</td>\n",
              "      <td>[]</td>\n",
              "      <td>pickpocket</td>\n",
              "    </tr>\n",
              "    <tr>\n",
              "      <th>1</th>\n",
              "      <td>1</td>\n",
              "      <td>leyi_leleti</td>\n",
              "      <td>Now they're back to pickpocketing us kwa matatu</td>\n",
              "      <td>Nairobi Kenya</td>\n",
              "      <td>NaN</td>\n",
              "      <td>337</td>\n",
              "      <td>778</td>\n",
              "      <td>2547</td>\n",
              "      <td>23/06/2014 07:50</td>\n",
              "      <td>0</td>\n",
              "      <td>[]</td>\n",
              "      <td>pickpocket</td>\n",
              "    </tr>\n",
              "    <tr>\n",
              "      <th>2</th>\n",
              "      <td>2</td>\n",
              "      <td>Raybo0mLynn</td>\n",
              "      <td>meet a 12 yr old who was arrested for pickpock...</td>\n",
              "      <td>Nairobi</td>\n",
              "      <td>NaN</td>\n",
              "      <td>582</td>\n",
              "      <td>648</td>\n",
              "      <td>4711</td>\n",
              "      <td>26/05/2009 05:47</td>\n",
              "      <td>2</td>\n",
              "      <td>[]</td>\n",
              "      <td>pickpocket</td>\n",
              "    </tr>\n",
              "  </tbody>\n",
              "</table>\n",
              "</div>"
            ],
            "text/plain": [
              "   Unnamed: 0           user  ... hashtags       label\n",
              "0           0  NewsAlerts_Ke  ...       []  pickpocket\n",
              "1           1    leyi_leleti  ...       []  pickpocket\n",
              "2           2    Raybo0mLynn  ...       []  pickpocket\n",
              "\n",
              "[3 rows x 12 columns]"
            ]
          },
          "metadata": {
            "tags": []
          },
          "execution_count": 147
        }
      ]
    },
    {
      "cell_type": "code",
      "metadata": {
        "colab": {
          "base_uri": "https://localhost:8080/"
        },
        "id": "xWaDRXvwo_-J",
        "outputId": "ff084c2d-c5ab-48ae-e65a-838cf41b6967"
      },
      "source": [
        "print('Police:', police_brutality.shape,'\\n') \n",
        "print('Corruption:',corruption.shape, '\\n')\n",
        "print('Murder:', murder.shape, '\\n')\n",
        "print('Pickpocket:', pickpocket.shape, '\\n')\n",
        "print('Missing:', missing.shape)"
      ],
      "execution_count": 148,
      "outputs": [
        {
          "output_type": "stream",
          "text": [
            "Police: (1000, 12) \n",
            "\n",
            "Corruption: (14, 12) \n",
            "\n",
            "Murder: (53, 13) \n",
            "\n",
            "Pickpocket: (3, 12) \n",
            "\n",
            "Missing: (17, 13)\n"
          ],
          "name": "stdout"
        }
      ]
    },
    {
      "cell_type": "code",
      "metadata": {
        "colab": {
          "base_uri": "https://localhost:8080/"
        },
        "id": "QpHwYVOpqWTN",
        "outputId": "62993549-6eeb-4388-d2e9-c24f9a56930a"
      },
      "source": [
        "murder.columns"
      ],
      "execution_count": 149,
      "outputs": [
        {
          "output_type": "execute_result",
          "data": {
            "text/plain": [
              "Index(['Unnamed: 0', 'Unnamed: 0.1', 'user', 'tweet', 'location',\n",
              "       'description', 'friends_count', 'followers_count', 'statuses_count',\n",
              "       'created_at', 'retweet_count', 'hashtags', 'label'],\n",
              "      dtype='object')"
            ]
          },
          "metadata": {
            "tags": []
          },
          "execution_count": 149
        }
      ]
    },
    {
      "cell_type": "code",
      "metadata": {
        "colab": {
          "base_uri": "https://localhost:8080/"
        },
        "id": "QrGMbnyQsGCE",
        "outputId": "2aca8f13-5765-4384-f458-1a9a50937ff7"
      },
      "source": [
        "police_brutality.columns"
      ],
      "execution_count": 150,
      "outputs": [
        {
          "output_type": "execute_result",
          "data": {
            "text/plain": [
              "Index(['Unnamed: 0', 'user', 'tweet', 'location', 'description',\n",
              "       'friends_count', 'followers_count', 'statuses_count', 'created_at',\n",
              "       'retweet_count', 'hashtags', 'label'],\n",
              "      dtype='object')"
            ]
          },
          "metadata": {
            "tags": []
          },
          "execution_count": 150
        }
      ]
    },
    {
      "cell_type": "code",
      "metadata": {
        "colab": {
          "base_uri": "https://localhost:8080/"
        },
        "id": "wPTFVpuysSqe",
        "outputId": "0519d25b-6484-49aa-96ee-f5fa30292cf1"
      },
      "source": [
        "missing.columns"
      ],
      "execution_count": 151,
      "outputs": [
        {
          "output_type": "execute_result",
          "data": {
            "text/plain": [
              "Index(['Unnamed: 0', 'Unnamed: 0.1', 'user', 'tweet', 'location',\n",
              "       'description', 'friends_count', 'followers_count', 'statuses_count',\n",
              "       'created_at', 'retweet_count', 'hashtags', 'label'],\n",
              "      dtype='object')"
            ]
          },
          "metadata": {
            "tags": []
          },
          "execution_count": 151
        }
      ]
    },
    {
      "cell_type": "code",
      "metadata": {
        "colab": {
          "base_uri": "https://localhost:8080/"
        },
        "id": "th6Jq3xmuuvq",
        "outputId": "af6ff977-77cc-45a6-c4cc-4aeca189413b"
      },
      "source": [
        "corruption.columns"
      ],
      "execution_count": 152,
      "outputs": [
        {
          "output_type": "execute_result",
          "data": {
            "text/plain": [
              "Index(['Unnamed: 0', 'user', 'tweet', 'location', 'description',\n",
              "       'friends_count', 'followers_count', 'statuses_count', 'created_at',\n",
              "       'retweet_count', 'hashtags', 'label'],\n",
              "      dtype='object')"
            ]
          },
          "metadata": {
            "tags": []
          },
          "execution_count": 152
        }
      ]
    },
    {
      "cell_type": "code",
      "metadata": {
        "colab": {
          "base_uri": "https://localhost:8080/"
        },
        "id": "RFXvrj93u0TK",
        "outputId": "7c0d2c68-4a7f-4521-f58d-9025a6b16c89"
      },
      "source": [
        "pickpocket.columns"
      ],
      "execution_count": 153,
      "outputs": [
        {
          "output_type": "execute_result",
          "data": {
            "text/plain": [
              "Index(['Unnamed: 0', 'user', 'tweet', 'location', 'description',\n",
              "       'friends_count', 'followers_count', 'statuses_count', 'created_at',\n",
              "       'retweet_count', 'hashtags', 'label'],\n",
              "      dtype='object')"
            ]
          },
          "metadata": {
            "tags": []
          },
          "execution_count": 153
        }
      ]
    },
    {
      "cell_type": "markdown",
      "metadata": {
        "id": "UtDX5LOWsqAQ"
      },
      "source": [
        "Deleting the duplicated column \n"
      ]
    },
    {
      "cell_type": "code",
      "metadata": {
        "colab": {
          "base_uri": "https://localhost:8080/"
        },
        "id": "Q8XvjhU7svc-",
        "outputId": "8c50c757-084d-4103-fdde-0ce1f91a158f"
      },
      "source": [
        "missing.drop('Unnamed: 0.1', inplace=True, axis=1)\n",
        "missing.shape"
      ],
      "execution_count": 154,
      "outputs": [
        {
          "output_type": "execute_result",
          "data": {
            "text/plain": [
              "(17, 12)"
            ]
          },
          "metadata": {
            "tags": []
          },
          "execution_count": 154
        }
      ]
    },
    {
      "cell_type": "code",
      "metadata": {
        "colab": {
          "base_uri": "https://localhost:8080/"
        },
        "id": "SnTaKEuctTMD",
        "outputId": "6c4e7c74-a2f2-4129-ddd3-388a61a5ff8c"
      },
      "source": [
        "murder.drop('Unnamed: 0.1', inplace=True, axis=1)\n",
        "murder.shape"
      ],
      "execution_count": 155,
      "outputs": [
        {
          "output_type": "execute_result",
          "data": {
            "text/plain": [
              "(53, 12)"
            ]
          },
          "metadata": {
            "tags": []
          },
          "execution_count": 155
        }
      ]
    },
    {
      "cell_type": "markdown",
      "metadata": {
        "id": "uBijKGphtXj4"
      },
      "source": [
        "Concatenating the files."
      ]
    },
    {
      "cell_type": "code",
      "metadata": {
        "colab": {
          "base_uri": "https://localhost:8080/",
          "height": 991
        },
        "id": "UFfldTM2taTa",
        "outputId": "f4f2e768-be61-4652-8e09-bab7dfbe33f2"
      },
      "source": [
        "frames = [police_brutality, murder, missing, pickpocket]\n",
        "  \n",
        "result = pd.concat(frames)\n",
        "display(result)"
      ],
      "execution_count": 156,
      "outputs": [
        {
          "output_type": "display_data",
          "data": {
            "text/html": [
              "<div>\n",
              "<style scoped>\n",
              "    .dataframe tbody tr th:only-of-type {\n",
              "        vertical-align: middle;\n",
              "    }\n",
              "\n",
              "    .dataframe tbody tr th {\n",
              "        vertical-align: top;\n",
              "    }\n",
              "\n",
              "    .dataframe thead th {\n",
              "        text-align: right;\n",
              "    }\n",
              "</style>\n",
              "<table border=\"1\" class=\"dataframe\">\n",
              "  <thead>\n",
              "    <tr style=\"text-align: right;\">\n",
              "      <th></th>\n",
              "      <th>Unnamed: 0</th>\n",
              "      <th>user</th>\n",
              "      <th>tweet</th>\n",
              "      <th>location</th>\n",
              "      <th>description</th>\n",
              "      <th>friends_count</th>\n",
              "      <th>followers_count</th>\n",
              "      <th>statuses_count</th>\n",
              "      <th>created_at</th>\n",
              "      <th>retweet_count</th>\n",
              "      <th>hashtags</th>\n",
              "      <th>label</th>\n",
              "    </tr>\n",
              "  </thead>\n",
              "  <tbody>\n",
              "    <tr>\n",
              "      <th>0</th>\n",
              "      <td>0</td>\n",
              "      <td>ThinkerwaThika</td>\n",
              "      <td>@citizentvkenya It's at the extremity of life ...</td>\n",
              "      <td>Nairobi, Kenya</td>\n",
              "      <td>This Is Eddie✌\\nGreat Thinker 💭\\nWriter 📒\\nMat...</td>\n",
              "      <td>688</td>\n",
              "      <td>1340</td>\n",
              "      <td>7383</td>\n",
              "      <td>6/19/2016 6:57</td>\n",
              "      <td>0</td>\n",
              "      <td>[]</td>\n",
              "      <td>Police Brutality</td>\n",
              "    </tr>\n",
              "    <tr>\n",
              "      <th>1</th>\n",
              "      <td>1</td>\n",
              "      <td>ThinkerwaThika</td>\n",
              "      <td>@EileenWakesho I'm Feeling hurt ...I really fe...</td>\n",
              "      <td>Nairobi, Kenya</td>\n",
              "      <td>This Is Eddie✌\\nGreat Thinker 💭\\nWriter 📒\\nMat...</td>\n",
              "      <td>688</td>\n",
              "      <td>1340</td>\n",
              "      <td>7383</td>\n",
              "      <td>6/19/2016 6:57</td>\n",
              "      <td>0</td>\n",
              "      <td>[]</td>\n",
              "      <td>Police Brutality</td>\n",
              "    </tr>\n",
              "    <tr>\n",
              "      <th>2</th>\n",
              "      <td>2</td>\n",
              "      <td>Its_Roba</td>\n",
              "      <td>Every time I learn sth about the Kionjokama br...</td>\n",
              "      <td>Nairobi, Kenya</td>\n",
              "      <td>A yearning heart, inquisitive, sometimes an ad...</td>\n",
              "      <td>2485</td>\n",
              "      <td>3765</td>\n",
              "      <td>11179</td>\n",
              "      <td>7/14/2015 22:23</td>\n",
              "      <td>1</td>\n",
              "      <td>[]</td>\n",
              "      <td>Police Brutality</td>\n",
              "    </tr>\n",
              "    <tr>\n",
              "      <th>3</th>\n",
              "      <td>3</td>\n",
              "      <td>mwakodi</td>\n",
              "      <td>I lit these 2 candles tonight in their memory....</td>\n",
              "      <td>Nairobi</td>\n",
              "      <td>An outspoken human rights defender advocating ...</td>\n",
              "      <td>331</td>\n",
              "      <td>170</td>\n",
              "      <td>1988</td>\n",
              "      <td>11/29/2012 16:14</td>\n",
              "      <td>2</td>\n",
              "      <td>[]</td>\n",
              "      <td>Police Brutality</td>\n",
              "    </tr>\n",
              "    <tr>\n",
              "      <th>4</th>\n",
              "      <td>4</td>\n",
              "      <td>muthuriamos</td>\n",
              "      <td>It seems being young in this country is a crim...</td>\n",
              "      <td>nairobi</td>\n",
              "      <td>the goal is to get wealthier, wiser and health...</td>\n",
              "      <td>1901</td>\n",
              "      <td>1273</td>\n",
              "      <td>666</td>\n",
              "      <td>01/08/2014 04:39</td>\n",
              "      <td>1</td>\n",
              "      <td>[]</td>\n",
              "      <td>Police Brutality</td>\n",
              "    </tr>\n",
              "    <tr>\n",
              "      <th>...</th>\n",
              "      <td>...</td>\n",
              "      <td>...</td>\n",
              "      <td>...</td>\n",
              "      <td>...</td>\n",
              "      <td>...</td>\n",
              "      <td>...</td>\n",
              "      <td>...</td>\n",
              "      <td>...</td>\n",
              "      <td>...</td>\n",
              "      <td>...</td>\n",
              "      <td>...</td>\n",
              "      <td>...</td>\n",
              "    </tr>\n",
              "    <tr>\n",
              "      <th>15</th>\n",
              "      <td>15</td>\n",
              "      <td>KenyanTraffic</td>\n",
              "      <td>: GOOD NEWS CHILD FOUND. Daniel Kibira Wanjiku...</td>\n",
              "      <td>Nairobi</td>\n",
              "      <td>#KenyanTraffic official account. 🇰🇪 We tweet t...</td>\n",
              "      <td>90088</td>\n",
              "      <td>568363</td>\n",
              "      <td>497709</td>\n",
              "      <td>2014-09-25 08:45:50</td>\n",
              "      <td>0</td>\n",
              "      <td>[]</td>\n",
              "      <td>abduction</td>\n",
              "    </tr>\n",
              "    <tr>\n",
              "      <th>16</th>\n",
              "      <td>16</td>\n",
              "      <td>missingchild_ke</td>\n",
              "      <td>GOOD NEWS – CHILD FOUND. Daniel Kibira Wanjiku...</td>\n",
              "      <td>Nairobi, Kenya</td>\n",
              "      <td>Search Trace &amp; Reunification for MISSING CHILD...</td>\n",
              "      <td>9250</td>\n",
              "      <td>10708</td>\n",
              "      <td>3613</td>\n",
              "      <td>2016-07-12 11:42:35</td>\n",
              "      <td>1</td>\n",
              "      <td>[]</td>\n",
              "      <td>abduction</td>\n",
              "    </tr>\n",
              "    <tr>\n",
              "      <th>0</th>\n",
              "      <td>0</td>\n",
              "      <td>NewsAlerts_Ke</td>\n",
              "      <td>@lawrencekitema Phone pickpocketing...ilikua o...</td>\n",
              "      <td>Nairobi, Kenya</td>\n",
              "      <td>Digital Media and News 🗞️ Alerts_|To Inform|Ed...</td>\n",
              "      <td>3343</td>\n",
              "      <td>1167</td>\n",
              "      <td>825</td>\n",
              "      <td>21/01/2021 19:03</td>\n",
              "      <td>0</td>\n",
              "      <td>[]</td>\n",
              "      <td>pickpocket</td>\n",
              "    </tr>\n",
              "    <tr>\n",
              "      <th>1</th>\n",
              "      <td>1</td>\n",
              "      <td>leyi_leleti</td>\n",
              "      <td>Now they're back to pickpocketing us kwa matatu</td>\n",
              "      <td>Nairobi Kenya</td>\n",
              "      <td>NaN</td>\n",
              "      <td>337</td>\n",
              "      <td>778</td>\n",
              "      <td>2547</td>\n",
              "      <td>23/06/2014 07:50</td>\n",
              "      <td>0</td>\n",
              "      <td>[]</td>\n",
              "      <td>pickpocket</td>\n",
              "    </tr>\n",
              "    <tr>\n",
              "      <th>2</th>\n",
              "      <td>2</td>\n",
              "      <td>Raybo0mLynn</td>\n",
              "      <td>meet a 12 yr old who was arrested for pickpock...</td>\n",
              "      <td>Nairobi</td>\n",
              "      <td>NaN</td>\n",
              "      <td>582</td>\n",
              "      <td>648</td>\n",
              "      <td>4711</td>\n",
              "      <td>26/05/2009 05:47</td>\n",
              "      <td>2</td>\n",
              "      <td>[]</td>\n",
              "      <td>pickpocket</td>\n",
              "    </tr>\n",
              "  </tbody>\n",
              "</table>\n",
              "<p>1073 rows × 12 columns</p>\n",
              "</div>"
            ],
            "text/plain": [
              "    Unnamed: 0             user  ... hashtags             label\n",
              "0            0   ThinkerwaThika  ...       []  Police Brutality\n",
              "1            1   ThinkerwaThika  ...       []  Police Brutality\n",
              "2            2         Its_Roba  ...       []  Police Brutality\n",
              "3            3          mwakodi  ...       []  Police Brutality\n",
              "4            4      muthuriamos  ...       []  Police Brutality\n",
              "..         ...              ...  ...      ...               ...\n",
              "15          15    KenyanTraffic  ...       []         abduction\n",
              "16          16  missingchild_ke  ...       []         abduction\n",
              "0            0    NewsAlerts_Ke  ...       []        pickpocket\n",
              "1            1      leyi_leleti  ...       []        pickpocket\n",
              "2            2      Raybo0mLynn  ...       []        pickpocket\n",
              "\n",
              "[1073 rows x 12 columns]"
            ]
          },
          "metadata": {
            "tags": []
          }
        }
      ]
    },
    {
      "cell_type": "code",
      "metadata": {
        "id": "whPtgQgfvptY"
      },
      "source": [
        "result.to_csv('crime.csv')"
      ],
      "execution_count": 157,
      "outputs": []
    },
    {
      "cell_type": "markdown",
      "metadata": {
        "id": "OI3P3YnHUEBk"
      },
      "source": [
        "\n",
        "\n",
        "## 3. Checking the Data"
      ]
    },
    {
      "cell_type": "code",
      "metadata": {
        "id": "YjSVNwgptHxY",
        "colab": {
          "base_uri": "https://localhost:8080/",
          "height": 559
        },
        "outputId": "7cb939c3-6154-41d4-8214-0412cab7bd63"
      },
      "source": [
        "#loading our concatenated data\n",
        "\n",
        "crime = pd.read_csv('/content/crime.csv')\n",
        "crime.head()"
      ],
      "execution_count": 158,
      "outputs": [
        {
          "output_type": "execute_result",
          "data": {
            "text/html": [
              "<div>\n",
              "<style scoped>\n",
              "    .dataframe tbody tr th:only-of-type {\n",
              "        vertical-align: middle;\n",
              "    }\n",
              "\n",
              "    .dataframe tbody tr th {\n",
              "        vertical-align: top;\n",
              "    }\n",
              "\n",
              "    .dataframe thead th {\n",
              "        text-align: right;\n",
              "    }\n",
              "</style>\n",
              "<table border=\"1\" class=\"dataframe\">\n",
              "  <thead>\n",
              "    <tr style=\"text-align: right;\">\n",
              "      <th></th>\n",
              "      <th>Unnamed: 0</th>\n",
              "      <th>Unnamed: 0.1</th>\n",
              "      <th>user</th>\n",
              "      <th>tweet</th>\n",
              "      <th>location</th>\n",
              "      <th>description</th>\n",
              "      <th>friends_count</th>\n",
              "      <th>followers_count</th>\n",
              "      <th>statuses_count</th>\n",
              "      <th>created_at</th>\n",
              "      <th>retweet_count</th>\n",
              "      <th>hashtags</th>\n",
              "      <th>label</th>\n",
              "    </tr>\n",
              "  </thead>\n",
              "  <tbody>\n",
              "    <tr>\n",
              "      <th>0</th>\n",
              "      <td>0</td>\n",
              "      <td>0</td>\n",
              "      <td>ThinkerwaThika</td>\n",
              "      <td>@citizentvkenya It's at the extremity of life ...</td>\n",
              "      <td>Nairobi, Kenya</td>\n",
              "      <td>This Is Eddie✌\\nGreat Thinker 💭\\nWriter 📒\\nMat...</td>\n",
              "      <td>688</td>\n",
              "      <td>1340</td>\n",
              "      <td>7383</td>\n",
              "      <td>6/19/2016 6:57</td>\n",
              "      <td>0</td>\n",
              "      <td>[]</td>\n",
              "      <td>Police Brutality</td>\n",
              "    </tr>\n",
              "    <tr>\n",
              "      <th>1</th>\n",
              "      <td>1</td>\n",
              "      <td>1</td>\n",
              "      <td>ThinkerwaThika</td>\n",
              "      <td>@EileenWakesho I'm Feeling hurt ...I really fe...</td>\n",
              "      <td>Nairobi, Kenya</td>\n",
              "      <td>This Is Eddie✌\\nGreat Thinker 💭\\nWriter 📒\\nMat...</td>\n",
              "      <td>688</td>\n",
              "      <td>1340</td>\n",
              "      <td>7383</td>\n",
              "      <td>6/19/2016 6:57</td>\n",
              "      <td>0</td>\n",
              "      <td>[]</td>\n",
              "      <td>Police Brutality</td>\n",
              "    </tr>\n",
              "    <tr>\n",
              "      <th>2</th>\n",
              "      <td>2</td>\n",
              "      <td>2</td>\n",
              "      <td>Its_Roba</td>\n",
              "      <td>Every time I learn sth about the Kionjokama br...</td>\n",
              "      <td>Nairobi, Kenya</td>\n",
              "      <td>A yearning heart, inquisitive, sometimes an ad...</td>\n",
              "      <td>2485</td>\n",
              "      <td>3765</td>\n",
              "      <td>11179</td>\n",
              "      <td>7/14/2015 22:23</td>\n",
              "      <td>1</td>\n",
              "      <td>[]</td>\n",
              "      <td>Police Brutality</td>\n",
              "    </tr>\n",
              "    <tr>\n",
              "      <th>3</th>\n",
              "      <td>3</td>\n",
              "      <td>3</td>\n",
              "      <td>mwakodi</td>\n",
              "      <td>I lit these 2 candles tonight in their memory....</td>\n",
              "      <td>Nairobi</td>\n",
              "      <td>An outspoken human rights defender advocating ...</td>\n",
              "      <td>331</td>\n",
              "      <td>170</td>\n",
              "      <td>1988</td>\n",
              "      <td>11/29/2012 16:14</td>\n",
              "      <td>2</td>\n",
              "      <td>[]</td>\n",
              "      <td>Police Brutality</td>\n",
              "    </tr>\n",
              "    <tr>\n",
              "      <th>4</th>\n",
              "      <td>4</td>\n",
              "      <td>4</td>\n",
              "      <td>muthuriamos</td>\n",
              "      <td>It seems being young in this country is a crim...</td>\n",
              "      <td>nairobi</td>\n",
              "      <td>the goal is to get wealthier, wiser and health...</td>\n",
              "      <td>1901</td>\n",
              "      <td>1273</td>\n",
              "      <td>666</td>\n",
              "      <td>01/08/2014 04:39</td>\n",
              "      <td>1</td>\n",
              "      <td>[]</td>\n",
              "      <td>Police Brutality</td>\n",
              "    </tr>\n",
              "  </tbody>\n",
              "</table>\n",
              "</div>"
            ],
            "text/plain": [
              "   Unnamed: 0  Unnamed: 0.1  ... hashtags             label\n",
              "0           0             0  ...       []  Police Brutality\n",
              "1           1             1  ...       []  Police Brutality\n",
              "2           2             2  ...       []  Police Brutality\n",
              "3           3             3  ...       []  Police Brutality\n",
              "4           4             4  ...       []  Police Brutality\n",
              "\n",
              "[5 rows x 13 columns]"
            ]
          },
          "metadata": {
            "tags": []
          },
          "execution_count": 158
        }
      ]
    },
    {
      "cell_type": "code",
      "metadata": {
        "id": "xHhTw5eKWr0n",
        "colab": {
          "base_uri": "https://localhost:8080/",
          "height": 559
        },
        "outputId": "fe5873e6-1065-4217-857c-ac8ce2b483e8"
      },
      "source": [
        "# Previewing the top of our dataset\n",
        "# Train dataset\n",
        "crime.head()"
      ],
      "execution_count": 159,
      "outputs": [
        {
          "output_type": "execute_result",
          "data": {
            "text/html": [
              "<div>\n",
              "<style scoped>\n",
              "    .dataframe tbody tr th:only-of-type {\n",
              "        vertical-align: middle;\n",
              "    }\n",
              "\n",
              "    .dataframe tbody tr th {\n",
              "        vertical-align: top;\n",
              "    }\n",
              "\n",
              "    .dataframe thead th {\n",
              "        text-align: right;\n",
              "    }\n",
              "</style>\n",
              "<table border=\"1\" class=\"dataframe\">\n",
              "  <thead>\n",
              "    <tr style=\"text-align: right;\">\n",
              "      <th></th>\n",
              "      <th>Unnamed: 0</th>\n",
              "      <th>Unnamed: 0.1</th>\n",
              "      <th>user</th>\n",
              "      <th>tweet</th>\n",
              "      <th>location</th>\n",
              "      <th>description</th>\n",
              "      <th>friends_count</th>\n",
              "      <th>followers_count</th>\n",
              "      <th>statuses_count</th>\n",
              "      <th>created_at</th>\n",
              "      <th>retweet_count</th>\n",
              "      <th>hashtags</th>\n",
              "      <th>label</th>\n",
              "    </tr>\n",
              "  </thead>\n",
              "  <tbody>\n",
              "    <tr>\n",
              "      <th>0</th>\n",
              "      <td>0</td>\n",
              "      <td>0</td>\n",
              "      <td>ThinkerwaThika</td>\n",
              "      <td>@citizentvkenya It's at the extremity of life ...</td>\n",
              "      <td>Nairobi, Kenya</td>\n",
              "      <td>This Is Eddie✌\\nGreat Thinker 💭\\nWriter 📒\\nMat...</td>\n",
              "      <td>688</td>\n",
              "      <td>1340</td>\n",
              "      <td>7383</td>\n",
              "      <td>6/19/2016 6:57</td>\n",
              "      <td>0</td>\n",
              "      <td>[]</td>\n",
              "      <td>Police Brutality</td>\n",
              "    </tr>\n",
              "    <tr>\n",
              "      <th>1</th>\n",
              "      <td>1</td>\n",
              "      <td>1</td>\n",
              "      <td>ThinkerwaThika</td>\n",
              "      <td>@EileenWakesho I'm Feeling hurt ...I really fe...</td>\n",
              "      <td>Nairobi, Kenya</td>\n",
              "      <td>This Is Eddie✌\\nGreat Thinker 💭\\nWriter 📒\\nMat...</td>\n",
              "      <td>688</td>\n",
              "      <td>1340</td>\n",
              "      <td>7383</td>\n",
              "      <td>6/19/2016 6:57</td>\n",
              "      <td>0</td>\n",
              "      <td>[]</td>\n",
              "      <td>Police Brutality</td>\n",
              "    </tr>\n",
              "    <tr>\n",
              "      <th>2</th>\n",
              "      <td>2</td>\n",
              "      <td>2</td>\n",
              "      <td>Its_Roba</td>\n",
              "      <td>Every time I learn sth about the Kionjokama br...</td>\n",
              "      <td>Nairobi, Kenya</td>\n",
              "      <td>A yearning heart, inquisitive, sometimes an ad...</td>\n",
              "      <td>2485</td>\n",
              "      <td>3765</td>\n",
              "      <td>11179</td>\n",
              "      <td>7/14/2015 22:23</td>\n",
              "      <td>1</td>\n",
              "      <td>[]</td>\n",
              "      <td>Police Brutality</td>\n",
              "    </tr>\n",
              "    <tr>\n",
              "      <th>3</th>\n",
              "      <td>3</td>\n",
              "      <td>3</td>\n",
              "      <td>mwakodi</td>\n",
              "      <td>I lit these 2 candles tonight in their memory....</td>\n",
              "      <td>Nairobi</td>\n",
              "      <td>An outspoken human rights defender advocating ...</td>\n",
              "      <td>331</td>\n",
              "      <td>170</td>\n",
              "      <td>1988</td>\n",
              "      <td>11/29/2012 16:14</td>\n",
              "      <td>2</td>\n",
              "      <td>[]</td>\n",
              "      <td>Police Brutality</td>\n",
              "    </tr>\n",
              "    <tr>\n",
              "      <th>4</th>\n",
              "      <td>4</td>\n",
              "      <td>4</td>\n",
              "      <td>muthuriamos</td>\n",
              "      <td>It seems being young in this country is a crim...</td>\n",
              "      <td>nairobi</td>\n",
              "      <td>the goal is to get wealthier, wiser and health...</td>\n",
              "      <td>1901</td>\n",
              "      <td>1273</td>\n",
              "      <td>666</td>\n",
              "      <td>01/08/2014 04:39</td>\n",
              "      <td>1</td>\n",
              "      <td>[]</td>\n",
              "      <td>Police Brutality</td>\n",
              "    </tr>\n",
              "  </tbody>\n",
              "</table>\n",
              "</div>"
            ],
            "text/plain": [
              "   Unnamed: 0  Unnamed: 0.1  ... hashtags             label\n",
              "0           0             0  ...       []  Police Brutality\n",
              "1           1             1  ...       []  Police Brutality\n",
              "2           2             2  ...       []  Police Brutality\n",
              "3           3             3  ...       []  Police Brutality\n",
              "4           4             4  ...       []  Police Brutality\n",
              "\n",
              "[5 rows x 13 columns]"
            ]
          },
          "metadata": {
            "tags": []
          },
          "execution_count": 159
        }
      ]
    },
    {
      "cell_type": "code",
      "metadata": {
        "id": "OMvUeJCHU7oA",
        "colab": {
          "base_uri": "https://localhost:8080/",
          "height": 475
        },
        "outputId": "9f110a62-59b0-430d-93db-0789fdc40e12"
      },
      "source": [
        "#train dataset bottom\n",
        "crime.tail()"
      ],
      "execution_count": 160,
      "outputs": [
        {
          "output_type": "execute_result",
          "data": {
            "text/html": [
              "<div>\n",
              "<style scoped>\n",
              "    .dataframe tbody tr th:only-of-type {\n",
              "        vertical-align: middle;\n",
              "    }\n",
              "\n",
              "    .dataframe tbody tr th {\n",
              "        vertical-align: top;\n",
              "    }\n",
              "\n",
              "    .dataframe thead th {\n",
              "        text-align: right;\n",
              "    }\n",
              "</style>\n",
              "<table border=\"1\" class=\"dataframe\">\n",
              "  <thead>\n",
              "    <tr style=\"text-align: right;\">\n",
              "      <th></th>\n",
              "      <th>Unnamed: 0</th>\n",
              "      <th>Unnamed: 0.1</th>\n",
              "      <th>user</th>\n",
              "      <th>tweet</th>\n",
              "      <th>location</th>\n",
              "      <th>description</th>\n",
              "      <th>friends_count</th>\n",
              "      <th>followers_count</th>\n",
              "      <th>statuses_count</th>\n",
              "      <th>created_at</th>\n",
              "      <th>retweet_count</th>\n",
              "      <th>hashtags</th>\n",
              "      <th>label</th>\n",
              "    </tr>\n",
              "  </thead>\n",
              "  <tbody>\n",
              "    <tr>\n",
              "      <th>1068</th>\n",
              "      <td>15</td>\n",
              "      <td>15</td>\n",
              "      <td>KenyanTraffic</td>\n",
              "      <td>: GOOD NEWS CHILD FOUND. Daniel Kibira Wanjiku...</td>\n",
              "      <td>Nairobi</td>\n",
              "      <td>#KenyanTraffic official account. 🇰🇪 We tweet t...</td>\n",
              "      <td>90088</td>\n",
              "      <td>568363</td>\n",
              "      <td>497709</td>\n",
              "      <td>2014-09-25 08:45:50</td>\n",
              "      <td>0</td>\n",
              "      <td>[]</td>\n",
              "      <td>abduction</td>\n",
              "    </tr>\n",
              "    <tr>\n",
              "      <th>1069</th>\n",
              "      <td>16</td>\n",
              "      <td>16</td>\n",
              "      <td>missingchild_ke</td>\n",
              "      <td>GOOD NEWS – CHILD FOUND. Daniel Kibira Wanjiku...</td>\n",
              "      <td>Nairobi, Kenya</td>\n",
              "      <td>Search Trace &amp; Reunification for MISSING CHILD...</td>\n",
              "      <td>9250</td>\n",
              "      <td>10708</td>\n",
              "      <td>3613</td>\n",
              "      <td>2016-07-12 11:42:35</td>\n",
              "      <td>1</td>\n",
              "      <td>[]</td>\n",
              "      <td>abduction</td>\n",
              "    </tr>\n",
              "    <tr>\n",
              "      <th>1070</th>\n",
              "      <td>0</td>\n",
              "      <td>0</td>\n",
              "      <td>NewsAlerts_Ke</td>\n",
              "      <td>@lawrencekitema Phone pickpocketing...ilikua o...</td>\n",
              "      <td>Nairobi, Kenya</td>\n",
              "      <td>Digital Media and News 🗞️ Alerts_|To Inform|Ed...</td>\n",
              "      <td>3343</td>\n",
              "      <td>1167</td>\n",
              "      <td>825</td>\n",
              "      <td>21/01/2021 19:03</td>\n",
              "      <td>0</td>\n",
              "      <td>[]</td>\n",
              "      <td>pickpocket</td>\n",
              "    </tr>\n",
              "    <tr>\n",
              "      <th>1071</th>\n",
              "      <td>1</td>\n",
              "      <td>1</td>\n",
              "      <td>leyi_leleti</td>\n",
              "      <td>Now they're back to pickpocketing us kwa matatu</td>\n",
              "      <td>Nairobi Kenya</td>\n",
              "      <td>NaN</td>\n",
              "      <td>337</td>\n",
              "      <td>778</td>\n",
              "      <td>2547</td>\n",
              "      <td>23/06/2014 07:50</td>\n",
              "      <td>0</td>\n",
              "      <td>[]</td>\n",
              "      <td>pickpocket</td>\n",
              "    </tr>\n",
              "    <tr>\n",
              "      <th>1072</th>\n",
              "      <td>2</td>\n",
              "      <td>2</td>\n",
              "      <td>Raybo0mLynn</td>\n",
              "      <td>meet a 12 yr old who was arrested for pickpock...</td>\n",
              "      <td>Nairobi</td>\n",
              "      <td>NaN</td>\n",
              "      <td>582</td>\n",
              "      <td>648</td>\n",
              "      <td>4711</td>\n",
              "      <td>26/05/2009 05:47</td>\n",
              "      <td>2</td>\n",
              "      <td>[]</td>\n",
              "      <td>pickpocket</td>\n",
              "    </tr>\n",
              "  </tbody>\n",
              "</table>\n",
              "</div>"
            ],
            "text/plain": [
              "      Unnamed: 0  Unnamed: 0.1  ... hashtags       label\n",
              "1068          15            15  ...       []   abduction\n",
              "1069          16            16  ...       []   abduction\n",
              "1070           0             0  ...       []  pickpocket\n",
              "1071           1             1  ...       []  pickpocket\n",
              "1072           2             2  ...       []  pickpocket\n",
              "\n",
              "[5 rows x 13 columns]"
            ]
          },
          "metadata": {
            "tags": []
          },
          "execution_count": 160
        }
      ]
    },
    {
      "cell_type": "code",
      "metadata": {
        "id": "n8-dW4sQWzbc",
        "colab": {
          "base_uri": "https://localhost:8080/"
        },
        "outputId": "2fe1889a-646f-46fe-f396-841fc390a982"
      },
      "source": [
        "# Checking the number of rows\n",
        "crime.shape"
      ],
      "execution_count": 161,
      "outputs": [
        {
          "output_type": "execute_result",
          "data": {
            "text/plain": [
              "(1073, 13)"
            ]
          },
          "metadata": {
            "tags": []
          },
          "execution_count": 161
        }
      ]
    },
    {
      "cell_type": "code",
      "metadata": {
        "colab": {
          "base_uri": "https://localhost:8080/"
        },
        "id": "P0wZblu3w-6n",
        "outputId": "1fe8bf1c-ef08-43d1-aeaf-baf659c726a6"
      },
      "source": [
        "#checking the datatypes\n",
        "crime.info()"
      ],
      "execution_count": 162,
      "outputs": [
        {
          "output_type": "stream",
          "text": [
            "<class 'pandas.core.frame.DataFrame'>\n",
            "RangeIndex: 1073 entries, 0 to 1072\n",
            "Data columns (total 13 columns):\n",
            " #   Column           Non-Null Count  Dtype \n",
            "---  ------           --------------  ----- \n",
            " 0   Unnamed: 0       1073 non-null   int64 \n",
            " 1   Unnamed: 0.1     1073 non-null   int64 \n",
            " 2   user             1073 non-null   object\n",
            " 3   tweet            1073 non-null   object\n",
            " 4   location         1070 non-null   object\n",
            " 5   description      1027 non-null   object\n",
            " 6   friends_count    1073 non-null   int64 \n",
            " 7   followers_count  1073 non-null   int64 \n",
            " 8   statuses_count   1073 non-null   int64 \n",
            " 9   created_at       1073 non-null   object\n",
            " 10  retweet_count    1073 non-null   int64 \n",
            " 11  hashtags         1073 non-null   object\n",
            " 12  label            1073 non-null   object\n",
            "dtypes: int64(6), object(7)\n",
            "memory usage: 109.1+ KB\n"
          ],
          "name": "stdout"
        }
      ]
    },
    {
      "cell_type": "markdown",
      "metadata": {
        "id": "FlBMxEDBUc9B"
      },
      "source": [
        "## 4. Tidying the Dataset"
      ]
    },
    {
      "cell_type": "code",
      "metadata": {
        "id": "MpsDGKZHsf_W",
        "colab": {
          "base_uri": "https://localhost:8080/"
        },
        "outputId": "e833c71d-0e67-4d21-891b-ed5fec7ad2ce"
      },
      "source": [
        "# Dealing with the Missing Data\n",
        "#\n",
        "crime.isnull().sum()"
      ],
      "execution_count": 163,
      "outputs": [
        {
          "output_type": "execute_result",
          "data": {
            "text/plain": [
              "Unnamed: 0          0\n",
              "Unnamed: 0.1        0\n",
              "user                0\n",
              "tweet               0\n",
              "location            3\n",
              "description        46\n",
              "friends_count       0\n",
              "followers_count     0\n",
              "statuses_count      0\n",
              "created_at          0\n",
              "retweet_count       0\n",
              "hashtags            0\n",
              "label               0\n",
              "dtype: int64"
            ]
          },
          "metadata": {
            "tags": []
          },
          "execution_count": 163
        }
      ]
    },
    {
      "cell_type": "code",
      "metadata": {
        "colab": {
          "base_uri": "https://localhost:8080/"
        },
        "id": "MYS5-j7lxUjd",
        "outputId": "4a12a203-4955-43aa-9094-ca7195ef7d45"
      },
      "source": [
        "crime.duplicated().sum()"
      ],
      "execution_count": 164,
      "outputs": [
        {
          "output_type": "execute_result",
          "data": {
            "text/plain": [
              "0"
            ]
          },
          "metadata": {
            "tags": []
          },
          "execution_count": 164
        }
      ]
    },
    {
      "cell_type": "markdown",
      "metadata": {
        "id": "YuzA0SJMxfNC"
      },
      "source": [
        "Deleting unwanted columns"
      ]
    },
    {
      "cell_type": "code",
      "metadata": {
        "colab": {
          "base_uri": "https://localhost:8080/"
        },
        "id": "ek8jPWhjyEaP",
        "outputId": "370a674e-7d90-4d14-df8b-3eb9eb5454ce"
      },
      "source": [
        "crime.columns"
      ],
      "execution_count": 165,
      "outputs": [
        {
          "output_type": "execute_result",
          "data": {
            "text/plain": [
              "Index(['Unnamed: 0', 'Unnamed: 0.1', 'user', 'tweet', 'location',\n",
              "       'description', 'friends_count', 'followers_count', 'statuses_count',\n",
              "       'created_at', 'retweet_count', 'hashtags', 'label'],\n",
              "      dtype='object')"
            ]
          },
          "metadata": {
            "tags": []
          },
          "execution_count": 165
        }
      ]
    },
    {
      "cell_type": "code",
      "metadata": {
        "id": "eJ9tj0H5xiOp"
      },
      "source": [
        "crime.drop(['Unnamed: 0', 'Unnamed: 0.1', 'user', 'friends_count', 'followers_count', 'statuses_count', 'created_at', 'retweet_count'], axis=1, inplace=True)"
      ],
      "execution_count": 166,
      "outputs": []
    },
    {
      "cell_type": "code",
      "metadata": {
        "id": "HpCsWmZLy0PX"
      },
      "source": [
        "crime.drop('description', axis=1, inplace=True)"
      ],
      "execution_count": 167,
      "outputs": []
    },
    {
      "cell_type": "code",
      "metadata": {
        "colab": {
          "base_uri": "https://localhost:8080/"
        },
        "id": "5oR-Ch93yeYs",
        "outputId": "723527db-20c7-480e-fbe9-edf78b106e00"
      },
      "source": [
        "crime.shape"
      ],
      "execution_count": 168,
      "outputs": [
        {
          "output_type": "execute_result",
          "data": {
            "text/plain": [
              "(1073, 4)"
            ]
          },
          "metadata": {
            "tags": []
          },
          "execution_count": 168
        }
      ]
    },
    {
      "cell_type": "code",
      "metadata": {
        "colab": {
          "base_uri": "https://localhost:8080/",
          "height": 110
        },
        "id": "MNQDJVi0yi1s",
        "outputId": "912fe6fc-45ae-454a-b1b0-d55644352d52"
      },
      "source": [
        "crime.head(2)"
      ],
      "execution_count": 169,
      "outputs": [
        {
          "output_type": "execute_result",
          "data": {
            "text/html": [
              "<div>\n",
              "<style scoped>\n",
              "    .dataframe tbody tr th:only-of-type {\n",
              "        vertical-align: middle;\n",
              "    }\n",
              "\n",
              "    .dataframe tbody tr th {\n",
              "        vertical-align: top;\n",
              "    }\n",
              "\n",
              "    .dataframe thead th {\n",
              "        text-align: right;\n",
              "    }\n",
              "</style>\n",
              "<table border=\"1\" class=\"dataframe\">\n",
              "  <thead>\n",
              "    <tr style=\"text-align: right;\">\n",
              "      <th></th>\n",
              "      <th>tweet</th>\n",
              "      <th>location</th>\n",
              "      <th>hashtags</th>\n",
              "      <th>label</th>\n",
              "    </tr>\n",
              "  </thead>\n",
              "  <tbody>\n",
              "    <tr>\n",
              "      <th>0</th>\n",
              "      <td>@citizentvkenya It's at the extremity of life ...</td>\n",
              "      <td>Nairobi, Kenya</td>\n",
              "      <td>[]</td>\n",
              "      <td>Police Brutality</td>\n",
              "    </tr>\n",
              "    <tr>\n",
              "      <th>1</th>\n",
              "      <td>@EileenWakesho I'm Feeling hurt ...I really fe...</td>\n",
              "      <td>Nairobi, Kenya</td>\n",
              "      <td>[]</td>\n",
              "      <td>Police Brutality</td>\n",
              "    </tr>\n",
              "  </tbody>\n",
              "</table>\n",
              "</div>"
            ],
            "text/plain": [
              "                                               tweet  ...             label\n",
              "0  @citizentvkenya It's at the extremity of life ...  ...  Police Brutality\n",
              "1  @EileenWakesho I'm Feeling hurt ...I really fe...  ...  Police Brutality\n",
              "\n",
              "[2 rows x 4 columns]"
            ]
          },
          "metadata": {
            "tags": []
          },
          "execution_count": 169
        }
      ]
    },
    {
      "cell_type": "code",
      "metadata": {
        "id": "OC6hi9ofzsBu"
      },
      "source": [
        "#removing the URL links\n",
        "example=\"New competition launched :https://www.kaggle.com/c/nlp-getting-started\""
      ],
      "execution_count": 170,
      "outputs": []
    },
    {
      "cell_type": "code",
      "metadata": {
        "colab": {
          "base_uri": "https://localhost:8080/",
          "height": 35
        },
        "id": "SY0hnwrJzvox",
        "outputId": "5a42ea3d-4064-4a5d-f0f5-8f32f350f931"
      },
      "source": [
        "def remove_URL(text):\n",
        "    url = re.compile(r'https?://\\S+|www\\.\\S+')\n",
        "    return url.sub(r'',text)\n",
        "\n",
        "remove_URL(example)"
      ],
      "execution_count": 171,
      "outputs": [
        {
          "output_type": "execute_result",
          "data": {
            "application/vnd.google.colaboratory.intrinsic+json": {
              "type": "string"
            },
            "text/plain": [
              "'New competition launched :'"
            ]
          },
          "metadata": {
            "tags": []
          },
          "execution_count": 171
        }
      ]
    },
    {
      "cell_type": "code",
      "metadata": {
        "id": "Bh5cgIH_z1dP"
      },
      "source": [
        "crime['tweet']=crime['tweet'].apply(lambda x : remove_URL(x))"
      ],
      "execution_count": 172,
      "outputs": []
    },
    {
      "cell_type": "code",
      "metadata": {
        "colab": {
          "base_uri": "https://localhost:8080/",
          "height": 203
        },
        "id": "HCmRcYwb0QHz",
        "outputId": "e1f59ff5-bc06-494d-d4f0-f75c6255fc89"
      },
      "source": [
        "crime.head()"
      ],
      "execution_count": 173,
      "outputs": [
        {
          "output_type": "execute_result",
          "data": {
            "text/html": [
              "<div>\n",
              "<style scoped>\n",
              "    .dataframe tbody tr th:only-of-type {\n",
              "        vertical-align: middle;\n",
              "    }\n",
              "\n",
              "    .dataframe tbody tr th {\n",
              "        vertical-align: top;\n",
              "    }\n",
              "\n",
              "    .dataframe thead th {\n",
              "        text-align: right;\n",
              "    }\n",
              "</style>\n",
              "<table border=\"1\" class=\"dataframe\">\n",
              "  <thead>\n",
              "    <tr style=\"text-align: right;\">\n",
              "      <th></th>\n",
              "      <th>tweet</th>\n",
              "      <th>location</th>\n",
              "      <th>hashtags</th>\n",
              "      <th>label</th>\n",
              "    </tr>\n",
              "  </thead>\n",
              "  <tbody>\n",
              "    <tr>\n",
              "      <th>0</th>\n",
              "      <td>@citizentvkenya It's at the extremity of life ...</td>\n",
              "      <td>Nairobi, Kenya</td>\n",
              "      <td>[]</td>\n",
              "      <td>Police Brutality</td>\n",
              "    </tr>\n",
              "    <tr>\n",
              "      <th>1</th>\n",
              "      <td>@EileenWakesho I'm Feeling hurt ...I really fe...</td>\n",
              "      <td>Nairobi, Kenya</td>\n",
              "      <td>[]</td>\n",
              "      <td>Police Brutality</td>\n",
              "    </tr>\n",
              "    <tr>\n",
              "      <th>2</th>\n",
              "      <td>Every time I learn sth about the Kionjokama br...</td>\n",
              "      <td>Nairobi, Kenya</td>\n",
              "      <td>[]</td>\n",
              "      <td>Police Brutality</td>\n",
              "    </tr>\n",
              "    <tr>\n",
              "      <th>3</th>\n",
              "      <td>I lit these 2 candles tonight in their memory....</td>\n",
              "      <td>Nairobi</td>\n",
              "      <td>[]</td>\n",
              "      <td>Police Brutality</td>\n",
              "    </tr>\n",
              "    <tr>\n",
              "      <th>4</th>\n",
              "      <td>It seems being young in this country is a crim...</td>\n",
              "      <td>nairobi</td>\n",
              "      <td>[]</td>\n",
              "      <td>Police Brutality</td>\n",
              "    </tr>\n",
              "  </tbody>\n",
              "</table>\n",
              "</div>"
            ],
            "text/plain": [
              "                                               tweet  ...             label\n",
              "0  @citizentvkenya It's at the extremity of life ...  ...  Police Brutality\n",
              "1  @EileenWakesho I'm Feeling hurt ...I really fe...  ...  Police Brutality\n",
              "2  Every time I learn sth about the Kionjokama br...  ...  Police Brutality\n",
              "3  I lit these 2 candles tonight in their memory....  ...  Police Brutality\n",
              "4  It seems being young in this country is a crim...  ...  Police Brutality\n",
              "\n",
              "[5 rows x 4 columns]"
            ]
          },
          "metadata": {
            "tags": []
          },
          "execution_count": 173
        }
      ]
    },
    {
      "cell_type": "code",
      "metadata": {
        "colab": {
          "base_uri": "https://localhost:8080/"
        },
        "id": "fs5e6X2d0Iri",
        "outputId": "83ada584-d2d8-410d-f0be-828ee8652cfd"
      },
      "source": [
        "#removing all the panctuation marks in 'text' column\n",
        "def remove_punct(text):\n",
        "    table=str.maketrans('','',string.punctuation)\n",
        "    return text.translate(table)\n",
        "\n",
        "example=\"I am a #king\"\n",
        "print(remove_punct(example))"
      ],
      "execution_count": 174,
      "outputs": [
        {
          "output_type": "stream",
          "text": [
            "I am a king\n"
          ],
          "name": "stdout"
        }
      ]
    },
    {
      "cell_type": "code",
      "metadata": {
        "id": "uSrbaqe70Xik"
      },
      "source": [
        "crime['tweet']=crime['tweet'].apply(lambda x : remove_punct(x))"
      ],
      "execution_count": 175,
      "outputs": []
    },
    {
      "cell_type": "code",
      "metadata": {
        "colab": {
          "base_uri": "https://localhost:8080/",
          "height": 203
        },
        "id": "ZKXARXQW0dzY",
        "outputId": "3f0861b5-c454-4dc4-bba2-bbe859cba5f1"
      },
      "source": [
        "crime.head()"
      ],
      "execution_count": 176,
      "outputs": [
        {
          "output_type": "execute_result",
          "data": {
            "text/html": [
              "<div>\n",
              "<style scoped>\n",
              "    .dataframe tbody tr th:only-of-type {\n",
              "        vertical-align: middle;\n",
              "    }\n",
              "\n",
              "    .dataframe tbody tr th {\n",
              "        vertical-align: top;\n",
              "    }\n",
              "\n",
              "    .dataframe thead th {\n",
              "        text-align: right;\n",
              "    }\n",
              "</style>\n",
              "<table border=\"1\" class=\"dataframe\">\n",
              "  <thead>\n",
              "    <tr style=\"text-align: right;\">\n",
              "      <th></th>\n",
              "      <th>tweet</th>\n",
              "      <th>location</th>\n",
              "      <th>hashtags</th>\n",
              "      <th>label</th>\n",
              "    </tr>\n",
              "  </thead>\n",
              "  <tbody>\n",
              "    <tr>\n",
              "      <th>0</th>\n",
              "      <td>citizentvkenya Its at the extremity of life be...</td>\n",
              "      <td>Nairobi, Kenya</td>\n",
              "      <td>[]</td>\n",
              "      <td>Police Brutality</td>\n",
              "    </tr>\n",
              "    <tr>\n",
              "      <th>1</th>\n",
              "      <td>EileenWakesho Im Feeling hurt I really feel it...</td>\n",
              "      <td>Nairobi, Kenya</td>\n",
              "      <td>[]</td>\n",
              "      <td>Police Brutality</td>\n",
              "    </tr>\n",
              "    <tr>\n",
              "      <th>2</th>\n",
              "      <td>Every time I learn sth about the Kionjokama br...</td>\n",
              "      <td>Nairobi, Kenya</td>\n",
              "      <td>[]</td>\n",
              "      <td>Police Brutality</td>\n",
              "    </tr>\n",
              "    <tr>\n",
              "      <th>3</th>\n",
              "      <td>I lit these 2 candles tonight in their memory ...</td>\n",
              "      <td>Nairobi</td>\n",
              "      <td>[]</td>\n",
              "      <td>Police Brutality</td>\n",
              "    </tr>\n",
              "    <tr>\n",
              "      <th>4</th>\n",
              "      <td>It seems being young in this country is a crim...</td>\n",
              "      <td>nairobi</td>\n",
              "      <td>[]</td>\n",
              "      <td>Police Brutality</td>\n",
              "    </tr>\n",
              "  </tbody>\n",
              "</table>\n",
              "</div>"
            ],
            "text/plain": [
              "                                               tweet  ...             label\n",
              "0  citizentvkenya Its at the extremity of life be...  ...  Police Brutality\n",
              "1  EileenWakesho Im Feeling hurt I really feel it...  ...  Police Brutality\n",
              "2  Every time I learn sth about the Kionjokama br...  ...  Police Brutality\n",
              "3  I lit these 2 candles tonight in their memory ...  ...  Police Brutality\n",
              "4  It seems being young in this country is a crim...  ...  Police Brutality\n",
              "\n",
              "[5 rows x 4 columns]"
            ]
          },
          "metadata": {
            "tags": []
          },
          "execution_count": 176
        }
      ]
    },
    {
      "cell_type": "code",
      "metadata": {
        "id": "WEE3axNL0mzP"
      },
      "source": [
        "#putting the tweet characters to lower case\n",
        "crime['tweet'] = crime['tweet'].map(lambda x: x.lower())"
      ],
      "execution_count": 177,
      "outputs": []
    },
    {
      "cell_type": "code",
      "metadata": {
        "colab": {
          "base_uri": "https://localhost:8080/",
          "height": 203
        },
        "id": "bRgk9__n0wHt",
        "outputId": "9430e235-9caa-40d0-8c44-0ab48ce6322f"
      },
      "source": [
        "crime.head()"
      ],
      "execution_count": 178,
      "outputs": [
        {
          "output_type": "execute_result",
          "data": {
            "text/html": [
              "<div>\n",
              "<style scoped>\n",
              "    .dataframe tbody tr th:only-of-type {\n",
              "        vertical-align: middle;\n",
              "    }\n",
              "\n",
              "    .dataframe tbody tr th {\n",
              "        vertical-align: top;\n",
              "    }\n",
              "\n",
              "    .dataframe thead th {\n",
              "        text-align: right;\n",
              "    }\n",
              "</style>\n",
              "<table border=\"1\" class=\"dataframe\">\n",
              "  <thead>\n",
              "    <tr style=\"text-align: right;\">\n",
              "      <th></th>\n",
              "      <th>tweet</th>\n",
              "      <th>location</th>\n",
              "      <th>hashtags</th>\n",
              "      <th>label</th>\n",
              "    </tr>\n",
              "  </thead>\n",
              "  <tbody>\n",
              "    <tr>\n",
              "      <th>0</th>\n",
              "      <td>citizentvkenya its at the extremity of life be...</td>\n",
              "      <td>Nairobi, Kenya</td>\n",
              "      <td>[]</td>\n",
              "      <td>Police Brutality</td>\n",
              "    </tr>\n",
              "    <tr>\n",
              "      <th>1</th>\n",
              "      <td>eileenwakesho im feeling hurt i really feel it...</td>\n",
              "      <td>Nairobi, Kenya</td>\n",
              "      <td>[]</td>\n",
              "      <td>Police Brutality</td>\n",
              "    </tr>\n",
              "    <tr>\n",
              "      <th>2</th>\n",
              "      <td>every time i learn sth about the kionjokama br...</td>\n",
              "      <td>Nairobi, Kenya</td>\n",
              "      <td>[]</td>\n",
              "      <td>Police Brutality</td>\n",
              "    </tr>\n",
              "    <tr>\n",
              "      <th>3</th>\n",
              "      <td>i lit these 2 candles tonight in their memory ...</td>\n",
              "      <td>Nairobi</td>\n",
              "      <td>[]</td>\n",
              "      <td>Police Brutality</td>\n",
              "    </tr>\n",
              "    <tr>\n",
              "      <th>4</th>\n",
              "      <td>it seems being young in this country is a crim...</td>\n",
              "      <td>nairobi</td>\n",
              "      <td>[]</td>\n",
              "      <td>Police Brutality</td>\n",
              "    </tr>\n",
              "  </tbody>\n",
              "</table>\n",
              "</div>"
            ],
            "text/plain": [
              "                                               tweet  ...             label\n",
              "0  citizentvkenya its at the extremity of life be...  ...  Police Brutality\n",
              "1  eileenwakesho im feeling hurt i really feel it...  ...  Police Brutality\n",
              "2  every time i learn sth about the kionjokama br...  ...  Police Brutality\n",
              "3  i lit these 2 candles tonight in their memory ...  ...  Police Brutality\n",
              "4  it seems being young in this country is a crim...  ...  Police Brutality\n",
              "\n",
              "[5 rows x 4 columns]"
            ]
          },
          "metadata": {
            "tags": []
          },
          "execution_count": 178
        }
      ]
    },
    {
      "cell_type": "code",
      "metadata": {
        "colab": {
          "base_uri": "https://localhost:8080/",
          "height": 35
        },
        "id": "UT63sKp20-HA",
        "outputId": "b06d1f6c-ebf1-4519-9317-14852a528aa5"
      },
      "source": [
        "#function to remove emojis\n",
        "def remove_emoji(text):\n",
        "    emoji_pattern = re.compile(\"[\"\n",
        "                           u\"\\U0001F600-\\U0001F64F\"  # emoticons\n",
        "                           u\"\\U0001F300-\\U0001F5FF\"  # symbols & pictographs\n",
        "                           u\"\\U0001F680-\\U0001F6FF\"  # transport & map symbols\n",
        "                           u\"\\U0001F1E0-\\U0001F1FF\"  # flags (iOS)\n",
        "                           u\"\\U00002702-\\U000027B0\"\n",
        "                           u\"\\U000024C2-\\U0001F251\"\n",
        "                           \"]+\", flags=re.UNICODE)\n",
        "    return emoji_pattern.sub(r'', text)\n",
        "\n",
        "remove_emoji(\"Omg another Earthquake 😔😔\")"
      ],
      "execution_count": 179,
      "outputs": [
        {
          "output_type": "execute_result",
          "data": {
            "application/vnd.google.colaboratory.intrinsic+json": {
              "type": "string"
            },
            "text/plain": [
              "'Omg another Earthquake '"
            ]
          },
          "metadata": {
            "tags": []
          },
          "execution_count": 179
        }
      ]
    },
    {
      "cell_type": "code",
      "metadata": {
        "id": "sN5vhdK81DT-"
      },
      "source": [
        "#removing the emojis in text column if any.\n",
        "crime['tweet']=crime['tweet'].apply(lambda x: remove_emoji(x))"
      ],
      "execution_count": 180,
      "outputs": []
    },
    {
      "cell_type": "code",
      "metadata": {
        "id": "dCNW2niQ1S_w"
      },
      "source": [
        "# STOPWORD REMOVAL\n",
        "def stopword(string):\n",
        "    a= [i for i in string.split() if i not in stopwords.words('english')]\n",
        "    return ' '.join(a)\n",
        "#LEMMATIZATION\n",
        "# Initialize the lemmatizer\n",
        "wl = WordNetLemmatizer()\n",
        "# This is a helper function to map NTLK position tags\n",
        "def get_wordnet_pos(tag):\n",
        "    if tag.startswith('J'):\n",
        "        return wordnet.ADJ\n",
        "    elif tag.startswith('V'):\n",
        "        return wordnet.VERB\n",
        "    elif tag.startswith('N'):\n",
        "        return wordnet.NOUN\n",
        "    elif tag.startswith('R'):\n",
        "        return wordnet.ADV\n",
        "    else:\n",
        "        return wordnet.NOUN\n",
        "# Tokenize the sentence\n",
        "def lemmatizer(string):\n",
        "    word_pos_tags = nltk.pos_tag(word_tokenize(string)) # Get position tags\n",
        "    a=[wl.lemmatize(tag[0], get_wordnet_pos(tag[1])) for idx, tag in enumerate(word_pos_tags)] # Map the position tag and lemmatize the word/token\n",
        "    return \" \".join(a)\n",
        "\n"
      ],
      "execution_count": 181,
      "outputs": []
    },
    {
      "cell_type": "code",
      "metadata": {
        "colab": {
          "base_uri": "https://localhost:8080/"
        },
        "id": "wAeehzTz2gX_",
        "outputId": "6f29e7be-42af-4b16-dce2-6d329a41b5ed"
      },
      "source": [
        "from nltk.corpus import stopwords\n",
        "nltk.download('stopwords')"
      ],
      "execution_count": 182,
      "outputs": [
        {
          "output_type": "stream",
          "text": [
            "[nltk_data] Downloading package stopwords to /root/nltk_data...\n",
            "[nltk_data]   Package stopwords is already up-to-date!\n"
          ],
          "name": "stdout"
        },
        {
          "output_type": "execute_result",
          "data": {
            "text/plain": [
              "True"
            ]
          },
          "metadata": {
            "tags": []
          },
          "execution_count": 182
        }
      ]
    },
    {
      "cell_type": "code",
      "metadata": {
        "id": "VzR8PSko43hY"
      },
      "source": [
        "#convert to lowercase, strip and remove punctuations\n",
        "def preprocess(text):\n",
        "    text = text.lower() \n",
        "    text=text.strip()  \n",
        "    text=re.compile('<.*?>').sub('', text) \n",
        "    text = re.compile('[%s]' % re.escape(string.punctuation)).sub(' ', text)  \n",
        "    text = re.sub('\\s+', ' ', text)  \n",
        "    text = re.sub(r'\\[[0-9]*\\]',' ',text) \n",
        "    text=re.sub(r'[^\\w\\s]', '', str(text).lower().strip())\n",
        "    text = re.sub(r'\\d',' ',text) \n",
        "    text = re.sub(r'\\s+',' ',text) \n",
        "    return text"
      ],
      "execution_count": 183,
      "outputs": []
    },
    {
      "cell_type": "code",
      "metadata": {
        "colab": {
          "base_uri": "https://localhost:8080/",
          "height": 203
        },
        "id": "b0Wc9JJV2pxZ",
        "outputId": "7951b79d-b2c1-4a7e-99be-1d14fafe79b5"
      },
      "source": [
        "def finalpreprocess(string):\n",
        "    return lemmatizer(stopword(preprocess(string)))\n",
        "crime['clean_text'] = crime['tweet'].apply(lambda x: finalpreprocess(x))\n",
        "crime.head()"
      ],
      "execution_count": 184,
      "outputs": [
        {
          "output_type": "execute_result",
          "data": {
            "text/html": [
              "<div>\n",
              "<style scoped>\n",
              "    .dataframe tbody tr th:only-of-type {\n",
              "        vertical-align: middle;\n",
              "    }\n",
              "\n",
              "    .dataframe tbody tr th {\n",
              "        vertical-align: top;\n",
              "    }\n",
              "\n",
              "    .dataframe thead th {\n",
              "        text-align: right;\n",
              "    }\n",
              "</style>\n",
              "<table border=\"1\" class=\"dataframe\">\n",
              "  <thead>\n",
              "    <tr style=\"text-align: right;\">\n",
              "      <th></th>\n",
              "      <th>tweet</th>\n",
              "      <th>location</th>\n",
              "      <th>hashtags</th>\n",
              "      <th>label</th>\n",
              "      <th>clean_text</th>\n",
              "    </tr>\n",
              "  </thead>\n",
              "  <tbody>\n",
              "    <tr>\n",
              "      <th>0</th>\n",
              "      <td>citizentvkenya its at the extremity of life be...</td>\n",
              "      <td>Nairobi, Kenya</td>\n",
              "      <td>[]</td>\n",
              "      <td>Police Brutality</td>\n",
              "      <td>citizentvkenya extremity life take granted wit...</td>\n",
              "    </tr>\n",
              "    <tr>\n",
              "      <th>1</th>\n",
              "      <td>eileenwakesho im feeling hurt i really feel it...</td>\n",
              "      <td>Nairobi, Kenya</td>\n",
              "      <td>[]</td>\n",
              "      <td>Police Brutality</td>\n",
              "      <td>eileenwakesho im feel hurt really feel rogue o...</td>\n",
              "    </tr>\n",
              "    <tr>\n",
              "      <th>2</th>\n",
              "      <td>every time i learn sth about the kionjokama br...</td>\n",
              "      <td>Nairobi, Kenya</td>\n",
              "      <td>[]</td>\n",
              "      <td>Police Brutality</td>\n",
              "      <td>every time learn sth kionjokama brother heart ...</td>\n",
              "    </tr>\n",
              "    <tr>\n",
              "      <th>3</th>\n",
              "      <td>i lit these 2 candles tonight in their memory ...</td>\n",
              "      <td>Nairobi</td>\n",
              "      <td>[]</td>\n",
              "      <td>Police Brutality</td>\n",
              "      <td>lit candle tonight memory reflection candle re...</td>\n",
              "    </tr>\n",
              "    <tr>\n",
              "      <th>4</th>\n",
              "      <td>it seems being young in this country is a crim...</td>\n",
              "      <td>nairobi</td>\n",
              "      <td>[]</td>\n",
              "      <td>Police Brutality</td>\n",
              "      <td>seem young country crime depression due system...</td>\n",
              "    </tr>\n",
              "  </tbody>\n",
              "</table>\n",
              "</div>"
            ],
            "text/plain": [
              "                                               tweet  ...                                         clean_text\n",
              "0  citizentvkenya its at the extremity of life be...  ...  citizentvkenya extremity life take granted wit...\n",
              "1  eileenwakesho im feeling hurt i really feel it...  ...  eileenwakesho im feel hurt really feel rogue o...\n",
              "2  every time i learn sth about the kionjokama br...  ...  every time learn sth kionjokama brother heart ...\n",
              "3  i lit these 2 candles tonight in their memory ...  ...  lit candle tonight memory reflection candle re...\n",
              "4  it seems being young in this country is a crim...  ...  seem young country crime depression due system...\n",
              "\n",
              "[5 rows x 5 columns]"
            ]
          },
          "metadata": {
            "tags": []
          },
          "execution_count": 184
        }
      ]
    },
    {
      "cell_type": "code",
      "metadata": {
        "id": "2h-l7m8j-ve-"
      },
      "source": [
        "# Tokenizing the messages into into single words using nltk. \n",
        "\n",
        "# Applying the tokenization\n",
        "# \n",
        "#crime['clean_text']= crime['clean_text'].apply(nltk.word_tokenize)"
      ],
      "execution_count": 185,
      "outputs": []
    },
    {
      "cell_type": "code",
      "metadata": {
        "colab": {
          "base_uri": "https://localhost:8080/",
          "height": 110
        },
        "id": "IWHZ8It3-4my",
        "outputId": "0a1f3c65-405d-462d-c1d3-961fa4c48ef1"
      },
      "source": [
        "crime.head(2)"
      ],
      "execution_count": 186,
      "outputs": [
        {
          "output_type": "execute_result",
          "data": {
            "text/html": [
              "<div>\n",
              "<style scoped>\n",
              "    .dataframe tbody tr th:only-of-type {\n",
              "        vertical-align: middle;\n",
              "    }\n",
              "\n",
              "    .dataframe tbody tr th {\n",
              "        vertical-align: top;\n",
              "    }\n",
              "\n",
              "    .dataframe thead th {\n",
              "        text-align: right;\n",
              "    }\n",
              "</style>\n",
              "<table border=\"1\" class=\"dataframe\">\n",
              "  <thead>\n",
              "    <tr style=\"text-align: right;\">\n",
              "      <th></th>\n",
              "      <th>tweet</th>\n",
              "      <th>location</th>\n",
              "      <th>hashtags</th>\n",
              "      <th>label</th>\n",
              "      <th>clean_text</th>\n",
              "    </tr>\n",
              "  </thead>\n",
              "  <tbody>\n",
              "    <tr>\n",
              "      <th>0</th>\n",
              "      <td>citizentvkenya its at the extremity of life be...</td>\n",
              "      <td>Nairobi, Kenya</td>\n",
              "      <td>[]</td>\n",
              "      <td>Police Brutality</td>\n",
              "      <td>citizentvkenya extremity life take granted wit...</td>\n",
              "    </tr>\n",
              "    <tr>\n",
              "      <th>1</th>\n",
              "      <td>eileenwakesho im feeling hurt i really feel it...</td>\n",
              "      <td>Nairobi, Kenya</td>\n",
              "      <td>[]</td>\n",
              "      <td>Police Brutality</td>\n",
              "      <td>eileenwakesho im feel hurt really feel rogue o...</td>\n",
              "    </tr>\n",
              "  </tbody>\n",
              "</table>\n",
              "</div>"
            ],
            "text/plain": [
              "                                               tweet  ...                                         clean_text\n",
              "0  citizentvkenya its at the extremity of life be...  ...  citizentvkenya extremity life take granted wit...\n",
              "1  eileenwakesho im feeling hurt i really feel it...  ...  eileenwakesho im feel hurt really feel rogue o...\n",
              "\n",
              "[2 rows x 5 columns]"
            ]
          },
          "metadata": {
            "tags": []
          },
          "execution_count": 186
        }
      ]
    },
    {
      "cell_type": "code",
      "metadata": {
        "id": "QQigA8ZW_X7h"
      },
      "source": [
        "#SPLITTING THE TRAINING DATASET INTO TRAINING AND VALIDATION\n",
        " \n",
        "# Input: \"reviewText\", \"rating\" and \"time\"\n",
        "# Target: \"log_votes\"\n",
        "\n",
        "X_train, X_val, y_train, y_val = train_test_split(crime[\"clean_text\"], \n",
        "                                                  crime['label'],\n",
        "                                                  test_size=0.33,\n",
        "                                                  shuffle=True)\n",
        "#X_train_tok= [nltk.word_tokenize(i) for i in X_train]  #for word2vec # X_train"
      ],
      "execution_count": 187,
      "outputs": []
    },
    {
      "cell_type": "code",
      "metadata": {
        "id": "BykJfFNnBrGs"
      },
      "source": [
        "#TF-IDF\n",
        "# Convert x_train to vector since model can only run on numbers and not words- Fit and transform\n",
        "#\n",
        "tfidf_vectorizer = TfidfVectorizer(use_idf=True)\n",
        "X_train_vectors_tfidf = tfidf_vectorizer.fit_transform(X_train) #tfidf runs on non-tokenized sentences unlike word2vec\n",
        "\n",
        "X_val_vectors_tfidf = tfidf_vectorizer.transform(X_val)"
      ],
      "execution_count": 188,
      "outputs": []
    },
    {
      "cell_type": "code",
      "metadata": {
        "id": "mOyv6_3pMwj4"
      },
      "source": [
        "# Only transform x_test (not fit and transform)\n",
        "X_val_vectors_tfidf = tfidf_vectorizer.transform(X_val) #Don't fit() your TfidfVectorizer to your test data: it will \n",
        "#\n",
        "#change the word-indexes & weights to match test data. Rather, fit on the training data, then use the same train-data-\n",
        "#fit model on the test data, to reflect the fact you're analyzing the test data only based on what was learned without \n",
        "#it, and the have compatible"
      ],
      "execution_count": 189,
      "outputs": []
    },
    {
      "cell_type": "markdown",
      "metadata": {
        "id": "rF2ABPsHUtbZ"
      },
      "source": [
        "## 5. Exploratory Analysis"
      ]
    },
    {
      "cell_type": "code",
      "metadata": {
        "colab": {
          "base_uri": "https://localhost:8080/",
          "height": 335
        },
        "id": "UgjwcXtvNEQJ",
        "outputId": "bf25eb83-68a6-41f5-8367-10263729c48e"
      },
      "source": [
        "x=crime.label.value_counts()\n",
        "sns.barplot(x.index,x)\n",
        "plt.gca().set_ylabel('tweets')"
      ],
      "execution_count": 190,
      "outputs": [
        {
          "output_type": "stream",
          "text": [
            "/usr/local/lib/python3.7/dist-packages/seaborn/_decorators.py:43: FutureWarning: Pass the following variables as keyword args: x, y. From version 0.12, the only valid positional argument will be `data`, and passing other arguments without an explicit keyword will result in an error or misinterpretation.\n",
            "  FutureWarning\n"
          ],
          "name": "stderr"
        },
        {
          "output_type": "execute_result",
          "data": {
            "text/plain": [
              "Text(0, 0.5, 'samples')"
            ]
          },
          "metadata": {
            "tags": []
          },
          "execution_count": 190
        },
        {
          "output_type": "display_data",
          "data": {
            "image/png": "[encoded data removed]",
            "text/plain": [
              "<Figure size 432x288 with 1 Axes>"
            ]
          },
          "metadata": {
            "tags": []
          }
        }
      ]
    },
    {
      "cell_type": "markdown",
      "metadata": {
        "id": "vTbdjSrhVIiT"
      },
      "source": [
        "## 6. Modelling"
      ]
    },
    {
      "cell_type": "markdown",
      "metadata": {
        "id": "qDo0kqGsozmF"
      },
      "source": [
        "### Neural Network"
      ]
    },
    {
      "cell_type": "markdown",
      "metadata": {
        "id": "lDPRx54mosuB"
      },
      "source": [
        "### KNN"
      ]
    },
    {
      "cell_type": "markdown",
      "metadata": {
        "id": "6flMvYNrpLBZ"
      },
      "source": [
        "### Naive Bayes"
      ]
    },
    {
      "cell_type": "markdown",
      "metadata": {
        "id": "_bDJPcM6p8Hb"
      },
      "source": [
        "### Random Forest"
      ]
    },
    {
      "cell_type": "markdown",
      "metadata": {
        "id": "77rCZYYdOBCL"
      },
      "source": [
        "Logistic"
      ]
    },
    {
      "cell_type": "markdown",
      "metadata": {
        "id": "lQ2G4ZPDVOXE"
      },
      "source": [
        "## 7. Challenging the solution"
      ]
    },
    {
      "cell_type": "markdown",
      "metadata": {
        "id": "xrmHVMVsVS--"
      },
      "source": [
        "## 8. Recommendation"
      ]
    }
  ]
}