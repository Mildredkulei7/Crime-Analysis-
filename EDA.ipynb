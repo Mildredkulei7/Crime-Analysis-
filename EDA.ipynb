{
  "nbformat": 4,
  "nbformat_minor": 0,
  "metadata": {
    "colab": {
      "name": "EDA.ipynb",
      "provenance": [],
      "collapsed_sections": [],
      "include_colab_link": true
    },
    "kernelspec": {
      "name": "python3",
      "display_name": "Python 3"
    },
    "language_info": {
      "name": "python"
    }
  },
  "cells": [
    {
      "cell_type": "markdown",
      "metadata": {
        "id": "view-in-github",
        "colab_type": "text"
      },
      "source": [
        "<a href=\"https://colab.research.google.com/github/quincynjoroge/Crime-Analysis-/blob/EDA/EDA.ipynb\" target=\"_parent\"><img src=\"https://colab.research.google.com/assets/colab-badge.svg\" alt=\"Open In Colab\"/></a>"
      ]
    },
    {
      "cell_type": "markdown",
      "metadata": {
        "id": "B_WahV8eEA-d"
      },
      "source": [
        "# Defining the Question\n"
      ]
    },
    {
      "cell_type": "markdown",
      "metadata": {
        "id": "RZqmGX4mEQ-o"
      },
      "source": [
        "## Importing the libraries"
      ]
    },
    {
      "cell_type": "code",
      "metadata": {
        "id": "tLoQoFR2vBQr"
      },
      "source": [
        "!pip install nltk"
      ],
      "execution_count": null,
      "outputs": []
    },
    {
      "cell_type": "code",
      "metadata": {
        "id": "46oVNerTvE28"
      },
      "source": [
        "import nltk"
      ],
      "execution_count": 30,
      "outputs": []
    },
    {
      "cell_type": "code",
      "metadata": {
        "id": "Qh7-tmjcJCnH"
      },
      "source": [
        "import pandas as pd\n",
        "import numpy as np\n",
        "import matplotlib.pyplot as plt\n",
        "import seaborn as sns\n",
        "from sklearn.model_selection import train_test_split\n",
        "from wordcloud import WordCloud\n",
        "from nltk import FreqDist\n",
        "#for text pre-processing\n",
        "import re, string"
      ],
      "execution_count": 1,
      "outputs": []
    },
    {
      "cell_type": "code",
      "metadata": {
        "colab": {
          "base_uri": "https://localhost:8080/"
        },
        "id": "1a0qSJjWDVJW",
        "outputId": "72f0f517-088a-4239-d2a4-5104cd7b7e6e"
      },
      "source": [
        "from google.colab import drive\n",
        "drive.mount('/content/drive')"
      ],
      "execution_count": 2,
      "outputs": [
        {
          "output_type": "stream",
          "text": [
            "Mounted at /content/drive\n"
          ],
          "name": "stdout"
        }
      ]
    },
    {
      "cell_type": "markdown",
      "metadata": {
        "id": "aGK8hBdTI8Tt"
      },
      "source": [
        "## Importing the Dataset\n"
      ]
    },
    {
      "cell_type": "code",
      "metadata": {
        "id": "jRfFjCOGJDul"
      },
      "source": [
        "#load dataset\n",
        "crime_df = pd.read_csv('/content/drive/MyDrive/GROUP 2/CSVfiles2/crime-k.csv')"
      ],
      "execution_count": 3,
      "outputs": []
    },
    {
      "cell_type": "code",
      "metadata": {
        "id": "ygMT-T94DygN"
      },
      "source": [
        "crime_df.drop(['Unnamed: 0'],axis=1,inplace=True)"
      ],
      "execution_count": 4,
      "outputs": []
    },
    {
      "cell_type": "code",
      "metadata": {
        "colab": {
          "base_uri": "https://localhost:8080/",
          "height": 391
        },
        "id": "MPI_fTCuU_AJ",
        "outputId": "b568aef4-d9d1-4085-9657-2841e5b2cbbb"
      },
      "source": [
        "#check top of our dataset head\n",
        "crime_df.head()"
      ],
      "execution_count": 5,
      "outputs": [
        {
          "output_type": "execute_result",
          "data": {
            "text/html": [
              "<div>\n",
              "<style scoped>\n",
              "    .dataframe tbody tr th:only-of-type {\n",
              "        vertical-align: middle;\n",
              "    }\n",
              "\n",
              "    .dataframe tbody tr th {\n",
              "        vertical-align: top;\n",
              "    }\n",
              "\n",
              "    .dataframe thead th {\n",
              "        text-align: right;\n",
              "    }\n",
              "</style>\n",
              "<table border=\"1\" class=\"dataframe\">\n",
              "  <thead>\n",
              "    <tr style=\"text-align: right;\">\n",
              "      <th></th>\n",
              "      <th>user</th>\n",
              "      <th>tweet</th>\n",
              "      <th>location</th>\n",
              "      <th>description</th>\n",
              "      <th>friends_count</th>\n",
              "      <th>followers_count</th>\n",
              "      <th>statuses_count</th>\n",
              "      <th>created_at</th>\n",
              "      <th>retweet_count</th>\n",
              "      <th>hashtags</th>\n",
              "      <th>label</th>\n",
              "    </tr>\n",
              "  </thead>\n",
              "  <tbody>\n",
              "    <tr>\n",
              "      <th>0</th>\n",
              "      <td>MuchangiNyaga5</td>\n",
              "      <td>@MathareSJustice @wanjirunjira @UhaiWetu @gach...</td>\n",
              "      <td>Nairobi, Kenya</td>\n",
              "      <td>NaN</td>\n",
              "      <td>37</td>\n",
              "      <td>0</td>\n",
              "      <td>2</td>\n",
              "      <td>8/17/2021 8:59</td>\n",
              "      <td>0</td>\n",
              "      <td>[]</td>\n",
              "      <td>police brutality</td>\n",
              "    </tr>\n",
              "    <tr>\n",
              "      <th>1</th>\n",
              "      <td>jmkariuki24</td>\n",
              "      <td>It is not easy being a young person in this co...</td>\n",
              "      <td>Nairobi, Kenya</td>\n",
              "      <td>Evidence enthusiast with a passion for advanci...</td>\n",
              "      <td>8979</td>\n",
              "      <td>12175</td>\n",
              "      <td>276</td>\n",
              "      <td>8/17/2021 8:52</td>\n",
              "      <td>0</td>\n",
              "      <td>[]</td>\n",
              "      <td>police brutality</td>\n",
              "    </tr>\n",
              "    <tr>\n",
              "      <th>2</th>\n",
              "      <td>FlavionsKimani</td>\n",
              "      <td>You come to voters begging for votes, yet none...</td>\n",
              "      <td>Nairobi Kenya</td>\n",
              "      <td>MUFC die hard,Opinions are my own #mufcfan,#mu...</td>\n",
              "      <td>1310</td>\n",
              "      <td>1561</td>\n",
              "      <td>66764</td>\n",
              "      <td>8/17/2021 8:48</td>\n",
              "      <td>0</td>\n",
              "      <td>[]</td>\n",
              "      <td>police brutality</td>\n",
              "    </tr>\n",
              "    <tr>\n",
              "      <th>3</th>\n",
              "      <td>nyamu_dickson</td>\n",
              "      <td>It would be wise if we have bloggers with cont...</td>\n",
              "      <td>Nairobi, Kenya</td>\n",
              "      <td>Love politics, sportsman (martial arts&amp;footbal...</td>\n",
              "      <td>356</td>\n",
              "      <td>338</td>\n",
              "      <td>2578</td>\n",
              "      <td>8/17/2021 7:45</td>\n",
              "      <td>0</td>\n",
              "      <td>[]</td>\n",
              "      <td>police brutality</td>\n",
              "    </tr>\n",
              "    <tr>\n",
              "      <th>4</th>\n",
              "      <td>prings_ke</td>\n",
              "      <td>Before you vote, ask your candidates what they...</td>\n",
              "      <td>Thika, Kenya</td>\n",
              "      <td>Love one, love all.</td>\n",
              "      <td>382</td>\n",
              "      <td>1926</td>\n",
              "      <td>2529</td>\n",
              "      <td>8/17/2021 7:44</td>\n",
              "      <td>3</td>\n",
              "      <td>[]</td>\n",
              "      <td>police brutality</td>\n",
              "    </tr>\n",
              "  </tbody>\n",
              "</table>\n",
              "</div>"
            ],
            "text/plain": [
              "             user  ...             label\n",
              "0  MuchangiNyaga5  ...  police brutality\n",
              "1     jmkariuki24  ...  police brutality\n",
              "2  FlavionsKimani  ...  police brutality\n",
              "3   nyamu_dickson  ...  police brutality\n",
              "4       prings_ke  ...  police brutality\n",
              "\n",
              "[5 rows x 11 columns]"
            ]
          },
          "metadata": {
            "tags": []
          },
          "execution_count": 5
        }
      ]
    },
    {
      "cell_type": "code",
      "metadata": {
        "colab": {
          "base_uri": "https://localhost:8080/",
          "height": 479
        },
        "id": "xFWD9sOhVA0h",
        "outputId": "a4720eb7-75c6-4bbc-dd82-017a984b2ad2"
      },
      "source": [
        "#check tail\n",
        "crime_df.tail()"
      ],
      "execution_count": 6,
      "outputs": [
        {
          "output_type": "execute_result",
          "data": {
            "text/html": [
              "<div>\n",
              "<style scoped>\n",
              "    .dataframe tbody tr th:only-of-type {\n",
              "        vertical-align: middle;\n",
              "    }\n",
              "\n",
              "    .dataframe tbody tr th {\n",
              "        vertical-align: top;\n",
              "    }\n",
              "\n",
              "    .dataframe thead th {\n",
              "        text-align: right;\n",
              "    }\n",
              "</style>\n",
              "<table border=\"1\" class=\"dataframe\">\n",
              "  <thead>\n",
              "    <tr style=\"text-align: right;\">\n",
              "      <th></th>\n",
              "      <th>user</th>\n",
              "      <th>tweet</th>\n",
              "      <th>location</th>\n",
              "      <th>description</th>\n",
              "      <th>friends_count</th>\n",
              "      <th>followers_count</th>\n",
              "      <th>statuses_count</th>\n",
              "      <th>created_at</th>\n",
              "      <th>retweet_count</th>\n",
              "      <th>hashtags</th>\n",
              "      <th>label</th>\n",
              "    </tr>\n",
              "  </thead>\n",
              "  <tbody>\n",
              "    <tr>\n",
              "      <th>2995</th>\n",
              "      <td>ErickOtienoMang</td>\n",
              "      <td>Uhuru, pawns hunger-torture impunity; Judiciar...</td>\n",
              "      <td>Kenya</td>\n",
              "      <td>A global citizen in The Kenyan Arena embracing...</td>\n",
              "      <td>1488</td>\n",
              "      <td>595</td>\n",
              "      <td>30411</td>\n",
              "      <td>8/13/2021 17:08</td>\n",
              "      <td>0</td>\n",
              "      <td>[]</td>\n",
              "      <td>corruption</td>\n",
              "    </tr>\n",
              "    <tr>\n",
              "      <th>2996</th>\n",
              "      <td>jeoges2</td>\n",
              "      <td>@danaceda @OliverMathenge How I wish they coul...</td>\n",
              "      <td>Nairobi, Kenya</td>\n",
              "      <td>NaN</td>\n",
              "      <td>2280</td>\n",
              "      <td>298</td>\n",
              "      <td>968</td>\n",
              "      <td>8/13/2021 16:57</td>\n",
              "      <td>0</td>\n",
              "      <td>[]</td>\n",
              "      <td>corruption</td>\n",
              "    </tr>\n",
              "    <tr>\n",
              "      <th>2997</th>\n",
              "      <td>the_oilmann</td>\n",
              "      <td>Same way the govt here has been much more succ...</td>\n",
              "      <td>Kampala, Uganda</td>\n",
              "      <td>PanAfrican\\n\\nPetroleum geophysics\\n\\nStrange,...</td>\n",
              "      <td>683</td>\n",
              "      <td>450</td>\n",
              "      <td>565</td>\n",
              "      <td>8/13/2021 16:55</td>\n",
              "      <td>0</td>\n",
              "      <td>[]</td>\n",
              "      <td>corruption</td>\n",
              "    </tr>\n",
              "    <tr>\n",
              "      <th>2998</th>\n",
              "      <td>johngithongo</td>\n",
              "      <td>MUKAMI, ATELLAH, ZALAN &amp;amp; NAMU - Kenya: Ins...</td>\n",
              "      <td>Nairobi, Kenya</td>\n",
              "      <td>CEO Inuka Kenya Ltd (by guarantee) https://t.c...</td>\n",
              "      <td>14013</td>\n",
              "      <td>286155</td>\n",
              "      <td>12384</td>\n",
              "      <td>8/13/2021 16:51</td>\n",
              "      <td>11</td>\n",
              "      <td>[]</td>\n",
              "      <td>corruption</td>\n",
              "    </tr>\n",
              "    <tr>\n",
              "      <th>2999</th>\n",
              "      <td>Bilykemb</td>\n",
              "      <td>@FredMatiangi Stop lying day time. I used to r...</td>\n",
              "      <td>Mombasa</td>\n",
              "      <td>The greatest gift God gave to us is Life!! So ...</td>\n",
              "      <td>362</td>\n",
              "      <td>101</td>\n",
              "      <td>284</td>\n",
              "      <td>8/13/2021 16:50</td>\n",
              "      <td>0</td>\n",
              "      <td>[]</td>\n",
              "      <td>corruption</td>\n",
              "    </tr>\n",
              "  </tbody>\n",
              "</table>\n",
              "</div>"
            ],
            "text/plain": [
              "                 user  ...       label\n",
              "2995  ErickOtienoMang  ...  corruption\n",
              "2996          jeoges2  ...  corruption\n",
              "2997      the_oilmann  ...  corruption\n",
              "2998     johngithongo  ...  corruption\n",
              "2999         Bilykemb  ...  corruption\n",
              "\n",
              "[5 rows x 11 columns]"
            ]
          },
          "metadata": {
            "tags": []
          },
          "execution_count": 6
        }
      ]
    },
    {
      "cell_type": "code",
      "metadata": {
        "colab": {
          "base_uri": "https://localhost:8080/"
        },
        "id": "u2E5f2JvVCsQ",
        "outputId": "e7e0ab07-a906-48b5-c43e-00c0b516f8b1"
      },
      "source": [
        "#check number of records\n",
        "crime_df.shape"
      ],
      "execution_count": 7,
      "outputs": [
        {
          "output_type": "execute_result",
          "data": {
            "text/plain": [
              "(3000, 11)"
            ]
          },
          "metadata": {
            "tags": []
          },
          "execution_count": 7
        }
      ]
    },
    {
      "cell_type": "code",
      "metadata": {
        "colab": {
          "base_uri": "https://localhost:8080/"
        },
        "id": "cRsZQVgOVEuy",
        "outputId": "df0c9300-cbca-4bad-e989-2d82ba358726"
      },
      "source": [
        "#checking column types\n",
        "crime_df.info()"
      ],
      "execution_count": 8,
      "outputs": [
        {
          "output_type": "stream",
          "text": [
            "<class 'pandas.core.frame.DataFrame'>\n",
            "RangeIndex: 3000 entries, 0 to 2999\n",
            "Data columns (total 11 columns):\n",
            " #   Column           Non-Null Count  Dtype \n",
            "---  ------           --------------  ----- \n",
            " 0   user             3000 non-null   object\n",
            " 1   tweet            3000 non-null   object\n",
            " 2   location         2974 non-null   object\n",
            " 3   description      2816 non-null   object\n",
            " 4   friends_count    3000 non-null   int64 \n",
            " 5   followers_count  3000 non-null   int64 \n",
            " 6   statuses_count   3000 non-null   int64 \n",
            " 7   created_at       3000 non-null   object\n",
            " 8   retweet_count    3000 non-null   int64 \n",
            " 9   hashtags         3000 non-null   object\n",
            " 10  label            3000 non-null   object\n",
            "dtypes: int64(4), object(7)\n",
            "memory usage: 257.9+ KB\n"
          ],
          "name": "stdout"
        }
      ]
    },
    {
      "cell_type": "code",
      "metadata": {
        "colab": {
          "base_uri": "https://localhost:8080/",
          "height": 297
        },
        "id": "GkHGuNo6VJm1",
        "outputId": "f20aa75f-9ad1-4f52-b97d-34f9a827d7a6"
      },
      "source": [
        "#checking summary stats\n",
        "crime_df.describe()"
      ],
      "execution_count": 9,
      "outputs": [
        {
          "output_type": "execute_result",
          "data": {
            "text/html": [
              "<div>\n",
              "<style scoped>\n",
              "    .dataframe tbody tr th:only-of-type {\n",
              "        vertical-align: middle;\n",
              "    }\n",
              "\n",
              "    .dataframe tbody tr th {\n",
              "        vertical-align: top;\n",
              "    }\n",
              "\n",
              "    .dataframe thead th {\n",
              "        text-align: right;\n",
              "    }\n",
              "</style>\n",
              "<table border=\"1\" class=\"dataframe\">\n",
              "  <thead>\n",
              "    <tr style=\"text-align: right;\">\n",
              "      <th></th>\n",
              "      <th>friends_count</th>\n",
              "      <th>followers_count</th>\n",
              "      <th>statuses_count</th>\n",
              "      <th>retweet_count</th>\n",
              "    </tr>\n",
              "  </thead>\n",
              "  <tbody>\n",
              "    <tr>\n",
              "      <th>count</th>\n",
              "      <td>3000.000000</td>\n",
              "      <td>3.000000e+03</td>\n",
              "      <td>3000.000000</td>\n",
              "      <td>3000.000000</td>\n",
              "    </tr>\n",
              "    <tr>\n",
              "      <th>mean</th>\n",
              "      <td>2992.828667</td>\n",
              "      <td>5.317244e+04</td>\n",
              "      <td>32416.832667</td>\n",
              "      <td>5.548667</td>\n",
              "    </tr>\n",
              "    <tr>\n",
              "      <th>std</th>\n",
              "      <td>8171.445959</td>\n",
              "      <td>3.042223e+05</td>\n",
              "      <td>81256.419652</td>\n",
              "      <td>41.023968</td>\n",
              "    </tr>\n",
              "    <tr>\n",
              "      <th>min</th>\n",
              "      <td>0.000000</td>\n",
              "      <td>0.000000e+00</td>\n",
              "      <td>2.000000</td>\n",
              "      <td>0.000000</td>\n",
              "    </tr>\n",
              "    <tr>\n",
              "      <th>25%</th>\n",
              "      <td>332.000000</td>\n",
              "      <td>2.430000e+02</td>\n",
              "      <td>1417.750000</td>\n",
              "      <td>0.000000</td>\n",
              "    </tr>\n",
              "    <tr>\n",
              "      <th>50%</th>\n",
              "      <td>820.000000</td>\n",
              "      <td>8.925000e+02</td>\n",
              "      <td>5501.500000</td>\n",
              "      <td>0.000000</td>\n",
              "    </tr>\n",
              "    <tr>\n",
              "      <th>75%</th>\n",
              "      <td>2210.000000</td>\n",
              "      <td>5.074000e+03</td>\n",
              "      <td>25867.000000</td>\n",
              "      <td>1.000000</td>\n",
              "    </tr>\n",
              "    <tr>\n",
              "      <th>max</th>\n",
              "      <td>134907.000000</td>\n",
              "      <td>3.419116e+06</td>\n",
              "      <td>946688.000000</td>\n",
              "      <td>832.000000</td>\n",
              "    </tr>\n",
              "  </tbody>\n",
              "</table>\n",
              "</div>"
            ],
            "text/plain": [
              "       friends_count  followers_count  statuses_count  retweet_count\n",
              "count    3000.000000     3.000000e+03     3000.000000    3000.000000\n",
              "mean     2992.828667     5.317244e+04    32416.832667       5.548667\n",
              "std      8171.445959     3.042223e+05    81256.419652      41.023968\n",
              "min         0.000000     0.000000e+00        2.000000       0.000000\n",
              "25%       332.000000     2.430000e+02     1417.750000       0.000000\n",
              "50%       820.000000     8.925000e+02     5501.500000       0.000000\n",
              "75%      2210.000000     5.074000e+03    25867.000000       1.000000\n",
              "max    134907.000000     3.419116e+06   946688.000000     832.000000"
            ]
          },
          "metadata": {
            "tags": []
          },
          "execution_count": 9
        }
      ]
    },
    {
      "cell_type": "code",
      "metadata": {
        "colab": {
          "base_uri": "https://localhost:8080/"
        },
        "id": "HixFviW9VPfA",
        "outputId": "a8dd1d2b-b796-42a2-eb4e-5b3a8f33f1e9"
      },
      "source": [
        "#checking for nulls\n",
        "crime_df.isnull().sum()"
      ],
      "execution_count": 10,
      "outputs": [
        {
          "output_type": "execute_result",
          "data": {
            "text/plain": [
              "user                 0\n",
              "tweet                0\n",
              "location            26\n",
              "description        184\n",
              "friends_count        0\n",
              "followers_count      0\n",
              "statuses_count       0\n",
              "created_at           0\n",
              "retweet_count        0\n",
              "hashtags             0\n",
              "label                0\n",
              "dtype: int64"
            ]
          },
          "metadata": {
            "tags": []
          },
          "execution_count": 10
        }
      ]
    },
    {
      "cell_type": "code",
      "metadata": {
        "id": "X_Ymx9HAXoth"
      },
      "source": [
        "#Lets extract only records where location is not null\n",
        "crime_df = crime_df[crime_df['location'].notna()]\n"
      ],
      "execution_count": 11,
      "outputs": []
    },
    {
      "cell_type": "code",
      "metadata": {
        "colab": {
          "base_uri": "https://localhost:8080/"
        },
        "id": "p1GVROZWX2nt",
        "outputId": "d9c04ec5-bc14-40b1-be86-11fdf9496add"
      },
      "source": [
        "#checking for nulls\n",
        "crime_df.isnull().sum()"
      ],
      "execution_count": 12,
      "outputs": [
        {
          "output_type": "execute_result",
          "data": {
            "text/plain": [
              "user                 0\n",
              "tweet                0\n",
              "location             0\n",
              "description        174\n",
              "friends_count        0\n",
              "followers_count      0\n",
              "statuses_count       0\n",
              "created_at           0\n",
              "retweet_count        0\n",
              "hashtags             0\n",
              "label                0\n",
              "dtype: int64"
            ]
          },
          "metadata": {
            "tags": []
          },
          "execution_count": 12
        }
      ]
    },
    {
      "cell_type": "markdown",
      "metadata": {
        "id": "iMbAHCgJE4d4"
      },
      "source": [
        "We will remove the description column because it only represents the user's biography and thus is irrelevant to our analysis."
      ]
    },
    {
      "cell_type": "code",
      "metadata": {
        "colab": {
          "base_uri": "https://localhost:8080/"
        },
        "id": "oaAERVSwX4rl",
        "outputId": "512f8df4-3002-41be-90af-0eb5d8a04be1"
      },
      "source": [
        "#check number of records\n",
        "crime_df.shape"
      ],
      "execution_count": 13,
      "outputs": [
        {
          "output_type": "execute_result",
          "data": {
            "text/plain": [
              "(2974, 11)"
            ]
          },
          "metadata": {
            "tags": []
          },
          "execution_count": 13
        }
      ]
    },
    {
      "cell_type": "code",
      "metadata": {
        "colab": {
          "base_uri": "https://localhost:8080/"
        },
        "id": "-vCctUEYiNTP",
        "outputId": "94d65926-1cd6-4baa-f026-3eac58379d41"
      },
      "source": [
        "# check duplicates\n",
        "crime_df.duplicated().sum()"
      ],
      "execution_count": 14,
      "outputs": [
        {
          "output_type": "execute_result",
          "data": {
            "text/plain": [
              "0"
            ]
          },
          "metadata": {
            "tags": []
          },
          "execution_count": 14
        }
      ]
    },
    {
      "cell_type": "code",
      "metadata": {
        "id": "UTkIVzHIX-qy"
      },
      "source": [
        "# dropping our duplicates\n",
        "crime_df = crime_df.drop_duplicates()"
      ],
      "execution_count": 15,
      "outputs": []
    },
    {
      "cell_type": "code",
      "metadata": {
        "colab": {
          "base_uri": "https://localhost:8080/"
        },
        "id": "wvUEADqtX89w",
        "outputId": "12e3fe37-3e79-4d33-a4a2-e24d970443d8"
      },
      "source": [
        "# check number of records\n",
        "crime_df.shape"
      ],
      "execution_count": 16,
      "outputs": [
        {
          "output_type": "execute_result",
          "data": {
            "text/plain": [
              "(2974, 11)"
            ]
          },
          "metadata": {
            "tags": []
          },
          "execution_count": 16
        }
      ]
    },
    {
      "cell_type": "markdown",
      "metadata": {
        "id": "zfrssRkkFpnN"
      },
      "source": [
        "Our dataset has 2974 rows and 11 columns."
      ]
    },
    {
      "cell_type": "markdown",
      "metadata": {
        "id": "u8FAdowzI0wY"
      },
      "source": [
        "# Exploratory Data Analysis"
      ]
    },
    {
      "cell_type": "code",
      "metadata": {
        "colab": {
          "base_uri": "https://localhost:8080/",
          "height": 608
        },
        "id": "KbQ10nCDtqJ9",
        "outputId": "9fb18643-8b5c-4dc8-b61c-394745d9422e"
      },
      "source": [
        "# plotting histograms to visualize patterns in the data\n",
        "\n",
        "crime_df = crime_df.copy(deep=True)\n",
        "\n",
        "# plotting histograms\n",
        "crime_df.hist(figsize = (20,10))\n",
        "plt.show()"
      ],
      "execution_count": 17,
      "outputs": [
        {
          "output_type": "display_data",
          "data": {
            "image/png": "[encoded data removed]",
            "text/plain": [
              "<Figure size 1440x720 with 4 Axes>"
            ]
          },
          "metadata": {
            "tags": [],
            "needs_background": "light"
          }
        }
      ]
    },
    {
      "cell_type": "markdown",
      "metadata": {
        "id": "FhpBP8CTHsxK"
      },
      "source": [
        "The histograms seem to be unimodal."
      ]
    },
    {
      "cell_type": "code",
      "metadata": {
        "id": "cvAUEqIwYar0"
      },
      "source": [
        "# new data frame with split value columns\n",
        "new = crime_df[\"location\"].str.split(\",\", n = 1, expand = True)\n",
        "  \n",
        "# making separate first name column from new data frame\n",
        "crime_df[\"Town name\"]= new[0]\n",
        "  \n",
        "# making separate last name column from new data frame\n",
        "crime_df[\"Country\"]= new[1]\n",
        "  \n",
        "# Dropping old Name columns\n",
        "#crime_df.drop(columns =[\"Name\"], inplace = True)\n",
        "  "
      ],
      "execution_count": 18,
      "outputs": []
    },
    {
      "cell_type": "code",
      "metadata": {
        "id": "pykQZP6gbiG3"
      },
      "source": [
        "# new data frame with split value columns\n",
        "new = crime_df[\"Town name\"].str.split(\" \", n = 1, expand = True)\n",
        "  \n",
        "# making separate first name column from new data frame\n",
        "crime_df[\"Town_name\"]= new[0]\n",
        "  \n",
        "# making separate last name column from new data frame\n",
        "crime_df[\"Country_name\"]= new[1]\n",
        "  "
      ],
      "execution_count": 19,
      "outputs": []
    },
    {
      "cell_type": "code",
      "metadata": {
        "id": "lzlrcZu4b7JR"
      },
      "source": [
        "# dropp extra columns\n",
        "crime_df.drop(['Town name','Country'],axis=1,inplace=True)"
      ],
      "execution_count": 20,
      "outputs": []
    },
    {
      "cell_type": "code",
      "metadata": {
        "colab": {
          "base_uri": "https://localhost:8080/",
          "height": 479
        },
        "id": "4eeOxE6bcNen",
        "outputId": "855ece2a-a8f9-4cde-c502-bdcd7213579d"
      },
      "source": [
        "crime_df.head()"
      ],
      "execution_count": 21,
      "outputs": [
        {
          "output_type": "execute_result",
          "data": {
            "text/html": [
              "<div>\n",
              "<style scoped>\n",
              "    .dataframe tbody tr th:only-of-type {\n",
              "        vertical-align: middle;\n",
              "    }\n",
              "\n",
              "    .dataframe tbody tr th {\n",
              "        vertical-align: top;\n",
              "    }\n",
              "\n",
              "    .dataframe thead th {\n",
              "        text-align: right;\n",
              "    }\n",
              "</style>\n",
              "<table border=\"1\" class=\"dataframe\">\n",
              "  <thead>\n",
              "    <tr style=\"text-align: right;\">\n",
              "      <th></th>\n",
              "      <th>user</th>\n",
              "      <th>tweet</th>\n",
              "      <th>location</th>\n",
              "      <th>description</th>\n",
              "      <th>friends_count</th>\n",
              "      <th>followers_count</th>\n",
              "      <th>statuses_count</th>\n",
              "      <th>created_at</th>\n",
              "      <th>retweet_count</th>\n",
              "      <th>hashtags</th>\n",
              "      <th>label</th>\n",
              "      <th>Town_name</th>\n",
              "      <th>Country_name</th>\n",
              "    </tr>\n",
              "  </thead>\n",
              "  <tbody>\n",
              "    <tr>\n",
              "      <th>0</th>\n",
              "      <td>MuchangiNyaga5</td>\n",
              "      <td>@MathareSJustice @wanjirunjira @UhaiWetu @gach...</td>\n",
              "      <td>Nairobi, Kenya</td>\n",
              "      <td>NaN</td>\n",
              "      <td>37</td>\n",
              "      <td>0</td>\n",
              "      <td>2</td>\n",
              "      <td>8/17/2021 8:59</td>\n",
              "      <td>0</td>\n",
              "      <td>[]</td>\n",
              "      <td>police brutality</td>\n",
              "      <td>Nairobi</td>\n",
              "      <td>None</td>\n",
              "    </tr>\n",
              "    <tr>\n",
              "      <th>1</th>\n",
              "      <td>jmkariuki24</td>\n",
              "      <td>It is not easy being a young person in this co...</td>\n",
              "      <td>Nairobi, Kenya</td>\n",
              "      <td>Evidence enthusiast with a passion for advanci...</td>\n",
              "      <td>8979</td>\n",
              "      <td>12175</td>\n",
              "      <td>276</td>\n",
              "      <td>8/17/2021 8:52</td>\n",
              "      <td>0</td>\n",
              "      <td>[]</td>\n",
              "      <td>police brutality</td>\n",
              "      <td>Nairobi</td>\n",
              "      <td>None</td>\n",
              "    </tr>\n",
              "    <tr>\n",
              "      <th>2</th>\n",
              "      <td>FlavionsKimani</td>\n",
              "      <td>You come to voters begging for votes, yet none...</td>\n",
              "      <td>Nairobi Kenya</td>\n",
              "      <td>MUFC die hard,Opinions are my own #mufcfan,#mu...</td>\n",
              "      <td>1310</td>\n",
              "      <td>1561</td>\n",
              "      <td>66764</td>\n",
              "      <td>8/17/2021 8:48</td>\n",
              "      <td>0</td>\n",
              "      <td>[]</td>\n",
              "      <td>police brutality</td>\n",
              "      <td>Nairobi</td>\n",
              "      <td>Kenya</td>\n",
              "    </tr>\n",
              "    <tr>\n",
              "      <th>3</th>\n",
              "      <td>nyamu_dickson</td>\n",
              "      <td>It would be wise if we have bloggers with cont...</td>\n",
              "      <td>Nairobi, Kenya</td>\n",
              "      <td>Love politics, sportsman (martial arts&amp;footbal...</td>\n",
              "      <td>356</td>\n",
              "      <td>338</td>\n",
              "      <td>2578</td>\n",
              "      <td>8/17/2021 7:45</td>\n",
              "      <td>0</td>\n",
              "      <td>[]</td>\n",
              "      <td>police brutality</td>\n",
              "      <td>Nairobi</td>\n",
              "      <td>None</td>\n",
              "    </tr>\n",
              "    <tr>\n",
              "      <th>4</th>\n",
              "      <td>prings_ke</td>\n",
              "      <td>Before you vote, ask your candidates what they...</td>\n",
              "      <td>Thika, Kenya</td>\n",
              "      <td>Love one, love all.</td>\n",
              "      <td>382</td>\n",
              "      <td>1926</td>\n",
              "      <td>2529</td>\n",
              "      <td>8/17/2021 7:44</td>\n",
              "      <td>3</td>\n",
              "      <td>[]</td>\n",
              "      <td>police brutality</td>\n",
              "      <td>Thika</td>\n",
              "      <td>None</td>\n",
              "    </tr>\n",
              "  </tbody>\n",
              "</table>\n",
              "</div>"
            ],
            "text/plain": [
              "             user  ... Country_name\n",
              "0  MuchangiNyaga5  ...         None\n",
              "1     jmkariuki24  ...         None\n",
              "2  FlavionsKimani  ...       Kenya \n",
              "3   nyamu_dickson  ...         None\n",
              "4       prings_ke  ...         None\n",
              "\n",
              "[5 rows x 13 columns]"
            ]
          },
          "metadata": {
            "tags": []
          },
          "execution_count": 21
        }
      ]
    },
    {
      "cell_type": "code",
      "metadata": {
        "colab": {
          "base_uri": "https://localhost:8080/",
          "height": 336
        },
        "id": "gXODeXFAcZOA",
        "outputId": "1394c183-0a8f-4cea-9c64-15976c500b30"
      },
      "source": [
        "# let us see how the labels are distributed in our dataset\n",
        "# view data distribution for class imbalance\n",
        "# checking the class balance of our\n",
        "x= crime_df.Town_name.value_counts(ascending=False).iloc[:5]\n",
        "sns.barplot(x.index,x)\n",
        "plt.gca().set_ylabel('tweets')"
      ],
      "execution_count": 22,
      "outputs": [
        {
          "output_type": "stream",
          "text": [
            "/usr/local/lib/python3.7/dist-packages/seaborn/_decorators.py:43: FutureWarning: Pass the following variables as keyword args: x, y. From version 0.12, the only valid positional argument will be `data`, and passing other arguments without an explicit keyword will result in an error or misinterpretation.\n",
            "  FutureWarning\n"
          ],
          "name": "stderr"
        },
        {
          "output_type": "execute_result",
          "data": {
            "text/plain": [
              "Text(0, 0.5, 'tweets')"
            ]
          },
          "metadata": {
            "tags": []
          },
          "execution_count": 22
        },
        {
          "output_type": "display_data",
          "data": {
            "image/png": "[encoded data removed]",
            "text/plain": [
              "<Figure size 432x288 with 1 Axes>"
            ]
          },
          "metadata": {
            "tags": [],
            "needs_background": "light"
          }
        }
      ]
    },
    {
      "cell_type": "markdown",
      "metadata": {
        "id": "d6SVE-GLfF6x"
      },
      "source": [
        "Most tweets were from Nairobi,Kenya"
      ]
    },
    {
      "cell_type": "code",
      "metadata": {
        "colab": {
          "base_uri": "https://localhost:8080/",
          "height": 336
        },
        "id": "dZAWKaYCtvR2",
        "outputId": "f0e39c24-f32e-4f17-c9f8-e1d446ce8f62"
      },
      "source": [
        "# let us see how the labels are distributed in our dataset\n",
        "# view data distribution for class imbalance\n",
        "# checking the class balance of our\n",
        "x=crime_df.label.value_counts()\n",
        "sns.barplot(x.index,x)\n",
        "plt.gca().set_ylabel('tweets')"
      ],
      "execution_count": 23,
      "outputs": [
        {
          "output_type": "stream",
          "text": [
            "/usr/local/lib/python3.7/dist-packages/seaborn/_decorators.py:43: FutureWarning: Pass the following variables as keyword args: x, y. From version 0.12, the only valid positional argument will be `data`, and passing other arguments without an explicit keyword will result in an error or misinterpretation.\n",
            "  FutureWarning\n"
          ],
          "name": "stderr"
        },
        {
          "output_type": "execute_result",
          "data": {
            "text/plain": [
              "Text(0, 0.5, 'tweets')"
            ]
          },
          "metadata": {
            "tags": []
          },
          "execution_count": 23
        },
        {
          "output_type": "display_data",
          "data": {
            "image/png": "[encoded data removed]",
            "text/plain": [
              "<Figure size 432x288 with 1 Axes>"
            ]
          },
          "metadata": {
            "tags": [],
            "needs_background": "light"
          }
        }
      ]
    },
    {
      "cell_type": "markdown",
      "metadata": {
        "id": "i3fhplvEIizj"
      },
      "source": [
        "The ratio of the classes is considerable, our dataset seems to be well balanced."
      ]
    },
    {
      "cell_type": "code",
      "metadata": {
        "id": "87oh5C0TeQu0"
      },
      "source": [
        "# remove url from our data\n",
        "def remove_URL(text):\n",
        "    url = re.compile(r'https?://\\S+|www\\.\\S+')\n",
        "    return url.sub(r'',text)\n",
        "\n",
        "crime_df['tweet']=crime_df['tweet'].apply(lambda x : remove_URL(x))"
      ],
      "execution_count": 24,
      "outputs": []
    },
    {
      "cell_type": "code",
      "metadata": {
        "id": "wbnnUVnDsj4j"
      },
      "source": [
        "#removing all the panctuation marks in 'text' column\n",
        "def remove_punct(text):\n",
        "    table=str.maketrans('','',string.punctuation)\n",
        "    return text.translate(table)\n",
        "crime_df['tweet']=crime_df['tweet'].apply(lambda x : remove_punct(x))    "
      ],
      "execution_count": 26,
      "outputs": []
    },
    {
      "cell_type": "code",
      "metadata": {
        "id": "oJIL8tYWswrb"
      },
      "source": [
        "# STOPWORD REMOVAL\n",
        "def stopword(string):\n",
        "    a= [i for i in string.split() if i not in stopwords.words('english')]\n",
        "    return ' '.join(a)\n",
        "    "
      ],
      "execution_count": 27,
      "outputs": []
    },
    {
      "cell_type": "code",
      "metadata": {
        "id": "2s-mkydQs_2o"
      },
      "source": [
        "from nltk.corpus import stopwords\n",
        "nltk.download('stopwords')"
      ],
      "execution_count": null,
      "outputs": []
    },
    {
      "cell_type": "code",
      "metadata": {
        "id": "lON9devitAcN"
      },
      "source": [
        "crime_df['tweet'] = crime_df['tweet'].apply(lambda x: stopword(x))"
      ],
      "execution_count": 32,
      "outputs": []
    },
    {
      "cell_type": "code",
      "metadata": {
        "colab": {
          "base_uri": "https://localhost:8080/",
          "height": 232
        },
        "id": "QzJrLVw3OPhL",
        "outputId": "03a74181-1106-4929-d270-7e718928de8a"
      },
      "source": [
        "#plotting the wordcount\n",
        "from wordcloud import WordCloud \n",
        "\n",
        "allWords= ''.join( [twts for twts in crime_df['tweet']] )\n",
        "WordCloud= WordCloud(width=500, height=300, random_state=21, max_font_size=119).generate(allWords)\n",
        "\n",
        "plt.imshow(WordCloud, interpolation='bilinear')\n",
        "plt.axis('off')\n",
        "plt.show()"
      ],
      "execution_count": 33,
      "outputs": [
        {
          "output_type": "display_data",
          "data": {
            "image/png": "[encoded data removed]",
            "text/plain": [
              "<Figure size 432x288 with 1 Axes>"
            ]
          },
          "metadata": {
            "tags": [],
            "needs_background": "light"
          }
        }
      ]
    },
    {
      "cell_type": "code",
      "metadata": {
        "id": "b_ry1klYQ9It"
      },
      "source": [
        "#save whole dataset\n",
        "crime_df.to_csv(\"crime_eda.csv\",index=False)\n"
      ],
      "execution_count": null,
      "outputs": []
    }
  ]
}